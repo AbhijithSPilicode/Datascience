{
 "cells": [
  {
   "cell_type": "code",
   "execution_count": 2,
   "id": "22ed6992",
   "metadata": {},
   "outputs": [],
   "source": [
    "import numpy as np"
   ]
  },
  {
   "cell_type": "code",
   "execution_count": 3,
   "id": "b3752734",
   "metadata": {},
   "outputs": [
    {
     "data": {
      "text/plain": [
       "array([ 1,  2,  3,  4,  5,  6,  7,  8,  9, 10, 11, 12, 13, 14, 15, 16, 17,\n",
       "       18, 19, 20, 21, 22, 23, 24, 25, 26, 27, 28, 29, 30, 31, 32])"
      ]
     },
     "execution_count": 3,
     "metadata": {},
     "output_type": "execute_result"
    }
   ],
   "source": [
    "#flattening of array\n",
    "arr=np.arange(1,33)\n",
    "arr"
   ]
  },
  {
   "cell_type": "code",
   "execution_count": 48,
   "id": "f3876253",
   "metadata": {},
   "outputs": [
    {
     "data": {
      "text/plain": [
       "array([[[ 1,  2,  3,  4],\n",
       "        [ 5,  6,  7,  8],\n",
       "        [ 9, 10, 11, 12],\n",
       "        [13, 14, 15, 16]],\n",
       "\n",
       "       [[17, 18, 19, 20],\n",
       "        [21, 22, 23, 24],\n",
       "        [25, 26, 27, 28],\n",
       "        [29, 30, 31, 32]]])"
      ]
     },
     "execution_count": 48,
     "metadata": {},
     "output_type": "execute_result"
    }
   ],
   "source": [
    "ar=arr.reshape(2,-1,4)\n",
    "ar"
   ]
  },
  {
   "cell_type": "code",
   "execution_count": 13,
   "id": "96e5af26",
   "metadata": {},
   "outputs": [
    {
     "data": {
      "text/plain": [
       "array([ 1,  2,  3,  4,  5,  6,  7,  8,  9, 10, 11, 12, 13, 14, 15, 16, 17,\n",
       "       18, 19, 20, 21, 22, 23, 24, 25, 26, 27, 28, 29, 30, 31, 32])"
      ]
     },
     "execution_count": 13,
     "metadata": {},
     "output_type": "execute_result"
    }
   ],
   "source": [
    "ar.reshape(-1) #flatten"
   ]
  },
  {
   "cell_type": "code",
   "execution_count": 8,
   "id": "4716e882",
   "metadata": {},
   "outputs": [
    {
     "data": {
      "text/plain": [
       "(2, 4, 4)"
      ]
     },
     "execution_count": 8,
     "metadata": {},
     "output_type": "execute_result"
    }
   ],
   "source": [
    "ar.shape"
   ]
  },
  {
   "cell_type": "code",
   "execution_count": 9,
   "id": "57e0a72a",
   "metadata": {},
   "outputs": [
    {
     "data": {
      "text/plain": [
       "array([ 1,  2,  3,  4,  5,  6,  7,  8,  9, 10, 11, 12, 13, 14, 15, 16, 17,\n",
       "       18, 19, 20, 21, 22, 23, 24, 25, 26, 27, 28, 29, 30, 31, 32])"
      ]
     },
     "execution_count": 9,
     "metadata": {},
     "output_type": "execute_result"
    }
   ],
   "source": [
    "np.ravel(ar)  #ravel - flatten"
   ]
  },
  {
   "cell_type": "code",
   "execution_count": 14,
   "id": "5f00f155",
   "metadata": {},
   "outputs": [
    {
     "data": {
      "text/plain": [
       "array([[[ 1,  2,  3,  4],\n",
       "        [ 5,  6,  7,  8]],\n",
       "\n",
       "       [[ 9, 10, 11, 12],\n",
       "        [13, 14, 15, 16]]])"
      ]
     },
     "execution_count": 14,
     "metadata": {},
     "output_type": "execute_result"
    }
   ],
   "source": [
    "arr1=np.arange(1,17).reshape(2,2,4)\n",
    "arr1"
   ]
  },
  {
   "cell_type": "code",
   "execution_count": 16,
   "id": "3125cdc3",
   "metadata": {},
   "outputs": [
    {
     "name": "stdout",
     "output_type": "stream",
     "text": [
      "1 2 3 4 5 6 7 8 9 10 11 12 13 14 15 16 "
     ]
    }
   ],
   "source": [
    "for i in arr1:\n",
    "    for j in i:\n",
    "        for k in j:\n",
    "            print(k,end=' ')  # to get all element in array "
   ]
  },
  {
   "cell_type": "code",
   "execution_count": 17,
   "id": "e2dd9a98",
   "metadata": {
    "scrolled": true
   },
   "outputs": [
    {
     "name": "stdout",
     "output_type": "stream",
     "text": [
      "1 2 3 4 5 6 7 8 9 10 11 12 13 14 15 16 "
     ]
    }
   ],
   "source": [
    "for z in np.nditer(arr1):\n",
    "    print(z,end=\" \")   #another method for iterating value inside array"
   ]
  },
  {
   "cell_type": "code",
   "execution_count": 38,
   "id": "7fc5c791",
   "metadata": {},
   "outputs": [
    {
     "name": "stdout",
     "output_type": "stream",
     "text": [
      "b'1'  b'2'  b'3'  b'4'  b'5'  b'6'  b'7'  b'8'  b'9'  b'10'  b'11'  b'12'  b'13'  b'14'  b'15'  b'16'  "
     ]
    }
   ],
   "source": [
    "for s in np.nditer(arr1,flags=[\"buffered\"],op_dtypes=\"S\"):\n",
    "    print(s,end=\"  \")"
   ]
  },
  {
   "cell_type": "code",
   "execution_count": 40,
   "id": "46c770e1",
   "metadata": {},
   "outputs": [
    {
     "name": "stdout",
     "output_type": "stream",
     "text": [
      "0   12\n",
      "1   23\n",
      "2   34\n",
      "3   45\n"
     ]
    }
   ],
   "source": [
    "#enumerate #automatically give index\n",
    "list=[12,23,34,45]\n",
    "for idx,item in enumerate(list):\n",
    "    print(idx,\" \",item)"
   ]
  },
  {
   "cell_type": "code",
   "execution_count": 42,
   "id": "9bf5418c",
   "metadata": {},
   "outputs": [
    {
     "name": "stdout",
     "output_type": "stream",
     "text": [
      "(0, 0, 0) - 1\n",
      "(0, 0, 1) - 2\n",
      "(0, 0, 2) - 3\n",
      "(0, 0, 3) - 4\n",
      "(0, 1, 0) - 5\n",
      "(0, 1, 1) - 6\n",
      "(0, 1, 2) - 7\n",
      "(0, 1, 3) - 8\n",
      "(1, 0, 0) - 9\n",
      "(1, 0, 1) - 10\n",
      "(1, 0, 2) - 11\n",
      "(1, 0, 3) - 12\n",
      "(1, 1, 0) - 13\n",
      "(1, 1, 1) - 14\n",
      "(1, 1, 2) - 15\n",
      "(1, 1, 3) - 16\n"
     ]
    }
   ],
   "source": [
    "for idx,item in np.ndenumerate(arr1):\n",
    "    print(idx,\"-\",item)  #iterating through index"
   ]
  },
  {
   "cell_type": "code",
   "execution_count": 52,
   "id": "36d1e16f",
   "metadata": {},
   "outputs": [
    {
     "data": {
      "text/plain": [
       "array([[100, 100, 100, 100],\n",
       "       [100, 100, 100, 100],\n",
       "       [100, 100, 100, 100]])"
      ]
     },
     "execution_count": 52,
     "metadata": {},
     "output_type": "execute_result"
    }
   ],
   "source": [
    "#Full\n",
    "np.full((3,4),fill_value=100)"
   ]
  },
  {
   "cell_type": "code",
   "execution_count": 53,
   "id": "72bb9108",
   "metadata": {},
   "outputs": [],
   "source": [
    "#Joining 2 arrays together"
   ]
  },
  {
   "cell_type": "code",
   "execution_count": 60,
   "id": "28f87ed3",
   "metadata": {},
   "outputs": [
    {
     "data": {
      "text/plain": [
       "array([1, 2, 3, 5, 8, 9])"
      ]
     },
     "execution_count": 60,
     "metadata": {},
     "output_type": "execute_result"
    }
   ],
   "source": [
    "a1=np.array([1,2,3])\n",
    "a2=np.array([5,8,9])\n",
    "np.concatenate((a1,a2))"
   ]
  },
  {
   "cell_type": "code",
   "execution_count": 61,
   "id": "a5dfd082",
   "metadata": {},
   "outputs": [
    {
     "data": {
      "text/plain": [
       "array([0, 1, 2, 5, 6, 7])"
      ]
     },
     "execution_count": 61,
     "metadata": {},
     "output_type": "execute_result"
    }
   ],
   "source": [
    "a1=np.arange(3)\n",
    "a2=np.arange(5,8)\n",
    "np.concatenate((a1,a2))"
   ]
  },
  {
   "cell_type": "code",
   "execution_count": 3,
   "id": "9a5d4d4c",
   "metadata": {},
   "outputs": [],
   "source": [
    "ar_2d=np.arange(12).reshape((3,4))   #joining 2 arrays in 2D\n",
    "ar_2d1=np.ones((3,4))"
   ]
  },
  {
   "cell_type": "code",
   "execution_count": 7,
   "id": "31df5833",
   "metadata": {},
   "outputs": [
    {
     "data": {
      "text/plain": [
       "array([[ 0,  1,  2,  3],\n",
       "       [ 4,  5,  6,  7],\n",
       "       [ 8,  9, 10, 11]])"
      ]
     },
     "execution_count": 7,
     "metadata": {},
     "output_type": "execute_result"
    }
   ],
   "source": [
    "ar_2d"
   ]
  },
  {
   "cell_type": "code",
   "execution_count": 8,
   "id": "d9e4b8c8",
   "metadata": {},
   "outputs": [
    {
     "data": {
      "text/plain": [
       "array([[1., 1., 1., 1.],\n",
       "       [1., 1., 1., 1.],\n",
       "       [1., 1., 1., 1.]])"
      ]
     },
     "execution_count": 8,
     "metadata": {},
     "output_type": "execute_result"
    }
   ],
   "source": [
    "ar_2d1"
   ]
  },
  {
   "cell_type": "code",
   "execution_count": 6,
   "id": "f66caed0",
   "metadata": {},
   "outputs": [
    {
     "data": {
      "text/plain": [
       "array([[ 0.,  1.,  2.,  3.],\n",
       "       [ 4.,  5.,  6.,  7.],\n",
       "       [ 8.,  9., 10., 11.],\n",
       "       [ 1.,  1.,  1.,  1.],\n",
       "       [ 1.,  1.,  1.,  1.],\n",
       "       [ 1.,  1.,  1.,  1.]])"
      ]
     },
     "execution_count": 6,
     "metadata": {},
     "output_type": "execute_result"
    }
   ],
   "source": [
    "res=np.concatenate((ar_2d,ar_2d1))\n",
    "res"
   ]
  },
  {
   "cell_type": "code",
   "execution_count": 16,
   "id": "882c229d",
   "metadata": {},
   "outputs": [
    {
     "name": "stdout",
     "output_type": "stream",
     "text": [
      "[[[ 1  2  3]\n",
      "  [ 4  5  6]\n",
      "  [ 7  8  9]\n",
      "  [10 11 12]]]\n"
     ]
    }
   ],
   "source": [
    "ar_3d=np.array([[[1,2,3],[4,5,6],[7,8,9],[10,11,12]]])\n",
    "ar_3d1=np.array([[[21,22,23],[24,25,26],[27,28,29],[30,31,32]]])\n",
    "print(ar_3d)"
   ]
  },
  {
   "cell_type": "code",
   "execution_count": 17,
   "id": "f0da2845",
   "metadata": {},
   "outputs": [
    {
     "name": "stdout",
     "output_type": "stream",
     "text": [
      "[[[21 22 23]\n",
      "  [24 25 26]\n",
      "  [27 28 29]\n",
      "  [30 31 32]]]\n"
     ]
    }
   ],
   "source": [
    "print(ar_3d1)"
   ]
  },
  {
   "cell_type": "code",
   "execution_count": 14,
   "id": "c5ce15a6",
   "metadata": {},
   "outputs": [
    {
     "data": {
      "text/plain": [
       "array([[[ 1,  2,  3],\n",
       "        [ 4,  5,  6],\n",
       "        [ 7,  8,  9],\n",
       "        [10, 11, 12]],\n",
       "\n",
       "       [[21, 22, 23],\n",
       "        [24, 25, 26],\n",
       "        [27, 28, 29],\n",
       "        [30, 31, 32]]])"
      ]
     },
     "execution_count": 14,
     "metadata": {},
     "output_type": "execute_result"
    }
   ],
   "source": [
    "np.concatenate((ar_3d,ar_3d1))  #joining 2 array in 3D"
   ]
  },
  {
   "cell_type": "code",
   "execution_count": 19,
   "id": "f616ad64",
   "metadata": {},
   "outputs": [
    {
     "data": {
      "text/plain": [
       "array([[[ 1,  2,  3, 21, 22, 23],\n",
       "        [ 4,  5,  6, 24, 25, 26],\n",
       "        [ 7,  8,  9, 27, 28, 29],\n",
       "        [10, 11, 12, 30, 31, 32]]])"
      ]
     },
     "execution_count": 19,
     "metadata": {},
     "output_type": "execute_result"
    }
   ],
   "source": [
    "np.concatenate((ar_3d,ar_3d1),axis=2)"
   ]
  },
  {
   "cell_type": "code",
   "execution_count": 20,
   "id": "867f8a65",
   "metadata": {},
   "outputs": [],
   "source": [
    "#in 3d axis=0 is the first 2d row,axis=1 is 2nd 2d row,axis=2 is 3rd row"
   ]
  },
  {
   "cell_type": "code",
   "execution_count": 21,
   "id": "4b47531f",
   "metadata": {},
   "outputs": [
    {
     "data": {
      "text/plain": [
       "array([[[ 1,  2,  3],\n",
       "        [ 4,  5,  6],\n",
       "        [ 7,  8,  9],\n",
       "        [10, 11, 12],\n",
       "        [21, 22, 23],\n",
       "        [24, 25, 26],\n",
       "        [27, 28, 29],\n",
       "        [30, 31, 32]]])"
      ]
     },
     "execution_count": 21,
     "metadata": {},
     "output_type": "execute_result"
    }
   ],
   "source": [
    "np.concatenate((ar_3d,ar_3d1),axis=1)"
   ]
  },
  {
   "cell_type": "code",
   "execution_count": 22,
   "id": "8c127019",
   "metadata": {},
   "outputs": [],
   "source": [
    "#stacking"
   ]
  },
  {
   "cell_type": "code",
   "execution_count": 23,
   "id": "93d41778",
   "metadata": {},
   "outputs": [],
   "source": [
    "A=np.array([1,2,3])\n",
    "B=np.array([4,5,6])"
   ]
  },
  {
   "cell_type": "code",
   "execution_count": 24,
   "id": "27090b49",
   "metadata": {},
   "outputs": [
    {
     "data": {
      "text/plain": [
       "array([[1, 2, 3],\n",
       "       [4, 5, 6]])"
      ]
     },
     "execution_count": 24,
     "metadata": {},
     "output_type": "execute_result"
    }
   ],
   "source": [
    "np.stack((A,B))"
   ]
  },
  {
   "cell_type": "code",
   "execution_count": 25,
   "id": "4d60a558",
   "metadata": {},
   "outputs": [
    {
     "data": {
      "text/plain": [
       "array([1, 2, 3, 4, 5, 6])"
      ]
     },
     "execution_count": 25,
     "metadata": {},
     "output_type": "execute_result"
    }
   ],
   "source": [
    "np.hstack((A,B)) #hstack keep second array in right side of first array"
   ]
  },
  {
   "cell_type": "code",
   "execution_count": 26,
   "id": "33474858",
   "metadata": {},
   "outputs": [
    {
     "data": {
      "text/plain": [
       "array([[1, 2, 3],\n",
       "       [4, 5, 6]])"
      ]
     },
     "execution_count": 26,
     "metadata": {},
     "output_type": "execute_result"
    }
   ],
   "source": [
    "np.vstack((A,B)) ##vstack keep second array down of first array"
   ]
  },
  {
   "cell_type": "code",
   "execution_count": 27,
   "id": "24a2ab78",
   "metadata": {},
   "outputs": [
    {
     "data": {
      "text/plain": [
       "array([[1, 4],\n",
       "       [2, 5],\n",
       "       [3, 6]])"
      ]
     },
     "execution_count": 27,
     "metadata": {},
     "output_type": "execute_result"
    }
   ],
   "source": [
    "np.stack((A,B),axis=1)"
   ]
  },
  {
   "cell_type": "code",
   "execution_count": null,
   "id": "ae6d59df",
   "metadata": {},
   "outputs": [],
   "source": [
    "#stacking in 2D"
   ]
  },
  {
   "cell_type": "code",
   "execution_count": 32,
   "id": "29ae136d",
   "metadata": {},
   "outputs": [],
   "source": [
    "stack_2d=np.arange(12).reshape((3,4)) \n",
    "stack_2d1=np.ones((3,4))"
   ]
  },
  {
   "cell_type": "code",
   "execution_count": 33,
   "id": "21fd2f9f",
   "metadata": {},
   "outputs": [
    {
     "data": {
      "text/plain": [
       "array([[ 0,  1,  2,  3],\n",
       "       [ 4,  5,  6,  7],\n",
       "       [ 8,  9, 10, 11]])"
      ]
     },
     "execution_count": 33,
     "metadata": {},
     "output_type": "execute_result"
    }
   ],
   "source": [
    "stack_2d"
   ]
  },
  {
   "cell_type": "code",
   "execution_count": 34,
   "id": "19c06595",
   "metadata": {},
   "outputs": [
    {
     "data": {
      "text/plain": [
       "array([[1., 1., 1., 1.],\n",
       "       [1., 1., 1., 1.],\n",
       "       [1., 1., 1., 1.]])"
      ]
     },
     "execution_count": 34,
     "metadata": {},
     "output_type": "execute_result"
    }
   ],
   "source": [
    "stack_2d1"
   ]
  },
  {
   "cell_type": "code",
   "execution_count": 35,
   "id": "b17f8210",
   "metadata": {},
   "outputs": [
    {
     "data": {
      "text/plain": [
       "array([[[ 0.,  1.,  2.,  3.],\n",
       "        [ 4.,  5.,  6.,  7.],\n",
       "        [ 8.,  9., 10., 11.]],\n",
       "\n",
       "       [[ 1.,  1.,  1.,  1.],\n",
       "        [ 1.,  1.,  1.,  1.],\n",
       "        [ 1.,  1.,  1.,  1.]]])"
      ]
     },
     "execution_count": 35,
     "metadata": {},
     "output_type": "execute_result"
    }
   ],
   "source": [
    "np.stack((stack_2d,stack_2d1))"
   ]
  },
  {
   "cell_type": "code",
   "execution_count": 36,
   "id": "9c91f6f6",
   "metadata": {},
   "outputs": [
    {
     "data": {
      "text/plain": [
       "array([[[ 0.,  1.,  2.,  3.],\n",
       "        [ 1.,  1.,  1.,  1.]],\n",
       "\n",
       "       [[ 4.,  5.,  6.,  7.],\n",
       "        [ 1.,  1.,  1.,  1.]],\n",
       "\n",
       "       [[ 8.,  9., 10., 11.],\n",
       "        [ 1.,  1.,  1.,  1.]]])"
      ]
     },
     "execution_count": 36,
     "metadata": {},
     "output_type": "execute_result"
    }
   ],
   "source": [
    "np.stack((stack_2d,stack_2d1),axis=1) #it will add row after second array row"
   ]
  },
  {
   "cell_type": "code",
   "execution_count": 37,
   "id": "ce32c85e",
   "metadata": {},
   "outputs": [
    {
     "data": {
      "text/plain": [
       "array([[[ 0.,  1.],\n",
       "        [ 1.,  1.],\n",
       "        [ 2.,  1.],\n",
       "        [ 3.,  1.]],\n",
       "\n",
       "       [[ 4.,  1.],\n",
       "        [ 5.,  1.],\n",
       "        [ 6.,  1.],\n",
       "        [ 7.,  1.]],\n",
       "\n",
       "       [[ 8.,  1.],\n",
       "        [ 9.,  1.],\n",
       "        [10.,  1.],\n",
       "        [11.,  1.]]])"
      ]
     },
     "execution_count": 37,
     "metadata": {},
     "output_type": "execute_result"
    }
   ],
   "source": [
    "np.stack((stack_2d,stack_2d1),axis=2) #it will alternatively become first row element and second row element"
   ]
  },
  {
   "cell_type": "code",
   "execution_count": null,
   "id": "9897ad47",
   "metadata": {},
   "outputs": [],
   "source": [
    "#dstack for 3D arrys is also there"
   ]
  }
 ],
 "metadata": {
  "kernelspec": {
   "display_name": "Python 3",
   "language": "python",
   "name": "python3"
  },
  "language_info": {
   "codemirror_mode": {
    "name": "ipython",
    "version": 3
   },
   "file_extension": ".py",
   "mimetype": "text/x-python",
   "name": "python",
   "nbconvert_exporter": "python",
   "pygments_lexer": "ipython3",
   "version": "3.6.13"
  }
 },
 "nbformat": 4,
 "nbformat_minor": 5
}
