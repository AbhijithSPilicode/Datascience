{
 "cells": [
  {
   "cell_type": "code",
   "execution_count": 19,
   "id": "92cdf35c",
   "metadata": {},
   "outputs": [],
   "source": [
    "import numpy as np\n",
    "import pandas as pd\n",
    "%matplotlib inline"
   ]
  },
  {
   "cell_type": "code",
   "execution_count": 20,
   "id": "ad54452a",
   "metadata": {},
   "outputs": [],
   "source": [
    "from plotly.offline import download_plotlyjs,init_notebook_mode,plot,iplot #importing javascript"
   ]
  },
  {
   "cell_type": "code",
   "execution_count": 21,
   "id": "a59e2255",
   "metadata": {},
   "outputs": [],
   "source": [
    "import cufflinks as cf"
   ]
  },
  {
   "cell_type": "code",
   "execution_count": 22,
   "id": "3887a0f2",
   "metadata": {},
   "outputs": [
    {
     "data": {
      "text/html": [
       "        <script type=\"text/javascript\">\n",
       "        window.PlotlyConfig = {MathJaxConfig: 'local'};\n",
       "        if (window.MathJax) {MathJax.Hub.Config({SVG: {font: \"STIX-Web\"}});}\n",
       "        if (typeof require !== 'undefined') {\n",
       "        require.undef(\"plotly\");\n",
       "        requirejs.config({\n",
       "            paths: {\n",
       "                'plotly': ['https://cdn.plot.ly/plotly-2.8.3.min']\n",
       "            }\n",
       "        });\n",
       "        require(['plotly'], function(Plotly) {\n",
       "            window._Plotly = Plotly;\n",
       "        });\n",
       "        }\n",
       "        </script>\n",
       "        "
      ]
     },
     "metadata": {},
     "output_type": "display_data"
    }
   ],
   "source": [
    "init_notebook_mode(connected=True)"
   ]
  },
  {
   "cell_type": "code",
   "execution_count": 23,
   "id": "c44d54cb",
   "metadata": {},
   "outputs": [
    {
     "data": {
      "text/html": [
       "        <script type=\"text/javascript\">\n",
       "        window.PlotlyConfig = {MathJaxConfig: 'local'};\n",
       "        if (window.MathJax) {MathJax.Hub.Config({SVG: {font: \"STIX-Web\"}});}\n",
       "        if (typeof require !== 'undefined') {\n",
       "        require.undef(\"plotly\");\n",
       "        requirejs.config({\n",
       "            paths: {\n",
       "                'plotly': ['https://cdn.plot.ly/plotly-2.8.3.min']\n",
       "            }\n",
       "        });\n",
       "        require(['plotly'], function(Plotly) {\n",
       "            window._Plotly = Plotly;\n",
       "        });\n",
       "        }\n",
       "        </script>\n",
       "        "
      ]
     },
     "metadata": {},
     "output_type": "display_data"
    }
   ],
   "source": [
    "cf.go_offline()"
   ]
  },
  {
   "cell_type": "code",
   "execution_count": 24,
   "id": "b95eef44",
   "metadata": {},
   "outputs": [],
   "source": [
    "#cufflinks is a connector between plotly and python interpreter\n",
    "#Plotly is used in JavaScript(JS) for interactive plots\n",
    "#in interactive plot you can zoom ,you can find each value in plot,download image"
   ]
  },
  {
   "cell_type": "code",
   "execution_count": 25,
   "id": "fa632aab",
   "metadata": {},
   "outputs": [
    {
     "data": {
      "text/html": [
       "<div>\n",
       "<style scoped>\n",
       "    .dataframe tbody tr th:only-of-type {\n",
       "        vertical-align: middle;\n",
       "    }\n",
       "\n",
       "    .dataframe tbody tr th {\n",
       "        vertical-align: top;\n",
       "    }\n",
       "\n",
       "    .dataframe thead th {\n",
       "        text-align: right;\n",
       "    }\n",
       "</style>\n",
       "<table border=\"1\" class=\"dataframe\">\n",
       "  <thead>\n",
       "    <tr style=\"text-align: right;\">\n",
       "      <th></th>\n",
       "      <th>A</th>\n",
       "      <th>B</th>\n",
       "      <th>C</th>\n",
       "      <th>D</th>\n",
       "    </tr>\n",
       "  </thead>\n",
       "  <tbody>\n",
       "    <tr>\n",
       "      <th>0</th>\n",
       "      <td>0.574512</td>\n",
       "      <td>0.348472</td>\n",
       "      <td>-0.627918</td>\n",
       "      <td>1.960685</td>\n",
       "    </tr>\n",
       "    <tr>\n",
       "      <th>1</th>\n",
       "      <td>0.978597</td>\n",
       "      <td>0.503958</td>\n",
       "      <td>0.346226</td>\n",
       "      <td>-1.013618</td>\n",
       "    </tr>\n",
       "    <tr>\n",
       "      <th>2</th>\n",
       "      <td>-0.464696</td>\n",
       "      <td>-0.999015</td>\n",
       "      <td>0.607586</td>\n",
       "      <td>1.491095</td>\n",
       "    </tr>\n",
       "    <tr>\n",
       "      <th>3</th>\n",
       "      <td>0.918481</td>\n",
       "      <td>0.604350</td>\n",
       "      <td>0.029133</td>\n",
       "      <td>-0.318917</td>\n",
       "    </tr>\n",
       "    <tr>\n",
       "      <th>4</th>\n",
       "      <td>0.581700</td>\n",
       "      <td>0.160332</td>\n",
       "      <td>0.919756</td>\n",
       "      <td>0.021843</td>\n",
       "    </tr>\n",
       "  </tbody>\n",
       "</table>\n",
       "</div>"
      ],
      "text/plain": [
       "          A         B         C         D\n",
       "0  0.574512  0.348472 -0.627918  1.960685\n",
       "1  0.978597  0.503958  0.346226 -1.013618\n",
       "2 -0.464696 -0.999015  0.607586  1.491095\n",
       "3  0.918481  0.604350  0.029133 -0.318917\n",
       "4  0.581700  0.160332  0.919756  0.021843"
      ]
     },
     "execution_count": 25,
     "metadata": {},
     "output_type": "execute_result"
    }
   ],
   "source": [
    "df=pd.DataFrame(np.random.randn(100,4),columns=[\"A\",\"B\",\"C\",\"D\"])\n",
    "df.head()"
   ]
  },
  {
   "cell_type": "code",
   "execution_count": 26,
   "id": "e68a84ae",
   "metadata": {},
   "outputs": [
    {
     "data": {
      "text/plain": [
       "<AxesSubplot:>"
      ]
     },
     "execution_count": 26,
     "metadata": {},
     "output_type": "execute_result"
    },
    {
     "data": {
      "image/png": "[encoded data removed]",
      "text/plain": [
       "<Figure size 432x288 with 1 Axes>"
      ]
     },
     "metadata": {
      "needs_background": "light"
     },
     "output_type": "display_data"
    }
   ],
   "source": [
    "df.plot()"
   ]
  },
  {
   "cell_type": "code",
   "execution_count": 27,
   "id": "21a0cb0a",
   "metadata": {},
   "outputs": [
    {
     "data": {
      "application/vnd.plotly.v1+json": {
       "config": {
        "linkText": "Export to plot.ly",
        "plotlyServerURL": "https://plot.ly",
        "showLink": true
       },
       "data": [
        {
         "line": {
          "color": "rgba(255, 153, 51, 1.0)",
          "dash": "solid",
          "shape": "linear",
          "width": 1.3
         },
         "mode": "lines",
         "name": "A",
         "text": "",
         "type": "scatter",
         "x": [
          0,
          1,
          2,
          3,
          4,
          5,
          6,
          7,
          8,
          9,
          10,
          11,
          12,
          13,
          14,
          15,
          16,
          17,
          18,
          19,
          20,
          21,
          22,
          23,
          24,
          25,
          26,
          27,
          28,
          29,
          30,
          31,
          32,
          33,
          34,
          35,
          36,
          37,
          38,
          39,
          40,
          41,
          42,
          43,
          44,
          45,
          46,
          47,
          48,
          49,
          50,
          51,
          52,
          53,
          54,
          55,
          56,
          57,
          58,
          59,
          60,
          61,
          62,
          63,
          64,
          65,
          66,
          67,
          68,
          69,
          70,
          71,
          72,
          73,
          74,
          75,
          76,
          77,
          78,
          79,
          80,
          81,
          82,
          83,
          84,
          85,
          86,
          87,
          88,
          89,
          90,
          91,
          92,
          93,
          94,
          95,
          96,
          97,
          98,
          99
         ],
         "y": [
          0.5745116639033776,
          0.9785972848361238,
          -0.46469597183700806,
          0.9184812368604616,
          0.5817003574663901,
          -0.8855551147163485,
          0.09441057738706614,
          1.7836130306849607,
          0.10863026996968499,
          1.655210904475645,
          0.30667166945281715,
          -1.476029094117104,
          0.799313372611074,
          -1.182350550952549,
          -1.6214507865494476,
          -0.42659969531808345,
          -0.3185300279638153,
          -1.3113068558963037,
          0.45441541274656017,
          -0.443448868043506,
          -0.3135832451503955,
          -0.07429059560938601,
          1.8304855967609228,
          -0.0713168342931115,
          0.8847741156048016,
          0.3452923952775951,
          0.5801132528806705,
          0.7624799832899686,
          0.3322130822954626,
          -0.14242422341213887,
          0.5869469207911738,
          0.6341426054564636,
          2.6938248204297524,
          0.8375677977573818,
          -0.2802251892428954,
          -0.5670142257178402,
          -0.8146887280907159,
          -0.6668992899757032,
          2.2222815451456523,
          -0.7833069320609886,
          0.9905961044054827,
          -0.3256149670770055,
          0.7365672470102214,
          -1.0926596097491235,
          1.1139787434940185,
          -0.6114157064105485,
          -0.450868606112402,
          -0.36872430246246546,
          -0.3249512173133247,
          2.1636131958285767,
          -0.75466909629134,
          -1.288377728305726,
          0.605480241918969,
          -1.7403342621117603,
          -0.5767090901550972,
          0.9862116910360376,
          -0.07369698703587212,
          0.20182496138164546,
          -1.2045105548068864,
          -0.7002951860185551,
          -0.5703494211401896,
          -0.68009580336817,
          0.6916715289142051,
          0.27340901129917644,
          -0.29035920152335515,
          0.2852039886179615,
          0.7133312233350243,
          -0.91547252184514,
          0.28003515738276347,
          1.4923423101747046,
          -0.027191134486079134,
          1.6319337877418953,
          -1.3711337986599788,
          -0.8071766479811399,
          1.318813382305548,
          -0.10012598881905053,
          0.46188415018899753,
          -0.04060855731254377,
          2.087349678948209,
          -0.7295423629444664,
          -1.465500164221751,
          0.7008696270372898,
          -1.7579283442082925,
          -1.7328437612335499,
          0.5294871189749688,
          1.43612734612469,
          0.04680259369241339,
          -1.3526150222323468,
          0.6582598167822007,
          -1.9950013095935213,
          0.4033083680452155,
          0.8175282263646728,
          0.07014198917232728,
          0.43828413155616214,
          0.24968000311555905,
          -0.387429824957257,
          -0.031778227882134205,
          -0.8623267915106497,
          -0.953740984431478,
          -0.05445983399194409
         ]
        },
        {
         "line": {
          "color": "rgba(55, 128, 191, 1.0)",
          "dash": "solid",
          "shape": "linear",
          "width": 1.3
         },
         "mode": "lines",
         "name": "B",
         "text": "",
         "type": "scatter",
         "x": [
          0,
          1,
          2,
          3,
          4,
          5,
          6,
          7,
          8,
          9,
          10,
          11,
          12,
          13,
          14,
          15,
          16,
          17,
          18,
          19,
          20,
          21,
          22,
          23,
          24,
          25,
          26,
          27,
          28,
          29,
          30,
          31,
          32,
          33,
          34,
          35,
          36,
          37,
          38,
          39,
          40,
          41,
          42,
          43,
          44,
          45,
          46,
          47,
          48,
          49,
          50,
          51,
          52,
          53,
          54,
          55,
          56,
          57,
          58,
          59,
          60,
          61,
          62,
          63,
          64,
          65,
          66,
          67,
          68,
          69,
          70,
          71,
          72,
          73,
          74,
          75,
          76,
          77,
          78,
          79,
          80,
          81,
          82,
          83,
          84,
          85,
          86,
          87,
          88,
          89,
          90,
          91,
          92,
          93,
          94,
          95,
          96,
          97,
          98,
          99
         ],
         "y": [
          0.3484717820327838,
          0.5039583742528283,
          -0.9990150314466602,
          0.604350440733284,
          0.16033161362756743,
          1.060326634828224,
          0.5691134915340805,
          -0.902432065184702,
          -0.0009131599102196734,
          0.09740491055972142,
          -1.4180894025378805,
          -0.1803668008622408,
          -1.7737974336650428,
          -0.6506678065802198,
          0.8841075279030496,
          -0.5049945854318697,
          0.7239937184181856,
          -1.4383931275209565,
          0.8453066301750151,
          0.34762005674502483,
          2.0400388372549223,
          -2.157315730611294,
          0.2209478364340322,
          1.802311901385443,
          3.3671102200760767,
          -1.7890851153801186,
          0.8635998111125606,
          0.04538181554622621,
          -0.8768539270570925,
          -1.1561098530930023,
          0.469769961263792,
          0.10483776806045433,
          1.1257947743633177,
          -3.1103162481128477,
          -0.3935244258767791,
          -0.07811839656271094,
          -1.0693390703646042,
          0.7577788997522897,
          0.8548256973784643,
          -0.7227486071850662,
          0.12621136521701642,
          -1.5686850089516764,
          2.3752191234886935,
          1.4117382899520032,
          -0.06966122654057275,
          -0.2222910739555117,
          0.6192503527480322,
          -0.008653601175503829,
          1.155008140394314,
          1.1213681767834516,
          0.6227605959154743,
          3.0697752847408153,
          -0.7300573613661158,
          0.13952947626816217,
          -1.9619353983439314,
          0.701911922424966,
          -0.5785472608072868,
          0.904956567921151,
          -0.9164830751388292,
          2.072689928015543,
          -1.266120789293466,
          -1.3461698573203658,
          -1.5214579615650425,
          -0.5072045185877293,
          -0.7444078207165821,
          2.104810542954587,
          -0.5768261503583167,
          2.6776643429524682,
          -2.3662353087503725,
          0.8183446525143931,
          0.7134885860563976,
          1.0906029212725172,
          -0.7230975990475973,
          0.03037479719875758,
          -0.28281776746578247,
          -2.507508618860443,
          -1.5149956387038264,
          0.2410973606292827,
          0.6497788978731519,
          -0.6259518762684783,
          0.48969228635237555,
          -0.2923666080038938,
          -0.3205481507170632,
          -0.43491892684007843,
          0.7769155155258977,
          -0.8411034149662258,
          -0.5552018807643755,
          -0.2920563678052631,
          1.7897545559348271,
          0.2610504779580989,
          -1.4069427847349,
          -1.9312946429450102,
          -0.25086161419952285,
          3.056499097584156,
          -0.1159568138865182,
          0.5182386214901665,
          -1.1810581543932195,
          0.38615617047610795,
          0.5564841086303987,
          -1.2559280625325615
         ]
        },
        {
         "line": {
          "color": "rgba(50, 171, 96, 1.0)",
          "dash": "solid",
          "shape": "linear",
          "width": 1.3
         },
         "mode": "lines",
         "name": "C",
         "text": "",
         "type": "scatter",
         "x": [
          0,
          1,
          2,
          3,
          4,
          5,
          6,
          7,
          8,
          9,
          10,
          11,
          12,
          13,
          14,
          15,
          16,
          17,
          18,
          19,
          20,
          21,
          22,
          23,
          24,
          25,
          26,
          27,
          28,
          29,
          30,
          31,
          32,
          33,
          34,
          35,
          36,
          37,
          38,
          39,
          40,
          41,
          42,
          43,
          44,
          45,
          46,
          47,
          48,
          49,
          50,
          51,
          52,
          53,
          54,
          55,
          56,
          57,
          58,
          59,
          60,
          61,
          62,
          63,
          64,
          65,
          66,
          67,
          68,
          69,
          70,
          71,
          72,
          73,
          74,
          75,
          76,
          77,
          78,
          79,
          80,
          81,
          82,
          83,
          84,
          85,
          86,
          87,
          88,
          89,
          90,
          91,
          92,
          93,
          94,
          95,
          96,
          97,
          98,
          99
         ],
         "y": [
          -0.6279178473499555,
          0.34622561345445335,
          0.6075860797924031,
          0.02913262936668257,
          0.9197560845710289,
          -0.7699731478454107,
          1.262751820212759,
          0.5433569547085509,
          -0.04482419281941183,
          -1.8029330477391154,
          -0.3635930655564669,
          -0.32293359057263066,
          -1.0903441436528212,
          0.7868906023265563,
          1.8802309640937576,
          -1.1904067058610839,
          0.9208295249944821,
          -0.010545087497734865,
          -0.47535946760931175,
          -0.49259542313300664,
          0.49951299732480203,
          0.6107458107182563,
          -0.44760546551429015,
          0.7441989280214762,
          0.126282178595897,
          0.5799743994055035,
          0.8448531473533216,
          0.01721277105263823,
          0.3983984851970272,
          0.8998252618913929,
          -1.128139718568078,
          -2.4470170704696845,
          -0.7641046776489488,
          1.2088552628983082,
          -0.5064963552932986,
          -0.2368630390955342,
          -0.8377971315111741,
          1.1431791731062944,
          -0.33630594515135365,
          -0.05498773522437794,
          0.12855901062512956,
          1.2882887971043535,
          -1.1079393728923863,
          -1.1240040458096074,
          0.20613811688148714,
          0.6603564503196672,
          -0.07931323212753368,
          0.500898078337865,
          0.11881201356812975,
          -0.7348269138908055,
          -1.2170323289831457,
          0.6005777097187909,
          0.31804334040013993,
          -0.6103546895923493,
          0.3376553321693647,
          -0.6970522403401523,
          -1.395723901987532,
          -0.5724566426848541,
          0.41720725384278323,
          0.5623509112780184,
          1.8705345966014466,
          -1.2677745554240667,
          0.9249856098999654,
          0.16752698109952394,
          -0.8547190482771455,
          -0.2760246934292152,
          1.4249491140674166,
          0.461527822040228,
          0.4608526377560005,
          0.21554681297308004,
          -0.3775884115532785,
          0.5779896658643389,
          -0.13449231921950758,
          0.8034085123741144,
          -0.10994124229232537,
          -1.271901145263936,
          -0.30024887575895737,
          0.7338930349916993,
          0.5996504619148298,
          1.3857603182449478,
          -1.4056057067335495,
          0.9151144691560194,
          -0.12771332861383022,
          0.10129448760262104,
          -1.436262638647789,
          -1.0767602472155713,
          -0.2784479812254053,
          0.2896633485845398,
          0.15840710572744796,
          0.16207494875451453,
          -0.705880200771333,
          1.0282269568186841,
          -0.0662258920562984,
          -0.8766807393776468,
          0.6693348680615138,
          -0.4580944882884912,
          0.3660714458836404,
          2.1712711304260988,
          -0.6079636194188285,
          -1.6330563833064893
         ]
        },
        {
         "line": {
          "color": "rgba(128, 0, 128, 1.0)",
          "dash": "solid",
          "shape": "linear",
          "width": 1.3
         },
         "mode": "lines",
         "name": "D",
         "text": "",
         "type": "scatter",
         "x": [
          0,
          1,
          2,
          3,
          4,
          5,
          6,
          7,
          8,
          9,
          10,
          11,
          12,
          13,
          14,
          15,
          16,
          17,
          18,
          19,
          20,
          21,
          22,
          23,
          24,
          25,
          26,
          27,
          28,
          29,
          30,
          31,
          32,
          33,
          34,
          35,
          36,
          37,
          38,
          39,
          40,
          41,
          42,
          43,
          44,
          45,
          46,
          47,
          48,
          49,
          50,
          51,
          52,
          53,
          54,
          55,
          56,
          57,
          58,
          59,
          60,
          61,
          62,
          63,
          64,
          65,
          66,
          67,
          68,
          69,
          70,
          71,
          72,
          73,
          74,
          75,
          76,
          77,
          78,
          79,
          80,
          81,
          82,
          83,
          84,
          85,
          86,
          87,
          88,
          89,
          90,
          91,
          92,
          93,
          94,
          95,
          96,
          97,
          98,
          99
         ],
         "y": [
          1.9606853783266955,
          -1.0136178810359866,
          1.4910953108378,
          -0.3189171713047649,
          0.021843353198976265,
          0.4994652389137691,
          0.6025525448423065,
          -0.21935349285008657,
          -0.980921477319787,
          0.15381984638449858,
          0.25878300442220536,
          0.2699586885699263,
          -0.1873621610845983,
          0.43536025465544065,
          -1.5449545635773947,
          2.0395544786006714,
          -0.6480518257395195,
          0.808721090642994,
          -0.36719354125504494,
          -0.001025316925003803,
          0.8685637725200062,
          -0.6601768772363882,
          -0.6959594745559767,
          0.41764298027593005,
          -0.3333116698881908,
          0.5503601390374941,
          -0.28209193456661696,
          -1.1369615553160728,
          -2.2545149710465613,
          -0.7948856937950168,
          0.5275437880904109,
          0.11551200209770948,
          0.9320589237708774,
          0.42408266688622964,
          0.42268697686270573,
          0.45085952784692396,
          0.48019269833110984,
          0.34403733308482704,
          -0.5615786227070604,
          -0.2368320299715633,
          -0.43983229008381397,
          0.4055089919780472,
          -0.7031968631290005,
          1.0481306791280107,
          -0.5021248693181799,
          2.6184137554616247,
          -0.42501359786823517,
          0.10522954657932518,
          0.6134329174956021,
          1.1904947545127642,
          0.5618872339979997,
          0.34093915540513064,
          0.2854264334198376,
          -2.50992325626351,
          -0.037972860865348235,
          -0.18829670714289753,
          -2.1286085932779284,
          -1.2835300856396996,
          -0.06223488570762441,
          -0.3194064224602298,
          1.2313290995397501,
          -1.5149777816912295,
          -0.34254587282552446,
          -0.6118002590508678,
          0.9164634051413787,
          0.6416523969220308,
          0.8214296467449537,
          -1.5916357601379973,
          0.7184667905552226,
          -0.2135752689842116,
          -0.21718171400949463,
          -0.16507577784971347,
          -0.7448777745649179,
          -0.8368103625305751,
          0.6156877429083625,
          0.41167420140018496,
          -0.050175997897253875,
          0.42280045371233105,
          0.6272893420786025,
          -1.832109685866272,
          0.6069988870305376,
          -0.38886220134506994,
          1.1739274102042094,
          -1.3756508091828772,
          1.0739141347660655,
          -0.3833757608899859,
          0.7587246029321222,
          0.3821433182351493,
          -0.506829574148174,
          -3.002881245728504,
          0.004645115344238137,
          -0.3184797536289734,
          0.750134727440925,
          0.13039868795406834,
          0.8405588014809571,
          -0.3720549904327991,
          -1.3032189362566347,
          -0.8373272550808281,
          -1.1887946406131236,
          -0.1783987610128384
         ]
        }
       ],
       "layout": {
        "legend": {
         "bgcolor": "#F5F6F9",
         "font": {
          "color": "#4D5663"
         }
        },
        "paper_bgcolor": "#F5F6F9",
        "plot_bgcolor": "#F5F6F9",
        "template": {
         "data": {
          "bar": [
           {
            "error_x": {
             "color": "#2a3f5f"
            },
            "error_y": {
             "color": "#2a3f5f"
            },
            "marker": {
             "line": {
              "color": "#E5ECF6",
              "width": 0.5
             },
             "pattern": {
              "fillmode": "overlay",
              "size": 10,
              "solidity": 0.2
             }
            },
            "type": "bar"
           }
          ],
          "barpolar": [
           {
            "marker": {
             "line": {
              "color": "#E5ECF6",
              "width": 0.5
             },
             "pattern": {
              "fillmode": "overlay",
              "size": 10,
              "solidity": 0.2
             }
            },
            "type": "barpolar"
           }
          ],
          "carpet": [
           {
            "aaxis": {
             "endlinecolor": "#2a3f5f",
             "gridcolor": "white",
             "linecolor": "white",
             "minorgridcolor": "white",
             "startlinecolor": "#2a3f5f"
            },
            "baxis": {
             "endlinecolor": "#2a3f5f",
             "gridcolor": "white",
             "linecolor": "white",
             "minorgridcolor": "white",
             "startlinecolor": "#2a3f5f"
            },
            "type": "carpet"
           }
          ],
          "choropleth": [
           {
            "colorbar": {
             "outlinewidth": 0,
             "ticks": ""
            },
            "type": "choropleth"
           }
          ],
          "contour": [
           {
            "colorbar": {
             "outlinewidth": 0,
             "ticks": ""
            },
            "colorscale": [
             [
              0,
              "#0d0887"
             ],
             [
              0.1111111111111111,
              "#46039f"
             ],
             [
              0.2222222222222222,
              "#7201a8"
             ],
             [
              0.3333333333333333,
              "#9c179e"
             ],
             [
              0.4444444444444444,
              "#bd3786"
             ],
             [
              0.5555555555555556,
              "#d8576b"
             ],
             [
              0.6666666666666666,
              "#ed7953"
             ],
             [
              0.7777777777777778,
              "#fb9f3a"
             ],
             [
              0.8888888888888888,
              "#fdca26"
             ],
             [
              1,
              "#f0f921"
             ]
            ],
            "type": "contour"
           }
          ],
          "contourcarpet": [
           {
            "colorbar": {
             "outlinewidth": 0,
             "ticks": ""
            },
            "type": "contourcarpet"
           }
          ],
          "heatmap": [
           {
            "colorbar": {
             "outlinewidth": 0,
             "ticks": ""
            },
            "colorscale": [
             [
              0,
              "#0d0887"
             ],
             [
              0.1111111111111111,
              "#46039f"
             ],
             [
              0.2222222222222222,
              "#7201a8"
             ],
             [
              0.3333333333333333,
              "#9c179e"
             ],
             [
              0.4444444444444444,
              "#bd3786"
             ],
             [
              0.5555555555555556,
              "#d8576b"
             ],
             [
              0.6666666666666666,
              "#ed7953"
             ],
             [
              0.7777777777777778,
              "#fb9f3a"
             ],
             [
              0.8888888888888888,
              "#fdca26"
             ],
             [
              1,
              "#f0f921"
             ]
            ],
            "type": "heatmap"
           }
          ],
          "heatmapgl": [
           {
            "colorbar": {
             "outlinewidth": 0,
             "ticks": ""
            },
            "colorscale": [
             [
              0,
              "#0d0887"
             ],
             [
              0.1111111111111111,
              "#46039f"
             ],
             [
              0.2222222222222222,
              "#7201a8"
             ],
             [
              0.3333333333333333,
              "#9c179e"
             ],
             [
              0.4444444444444444,
              "#bd3786"
             ],
             [
              0.5555555555555556,
              "#d8576b"
             ],
             [
              0.6666666666666666,
              "#ed7953"
             ],
             [
              0.7777777777777778,
              "#fb9f3a"
             ],
             [
              0.8888888888888888,
              "#fdca26"
             ],
             [
              1,
              "#f0f921"
             ]
            ],
            "type": "heatmapgl"
           }
          ],
          "histogram": [
           {
            "marker": {
             "pattern": {
              "fillmode": "overlay",
              "size": 10,
              "solidity": 0.2
             }
            },
            "type": "histogram"
           }
          ],
          "histogram2d": [
           {
            "colorbar": {
             "outlinewidth": 0,
             "ticks": ""
            },
            "colorscale": [
             [
              0,
              "#0d0887"
             ],
             [
              0.1111111111111111,
              "#46039f"
             ],
             [
              0.2222222222222222,
              "#7201a8"
             ],
             [
              0.3333333333333333,
              "#9c179e"
             ],
             [
              0.4444444444444444,
              "#bd3786"
             ],
             [
              0.5555555555555556,
              "#d8576b"
             ],
             [
              0.6666666666666666,
              "#ed7953"
             ],
             [
              0.7777777777777778,
              "#fb9f3a"
             ],
             [
              0.8888888888888888,
              "#fdca26"
             ],
             [
              1,
              "#f0f921"
             ]
            ],
            "type": "histogram2d"
           }
          ],
          "histogram2dcontour": [
           {
            "colorbar": {
             "outlinewidth": 0,
             "ticks": ""
            },
            "colorscale": [
             [
              0,
              "#0d0887"
             ],
             [
              0.1111111111111111,
              "#46039f"
             ],
             [
              0.2222222222222222,
              "#7201a8"
             ],
             [
              0.3333333333333333,
              "#9c179e"
             ],
             [
              0.4444444444444444,
              "#bd3786"
             ],
             [
              0.5555555555555556,
              "#d8576b"
             ],
             [
              0.6666666666666666,
              "#ed7953"
             ],
             [
              0.7777777777777778,
              "#fb9f3a"
             ],
             [
              0.8888888888888888,
              "#fdca26"
             ],
             [
              1,
              "#f0f921"
             ]
            ],
            "type": "histogram2dcontour"
           }
          ],
          "mesh3d": [
           {
            "colorbar": {
             "outlinewidth": 0,
             "ticks": ""
            },
            "type": "mesh3d"
           }
          ],
          "parcoords": [
           {
            "line": {
             "colorbar": {
              "outlinewidth": 0,
              "ticks": ""
             }
            },
            "type": "parcoords"
           }
          ],
          "pie": [
           {
            "automargin": true,
            "type": "pie"
           }
          ],
          "scatter": [
           {
            "marker": {
             "colorbar": {
              "outlinewidth": 0,
              "ticks": ""
             }
            },
            "type": "scatter"
           }
          ],
          "scatter3d": [
           {
            "line": {
             "colorbar": {
              "outlinewidth": 0,
              "ticks": ""
             }
            },
            "marker": {
             "colorbar": {
              "outlinewidth": 0,
              "ticks": ""
             }
            },
            "type": "scatter3d"
           }
          ],
          "scattercarpet": [
           {
            "marker": {
             "colorbar": {
              "outlinewidth": 0,
              "ticks": ""
             }
            },
            "type": "scattercarpet"
           }
          ],
          "scattergeo": [
           {
            "marker": {
             "colorbar": {
              "outlinewidth": 0,
              "ticks": ""
             }
            },
            "type": "scattergeo"
           }
          ],
          "scattergl": [
           {
            "marker": {
             "colorbar": {
              "outlinewidth": 0,
              "ticks": ""
             }
            },
            "type": "scattergl"
           }
          ],
          "scattermapbox": [
           {
            "marker": {
             "colorbar": {
              "outlinewidth": 0,
              "ticks": ""
             }
            },
            "type": "scattermapbox"
           }
          ],
          "scatterpolar": [
           {
            "marker": {
             "colorbar": {
              "outlinewidth": 0,
              "ticks": ""
             }
            },
            "type": "scatterpolar"
           }
          ],
          "scatterpolargl": [
           {
            "marker": {
             "colorbar": {
              "outlinewidth": 0,
              "ticks": ""
             }
            },
            "type": "scatterpolargl"
           }
          ],
          "scatterternary": [
           {
            "marker": {
             "colorbar": {
              "outlinewidth": 0,
              "ticks": ""
             }
            },
            "type": "scatterternary"
           }
          ],
          "surface": [
           {
            "colorbar": {
             "outlinewidth": 0,
             "ticks": ""
            },
            "colorscale": [
             [
              0,
              "#0d0887"
             ],
             [
              0.1111111111111111,
              "#46039f"
             ],
             [
              0.2222222222222222,
              "#7201a8"
             ],
             [
              0.3333333333333333,
              "#9c179e"
             ],
             [
              0.4444444444444444,
              "#bd3786"
             ],
             [
              0.5555555555555556,
              "#d8576b"
             ],
             [
              0.6666666666666666,
              "#ed7953"
             ],
             [
              0.7777777777777778,
              "#fb9f3a"
             ],
             [
              0.8888888888888888,
              "#fdca26"
             ],
             [
              1,
              "#f0f921"
             ]
            ],
            "type": "surface"
           }
          ],
          "table": [
           {
            "cells": {
             "fill": {
              "color": "#EBF0F8"
             },
             "line": {
              "color": "white"
             }
            },
            "header": {
             "fill": {
              "color": "#C8D4E3"
             },
             "line": {
              "color": "white"
             }
            },
            "type": "table"
           }
          ]
         },
         "layout": {
          "annotationdefaults": {
           "arrowcolor": "#2a3f5f",
           "arrowhead": 0,
           "arrowwidth": 1
          },
          "autotypenumbers": "strict",
          "coloraxis": {
           "colorbar": {
            "outlinewidth": 0,
            "ticks": ""
           }
          },
          "colorscale": {
           "diverging": [
            [
             0,
             "#8e0152"
            ],
            [
             0.1,
             "#c51b7d"
            ],
            [
             0.2,
             "#de77ae"
            ],
            [
             0.3,
             "#f1b6da"
            ],
            [
             0.4,
             "#fde0ef"
            ],
            [
             0.5,
             "#f7f7f7"
            ],
            [
             0.6,
             "#e6f5d0"
            ],
            [
             0.7,
             "#b8e186"
            ],
            [
             0.8,
             "#7fbc41"
            ],
            [
             0.9,
             "#4d9221"
            ],
            [
             1,
             "#276419"
            ]
           ],
           "sequential": [
            [
             0,
             "#0d0887"
            ],
            [
             0.1111111111111111,
             "#46039f"
            ],
            [
             0.2222222222222222,
             "#7201a8"
            ],
            [
             0.3333333333333333,
             "#9c179e"
            ],
            [
             0.4444444444444444,
             "#bd3786"
            ],
            [
             0.5555555555555556,
             "#d8576b"
            ],
            [
             0.6666666666666666,
             "#ed7953"
            ],
            [
             0.7777777777777778,
             "#fb9f3a"
            ],
            [
             0.8888888888888888,
             "#fdca26"
            ],
            [
             1,
             "#f0f921"
            ]
           ],
           "sequentialminus": [
            [
             0,
             "#0d0887"
            ],
            [
             0.1111111111111111,
             "#46039f"
            ],
            [
             0.2222222222222222,
             "#7201a8"
            ],
            [
             0.3333333333333333,
             "#9c179e"
            ],
            [
             0.4444444444444444,
             "#bd3786"
            ],
            [
             0.5555555555555556,
             "#d8576b"
            ],
            [
             0.6666666666666666,
             "#ed7953"
            ],
            [
             0.7777777777777778,
             "#fb9f3a"
            ],
            [
             0.8888888888888888,
             "#fdca26"
            ],
            [
             1,
             "#f0f921"
            ]
           ]
          },
          "colorway": [
           "#636efa",
           "#EF553B",
           "#00cc96",
           "#ab63fa",
           "#FFA15A",
           "#19d3f3",
           "#FF6692",
           "#B6E880",
           "#FF97FF",
           "#FECB52"
          ],
          "font": {
           "color": "#2a3f5f"
          },
          "geo": {
           "bgcolor": "white",
           "lakecolor": "white",
           "landcolor": "#E5ECF6",
           "showlakes": true,
           "showland": true,
           "subunitcolor": "white"
          },
          "hoverlabel": {
           "align": "left"
          },
          "hovermode": "closest",
          "mapbox": {
           "style": "light"
          },
          "paper_bgcolor": "white",
          "plot_bgcolor": "#E5ECF6",
          "polar": {
           "angularaxis": {
            "gridcolor": "white",
            "linecolor": "white",
            "ticks": ""
           },
           "bgcolor": "#E5ECF6",
           "radialaxis": {
            "gridcolor": "white",
            "linecolor": "white",
            "ticks": ""
           }
          },
          "scene": {
           "xaxis": {
            "backgroundcolor": "#E5ECF6",
            "gridcolor": "white",
            "gridwidth": 2,
            "linecolor": "white",
            "showbackground": true,
            "ticks": "",
            "zerolinecolor": "white"
           },
           "yaxis": {
            "backgroundcolor": "#E5ECF6",
            "gridcolor": "white",
            "gridwidth": 2,
            "linecolor": "white",
            "showbackground": true,
            "ticks": "",
            "zerolinecolor": "white"
           },
           "zaxis": {
            "backgroundcolor": "#E5ECF6",
            "gridcolor": "white",
            "gridwidth": 2,
            "linecolor": "white",
            "showbackground": true,
            "ticks": "",
            "zerolinecolor": "white"
           }
          },
          "shapedefaults": {
           "line": {
            "color": "#2a3f5f"
           }
          },
          "ternary": {
           "aaxis": {
            "gridcolor": "white",
            "linecolor": "white",
            "ticks": ""
           },
           "baxis": {
            "gridcolor": "white",
            "linecolor": "white",
            "ticks": ""
           },
           "bgcolor": "#E5ECF6",
           "caxis": {
            "gridcolor": "white",
            "linecolor": "white",
            "ticks": ""
           }
          },
          "title": {
           "x": 0.05
          },
          "xaxis": {
           "automargin": true,
           "gridcolor": "white",
           "linecolor": "white",
           "ticks": "",
           "title": {
            "standoff": 15
           },
           "zerolinecolor": "white",
           "zerolinewidth": 2
          },
          "yaxis": {
           "automargin": true,
           "gridcolor": "white",
           "linecolor": "white",
           "ticks": "",
           "title": {
            "standoff": 15
           },
           "zerolinecolor": "white",
           "zerolinewidth": 2
          }
         }
        },
        "title": {
         "font": {
          "color": "#4D5663"
         }
        },
        "xaxis": {
         "gridcolor": "#E1E5ED",
         "showgrid": true,
         "tickfont": {
          "color": "#4D5663"
         },
         "title": {
          "font": {
           "color": "#4D5663"
          },
          "text": ""
         },
         "zerolinecolor": "#E1E5ED"
        },
        "yaxis": {
         "gridcolor": "#E1E5ED",
         "showgrid": true,
         "tickfont": {
          "color": "#4D5663"
         },
         "title": {
          "font": {
           "color": "#4D5663"
          },
          "text": ""
         },
         "zerolinecolor": "#E1E5ED"
        }
       }
      },
      "text/html": [
       "<div>                            <div id=\"3d0bd3b2-7932-47bb-be78-ca56bc3cf36e\" class=\"plotly-graph-div\" style=\"height:525px; width:100%;\"></div>            <script type=\"text/javascript\">                require([\"plotly\"], function(Plotly) {                    window.PLOTLYENV=window.PLOTLYENV || {};\n",
       "                    window.PLOTLYENV.BASE_URL='https://plot.ly';                                    if (document.getElementById(\"3d0bd3b2-7932-47bb-be78-ca56bc3cf36e\")) {                    Plotly.newPlot(                        \"3d0bd3b2-7932-47bb-be78-ca56bc3cf36e\",                        [{\"line\":{\"color\":\"rgba(255, 153, 51, 1.0)\",\"dash\":\"solid\",\"shape\":\"linear\",\"width\":1.3},\"mode\":\"lines\",\"name\":\"A\",\"text\":\"\",\"x\":[0,1,2,3,4,5,6,7,8,9,10,11,12,13,14,15,16,17,18,19,20,21,22,23,24,25,26,27,28,29,30,31,32,33,34,35,36,37,38,39,40,41,42,43,44,45,46,47,48,49,50,51,52,53,54,55,56,57,58,59,60,61,62,63,64,65,66,67,68,69,70,71,72,73,74,75,76,77,78,79,80,81,82,83,84,85,86,87,88,89,90,91,92,93,94,95,96,97,98,99],\"y\":[0.5745116639033776,0.9785972848361238,-0.46469597183700806,0.9184812368604616,0.5817003574663901,-0.8855551147163485,0.09441057738706614,1.7836130306849607,0.10863026996968499,1.655210904475645,0.30667166945281715,-1.476029094117104,0.799313372611074,-1.182350550952549,-1.6214507865494476,-0.42659969531808345,-0.3185300279638153,-1.3113068558963037,0.45441541274656017,-0.443448868043506,-0.3135832451503955,-0.07429059560938601,1.8304855967609228,-0.0713168342931115,0.8847741156048016,0.3452923952775951,0.5801132528806705,0.7624799832899686,0.3322130822954626,-0.14242422341213887,0.5869469207911738,0.6341426054564636,2.6938248204297524,0.8375677977573818,-0.2802251892428954,-0.5670142257178402,-0.8146887280907159,-0.6668992899757032,2.2222815451456523,-0.7833069320609886,0.9905961044054827,-0.3256149670770055,0.7365672470102214,-1.0926596097491235,1.1139787434940185,-0.6114157064105485,-0.450868606112402,-0.36872430246246546,-0.3249512173133247,2.1636131958285767,-0.75466909629134,-1.288377728305726,0.605480241918969,-1.7403342621117603,-0.5767090901550972,0.9862116910360376,-0.07369698703587212,0.20182496138164546,-1.2045105548068864,-0.7002951860185551,-0.5703494211401896,-0.68009580336817,0.6916715289142051,0.27340901129917644,-0.29035920152335515,0.2852039886179615,0.7133312233350243,-0.91547252184514,0.28003515738276347,1.4923423101747046,-0.027191134486079134,1.6319337877418953,-1.3711337986599788,-0.8071766479811399,1.318813382305548,-0.10012598881905053,0.46188415018899753,-0.04060855731254377,2.087349678948209,-0.7295423629444664,-1.465500164221751,0.7008696270372898,-1.7579283442082925,-1.7328437612335499,0.5294871189749688,1.43612734612469,0.04680259369241339,-1.3526150222323468,0.6582598167822007,-1.9950013095935213,0.4033083680452155,0.8175282263646728,0.07014198917232728,0.43828413155616214,0.24968000311555905,-0.387429824957257,-0.031778227882134205,-0.8623267915106497,-0.953740984431478,-0.05445983399194409],\"type\":\"scatter\"},{\"line\":{\"color\":\"rgba(55, 128, 191, 1.0)\",\"dash\":\"solid\",\"shape\":\"linear\",\"width\":1.3},\"mode\":\"lines\",\"name\":\"B\",\"text\":\"\",\"x\":[0,1,2,3,4,5,6,7,8,9,10,11,12,13,14,15,16,17,18,19,20,21,22,23,24,25,26,27,28,29,30,31,32,33,34,35,36,37,38,39,40,41,42,43,44,45,46,47,48,49,50,51,52,53,54,55,56,57,58,59,60,61,62,63,64,65,66,67,68,69,70,71,72,73,74,75,76,77,78,79,80,81,82,83,84,85,86,87,88,89,90,91,92,93,94,95,96,97,98,99],\"y\":[0.3484717820327838,0.5039583742528283,-0.9990150314466602,0.604350440733284,0.16033161362756743,1.060326634828224,0.5691134915340805,-0.902432065184702,-0.0009131599102196734,0.09740491055972142,-1.4180894025378805,-0.1803668008622408,-1.7737974336650428,-0.6506678065802198,0.8841075279030496,-0.5049945854318697,0.7239937184181856,-1.4383931275209565,0.8453066301750151,0.34762005674502483,2.0400388372549223,-2.157315730611294,0.2209478364340322,1.802311901385443,3.3671102200760767,-1.7890851153801186,0.8635998111125606,0.04538181554622621,-0.8768539270570925,-1.1561098530930023,0.469769961263792,0.10483776806045433,1.1257947743633177,-3.1103162481128477,-0.3935244258767791,-0.07811839656271094,-1.0693390703646042,0.7577788997522897,0.8548256973784643,-0.7227486071850662,0.12621136521701642,-1.5686850089516764,2.3752191234886935,1.4117382899520032,-0.06966122654057275,-0.2222910739555117,0.6192503527480322,-0.008653601175503829,1.155008140394314,1.1213681767834516,0.6227605959154743,3.0697752847408153,-0.7300573613661158,0.13952947626816217,-1.9619353983439314,0.701911922424966,-0.5785472608072868,0.904956567921151,-0.9164830751388292,2.072689928015543,-1.266120789293466,-1.3461698573203658,-1.5214579615650425,-0.5072045185877293,-0.7444078207165821,2.104810542954587,-0.5768261503583167,2.6776643429524682,-2.3662353087503725,0.8183446525143931,0.7134885860563976,1.0906029212725172,-0.7230975990475973,0.03037479719875758,-0.28281776746578247,-2.507508618860443,-1.5149956387038264,0.2410973606292827,0.6497788978731519,-0.6259518762684783,0.48969228635237555,-0.2923666080038938,-0.3205481507170632,-0.43491892684007843,0.7769155155258977,-0.8411034149662258,-0.5552018807643755,-0.2920563678052631,1.7897545559348271,0.2610504779580989,-1.4069427847349,-1.9312946429450102,-0.25086161419952285,3.056499097584156,-0.1159568138865182,0.5182386214901665,-1.1810581543932195,0.38615617047610795,0.5564841086303987,-1.2559280625325615],\"type\":\"scatter\"},{\"line\":{\"color\":\"rgba(50, 171, 96, 1.0)\",\"dash\":\"solid\",\"shape\":\"linear\",\"width\":1.3},\"mode\":\"lines\",\"name\":\"C\",\"text\":\"\",\"x\":[0,1,2,3,4,5,6,7,8,9,10,11,12,13,14,15,16,17,18,19,20,21,22,23,24,25,26,27,28,29,30,31,32,33,34,35,36,37,38,39,40,41,42,43,44,45,46,47,48,49,50,51,52,53,54,55,56,57,58,59,60,61,62,63,64,65,66,67,68,69,70,71,72,73,74,75,76,77,78,79,80,81,82,83,84,85,86,87,88,89,90,91,92,93,94,95,96,97,98,99],\"y\":[-0.6279178473499555,0.34622561345445335,0.6075860797924031,0.02913262936668257,0.9197560845710289,-0.7699731478454107,1.262751820212759,0.5433569547085509,-0.04482419281941183,-1.8029330477391154,-0.3635930655564669,-0.32293359057263066,-1.0903441436528212,0.7868906023265563,1.8802309640937576,-1.1904067058610839,0.9208295249944821,-0.010545087497734865,-0.47535946760931175,-0.49259542313300664,0.49951299732480203,0.6107458107182563,-0.44760546551429015,0.7441989280214762,0.126282178595897,0.5799743994055035,0.8448531473533216,0.01721277105263823,0.3983984851970272,0.8998252618913929,-1.128139718568078,-2.4470170704696845,-0.7641046776489488,1.2088552628983082,-0.5064963552932986,-0.2368630390955342,-0.8377971315111741,1.1431791731062944,-0.33630594515135365,-0.05498773522437794,0.12855901062512956,1.2882887971043535,-1.1079393728923863,-1.1240040458096074,0.20613811688148714,0.6603564503196672,-0.07931323212753368,0.500898078337865,0.11881201356812975,-0.7348269138908055,-1.2170323289831457,0.6005777097187909,0.31804334040013993,-0.6103546895923493,0.3376553321693647,-0.6970522403401523,-1.395723901987532,-0.5724566426848541,0.41720725384278323,0.5623509112780184,1.8705345966014466,-1.2677745554240667,0.9249856098999654,0.16752698109952394,-0.8547190482771455,-0.2760246934292152,1.4249491140674166,0.461527822040228,0.4608526377560005,0.21554681297308004,-0.3775884115532785,0.5779896658643389,-0.13449231921950758,0.8034085123741144,-0.10994124229232537,-1.271901145263936,-0.30024887575895737,0.7338930349916993,0.5996504619148298,1.3857603182449478,-1.4056057067335495,0.9151144691560194,-0.12771332861383022,0.10129448760262104,-1.436262638647789,-1.0767602472155713,-0.2784479812254053,0.2896633485845398,0.15840710572744796,0.16207494875451453,-0.705880200771333,1.0282269568186841,-0.0662258920562984,-0.8766807393776468,0.6693348680615138,-0.4580944882884912,0.3660714458836404,2.1712711304260988,-0.6079636194188285,-1.6330563833064893],\"type\":\"scatter\"},{\"line\":{\"color\":\"rgba(128, 0, 128, 1.0)\",\"dash\":\"solid\",\"shape\":\"linear\",\"width\":1.3},\"mode\":\"lines\",\"name\":\"D\",\"text\":\"\",\"x\":[0,1,2,3,4,5,6,7,8,9,10,11,12,13,14,15,16,17,18,19,20,21,22,23,24,25,26,27,28,29,30,31,32,33,34,35,36,37,38,39,40,41,42,43,44,45,46,47,48,49,50,51,52,53,54,55,56,57,58,59,60,61,62,63,64,65,66,67,68,69,70,71,72,73,74,75,76,77,78,79,80,81,82,83,84,85,86,87,88,89,90,91,92,93,94,95,96,97,98,99],\"y\":[1.9606853783266955,-1.0136178810359866,1.4910953108378,-0.3189171713047649,0.021843353198976265,0.4994652389137691,0.6025525448423065,-0.21935349285008657,-0.980921477319787,0.15381984638449858,0.25878300442220536,0.2699586885699263,-0.1873621610845983,0.43536025465544065,-1.5449545635773947,2.0395544786006714,-0.6480518257395195,0.808721090642994,-0.36719354125504494,-0.001025316925003803,0.8685637725200062,-0.6601768772363882,-0.6959594745559767,0.41764298027593005,-0.3333116698881908,0.5503601390374941,-0.28209193456661696,-1.1369615553160728,-2.2545149710465613,-0.7948856937950168,0.5275437880904109,0.11551200209770948,0.9320589237708774,0.42408266688622964,0.42268697686270573,0.45085952784692396,0.48019269833110984,0.34403733308482704,-0.5615786227070604,-0.2368320299715633,-0.43983229008381397,0.4055089919780472,-0.7031968631290005,1.0481306791280107,-0.5021248693181799,2.6184137554616247,-0.42501359786823517,0.10522954657932518,0.6134329174956021,1.1904947545127642,0.5618872339979997,0.34093915540513064,0.2854264334198376,-2.50992325626351,-0.037972860865348235,-0.18829670714289753,-2.1286085932779284,-1.2835300856396996,-0.06223488570762441,-0.3194064224602298,1.2313290995397501,-1.5149777816912295,-0.34254587282552446,-0.6118002590508678,0.9164634051413787,0.6416523969220308,0.8214296467449537,-1.5916357601379973,0.7184667905552226,-0.2135752689842116,-0.21718171400949463,-0.16507577784971347,-0.7448777745649179,-0.8368103625305751,0.6156877429083625,0.41167420140018496,-0.050175997897253875,0.42280045371233105,0.6272893420786025,-1.832109685866272,0.6069988870305376,-0.38886220134506994,1.1739274102042094,-1.3756508091828772,1.0739141347660655,-0.3833757608899859,0.7587246029321222,0.3821433182351493,-0.506829574148174,-3.002881245728504,0.004645115344238137,-0.3184797536289734,0.750134727440925,0.13039868795406834,0.8405588014809571,-0.3720549904327991,-1.3032189362566347,-0.8373272550808281,-1.1887946406131236,-0.1783987610128384],\"type\":\"scatter\"}],                        {\"legend\":{\"bgcolor\":\"#F5F6F9\",\"font\":{\"color\":\"#4D5663\"}},\"paper_bgcolor\":\"#F5F6F9\",\"plot_bgcolor\":\"#F5F6F9\",\"template\":{\"data\":{\"barpolar\":[{\"marker\":{\"line\":{\"color\":\"#E5ECF6\",\"width\":0.5},\"pattern\":{\"fillmode\":\"overlay\",\"size\":10,\"solidity\":0.2}},\"type\":\"barpolar\"}],\"bar\":[{\"error_x\":{\"color\":\"#2a3f5f\"},\"error_y\":{\"color\":\"#2a3f5f\"},\"marker\":{\"line\":{\"color\":\"#E5ECF6\",\"width\":0.5},\"pattern\":{\"fillmode\":\"overlay\",\"size\":10,\"solidity\":0.2}},\"type\":\"bar\"}],\"carpet\":[{\"aaxis\":{\"endlinecolor\":\"#2a3f5f\",\"gridcolor\":\"white\",\"linecolor\":\"white\",\"minorgridcolor\":\"white\",\"startlinecolor\":\"#2a3f5f\"},\"baxis\":{\"endlinecolor\":\"#2a3f5f\",\"gridcolor\":\"white\",\"linecolor\":\"white\",\"minorgridcolor\":\"white\",\"startlinecolor\":\"#2a3f5f\"},\"type\":\"carpet\"}],\"choropleth\":[{\"colorbar\":{\"outlinewidth\":0,\"ticks\":\"\"},\"type\":\"choropleth\"}],\"contourcarpet\":[{\"colorbar\":{\"outlinewidth\":0,\"ticks\":\"\"},\"type\":\"contourcarpet\"}],\"contour\":[{\"colorbar\":{\"outlinewidth\":0,\"ticks\":\"\"},\"colorscale\":[[0.0,\"#0d0887\"],[0.1111111111111111,\"#46039f\"],[0.2222222222222222,\"#7201a8\"],[0.3333333333333333,\"#9c179e\"],[0.4444444444444444,\"#bd3786\"],[0.5555555555555556,\"#d8576b\"],[0.6666666666666666,\"#ed7953\"],[0.7777777777777778,\"#fb9f3a\"],[0.8888888888888888,\"#fdca26\"],[1.0,\"#f0f921\"]],\"type\":\"contour\"}],\"heatmapgl\":[{\"colorbar\":{\"outlinewidth\":0,\"ticks\":\"\"},\"colorscale\":[[0.0,\"#0d0887\"],[0.1111111111111111,\"#46039f\"],[0.2222222222222222,\"#7201a8\"],[0.3333333333333333,\"#9c179e\"],[0.4444444444444444,\"#bd3786\"],[0.5555555555555556,\"#d8576b\"],[0.6666666666666666,\"#ed7953\"],[0.7777777777777778,\"#fb9f3a\"],[0.8888888888888888,\"#fdca26\"],[1.0,\"#f0f921\"]],\"type\":\"heatmapgl\"}],\"heatmap\":[{\"colorbar\":{\"outlinewidth\":0,\"ticks\":\"\"},\"colorscale\":[[0.0,\"#0d0887\"],[0.1111111111111111,\"#46039f\"],[0.2222222222222222,\"#7201a8\"],[0.3333333333333333,\"#9c179e\"],[0.4444444444444444,\"#bd3786\"],[0.5555555555555556,\"#d8576b\"],[0.6666666666666666,\"#ed7953\"],[0.7777777777777778,\"#fb9f3a\"],[0.8888888888888888,\"#fdca26\"],[1.0,\"#f0f921\"]],\"type\":\"heatmap\"}],\"histogram2dcontour\":[{\"colorbar\":{\"outlinewidth\":0,\"ticks\":\"\"},\"colorscale\":[[0.0,\"#0d0887\"],[0.1111111111111111,\"#46039f\"],[0.2222222222222222,\"#7201a8\"],[0.3333333333333333,\"#9c179e\"],[0.4444444444444444,\"#bd3786\"],[0.5555555555555556,\"#d8576b\"],[0.6666666666666666,\"#ed7953\"],[0.7777777777777778,\"#fb9f3a\"],[0.8888888888888888,\"#fdca26\"],[1.0,\"#f0f921\"]],\"type\":\"histogram2dcontour\"}],\"histogram2d\":[{\"colorbar\":{\"outlinewidth\":0,\"ticks\":\"\"},\"colorscale\":[[0.0,\"#0d0887\"],[0.1111111111111111,\"#46039f\"],[0.2222222222222222,\"#7201a8\"],[0.3333333333333333,\"#9c179e\"],[0.4444444444444444,\"#bd3786\"],[0.5555555555555556,\"#d8576b\"],[0.6666666666666666,\"#ed7953\"],[0.7777777777777778,\"#fb9f3a\"],[0.8888888888888888,\"#fdca26\"],[1.0,\"#f0f921\"]],\"type\":\"histogram2d\"}],\"histogram\":[{\"marker\":{\"pattern\":{\"fillmode\":\"overlay\",\"size\":10,\"solidity\":0.2}},\"type\":\"histogram\"}],\"mesh3d\":[{\"colorbar\":{\"outlinewidth\":0,\"ticks\":\"\"},\"type\":\"mesh3d\"}],\"parcoords\":[{\"line\":{\"colorbar\":{\"outlinewidth\":0,\"ticks\":\"\"}},\"type\":\"parcoords\"}],\"pie\":[{\"automargin\":true,\"type\":\"pie\"}],\"scatter3d\":[{\"line\":{\"colorbar\":{\"outlinewidth\":0,\"ticks\":\"\"}},\"marker\":{\"colorbar\":{\"outlinewidth\":0,\"ticks\":\"\"}},\"type\":\"scatter3d\"}],\"scattercarpet\":[{\"marker\":{\"colorbar\":{\"outlinewidth\":0,\"ticks\":\"\"}},\"type\":\"scattercarpet\"}],\"scattergeo\":[{\"marker\":{\"colorbar\":{\"outlinewidth\":0,\"ticks\":\"\"}},\"type\":\"scattergeo\"}],\"scattergl\":[{\"marker\":{\"colorbar\":{\"outlinewidth\":0,\"ticks\":\"\"}},\"type\":\"scattergl\"}],\"scattermapbox\":[{\"marker\":{\"colorbar\":{\"outlinewidth\":0,\"ticks\":\"\"}},\"type\":\"scattermapbox\"}],\"scatterpolargl\":[{\"marker\":{\"colorbar\":{\"outlinewidth\":0,\"ticks\":\"\"}},\"type\":\"scatterpolargl\"}],\"scatterpolar\":[{\"marker\":{\"colorbar\":{\"outlinewidth\":0,\"ticks\":\"\"}},\"type\":\"scatterpolar\"}],\"scatter\":[{\"marker\":{\"colorbar\":{\"outlinewidth\":0,\"ticks\":\"\"}},\"type\":\"scatter\"}],\"scatterternary\":[{\"marker\":{\"colorbar\":{\"outlinewidth\":0,\"ticks\":\"\"}},\"type\":\"scatterternary\"}],\"surface\":[{\"colorbar\":{\"outlinewidth\":0,\"ticks\":\"\"},\"colorscale\":[[0.0,\"#0d0887\"],[0.1111111111111111,\"#46039f\"],[0.2222222222222222,\"#7201a8\"],[0.3333333333333333,\"#9c179e\"],[0.4444444444444444,\"#bd3786\"],[0.5555555555555556,\"#d8576b\"],[0.6666666666666666,\"#ed7953\"],[0.7777777777777778,\"#fb9f3a\"],[0.8888888888888888,\"#fdca26\"],[1.0,\"#f0f921\"]],\"type\":\"surface\"}],\"table\":[{\"cells\":{\"fill\":{\"color\":\"#EBF0F8\"},\"line\":{\"color\":\"white\"}},\"header\":{\"fill\":{\"color\":\"#C8D4E3\"},\"line\":{\"color\":\"white\"}},\"type\":\"table\"}]},\"layout\":{\"annotationdefaults\":{\"arrowcolor\":\"#2a3f5f\",\"arrowhead\":0,\"arrowwidth\":1},\"autotypenumbers\":\"strict\",\"coloraxis\":{\"colorbar\":{\"outlinewidth\":0,\"ticks\":\"\"}},\"colorscale\":{\"diverging\":[[0,\"#8e0152\"],[0.1,\"#c51b7d\"],[0.2,\"#de77ae\"],[0.3,\"#f1b6da\"],[0.4,\"#fde0ef\"],[0.5,\"#f7f7f7\"],[0.6,\"#e6f5d0\"],[0.7,\"#b8e186\"],[0.8,\"#7fbc41\"],[0.9,\"#4d9221\"],[1,\"#276419\"]],\"sequential\":[[0.0,\"#0d0887\"],[0.1111111111111111,\"#46039f\"],[0.2222222222222222,\"#7201a8\"],[0.3333333333333333,\"#9c179e\"],[0.4444444444444444,\"#bd3786\"],[0.5555555555555556,\"#d8576b\"],[0.6666666666666666,\"#ed7953\"],[0.7777777777777778,\"#fb9f3a\"],[0.8888888888888888,\"#fdca26\"],[1.0,\"#f0f921\"]],\"sequentialminus\":[[0.0,\"#0d0887\"],[0.1111111111111111,\"#46039f\"],[0.2222222222222222,\"#7201a8\"],[0.3333333333333333,\"#9c179e\"],[0.4444444444444444,\"#bd3786\"],[0.5555555555555556,\"#d8576b\"],[0.6666666666666666,\"#ed7953\"],[0.7777777777777778,\"#fb9f3a\"],[0.8888888888888888,\"#fdca26\"],[1.0,\"#f0f921\"]]},\"colorway\":[\"#636efa\",\"#EF553B\",\"#00cc96\",\"#ab63fa\",\"#FFA15A\",\"#19d3f3\",\"#FF6692\",\"#B6E880\",\"#FF97FF\",\"#FECB52\"],\"font\":{\"color\":\"#2a3f5f\"},\"geo\":{\"bgcolor\":\"white\",\"lakecolor\":\"white\",\"landcolor\":\"#E5ECF6\",\"showlakes\":true,\"showland\":true,\"subunitcolor\":\"white\"},\"hoverlabel\":{\"align\":\"left\"},\"hovermode\":\"closest\",\"mapbox\":{\"style\":\"light\"},\"paper_bgcolor\":\"white\",\"plot_bgcolor\":\"#E5ECF6\",\"polar\":{\"angularaxis\":{\"gridcolor\":\"white\",\"linecolor\":\"white\",\"ticks\":\"\"},\"bgcolor\":\"#E5ECF6\",\"radialaxis\":{\"gridcolor\":\"white\",\"linecolor\":\"white\",\"ticks\":\"\"}},\"scene\":{\"xaxis\":{\"backgroundcolor\":\"#E5ECF6\",\"gridcolor\":\"white\",\"gridwidth\":2,\"linecolor\":\"white\",\"showbackground\":true,\"ticks\":\"\",\"zerolinecolor\":\"white\"},\"yaxis\":{\"backgroundcolor\":\"#E5ECF6\",\"gridcolor\":\"white\",\"gridwidth\":2,\"linecolor\":\"white\",\"showbackground\":true,\"ticks\":\"\",\"zerolinecolor\":\"white\"},\"zaxis\":{\"backgroundcolor\":\"#E5ECF6\",\"gridcolor\":\"white\",\"gridwidth\":2,\"linecolor\":\"white\",\"showbackground\":true,\"ticks\":\"\",\"zerolinecolor\":\"white\"}},\"shapedefaults\":{\"line\":{\"color\":\"#2a3f5f\"}},\"ternary\":{\"aaxis\":{\"gridcolor\":\"white\",\"linecolor\":\"white\",\"ticks\":\"\"},\"baxis\":{\"gridcolor\":\"white\",\"linecolor\":\"white\",\"ticks\":\"\"},\"bgcolor\":\"#E5ECF6\",\"caxis\":{\"gridcolor\":\"white\",\"linecolor\":\"white\",\"ticks\":\"\"}},\"title\":{\"x\":0.05},\"xaxis\":{\"automargin\":true,\"gridcolor\":\"white\",\"linecolor\":\"white\",\"ticks\":\"\",\"title\":{\"standoff\":15},\"zerolinecolor\":\"white\",\"zerolinewidth\":2},\"yaxis\":{\"automargin\":true,\"gridcolor\":\"white\",\"linecolor\":\"white\",\"ticks\":\"\",\"title\":{\"standoff\":15},\"zerolinecolor\":\"white\",\"zerolinewidth\":2}}},\"title\":{\"font\":{\"color\":\"#4D5663\"}},\"xaxis\":{\"gridcolor\":\"#E1E5ED\",\"showgrid\":true,\"tickfont\":{\"color\":\"#4D5663\"},\"title\":{\"font\":{\"color\":\"#4D5663\"},\"text\":\"\"},\"zerolinecolor\":\"#E1E5ED\"},\"yaxis\":{\"gridcolor\":\"#E1E5ED\",\"showgrid\":true,\"tickfont\":{\"color\":\"#4D5663\"},\"title\":{\"font\":{\"color\":\"#4D5663\"},\"text\":\"\"},\"zerolinecolor\":\"#E1E5ED\"}},                        {\"showLink\": true, \"linkText\": \"Export to plot.ly\", \"plotlyServerURL\": \"https://plot.ly\", \"responsive\": true}                    ).then(function(){\n",
       "                            \n",
       "var gd = document.getElementById('3d0bd3b2-7932-47bb-be78-ca56bc3cf36e');\n",
       "var x = new MutationObserver(function (mutations, observer) {{\n",
       "        var display = window.getComputedStyle(gd).display;\n",
       "        if (!display || display === 'none') {{\n",
       "            console.log([gd, 'removed!']);\n",
       "            Plotly.purge(gd);\n",
       "            observer.disconnect();\n",
       "        }}\n",
       "}});\n",
       "\n",
       "// Listen for the removal of the full notebook cells\n",
       "var notebookContainer = gd.closest('#notebook-container');\n",
       "if (notebookContainer) {{\n",
       "    x.observe(notebookContainer, {childList: true});\n",
       "}}\n",
       "\n",
       "// Listen for the clearing of the current output cell\n",
       "var outputEl = gd.closest('.output');\n",
       "if (outputEl) {{\n",
       "    x.observe(outputEl, {childList: true});\n",
       "}}\n",
       "\n",
       "                        })                };                });            </script>        </div>"
      ]
     },
     "metadata": {},
     "output_type": "display_data"
    }
   ],
   "source": [
    "df.iplot()"
   ]
  },
  {
   "cell_type": "code",
   "execution_count": 29,
   "id": "cce77ff3",
   "metadata": {
    "scrolled": true
   },
   "outputs": [
    {
     "data": {
      "application/vnd.plotly.v1+json": {
       "config": {
        "linkText": "Export to plot.ly",
        "plotlyServerURL": "https://plot.ly",
        "showLink": true
       },
       "data": [
        {
         "line": {
          "color": "rgba(255, 153, 51, 1.0)",
          "dash": "solid",
          "shape": "linear",
          "width": 1.3
         },
         "marker": {
          "size": 5,
          "symbol": "circle"
         },
         "mode": "markers",
         "name": "B",
         "text": "",
         "type": "scatter",
         "x": [
          0.5745116639033776,
          0.9785972848361238,
          -0.46469597183700806,
          0.9184812368604616,
          0.5817003574663901,
          -0.8855551147163485,
          0.09441057738706614,
          1.7836130306849607,
          0.10863026996968499,
          1.655210904475645,
          0.30667166945281715,
          -1.476029094117104,
          0.799313372611074,
          -1.182350550952549,
          -1.6214507865494476,
          -0.42659969531808345,
          -0.3185300279638153,
          -1.3113068558963037,
          0.45441541274656017,
          -0.443448868043506,
          -0.3135832451503955,
          -0.07429059560938601,
          1.8304855967609228,
          -0.0713168342931115,
          0.8847741156048016,
          0.3452923952775951,
          0.5801132528806705,
          0.7624799832899686,
          0.3322130822954626,
          -0.14242422341213887,
          0.5869469207911738,
          0.6341426054564636,
          2.6938248204297524,
          0.8375677977573818,
          -0.2802251892428954,
          -0.5670142257178402,
          -0.8146887280907159,
          -0.6668992899757032,
          2.2222815451456523,
          -0.7833069320609886,
          0.9905961044054827,
          -0.3256149670770055,
          0.7365672470102214,
          -1.0926596097491235,
          1.1139787434940185,
          -0.6114157064105485,
          -0.450868606112402,
          -0.36872430246246546,
          -0.3249512173133247,
          2.1636131958285767,
          -0.75466909629134,
          -1.288377728305726,
          0.605480241918969,
          -1.7403342621117603,
          -0.5767090901550972,
          0.9862116910360376,
          -0.07369698703587212,
          0.20182496138164546,
          -1.2045105548068864,
          -0.7002951860185551,
          -0.5703494211401896,
          -0.68009580336817,
          0.6916715289142051,
          0.27340901129917644,
          -0.29035920152335515,
          0.2852039886179615,
          0.7133312233350243,
          -0.91547252184514,
          0.28003515738276347,
          1.4923423101747046,
          -0.027191134486079134,
          1.6319337877418953,
          -1.3711337986599788,
          -0.8071766479811399,
          1.318813382305548,
          -0.10012598881905053,
          0.46188415018899753,
          -0.04060855731254377,
          2.087349678948209,
          -0.7295423629444664,
          -1.465500164221751,
          0.7008696270372898,
          -1.7579283442082925,
          -1.7328437612335499,
          0.5294871189749688,
          1.43612734612469,
          0.04680259369241339,
          -1.3526150222323468,
          0.6582598167822007,
          -1.9950013095935213,
          0.4033083680452155,
          0.8175282263646728,
          0.07014198917232728,
          0.43828413155616214,
          0.24968000311555905,
          -0.387429824957257,
          -0.031778227882134205,
          -0.8623267915106497,
          -0.953740984431478,
          -0.05445983399194409
         ],
         "y": [
          0.3484717820327838,
          0.5039583742528283,
          -0.9990150314466602,
          0.604350440733284,
          0.16033161362756743,
          1.060326634828224,
          0.5691134915340805,
          -0.902432065184702,
          -0.0009131599102196734,
          0.09740491055972142,
          -1.4180894025378805,
          -0.1803668008622408,
          -1.7737974336650428,
          -0.6506678065802198,
          0.8841075279030496,
          -0.5049945854318697,
          0.7239937184181856,
          -1.4383931275209565,
          0.8453066301750151,
          0.34762005674502483,
          2.0400388372549223,
          -2.157315730611294,
          0.2209478364340322,
          1.802311901385443,
          3.3671102200760767,
          -1.7890851153801186,
          0.8635998111125606,
          0.04538181554622621,
          -0.8768539270570925,
          -1.1561098530930023,
          0.469769961263792,
          0.10483776806045433,
          1.1257947743633177,
          -3.1103162481128477,
          -0.3935244258767791,
          -0.07811839656271094,
          -1.0693390703646042,
          0.7577788997522897,
          0.8548256973784643,
          -0.7227486071850662,
          0.12621136521701642,
          -1.5686850089516764,
          2.3752191234886935,
          1.4117382899520032,
          -0.06966122654057275,
          -0.2222910739555117,
          0.6192503527480322,
          -0.008653601175503829,
          1.155008140394314,
          1.1213681767834516,
          0.6227605959154743,
          3.0697752847408153,
          -0.7300573613661158,
          0.13952947626816217,
          -1.9619353983439314,
          0.701911922424966,
          -0.5785472608072868,
          0.904956567921151,
          -0.9164830751388292,
          2.072689928015543,
          -1.266120789293466,
          -1.3461698573203658,
          -1.5214579615650425,
          -0.5072045185877293,
          -0.7444078207165821,
          2.104810542954587,
          -0.5768261503583167,
          2.6776643429524682,
          -2.3662353087503725,
          0.8183446525143931,
          0.7134885860563976,
          1.0906029212725172,
          -0.7230975990475973,
          0.03037479719875758,
          -0.28281776746578247,
          -2.507508618860443,
          -1.5149956387038264,
          0.2410973606292827,
          0.6497788978731519,
          -0.6259518762684783,
          0.48969228635237555,
          -0.2923666080038938,
          -0.3205481507170632,
          -0.43491892684007843,
          0.7769155155258977,
          -0.8411034149662258,
          -0.5552018807643755,
          -0.2920563678052631,
          1.7897545559348271,
          0.2610504779580989,
          -1.4069427847349,
          -1.9312946429450102,
          -0.25086161419952285,
          3.056499097584156,
          -0.1159568138865182,
          0.5182386214901665,
          -1.1810581543932195,
          0.38615617047610795,
          0.5564841086303987,
          -1.2559280625325615
         ]
        }
       ],
       "layout": {
        "legend": {
         "bgcolor": "#F5F6F9",
         "font": {
          "color": "#4D5663"
         }
        },
        "paper_bgcolor": "#F5F6F9",
        "plot_bgcolor": "#F5F6F9",
        "template": {
         "data": {
          "bar": [
           {
            "error_x": {
             "color": "#2a3f5f"
            },
            "error_y": {
             "color": "#2a3f5f"
            },
            "marker": {
             "line": {
              "color": "#E5ECF6",
              "width": 0.5
             },
             "pattern": {
              "fillmode": "overlay",
              "size": 10,
              "solidity": 0.2
             }
            },
            "type": "bar"
           }
          ],
          "barpolar": [
           {
            "marker": {
             "line": {
              "color": "#E5ECF6",
              "width": 0.5
             },
             "pattern": {
              "fillmode": "overlay",
              "size": 10,
              "solidity": 0.2
             }
            },
            "type": "barpolar"
           }
          ],
          "carpet": [
           {
            "aaxis": {
             "endlinecolor": "#2a3f5f",
             "gridcolor": "white",
             "linecolor": "white",
             "minorgridcolor": "white",
             "startlinecolor": "#2a3f5f"
            },
            "baxis": {
             "endlinecolor": "#2a3f5f",
             "gridcolor": "white",
             "linecolor": "white",
             "minorgridcolor": "white",
             "startlinecolor": "#2a3f5f"
            },
            "type": "carpet"
           }
          ],
          "choropleth": [
           {
            "colorbar": {
             "outlinewidth": 0,
             "ticks": ""
            },
            "type": "choropleth"
           }
          ],
          "contour": [
           {
            "colorbar": {
             "outlinewidth": 0,
             "ticks": ""
            },
            "colorscale": [
             [
              0,
              "#0d0887"
             ],
             [
              0.1111111111111111,
              "#46039f"
             ],
             [
              0.2222222222222222,
              "#7201a8"
             ],
             [
              0.3333333333333333,
              "#9c179e"
             ],
             [
              0.4444444444444444,
              "#bd3786"
             ],
             [
              0.5555555555555556,
              "#d8576b"
             ],
             [
              0.6666666666666666,
              "#ed7953"
             ],
             [
              0.7777777777777778,
              "#fb9f3a"
             ],
             [
              0.8888888888888888,
              "#fdca26"
             ],
             [
              1,
              "#f0f921"
             ]
            ],
            "type": "contour"
           }
          ],
          "contourcarpet": [
           {
            "colorbar": {
             "outlinewidth": 0,
             "ticks": ""
            },
            "type": "contourcarpet"
           }
          ],
          "heatmap": [
           {
            "colorbar": {
             "outlinewidth": 0,
             "ticks": ""
            },
            "colorscale": [
             [
              0,
              "#0d0887"
             ],
             [
              0.1111111111111111,
              "#46039f"
             ],
             [
              0.2222222222222222,
              "#7201a8"
             ],
             [
              0.3333333333333333,
              "#9c179e"
             ],
             [
              0.4444444444444444,
              "#bd3786"
             ],
             [
              0.5555555555555556,
              "#d8576b"
             ],
             [
              0.6666666666666666,
              "#ed7953"
             ],
             [
              0.7777777777777778,
              "#fb9f3a"
             ],
             [
              0.8888888888888888,
              "#fdca26"
             ],
             [
              1,
              "#f0f921"
             ]
            ],
            "type": "heatmap"
           }
          ],
          "heatmapgl": [
           {
            "colorbar": {
             "outlinewidth": 0,
             "ticks": ""
            },
            "colorscale": [
             [
              0,
              "#0d0887"
             ],
             [
              0.1111111111111111,
              "#46039f"
             ],
             [
              0.2222222222222222,
              "#7201a8"
             ],
             [
              0.3333333333333333,
              "#9c179e"
             ],
             [
              0.4444444444444444,
              "#bd3786"
             ],
             [
              0.5555555555555556,
              "#d8576b"
             ],
             [
              0.6666666666666666,
              "#ed7953"
             ],
             [
              0.7777777777777778,
              "#fb9f3a"
             ],
             [
              0.8888888888888888,
              "#fdca26"
             ],
             [
              1,
              "#f0f921"
             ]
            ],
            "type": "heatmapgl"
           }
          ],
          "histogram": [
           {
            "marker": {
             "pattern": {
              "fillmode": "overlay",
              "size": 10,
              "solidity": 0.2
             }
            },
            "type": "histogram"
           }
          ],
          "histogram2d": [
           {
            "colorbar": {
             "outlinewidth": 0,
             "ticks": ""
            },
            "colorscale": [
             [
              0,
              "#0d0887"
             ],
             [
              0.1111111111111111,
              "#46039f"
             ],
             [
              0.2222222222222222,
              "#7201a8"
             ],
             [
              0.3333333333333333,
              "#9c179e"
             ],
             [
              0.4444444444444444,
              "#bd3786"
             ],
             [
              0.5555555555555556,
              "#d8576b"
             ],
             [
              0.6666666666666666,
              "#ed7953"
             ],
             [
              0.7777777777777778,
              "#fb9f3a"
             ],
             [
              0.8888888888888888,
              "#fdca26"
             ],
             [
              1,
              "#f0f921"
             ]
            ],
            "type": "histogram2d"
           }
          ],
          "histogram2dcontour": [
           {
            "colorbar": {
             "outlinewidth": 0,
             "ticks": ""
            },
            "colorscale": [
             [
              0,
              "#0d0887"
             ],
             [
              0.1111111111111111,
              "#46039f"
             ],
             [
              0.2222222222222222,
              "#7201a8"
             ],
             [
              0.3333333333333333,
              "#9c179e"
             ],
             [
              0.4444444444444444,
              "#bd3786"
             ],
             [
              0.5555555555555556,
              "#d8576b"
             ],
             [
              0.6666666666666666,
              "#ed7953"
             ],
             [
              0.7777777777777778,
              "#fb9f3a"
             ],
             [
              0.8888888888888888,
              "#fdca26"
             ],
             [
              1,
              "#f0f921"
             ]
            ],
            "type": "histogram2dcontour"
           }
          ],
          "mesh3d": [
           {
            "colorbar": {
             "outlinewidth": 0,
             "ticks": ""
            },
            "type": "mesh3d"
           }
          ],
          "parcoords": [
           {
            "line": {
             "colorbar": {
              "outlinewidth": 0,
              "ticks": ""
             }
            },
            "type": "parcoords"
           }
          ],
          "pie": [
           {
            "automargin": true,
            "type": "pie"
           }
          ],
          "scatter": [
           {
            "marker": {
             "colorbar": {
              "outlinewidth": 0,
              "ticks": ""
             }
            },
            "type": "scatter"
           }
          ],
          "scatter3d": [
           {
            "line": {
             "colorbar": {
              "outlinewidth": 0,
              "ticks": ""
             }
            },
            "marker": {
             "colorbar": {
              "outlinewidth": 0,
              "ticks": ""
             }
            },
            "type": "scatter3d"
           }
          ],
          "scattercarpet": [
           {
            "marker": {
             "colorbar": {
              "outlinewidth": 0,
              "ticks": ""
             }
            },
            "type": "scattercarpet"
           }
          ],
          "scattergeo": [
           {
            "marker": {
             "colorbar": {
              "outlinewidth": 0,
              "ticks": ""
             }
            },
            "type": "scattergeo"
           }
          ],
          "scattergl": [
           {
            "marker": {
             "colorbar": {
              "outlinewidth": 0,
              "ticks": ""
             }
            },
            "type": "scattergl"
           }
          ],
          "scattermapbox": [
           {
            "marker": {
             "colorbar": {
              "outlinewidth": 0,
              "ticks": ""
             }
            },
            "type": "scattermapbox"
           }
          ],
          "scatterpolar": [
           {
            "marker": {
             "colorbar": {
              "outlinewidth": 0,
              "ticks": ""
             }
            },
            "type": "scatterpolar"
           }
          ],
          "scatterpolargl": [
           {
            "marker": {
             "colorbar": {
              "outlinewidth": 0,
              "ticks": ""
             }
            },
            "type": "scatterpolargl"
           }
          ],
          "scatterternary": [
           {
            "marker": {
             "colorbar": {
              "outlinewidth": 0,
              "ticks": ""
             }
            },
            "type": "scatterternary"
           }
          ],
          "surface": [
           {
            "colorbar": {
             "outlinewidth": 0,
             "ticks": ""
            },
            "colorscale": [
             [
              0,
              "#0d0887"
             ],
             [
              0.1111111111111111,
              "#46039f"
             ],
             [
              0.2222222222222222,
              "#7201a8"
             ],
             [
              0.3333333333333333,
              "#9c179e"
             ],
             [
              0.4444444444444444,
              "#bd3786"
             ],
             [
              0.5555555555555556,
              "#d8576b"
             ],
             [
              0.6666666666666666,
              "#ed7953"
             ],
             [
              0.7777777777777778,
              "#fb9f3a"
             ],
             [
              0.8888888888888888,
              "#fdca26"
             ],
             [
              1,
              "#f0f921"
             ]
            ],
            "type": "surface"
           }
          ],
          "table": [
           {
            "cells": {
             "fill": {
              "color": "#EBF0F8"
             },
             "line": {
              "color": "white"
             }
            },
            "header": {
             "fill": {
              "color": "#C8D4E3"
             },
             "line": {
              "color": "white"
             }
            },
            "type": "table"
           }
          ]
         },
         "layout": {
          "annotationdefaults": {
           "arrowcolor": "#2a3f5f",
           "arrowhead": 0,
           "arrowwidth": 1
          },
          "autotypenumbers": "strict",
          "coloraxis": {
           "colorbar": {
            "outlinewidth": 0,
            "ticks": ""
           }
          },
          "colorscale": {
           "diverging": [
            [
             0,
             "#8e0152"
            ],
            [
             0.1,
             "#c51b7d"
            ],
            [
             0.2,
             "#de77ae"
            ],
            [
             0.3,
             "#f1b6da"
            ],
            [
             0.4,
             "#fde0ef"
            ],
            [
             0.5,
             "#f7f7f7"
            ],
            [
             0.6,
             "#e6f5d0"
            ],
            [
             0.7,
             "#b8e186"
            ],
            [
             0.8,
             "#7fbc41"
            ],
            [
             0.9,
             "#4d9221"
            ],
            [
             1,
             "#276419"
            ]
           ],
           "sequential": [
            [
             0,
             "#0d0887"
            ],
            [
             0.1111111111111111,
             "#46039f"
            ],
            [
             0.2222222222222222,
             "#7201a8"
            ],
            [
             0.3333333333333333,
             "#9c179e"
            ],
            [
             0.4444444444444444,
             "#bd3786"
            ],
            [
             0.5555555555555556,
             "#d8576b"
            ],
            [
             0.6666666666666666,
             "#ed7953"
            ],
            [
             0.7777777777777778,
             "#fb9f3a"
            ],
            [
             0.8888888888888888,
             "#fdca26"
            ],
            [
             1,
             "#f0f921"
            ]
           ],
           "sequentialminus": [
            [
             0,
             "#0d0887"
            ],
            [
             0.1111111111111111,
             "#46039f"
            ],
            [
             0.2222222222222222,
             "#7201a8"
            ],
            [
             0.3333333333333333,
             "#9c179e"
            ],
            [
             0.4444444444444444,
             "#bd3786"
            ],
            [
             0.5555555555555556,
             "#d8576b"
            ],
            [
             0.6666666666666666,
             "#ed7953"
            ],
            [
             0.7777777777777778,
             "#fb9f3a"
            ],
            [
             0.8888888888888888,
             "#fdca26"
            ],
            [
             1,
             "#f0f921"
            ]
           ]
          },
          "colorway": [
           "#636efa",
           "#EF553B",
           "#00cc96",
           "#ab63fa",
           "#FFA15A",
           "#19d3f3",
           "#FF6692",
           "#B6E880",
           "#FF97FF",
           "#FECB52"
          ],
          "font": {
           "color": "#2a3f5f"
          },
          "geo": {
           "bgcolor": "white",
           "lakecolor": "white",
           "landcolor": "#E5ECF6",
           "showlakes": true,
           "showland": true,
           "subunitcolor": "white"
          },
          "hoverlabel": {
           "align": "left"
          },
          "hovermode": "closest",
          "mapbox": {
           "style": "light"
          },
          "paper_bgcolor": "white",
          "plot_bgcolor": "#E5ECF6",
          "polar": {
           "angularaxis": {
            "gridcolor": "white",
            "linecolor": "white",
            "ticks": ""
           },
           "bgcolor": "#E5ECF6",
           "radialaxis": {
            "gridcolor": "white",
            "linecolor": "white",
            "ticks": ""
           }
          },
          "scene": {
           "xaxis": {
            "backgroundcolor": "#E5ECF6",
            "gridcolor": "white",
            "gridwidth": 2,
            "linecolor": "white",
            "showbackground": true,
            "ticks": "",
            "zerolinecolor": "white"
           },
           "yaxis": {
            "backgroundcolor": "#E5ECF6",
            "gridcolor": "white",
            "gridwidth": 2,
            "linecolor": "white",
            "showbackground": true,
            "ticks": "",
            "zerolinecolor": "white"
           },
           "zaxis": {
            "backgroundcolor": "#E5ECF6",
            "gridcolor": "white",
            "gridwidth": 2,
            "linecolor": "white",
            "showbackground": true,
            "ticks": "",
            "zerolinecolor": "white"
           }
          },
          "shapedefaults": {
           "line": {
            "color": "#2a3f5f"
           }
          },
          "ternary": {
           "aaxis": {
            "gridcolor": "white",
            "linecolor": "white",
            "ticks": ""
           },
           "baxis": {
            "gridcolor": "white",
            "linecolor": "white",
            "ticks": ""
           },
           "bgcolor": "#E5ECF6",
           "caxis": {
            "gridcolor": "white",
            "linecolor": "white",
            "ticks": ""
           }
          },
          "title": {
           "x": 0.05
          },
          "xaxis": {
           "automargin": true,
           "gridcolor": "white",
           "linecolor": "white",
           "ticks": "",
           "title": {
            "standoff": 15
           },
           "zerolinecolor": "white",
           "zerolinewidth": 2
          },
          "yaxis": {
           "automargin": true,
           "gridcolor": "white",
           "linecolor": "white",
           "ticks": "",
           "title": {
            "standoff": 15
           },
           "zerolinecolor": "white",
           "zerolinewidth": 2
          }
         }
        },
        "title": {
         "font": {
          "color": "#4D5663"
         }
        },
        "xaxis": {
         "gridcolor": "#E1E5ED",
         "showgrid": true,
         "tickfont": {
          "color": "#4D5663"
         },
         "title": {
          "font": {
           "color": "#4D5663"
          },
          "text": ""
         },
         "zerolinecolor": "#E1E5ED"
        },
        "yaxis": {
         "gridcolor": "#E1E5ED",
         "showgrid": true,
         "tickfont": {
          "color": "#4D5663"
         },
         "title": {
          "font": {
           "color": "#4D5663"
          },
          "text": ""
         },
         "zerolinecolor": "#E1E5ED"
        }
       }
      },
      "text/html": [
       "<div>                            <div id=\"7eeaccd2-7933-4d3b-bdb7-92b91e749363\" class=\"plotly-graph-div\" style=\"height:525px; width:100%;\"></div>            <script type=\"text/javascript\">                require([\"plotly\"], function(Plotly) {                    window.PLOTLYENV=window.PLOTLYENV || {};\n",
       "                    window.PLOTLYENV.BASE_URL='https://plot.ly';                                    if (document.getElementById(\"7eeaccd2-7933-4d3b-bdb7-92b91e749363\")) {                    Plotly.newPlot(                        \"7eeaccd2-7933-4d3b-bdb7-92b91e749363\",                        [{\"line\":{\"color\":\"rgba(255, 153, 51, 1.0)\",\"dash\":\"solid\",\"shape\":\"linear\",\"width\":1.3},\"marker\":{\"size\":5,\"symbol\":\"circle\"},\"mode\":\"markers\",\"name\":\"B\",\"text\":\"\",\"x\":[0.5745116639033776,0.9785972848361238,-0.46469597183700806,0.9184812368604616,0.5817003574663901,-0.8855551147163485,0.09441057738706614,1.7836130306849607,0.10863026996968499,1.655210904475645,0.30667166945281715,-1.476029094117104,0.799313372611074,-1.182350550952549,-1.6214507865494476,-0.42659969531808345,-0.3185300279638153,-1.3113068558963037,0.45441541274656017,-0.443448868043506,-0.3135832451503955,-0.07429059560938601,1.8304855967609228,-0.0713168342931115,0.8847741156048016,0.3452923952775951,0.5801132528806705,0.7624799832899686,0.3322130822954626,-0.14242422341213887,0.5869469207911738,0.6341426054564636,2.6938248204297524,0.8375677977573818,-0.2802251892428954,-0.5670142257178402,-0.8146887280907159,-0.6668992899757032,2.2222815451456523,-0.7833069320609886,0.9905961044054827,-0.3256149670770055,0.7365672470102214,-1.0926596097491235,1.1139787434940185,-0.6114157064105485,-0.450868606112402,-0.36872430246246546,-0.3249512173133247,2.1636131958285767,-0.75466909629134,-1.288377728305726,0.605480241918969,-1.7403342621117603,-0.5767090901550972,0.9862116910360376,-0.07369698703587212,0.20182496138164546,-1.2045105548068864,-0.7002951860185551,-0.5703494211401896,-0.68009580336817,0.6916715289142051,0.27340901129917644,-0.29035920152335515,0.2852039886179615,0.7133312233350243,-0.91547252184514,0.28003515738276347,1.4923423101747046,-0.027191134486079134,1.6319337877418953,-1.3711337986599788,-0.8071766479811399,1.318813382305548,-0.10012598881905053,0.46188415018899753,-0.04060855731254377,2.087349678948209,-0.7295423629444664,-1.465500164221751,0.7008696270372898,-1.7579283442082925,-1.7328437612335499,0.5294871189749688,1.43612734612469,0.04680259369241339,-1.3526150222323468,0.6582598167822007,-1.9950013095935213,0.4033083680452155,0.8175282263646728,0.07014198917232728,0.43828413155616214,0.24968000311555905,-0.387429824957257,-0.031778227882134205,-0.8623267915106497,-0.953740984431478,-0.05445983399194409],\"y\":[0.3484717820327838,0.5039583742528283,-0.9990150314466602,0.604350440733284,0.16033161362756743,1.060326634828224,0.5691134915340805,-0.902432065184702,-0.0009131599102196734,0.09740491055972142,-1.4180894025378805,-0.1803668008622408,-1.7737974336650428,-0.6506678065802198,0.8841075279030496,-0.5049945854318697,0.7239937184181856,-1.4383931275209565,0.8453066301750151,0.34762005674502483,2.0400388372549223,-2.157315730611294,0.2209478364340322,1.802311901385443,3.3671102200760767,-1.7890851153801186,0.8635998111125606,0.04538181554622621,-0.8768539270570925,-1.1561098530930023,0.469769961263792,0.10483776806045433,1.1257947743633177,-3.1103162481128477,-0.3935244258767791,-0.07811839656271094,-1.0693390703646042,0.7577788997522897,0.8548256973784643,-0.7227486071850662,0.12621136521701642,-1.5686850089516764,2.3752191234886935,1.4117382899520032,-0.06966122654057275,-0.2222910739555117,0.6192503527480322,-0.008653601175503829,1.155008140394314,1.1213681767834516,0.6227605959154743,3.0697752847408153,-0.7300573613661158,0.13952947626816217,-1.9619353983439314,0.701911922424966,-0.5785472608072868,0.904956567921151,-0.9164830751388292,2.072689928015543,-1.266120789293466,-1.3461698573203658,-1.5214579615650425,-0.5072045185877293,-0.7444078207165821,2.104810542954587,-0.5768261503583167,2.6776643429524682,-2.3662353087503725,0.8183446525143931,0.7134885860563976,1.0906029212725172,-0.7230975990475973,0.03037479719875758,-0.28281776746578247,-2.507508618860443,-1.5149956387038264,0.2410973606292827,0.6497788978731519,-0.6259518762684783,0.48969228635237555,-0.2923666080038938,-0.3205481507170632,-0.43491892684007843,0.7769155155258977,-0.8411034149662258,-0.5552018807643755,-0.2920563678052631,1.7897545559348271,0.2610504779580989,-1.4069427847349,-1.9312946429450102,-0.25086161419952285,3.056499097584156,-0.1159568138865182,0.5182386214901665,-1.1810581543932195,0.38615617047610795,0.5564841086303987,-1.2559280625325615],\"type\":\"scatter\"}],                        {\"legend\":{\"bgcolor\":\"#F5F6F9\",\"font\":{\"color\":\"#4D5663\"}},\"paper_bgcolor\":\"#F5F6F9\",\"plot_bgcolor\":\"#F5F6F9\",\"template\":{\"data\":{\"barpolar\":[{\"marker\":{\"line\":{\"color\":\"#E5ECF6\",\"width\":0.5},\"pattern\":{\"fillmode\":\"overlay\",\"size\":10,\"solidity\":0.2}},\"type\":\"barpolar\"}],\"bar\":[{\"error_x\":{\"color\":\"#2a3f5f\"},\"error_y\":{\"color\":\"#2a3f5f\"},\"marker\":{\"line\":{\"color\":\"#E5ECF6\",\"width\":0.5},\"pattern\":{\"fillmode\":\"overlay\",\"size\":10,\"solidity\":0.2}},\"type\":\"bar\"}],\"carpet\":[{\"aaxis\":{\"endlinecolor\":\"#2a3f5f\",\"gridcolor\":\"white\",\"linecolor\":\"white\",\"minorgridcolor\":\"white\",\"startlinecolor\":\"#2a3f5f\"},\"baxis\":{\"endlinecolor\":\"#2a3f5f\",\"gridcolor\":\"white\",\"linecolor\":\"white\",\"minorgridcolor\":\"white\",\"startlinecolor\":\"#2a3f5f\"},\"type\":\"carpet\"}],\"choropleth\":[{\"colorbar\":{\"outlinewidth\":0,\"ticks\":\"\"},\"type\":\"choropleth\"}],\"contourcarpet\":[{\"colorbar\":{\"outlinewidth\":0,\"ticks\":\"\"},\"type\":\"contourcarpet\"}],\"contour\":[{\"colorbar\":{\"outlinewidth\":0,\"ticks\":\"\"},\"colorscale\":[[0.0,\"#0d0887\"],[0.1111111111111111,\"#46039f\"],[0.2222222222222222,\"#7201a8\"],[0.3333333333333333,\"#9c179e\"],[0.4444444444444444,\"#bd3786\"],[0.5555555555555556,\"#d8576b\"],[0.6666666666666666,\"#ed7953\"],[0.7777777777777778,\"#fb9f3a\"],[0.8888888888888888,\"#fdca26\"],[1.0,\"#f0f921\"]],\"type\":\"contour\"}],\"heatmapgl\":[{\"colorbar\":{\"outlinewidth\":0,\"ticks\":\"\"},\"colorscale\":[[0.0,\"#0d0887\"],[0.1111111111111111,\"#46039f\"],[0.2222222222222222,\"#7201a8\"],[0.3333333333333333,\"#9c179e\"],[0.4444444444444444,\"#bd3786\"],[0.5555555555555556,\"#d8576b\"],[0.6666666666666666,\"#ed7953\"],[0.7777777777777778,\"#fb9f3a\"],[0.8888888888888888,\"#fdca26\"],[1.0,\"#f0f921\"]],\"type\":\"heatmapgl\"}],\"heatmap\":[{\"colorbar\":{\"outlinewidth\":0,\"ticks\":\"\"},\"colorscale\":[[0.0,\"#0d0887\"],[0.1111111111111111,\"#46039f\"],[0.2222222222222222,\"#7201a8\"],[0.3333333333333333,\"#9c179e\"],[0.4444444444444444,\"#bd3786\"],[0.5555555555555556,\"#d8576b\"],[0.6666666666666666,\"#ed7953\"],[0.7777777777777778,\"#fb9f3a\"],[0.8888888888888888,\"#fdca26\"],[1.0,\"#f0f921\"]],\"type\":\"heatmap\"}],\"histogram2dcontour\":[{\"colorbar\":{\"outlinewidth\":0,\"ticks\":\"\"},\"colorscale\":[[0.0,\"#0d0887\"],[0.1111111111111111,\"#46039f\"],[0.2222222222222222,\"#7201a8\"],[0.3333333333333333,\"#9c179e\"],[0.4444444444444444,\"#bd3786\"],[0.5555555555555556,\"#d8576b\"],[0.6666666666666666,\"#ed7953\"],[0.7777777777777778,\"#fb9f3a\"],[0.8888888888888888,\"#fdca26\"],[1.0,\"#f0f921\"]],\"type\":\"histogram2dcontour\"}],\"histogram2d\":[{\"colorbar\":{\"outlinewidth\":0,\"ticks\":\"\"},\"colorscale\":[[0.0,\"#0d0887\"],[0.1111111111111111,\"#46039f\"],[0.2222222222222222,\"#7201a8\"],[0.3333333333333333,\"#9c179e\"],[0.4444444444444444,\"#bd3786\"],[0.5555555555555556,\"#d8576b\"],[0.6666666666666666,\"#ed7953\"],[0.7777777777777778,\"#fb9f3a\"],[0.8888888888888888,\"#fdca26\"],[1.0,\"#f0f921\"]],\"type\":\"histogram2d\"}],\"histogram\":[{\"marker\":{\"pattern\":{\"fillmode\":\"overlay\",\"size\":10,\"solidity\":0.2}},\"type\":\"histogram\"}],\"mesh3d\":[{\"colorbar\":{\"outlinewidth\":0,\"ticks\":\"\"},\"type\":\"mesh3d\"}],\"parcoords\":[{\"line\":{\"colorbar\":{\"outlinewidth\":0,\"ticks\":\"\"}},\"type\":\"parcoords\"}],\"pie\":[{\"automargin\":true,\"type\":\"pie\"}],\"scatter3d\":[{\"line\":{\"colorbar\":{\"outlinewidth\":0,\"ticks\":\"\"}},\"marker\":{\"colorbar\":{\"outlinewidth\":0,\"ticks\":\"\"}},\"type\":\"scatter3d\"}],\"scattercarpet\":[{\"marker\":{\"colorbar\":{\"outlinewidth\":0,\"ticks\":\"\"}},\"type\":\"scattercarpet\"}],\"scattergeo\":[{\"marker\":{\"colorbar\":{\"outlinewidth\":0,\"ticks\":\"\"}},\"type\":\"scattergeo\"}],\"scattergl\":[{\"marker\":{\"colorbar\":{\"outlinewidth\":0,\"ticks\":\"\"}},\"type\":\"scattergl\"}],\"scattermapbox\":[{\"marker\":{\"colorbar\":{\"outlinewidth\":0,\"ticks\":\"\"}},\"type\":\"scattermapbox\"}],\"scatterpolargl\":[{\"marker\":{\"colorbar\":{\"outlinewidth\":0,\"ticks\":\"\"}},\"type\":\"scatterpolargl\"}],\"scatterpolar\":[{\"marker\":{\"colorbar\":{\"outlinewidth\":0,\"ticks\":\"\"}},\"type\":\"scatterpolar\"}],\"scatter\":[{\"marker\":{\"colorbar\":{\"outlinewidth\":0,\"ticks\":\"\"}},\"type\":\"scatter\"}],\"scatterternary\":[{\"marker\":{\"colorbar\":{\"outlinewidth\":0,\"ticks\":\"\"}},\"type\":\"scatterternary\"}],\"surface\":[{\"colorbar\":{\"outlinewidth\":0,\"ticks\":\"\"},\"colorscale\":[[0.0,\"#0d0887\"],[0.1111111111111111,\"#46039f\"],[0.2222222222222222,\"#7201a8\"],[0.3333333333333333,\"#9c179e\"],[0.4444444444444444,\"#bd3786\"],[0.5555555555555556,\"#d8576b\"],[0.6666666666666666,\"#ed7953\"],[0.7777777777777778,\"#fb9f3a\"],[0.8888888888888888,\"#fdca26\"],[1.0,\"#f0f921\"]],\"type\":\"surface\"}],\"table\":[{\"cells\":{\"fill\":{\"color\":\"#EBF0F8\"},\"line\":{\"color\":\"white\"}},\"header\":{\"fill\":{\"color\":\"#C8D4E3\"},\"line\":{\"color\":\"white\"}},\"type\":\"table\"}]},\"layout\":{\"annotationdefaults\":{\"arrowcolor\":\"#2a3f5f\",\"arrowhead\":0,\"arrowwidth\":1},\"autotypenumbers\":\"strict\",\"coloraxis\":{\"colorbar\":{\"outlinewidth\":0,\"ticks\":\"\"}},\"colorscale\":{\"diverging\":[[0,\"#8e0152\"],[0.1,\"#c51b7d\"],[0.2,\"#de77ae\"],[0.3,\"#f1b6da\"],[0.4,\"#fde0ef\"],[0.5,\"#f7f7f7\"],[0.6,\"#e6f5d0\"],[0.7,\"#b8e186\"],[0.8,\"#7fbc41\"],[0.9,\"#4d9221\"],[1,\"#276419\"]],\"sequential\":[[0.0,\"#0d0887\"],[0.1111111111111111,\"#46039f\"],[0.2222222222222222,\"#7201a8\"],[0.3333333333333333,\"#9c179e\"],[0.4444444444444444,\"#bd3786\"],[0.5555555555555556,\"#d8576b\"],[0.6666666666666666,\"#ed7953\"],[0.7777777777777778,\"#fb9f3a\"],[0.8888888888888888,\"#fdca26\"],[1.0,\"#f0f921\"]],\"sequentialminus\":[[0.0,\"#0d0887\"],[0.1111111111111111,\"#46039f\"],[0.2222222222222222,\"#7201a8\"],[0.3333333333333333,\"#9c179e\"],[0.4444444444444444,\"#bd3786\"],[0.5555555555555556,\"#d8576b\"],[0.6666666666666666,\"#ed7953\"],[0.7777777777777778,\"#fb9f3a\"],[0.8888888888888888,\"#fdca26\"],[1.0,\"#f0f921\"]]},\"colorway\":[\"#636efa\",\"#EF553B\",\"#00cc96\",\"#ab63fa\",\"#FFA15A\",\"#19d3f3\",\"#FF6692\",\"#B6E880\",\"#FF97FF\",\"#FECB52\"],\"font\":{\"color\":\"#2a3f5f\"},\"geo\":{\"bgcolor\":\"white\",\"lakecolor\":\"white\",\"landcolor\":\"#E5ECF6\",\"showlakes\":true,\"showland\":true,\"subunitcolor\":\"white\"},\"hoverlabel\":{\"align\":\"left\"},\"hovermode\":\"closest\",\"mapbox\":{\"style\":\"light\"},\"paper_bgcolor\":\"white\",\"plot_bgcolor\":\"#E5ECF6\",\"polar\":{\"angularaxis\":{\"gridcolor\":\"white\",\"linecolor\":\"white\",\"ticks\":\"\"},\"bgcolor\":\"#E5ECF6\",\"radialaxis\":{\"gridcolor\":\"white\",\"linecolor\":\"white\",\"ticks\":\"\"}},\"scene\":{\"xaxis\":{\"backgroundcolor\":\"#E5ECF6\",\"gridcolor\":\"white\",\"gridwidth\":2,\"linecolor\":\"white\",\"showbackground\":true,\"ticks\":\"\",\"zerolinecolor\":\"white\"},\"yaxis\":{\"backgroundcolor\":\"#E5ECF6\",\"gridcolor\":\"white\",\"gridwidth\":2,\"linecolor\":\"white\",\"showbackground\":true,\"ticks\":\"\",\"zerolinecolor\":\"white\"},\"zaxis\":{\"backgroundcolor\":\"#E5ECF6\",\"gridcolor\":\"white\",\"gridwidth\":2,\"linecolor\":\"white\",\"showbackground\":true,\"ticks\":\"\",\"zerolinecolor\":\"white\"}},\"shapedefaults\":{\"line\":{\"color\":\"#2a3f5f\"}},\"ternary\":{\"aaxis\":{\"gridcolor\":\"white\",\"linecolor\":\"white\",\"ticks\":\"\"},\"baxis\":{\"gridcolor\":\"white\",\"linecolor\":\"white\",\"ticks\":\"\"},\"bgcolor\":\"#E5ECF6\",\"caxis\":{\"gridcolor\":\"white\",\"linecolor\":\"white\",\"ticks\":\"\"}},\"title\":{\"x\":0.05},\"xaxis\":{\"automargin\":true,\"gridcolor\":\"white\",\"linecolor\":\"white\",\"ticks\":\"\",\"title\":{\"standoff\":15},\"zerolinecolor\":\"white\",\"zerolinewidth\":2},\"yaxis\":{\"automargin\":true,\"gridcolor\":\"white\",\"linecolor\":\"white\",\"ticks\":\"\",\"title\":{\"standoff\":15},\"zerolinecolor\":\"white\",\"zerolinewidth\":2}}},\"title\":{\"font\":{\"color\":\"#4D5663\"}},\"xaxis\":{\"gridcolor\":\"#E1E5ED\",\"showgrid\":true,\"tickfont\":{\"color\":\"#4D5663\"},\"title\":{\"font\":{\"color\":\"#4D5663\"},\"text\":\"\"},\"zerolinecolor\":\"#E1E5ED\"},\"yaxis\":{\"gridcolor\":\"#E1E5ED\",\"showgrid\":true,\"tickfont\":{\"color\":\"#4D5663\"},\"title\":{\"font\":{\"color\":\"#4D5663\"},\"text\":\"\"},\"zerolinecolor\":\"#E1E5ED\"}},                        {\"showLink\": true, \"linkText\": \"Export to plot.ly\", \"plotlyServerURL\": \"https://plot.ly\", \"responsive\": true}                    ).then(function(){\n",
       "                            \n",
       "var gd = document.getElementById('7eeaccd2-7933-4d3b-bdb7-92b91e749363');\n",
       "var x = new MutationObserver(function (mutations, observer) {{\n",
       "        var display = window.getComputedStyle(gd).display;\n",
       "        if (!display || display === 'none') {{\n",
       "            console.log([gd, 'removed!']);\n",
       "            Plotly.purge(gd);\n",
       "            observer.disconnect();\n",
       "        }}\n",
       "}});\n",
       "\n",
       "// Listen for the removal of the full notebook cells\n",
       "var notebookContainer = gd.closest('#notebook-container');\n",
       "if (notebookContainer) {{\n",
       "    x.observe(notebookContainer, {childList: true});\n",
       "}}\n",
       "\n",
       "// Listen for the clearing of the current output cell\n",
       "var outputEl = gd.closest('.output');\n",
       "if (outputEl) {{\n",
       "    x.observe(outputEl, {childList: true});\n",
       "}}\n",
       "\n",
       "                        })                };                });            </script>        </div>"
      ]
     },
     "metadata": {},
     "output_type": "display_data"
    }
   ],
   "source": [
    "df.iplot(x=\"A\",y=\"B\",kind=\"scatter\",mode=\"markers\",size=5)"
   ]
  },
  {
   "cell_type": "code",
   "execution_count": 30,
   "id": "801d1305",
   "metadata": {},
   "outputs": [
    {
     "ename": "SyntaxError",
     "evalue": "invalid syntax (<ipython-input-30-75707b92f658>, line 1)",
     "output_type": "error",
     "traceback": [
      "\u001b[1;36m  File \u001b[1;32m\"<ipython-input-30-75707b92f658>\"\u001b[1;36m, line \u001b[1;32m1\u001b[0m\n\u001b[1;33m    df2=pd.DataFrame([\"categories\":[\"A\",\"B\",\"C\"],\"values\":[12,23,34]])\u001b[0m\n\u001b[1;37m                                  ^\u001b[0m\n\u001b[1;31mSyntaxError\u001b[0m\u001b[1;31m:\u001b[0m invalid syntax\n"
     ]
    }
   ],
   "source": [
    "df2=pd.DataFrame([\"categories\":[\"A\",\"B\",\"C\"],\"values\":[12,23,34]])\n",
    "df2"
   ]
  },
  {
   "cell_type": "code",
   "execution_count": 31,
   "id": "cdda53f1",
   "metadata": {},
   "outputs": [
    {
     "ename": "SyntaxError",
     "evalue": "invalid syntax (<ipython-input-31-842f5a6cfae8>, line 1)",
     "output_type": "error",
     "traceback": [
      "\u001b[1;36m  File \u001b[1;32m\"<ipython-input-31-842f5a6cfae8>\"\u001b[1;36m, line \u001b[1;32m1\u001b[0m\n\u001b[1;33m    df2.iplot(x=)\u001b[0m\n\u001b[1;37m                ^\u001b[0m\n\u001b[1;31mSyntaxError\u001b[0m\u001b[1;31m:\u001b[0m invalid syntax\n"
     ]
    }
   ],
   "source": [
    "df2.iplot(x=)"
   ]
  },
  {
   "cell_type": "code",
   "execution_count": 32,
   "id": "f001c4ef",
   "metadata": {},
   "outputs": [
    {
     "data": {
      "application/vnd.plotly.v1+json": {
       "config": {
        "linkText": "Export to plot.ly",
        "plotlyServerURL": "https://plot.ly",
        "showLink": true
       },
       "data": [
        {
         "marker": {
          "color": "rgba(255, 153, 51, 0.6)",
          "line": {
           "color": "rgba(255, 153, 51, 1.0)",
           "width": 1
          }
         },
         "name": "None",
         "orientation": "v",
         "text": "",
         "type": "bar",
         "x": [
          "A",
          "B",
          "C",
          "D"
         ],
         "y": [
          3.868190275792462,
          0.13932874032118314,
          0.24194228887827118,
          -5.441408645091029
         ]
        }
       ],
       "layout": {
        "legend": {
         "bgcolor": "#F5F6F9",
         "font": {
          "color": "#4D5663"
         }
        },
        "paper_bgcolor": "#F5F6F9",
        "plot_bgcolor": "#F5F6F9",
        "template": {
         "data": {
          "bar": [
           {
            "error_x": {
             "color": "#2a3f5f"
            },
            "error_y": {
             "color": "#2a3f5f"
            },
            "marker": {
             "line": {
              "color": "#E5ECF6",
              "width": 0.5
             },
             "pattern": {
              "fillmode": "overlay",
              "size": 10,
              "solidity": 0.2
             }
            },
            "type": "bar"
           }
          ],
          "barpolar": [
           {
            "marker": {
             "line": {
              "color": "#E5ECF6",
              "width": 0.5
             },
             "pattern": {
              "fillmode": "overlay",
              "size": 10,
              "solidity": 0.2
             }
            },
            "type": "barpolar"
           }
          ],
          "carpet": [
           {
            "aaxis": {
             "endlinecolor": "#2a3f5f",
             "gridcolor": "white",
             "linecolor": "white",
             "minorgridcolor": "white",
             "startlinecolor": "#2a3f5f"
            },
            "baxis": {
             "endlinecolor": "#2a3f5f",
             "gridcolor": "white",
             "linecolor": "white",
             "minorgridcolor": "white",
             "startlinecolor": "#2a3f5f"
            },
            "type": "carpet"
           }
          ],
          "choropleth": [
           {
            "colorbar": {
             "outlinewidth": 0,
             "ticks": ""
            },
            "type": "choropleth"
           }
          ],
          "contour": [
           {
            "colorbar": {
             "outlinewidth": 0,
             "ticks": ""
            },
            "colorscale": [
             [
              0,
              "#0d0887"
             ],
             [
              0.1111111111111111,
              "#46039f"
             ],
             [
              0.2222222222222222,
              "#7201a8"
             ],
             [
              0.3333333333333333,
              "#9c179e"
             ],
             [
              0.4444444444444444,
              "#bd3786"
             ],
             [
              0.5555555555555556,
              "#d8576b"
             ],
             [
              0.6666666666666666,
              "#ed7953"
             ],
             [
              0.7777777777777778,
              "#fb9f3a"
             ],
             [
              0.8888888888888888,
              "#fdca26"
             ],
             [
              1,
              "#f0f921"
             ]
            ],
            "type": "contour"
           }
          ],
          "contourcarpet": [
           {
            "colorbar": {
             "outlinewidth": 0,
             "ticks": ""
            },
            "type": "contourcarpet"
           }
          ],
          "heatmap": [
           {
            "colorbar": {
             "outlinewidth": 0,
             "ticks": ""
            },
            "colorscale": [
             [
              0,
              "#0d0887"
             ],
             [
              0.1111111111111111,
              "#46039f"
             ],
             [
              0.2222222222222222,
              "#7201a8"
             ],
             [
              0.3333333333333333,
              "#9c179e"
             ],
             [
              0.4444444444444444,
              "#bd3786"
             ],
             [
              0.5555555555555556,
              "#d8576b"
             ],
             [
              0.6666666666666666,
              "#ed7953"
             ],
             [
              0.7777777777777778,
              "#fb9f3a"
             ],
             [
              0.8888888888888888,
              "#fdca26"
             ],
             [
              1,
              "#f0f921"
             ]
            ],
            "type": "heatmap"
           }
          ],
          "heatmapgl": [
           {
            "colorbar": {
             "outlinewidth": 0,
             "ticks": ""
            },
            "colorscale": [
             [
              0,
              "#0d0887"
             ],
             [
              0.1111111111111111,
              "#46039f"
             ],
             [
              0.2222222222222222,
              "#7201a8"
             ],
             [
              0.3333333333333333,
              "#9c179e"
             ],
             [
              0.4444444444444444,
              "#bd3786"
             ],
             [
              0.5555555555555556,
              "#d8576b"
             ],
             [
              0.6666666666666666,
              "#ed7953"
             ],
             [
              0.7777777777777778,
              "#fb9f3a"
             ],
             [
              0.8888888888888888,
              "#fdca26"
             ],
             [
              1,
              "#f0f921"
             ]
            ],
            "type": "heatmapgl"
           }
          ],
          "histogram": [
           {
            "marker": {
             "pattern": {
              "fillmode": "overlay",
              "size": 10,
              "solidity": 0.2
             }
            },
            "type": "histogram"
           }
          ],
          "histogram2d": [
           {
            "colorbar": {
             "outlinewidth": 0,
             "ticks": ""
            },
            "colorscale": [
             [
              0,
              "#0d0887"
             ],
             [
              0.1111111111111111,
              "#46039f"
             ],
             [
              0.2222222222222222,
              "#7201a8"
             ],
             [
              0.3333333333333333,
              "#9c179e"
             ],
             [
              0.4444444444444444,
              "#bd3786"
             ],
             [
              0.5555555555555556,
              "#d8576b"
             ],
             [
              0.6666666666666666,
              "#ed7953"
             ],
             [
              0.7777777777777778,
              "#fb9f3a"
             ],
             [
              0.8888888888888888,
              "#fdca26"
             ],
             [
              1,
              "#f0f921"
             ]
            ],
            "type": "histogram2d"
           }
          ],
          "histogram2dcontour": [
           {
            "colorbar": {
             "outlinewidth": 0,
             "ticks": ""
            },
            "colorscale": [
             [
              0,
              "#0d0887"
             ],
             [
              0.1111111111111111,
              "#46039f"
             ],
             [
              0.2222222222222222,
              "#7201a8"
             ],
             [
              0.3333333333333333,
              "#9c179e"
             ],
             [
              0.4444444444444444,
              "#bd3786"
             ],
             [
              0.5555555555555556,
              "#d8576b"
             ],
             [
              0.6666666666666666,
              "#ed7953"
             ],
             [
              0.7777777777777778,
              "#fb9f3a"
             ],
             [
              0.8888888888888888,
              "#fdca26"
             ],
             [
              1,
              "#f0f921"
             ]
            ],
            "type": "histogram2dcontour"
           }
          ],
          "mesh3d": [
           {
            "colorbar": {
             "outlinewidth": 0,
             "ticks": ""
            },
            "type": "mesh3d"
           }
          ],
          "parcoords": [
           {
            "line": {
             "colorbar": {
              "outlinewidth": 0,
              "ticks": ""
             }
            },
            "type": "parcoords"
           }
          ],
          "pie": [
           {
            "automargin": true,
            "type": "pie"
           }
          ],
          "scatter": [
           {
            "marker": {
             "colorbar": {
              "outlinewidth": 0,
              "ticks": ""
             }
            },
            "type": "scatter"
           }
          ],
          "scatter3d": [
           {
            "line": {
             "colorbar": {
              "outlinewidth": 0,
              "ticks": ""
             }
            },
            "marker": {
             "colorbar": {
              "outlinewidth": 0,
              "ticks": ""
             }
            },
            "type": "scatter3d"
           }
          ],
          "scattercarpet": [
           {
            "marker": {
             "colorbar": {
              "outlinewidth": 0,
              "ticks": ""
             }
            },
            "type": "scattercarpet"
           }
          ],
          "scattergeo": [
           {
            "marker": {
             "colorbar": {
              "outlinewidth": 0,
              "ticks": ""
             }
            },
            "type": "scattergeo"
           }
          ],
          "scattergl": [
           {
            "marker": {
             "colorbar": {
              "outlinewidth": 0,
              "ticks": ""
             }
            },
            "type": "scattergl"
           }
          ],
          "scattermapbox": [
           {
            "marker": {
             "colorbar": {
              "outlinewidth": 0,
              "ticks": ""
             }
            },
            "type": "scattermapbox"
           }
          ],
          "scatterpolar": [
           {
            "marker": {
             "colorbar": {
              "outlinewidth": 0,
              "ticks": ""
             }
            },
            "type": "scatterpolar"
           }
          ],
          "scatterpolargl": [
           {
            "marker": {
             "colorbar": {
              "outlinewidth": 0,
              "ticks": ""
             }
            },
            "type": "scatterpolargl"
           }
          ],
          "scatterternary": [
           {
            "marker": {
             "colorbar": {
              "outlinewidth": 0,
              "ticks": ""
             }
            },
            "type": "scatterternary"
           }
          ],
          "surface": [
           {
            "colorbar": {
             "outlinewidth": 0,
             "ticks": ""
            },
            "colorscale": [
             [
              0,
              "#0d0887"
             ],
             [
              0.1111111111111111,
              "#46039f"
             ],
             [
              0.2222222222222222,
              "#7201a8"
             ],
             [
              0.3333333333333333,
              "#9c179e"
             ],
             [
              0.4444444444444444,
              "#bd3786"
             ],
             [
              0.5555555555555556,
              "#d8576b"
             ],
             [
              0.6666666666666666,
              "#ed7953"
             ],
             [
              0.7777777777777778,
              "#fb9f3a"
             ],
             [
              0.8888888888888888,
              "#fdca26"
             ],
             [
              1,
              "#f0f921"
             ]
            ],
            "type": "surface"
           }
          ],
          "table": [
           {
            "cells": {
             "fill": {
              "color": "#EBF0F8"
             },
             "line": {
              "color": "white"
             }
            },
            "header": {
             "fill": {
              "color": "#C8D4E3"
             },
             "line": {
              "color": "white"
             }
            },
            "type": "table"
           }
          ]
         },
         "layout": {
          "annotationdefaults": {
           "arrowcolor": "#2a3f5f",
           "arrowhead": 0,
           "arrowwidth": 1
          },
          "autotypenumbers": "strict",
          "coloraxis": {
           "colorbar": {
            "outlinewidth": 0,
            "ticks": ""
           }
          },
          "colorscale": {
           "diverging": [
            [
             0,
             "#8e0152"
            ],
            [
             0.1,
             "#c51b7d"
            ],
            [
             0.2,
             "#de77ae"
            ],
            [
             0.3,
             "#f1b6da"
            ],
            [
             0.4,
             "#fde0ef"
            ],
            [
             0.5,
             "#f7f7f7"
            ],
            [
             0.6,
             "#e6f5d0"
            ],
            [
             0.7,
             "#b8e186"
            ],
            [
             0.8,
             "#7fbc41"
            ],
            [
             0.9,
             "#4d9221"
            ],
            [
             1,
             "#276419"
            ]
           ],
           "sequential": [
            [
             0,
             "#0d0887"
            ],
            [
             0.1111111111111111,
             "#46039f"
            ],
            [
             0.2222222222222222,
             "#7201a8"
            ],
            [
             0.3333333333333333,
             "#9c179e"
            ],
            [
             0.4444444444444444,
             "#bd3786"
            ],
            [
             0.5555555555555556,
             "#d8576b"
            ],
            [
             0.6666666666666666,
             "#ed7953"
            ],
            [
             0.7777777777777778,
             "#fb9f3a"
            ],
            [
             0.8888888888888888,
             "#fdca26"
            ],
            [
             1,
             "#f0f921"
            ]
           ],
           "sequentialminus": [
            [
             0,
             "#0d0887"
            ],
            [
             0.1111111111111111,
             "#46039f"
            ],
            [
             0.2222222222222222,
             "#7201a8"
            ],
            [
             0.3333333333333333,
             "#9c179e"
            ],
            [
             0.4444444444444444,
             "#bd3786"
            ],
            [
             0.5555555555555556,
             "#d8576b"
            ],
            [
             0.6666666666666666,
             "#ed7953"
            ],
            [
             0.7777777777777778,
             "#fb9f3a"
            ],
            [
             0.8888888888888888,
             "#fdca26"
            ],
            [
             1,
             "#f0f921"
            ]
           ]
          },
          "colorway": [
           "#636efa",
           "#EF553B",
           "#00cc96",
           "#ab63fa",
           "#FFA15A",
           "#19d3f3",
           "#FF6692",
           "#B6E880",
           "#FF97FF",
           "#FECB52"
          ],
          "font": {
           "color": "#2a3f5f"
          },
          "geo": {
           "bgcolor": "white",
           "lakecolor": "white",
           "landcolor": "#E5ECF6",
           "showlakes": true,
           "showland": true,
           "subunitcolor": "white"
          },
          "hoverlabel": {
           "align": "left"
          },
          "hovermode": "closest",
          "mapbox": {
           "style": "light"
          },
          "paper_bgcolor": "white",
          "plot_bgcolor": "#E5ECF6",
          "polar": {
           "angularaxis": {
            "gridcolor": "white",
            "linecolor": "white",
            "ticks": ""
           },
           "bgcolor": "#E5ECF6",
           "radialaxis": {
            "gridcolor": "white",
            "linecolor": "white",
            "ticks": ""
           }
          },
          "scene": {
           "xaxis": {
            "backgroundcolor": "#E5ECF6",
            "gridcolor": "white",
            "gridwidth": 2,
            "linecolor": "white",
            "showbackground": true,
            "ticks": "",
            "zerolinecolor": "white"
           },
           "yaxis": {
            "backgroundcolor": "#E5ECF6",
            "gridcolor": "white",
            "gridwidth": 2,
            "linecolor": "white",
            "showbackground": true,
            "ticks": "",
            "zerolinecolor": "white"
           },
           "zaxis": {
            "backgroundcolor": "#E5ECF6",
            "gridcolor": "white",
            "gridwidth": 2,
            "linecolor": "white",
            "showbackground": true,
            "ticks": "",
            "zerolinecolor": "white"
           }
          },
          "shapedefaults": {
           "line": {
            "color": "#2a3f5f"
           }
          },
          "ternary": {
           "aaxis": {
            "gridcolor": "white",
            "linecolor": "white",
            "ticks": ""
           },
           "baxis": {
            "gridcolor": "white",
            "linecolor": "white",
            "ticks": ""
           },
           "bgcolor": "#E5ECF6",
           "caxis": {
            "gridcolor": "white",
            "linecolor": "white",
            "ticks": ""
           }
          },
          "title": {
           "x": 0.05
          },
          "xaxis": {
           "automargin": true,
           "gridcolor": "white",
           "linecolor": "white",
           "ticks": "",
           "title": {
            "standoff": 15
           },
           "zerolinecolor": "white",
           "zerolinewidth": 2
          },
          "yaxis": {
           "automargin": true,
           "gridcolor": "white",
           "linecolor": "white",
           "ticks": "",
           "title": {
            "standoff": 15
           },
           "zerolinecolor": "white",
           "zerolinewidth": 2
          }
         }
        },
        "title": {
         "font": {
          "color": "#4D5663"
         }
        },
        "xaxis": {
         "gridcolor": "#E1E5ED",
         "showgrid": true,
         "tickfont": {
          "color": "#4D5663"
         },
         "title": {
          "font": {
           "color": "#4D5663"
          },
          "text": ""
         },
         "zerolinecolor": "#E1E5ED"
        },
        "yaxis": {
         "gridcolor": "#E1E5ED",
         "showgrid": true,
         "tickfont": {
          "color": "#4D5663"
         },
         "title": {
          "font": {
           "color": "#4D5663"
          },
          "text": ""
         },
         "zerolinecolor": "#E1E5ED"
        }
       }
      },
      "text/html": [
       "<div>                            <div id=\"4f2038ca-158e-4edd-8b79-53401baf2716\" class=\"plotly-graph-div\" style=\"height:525px; width:100%;\"></div>            <script type=\"text/javascript\">                require([\"plotly\"], function(Plotly) {                    window.PLOTLYENV=window.PLOTLYENV || {};\n",
       "                    window.PLOTLYENV.BASE_URL='https://plot.ly';                                    if (document.getElementById(\"4f2038ca-158e-4edd-8b79-53401baf2716\")) {                    Plotly.newPlot(                        \"4f2038ca-158e-4edd-8b79-53401baf2716\",                        [{\"marker\":{\"color\":\"rgba(255, 153, 51, 0.6)\",\"line\":{\"color\":\"rgba(255, 153, 51, 1.0)\",\"width\":1}},\"name\":\"None\",\"orientation\":\"v\",\"text\":\"\",\"x\":[\"A\",\"B\",\"C\",\"D\"],\"y\":[3.868190275792462,0.13932874032118314,0.24194228887827118,-5.441408645091029],\"type\":\"bar\"}],                        {\"legend\":{\"bgcolor\":\"#F5F6F9\",\"font\":{\"color\":\"#4D5663\"}},\"paper_bgcolor\":\"#F5F6F9\",\"plot_bgcolor\":\"#F5F6F9\",\"template\":{\"data\":{\"barpolar\":[{\"marker\":{\"line\":{\"color\":\"#E5ECF6\",\"width\":0.5},\"pattern\":{\"fillmode\":\"overlay\",\"size\":10,\"solidity\":0.2}},\"type\":\"barpolar\"}],\"bar\":[{\"error_x\":{\"color\":\"#2a3f5f\"},\"error_y\":{\"color\":\"#2a3f5f\"},\"marker\":{\"line\":{\"color\":\"#E5ECF6\",\"width\":0.5},\"pattern\":{\"fillmode\":\"overlay\",\"size\":10,\"solidity\":0.2}},\"type\":\"bar\"}],\"carpet\":[{\"aaxis\":{\"endlinecolor\":\"#2a3f5f\",\"gridcolor\":\"white\",\"linecolor\":\"white\",\"minorgridcolor\":\"white\",\"startlinecolor\":\"#2a3f5f\"},\"baxis\":{\"endlinecolor\":\"#2a3f5f\",\"gridcolor\":\"white\",\"linecolor\":\"white\",\"minorgridcolor\":\"white\",\"startlinecolor\":\"#2a3f5f\"},\"type\":\"carpet\"}],\"choropleth\":[{\"colorbar\":{\"outlinewidth\":0,\"ticks\":\"\"},\"type\":\"choropleth\"}],\"contourcarpet\":[{\"colorbar\":{\"outlinewidth\":0,\"ticks\":\"\"},\"type\":\"contourcarpet\"}],\"contour\":[{\"colorbar\":{\"outlinewidth\":0,\"ticks\":\"\"},\"colorscale\":[[0.0,\"#0d0887\"],[0.1111111111111111,\"#46039f\"],[0.2222222222222222,\"#7201a8\"],[0.3333333333333333,\"#9c179e\"],[0.4444444444444444,\"#bd3786\"],[0.5555555555555556,\"#d8576b\"],[0.6666666666666666,\"#ed7953\"],[0.7777777777777778,\"#fb9f3a\"],[0.8888888888888888,\"#fdca26\"],[1.0,\"#f0f921\"]],\"type\":\"contour\"}],\"heatmapgl\":[{\"colorbar\":{\"outlinewidth\":0,\"ticks\":\"\"},\"colorscale\":[[0.0,\"#0d0887\"],[0.1111111111111111,\"#46039f\"],[0.2222222222222222,\"#7201a8\"],[0.3333333333333333,\"#9c179e\"],[0.4444444444444444,\"#bd3786\"],[0.5555555555555556,\"#d8576b\"],[0.6666666666666666,\"#ed7953\"],[0.7777777777777778,\"#fb9f3a\"],[0.8888888888888888,\"#fdca26\"],[1.0,\"#f0f921\"]],\"type\":\"heatmapgl\"}],\"heatmap\":[{\"colorbar\":{\"outlinewidth\":0,\"ticks\":\"\"},\"colorscale\":[[0.0,\"#0d0887\"],[0.1111111111111111,\"#46039f\"],[0.2222222222222222,\"#7201a8\"],[0.3333333333333333,\"#9c179e\"],[0.4444444444444444,\"#bd3786\"],[0.5555555555555556,\"#d8576b\"],[0.6666666666666666,\"#ed7953\"],[0.7777777777777778,\"#fb9f3a\"],[0.8888888888888888,\"#fdca26\"],[1.0,\"#f0f921\"]],\"type\":\"heatmap\"}],\"histogram2dcontour\":[{\"colorbar\":{\"outlinewidth\":0,\"ticks\":\"\"},\"colorscale\":[[0.0,\"#0d0887\"],[0.1111111111111111,\"#46039f\"],[0.2222222222222222,\"#7201a8\"],[0.3333333333333333,\"#9c179e\"],[0.4444444444444444,\"#bd3786\"],[0.5555555555555556,\"#d8576b\"],[0.6666666666666666,\"#ed7953\"],[0.7777777777777778,\"#fb9f3a\"],[0.8888888888888888,\"#fdca26\"],[1.0,\"#f0f921\"]],\"type\":\"histogram2dcontour\"}],\"histogram2d\":[{\"colorbar\":{\"outlinewidth\":0,\"ticks\":\"\"},\"colorscale\":[[0.0,\"#0d0887\"],[0.1111111111111111,\"#46039f\"],[0.2222222222222222,\"#7201a8\"],[0.3333333333333333,\"#9c179e\"],[0.4444444444444444,\"#bd3786\"],[0.5555555555555556,\"#d8576b\"],[0.6666666666666666,\"#ed7953\"],[0.7777777777777778,\"#fb9f3a\"],[0.8888888888888888,\"#fdca26\"],[1.0,\"#f0f921\"]],\"type\":\"histogram2d\"}],\"histogram\":[{\"marker\":{\"pattern\":{\"fillmode\":\"overlay\",\"size\":10,\"solidity\":0.2}},\"type\":\"histogram\"}],\"mesh3d\":[{\"colorbar\":{\"outlinewidth\":0,\"ticks\":\"\"},\"type\":\"mesh3d\"}],\"parcoords\":[{\"line\":{\"colorbar\":{\"outlinewidth\":0,\"ticks\":\"\"}},\"type\":\"parcoords\"}],\"pie\":[{\"automargin\":true,\"type\":\"pie\"}],\"scatter3d\":[{\"line\":{\"colorbar\":{\"outlinewidth\":0,\"ticks\":\"\"}},\"marker\":{\"colorbar\":{\"outlinewidth\":0,\"ticks\":\"\"}},\"type\":\"scatter3d\"}],\"scattercarpet\":[{\"marker\":{\"colorbar\":{\"outlinewidth\":0,\"ticks\":\"\"}},\"type\":\"scattercarpet\"}],\"scattergeo\":[{\"marker\":{\"colorbar\":{\"outlinewidth\":0,\"ticks\":\"\"}},\"type\":\"scattergeo\"}],\"scattergl\":[{\"marker\":{\"colorbar\":{\"outlinewidth\":0,\"ticks\":\"\"}},\"type\":\"scattergl\"}],\"scattermapbox\":[{\"marker\":{\"colorbar\":{\"outlinewidth\":0,\"ticks\":\"\"}},\"type\":\"scattermapbox\"}],\"scatterpolargl\":[{\"marker\":{\"colorbar\":{\"outlinewidth\":0,\"ticks\":\"\"}},\"type\":\"scatterpolargl\"}],\"scatterpolar\":[{\"marker\":{\"colorbar\":{\"outlinewidth\":0,\"ticks\":\"\"}},\"type\":\"scatterpolar\"}],\"scatter\":[{\"marker\":{\"colorbar\":{\"outlinewidth\":0,\"ticks\":\"\"}},\"type\":\"scatter\"}],\"scatterternary\":[{\"marker\":{\"colorbar\":{\"outlinewidth\":0,\"ticks\":\"\"}},\"type\":\"scatterternary\"}],\"surface\":[{\"colorbar\":{\"outlinewidth\":0,\"ticks\":\"\"},\"colorscale\":[[0.0,\"#0d0887\"],[0.1111111111111111,\"#46039f\"],[0.2222222222222222,\"#7201a8\"],[0.3333333333333333,\"#9c179e\"],[0.4444444444444444,\"#bd3786\"],[0.5555555555555556,\"#d8576b\"],[0.6666666666666666,\"#ed7953\"],[0.7777777777777778,\"#fb9f3a\"],[0.8888888888888888,\"#fdca26\"],[1.0,\"#f0f921\"]],\"type\":\"surface\"}],\"table\":[{\"cells\":{\"fill\":{\"color\":\"#EBF0F8\"},\"line\":{\"color\":\"white\"}},\"header\":{\"fill\":{\"color\":\"#C8D4E3\"},\"line\":{\"color\":\"white\"}},\"type\":\"table\"}]},\"layout\":{\"annotationdefaults\":{\"arrowcolor\":\"#2a3f5f\",\"arrowhead\":0,\"arrowwidth\":1},\"autotypenumbers\":\"strict\",\"coloraxis\":{\"colorbar\":{\"outlinewidth\":0,\"ticks\":\"\"}},\"colorscale\":{\"diverging\":[[0,\"#8e0152\"],[0.1,\"#c51b7d\"],[0.2,\"#de77ae\"],[0.3,\"#f1b6da\"],[0.4,\"#fde0ef\"],[0.5,\"#f7f7f7\"],[0.6,\"#e6f5d0\"],[0.7,\"#b8e186\"],[0.8,\"#7fbc41\"],[0.9,\"#4d9221\"],[1,\"#276419\"]],\"sequential\":[[0.0,\"#0d0887\"],[0.1111111111111111,\"#46039f\"],[0.2222222222222222,\"#7201a8\"],[0.3333333333333333,\"#9c179e\"],[0.4444444444444444,\"#bd3786\"],[0.5555555555555556,\"#d8576b\"],[0.6666666666666666,\"#ed7953\"],[0.7777777777777778,\"#fb9f3a\"],[0.8888888888888888,\"#fdca26\"],[1.0,\"#f0f921\"]],\"sequentialminus\":[[0.0,\"#0d0887\"],[0.1111111111111111,\"#46039f\"],[0.2222222222222222,\"#7201a8\"],[0.3333333333333333,\"#9c179e\"],[0.4444444444444444,\"#bd3786\"],[0.5555555555555556,\"#d8576b\"],[0.6666666666666666,\"#ed7953\"],[0.7777777777777778,\"#fb9f3a\"],[0.8888888888888888,\"#fdca26\"],[1.0,\"#f0f921\"]]},\"colorway\":[\"#636efa\",\"#EF553B\",\"#00cc96\",\"#ab63fa\",\"#FFA15A\",\"#19d3f3\",\"#FF6692\",\"#B6E880\",\"#FF97FF\",\"#FECB52\"],\"font\":{\"color\":\"#2a3f5f\"},\"geo\":{\"bgcolor\":\"white\",\"lakecolor\":\"white\",\"landcolor\":\"#E5ECF6\",\"showlakes\":true,\"showland\":true,\"subunitcolor\":\"white\"},\"hoverlabel\":{\"align\":\"left\"},\"hovermode\":\"closest\",\"mapbox\":{\"style\":\"light\"},\"paper_bgcolor\":\"white\",\"plot_bgcolor\":\"#E5ECF6\",\"polar\":{\"angularaxis\":{\"gridcolor\":\"white\",\"linecolor\":\"white\",\"ticks\":\"\"},\"bgcolor\":\"#E5ECF6\",\"radialaxis\":{\"gridcolor\":\"white\",\"linecolor\":\"white\",\"ticks\":\"\"}},\"scene\":{\"xaxis\":{\"backgroundcolor\":\"#E5ECF6\",\"gridcolor\":\"white\",\"gridwidth\":2,\"linecolor\":\"white\",\"showbackground\":true,\"ticks\":\"\",\"zerolinecolor\":\"white\"},\"yaxis\":{\"backgroundcolor\":\"#E5ECF6\",\"gridcolor\":\"white\",\"gridwidth\":2,\"linecolor\":\"white\",\"showbackground\":true,\"ticks\":\"\",\"zerolinecolor\":\"white\"},\"zaxis\":{\"backgroundcolor\":\"#E5ECF6\",\"gridcolor\":\"white\",\"gridwidth\":2,\"linecolor\":\"white\",\"showbackground\":true,\"ticks\":\"\",\"zerolinecolor\":\"white\"}},\"shapedefaults\":{\"line\":{\"color\":\"#2a3f5f\"}},\"ternary\":{\"aaxis\":{\"gridcolor\":\"white\",\"linecolor\":\"white\",\"ticks\":\"\"},\"baxis\":{\"gridcolor\":\"white\",\"linecolor\":\"white\",\"ticks\":\"\"},\"bgcolor\":\"#E5ECF6\",\"caxis\":{\"gridcolor\":\"white\",\"linecolor\":\"white\",\"ticks\":\"\"}},\"title\":{\"x\":0.05},\"xaxis\":{\"automargin\":true,\"gridcolor\":\"white\",\"linecolor\":\"white\",\"ticks\":\"\",\"title\":{\"standoff\":15},\"zerolinecolor\":\"white\",\"zerolinewidth\":2},\"yaxis\":{\"automargin\":true,\"gridcolor\":\"white\",\"linecolor\":\"white\",\"ticks\":\"\",\"title\":{\"standoff\":15},\"zerolinecolor\":\"white\",\"zerolinewidth\":2}}},\"title\":{\"font\":{\"color\":\"#4D5663\"}},\"xaxis\":{\"gridcolor\":\"#E1E5ED\",\"showgrid\":true,\"tickfont\":{\"color\":\"#4D5663\"},\"title\":{\"font\":{\"color\":\"#4D5663\"},\"text\":\"\"},\"zerolinecolor\":\"#E1E5ED\"},\"yaxis\":{\"gridcolor\":\"#E1E5ED\",\"showgrid\":true,\"tickfont\":{\"color\":\"#4D5663\"},\"title\":{\"font\":{\"color\":\"#4D5663\"},\"text\":\"\"},\"zerolinecolor\":\"#E1E5ED\"}},                        {\"showLink\": true, \"linkText\": \"Export to plot.ly\", \"plotlyServerURL\": \"https://plot.ly\", \"responsive\": true}                    ).then(function(){\n",
       "                            \n",
       "var gd = document.getElementById('4f2038ca-158e-4edd-8b79-53401baf2716');\n",
       "var x = new MutationObserver(function (mutations, observer) {{\n",
       "        var display = window.getComputedStyle(gd).display;\n",
       "        if (!display || display === 'none') {{\n",
       "            console.log([gd, 'removed!']);\n",
       "            Plotly.purge(gd);\n",
       "            observer.disconnect();\n",
       "        }}\n",
       "}});\n",
       "\n",
       "// Listen for the removal of the full notebook cells\n",
       "var notebookContainer = gd.closest('#notebook-container');\n",
       "if (notebookContainer) {{\n",
       "    x.observe(notebookContainer, {childList: true});\n",
       "}}\n",
       "\n",
       "// Listen for the clearing of the current output cell\n",
       "var outputEl = gd.closest('.output');\n",
       "if (outputEl) {{\n",
       "    x.observe(outputEl, {childList: true});\n",
       "}}\n",
       "\n",
       "                        })                };                });            </script>        </div>"
      ]
     },
     "metadata": {},
     "output_type": "display_data"
    }
   ],
   "source": [
    "df.sum().iplot(kind=\"bar\")"
   ]
  },
  {
   "cell_type": "code",
   "execution_count": 33,
   "id": "455c1a4a",
   "metadata": {},
   "outputs": [
    {
     "data": {
      "application/vnd.plotly.v1+json": {
       "config": {
        "linkText": "Export to plot.ly",
        "plotlyServerURL": "https://plot.ly",
        "showLink": true
       },
       "data": [
        {
         "marker": {
          "color": "rgba(255, 153, 51, 0.6)",
          "line": {
           "color": "rgba(255, 153, 51, 1.0)",
           "width": 1
          }
         },
         "name": "None",
         "orientation": "v",
         "text": "",
         "type": "bar",
         "x": [
          "A",
          "B",
          "C",
          "D"
         ],
         "y": [
          100,
          100,
          100,
          100
         ]
        }
       ],
       "layout": {
        "legend": {
         "bgcolor": "#F5F6F9",
         "font": {
          "color": "#4D5663"
         }
        },
        "paper_bgcolor": "#F5F6F9",
        "plot_bgcolor": "#F5F6F9",
        "template": {
         "data": {
          "bar": [
           {
            "error_x": {
             "color": "#2a3f5f"
            },
            "error_y": {
             "color": "#2a3f5f"
            },
            "marker": {
             "line": {
              "color": "#E5ECF6",
              "width": 0.5
             },
             "pattern": {
              "fillmode": "overlay",
              "size": 10,
              "solidity": 0.2
             }
            },
            "type": "bar"
           }
          ],
          "barpolar": [
           {
            "marker": {
             "line": {
              "color": "#E5ECF6",
              "width": 0.5
             },
             "pattern": {
              "fillmode": "overlay",
              "size": 10,
              "solidity": 0.2
             }
            },
            "type": "barpolar"
           }
          ],
          "carpet": [
           {
            "aaxis": {
             "endlinecolor": "#2a3f5f",
             "gridcolor": "white",
             "linecolor": "white",
             "minorgridcolor": "white",
             "startlinecolor": "#2a3f5f"
            },
            "baxis": {
             "endlinecolor": "#2a3f5f",
             "gridcolor": "white",
             "linecolor": "white",
             "minorgridcolor": "white",
             "startlinecolor": "#2a3f5f"
            },
            "type": "carpet"
           }
          ],
          "choropleth": [
           {
            "colorbar": {
             "outlinewidth": 0,
             "ticks": ""
            },
            "type": "choropleth"
           }
          ],
          "contour": [
           {
            "colorbar": {
             "outlinewidth": 0,
             "ticks": ""
            },
            "colorscale": [
             [
              0,
              "#0d0887"
             ],
             [
              0.1111111111111111,
              "#46039f"
             ],
             [
              0.2222222222222222,
              "#7201a8"
             ],
             [
              0.3333333333333333,
              "#9c179e"
             ],
             [
              0.4444444444444444,
              "#bd3786"
             ],
             [
              0.5555555555555556,
              "#d8576b"
             ],
             [
              0.6666666666666666,
              "#ed7953"
             ],
             [
              0.7777777777777778,
              "#fb9f3a"
             ],
             [
              0.8888888888888888,
              "#fdca26"
             ],
             [
              1,
              "#f0f921"
             ]
            ],
            "type": "contour"
           }
          ],
          "contourcarpet": [
           {
            "colorbar": {
             "outlinewidth": 0,
             "ticks": ""
            },
            "type": "contourcarpet"
           }
          ],
          "heatmap": [
           {
            "colorbar": {
             "outlinewidth": 0,
             "ticks": ""
            },
            "colorscale": [
             [
              0,
              "#0d0887"
             ],
             [
              0.1111111111111111,
              "#46039f"
             ],
             [
              0.2222222222222222,
              "#7201a8"
             ],
             [
              0.3333333333333333,
              "#9c179e"
             ],
             [
              0.4444444444444444,
              "#bd3786"
             ],
             [
              0.5555555555555556,
              "#d8576b"
             ],
             [
              0.6666666666666666,
              "#ed7953"
             ],
             [
              0.7777777777777778,
              "#fb9f3a"
             ],
             [
              0.8888888888888888,
              "#fdca26"
             ],
             [
              1,
              "#f0f921"
             ]
            ],
            "type": "heatmap"
           }
          ],
          "heatmapgl": [
           {
            "colorbar": {
             "outlinewidth": 0,
             "ticks": ""
            },
            "colorscale": [
             [
              0,
              "#0d0887"
             ],
             [
              0.1111111111111111,
              "#46039f"
             ],
             [
              0.2222222222222222,
              "#7201a8"
             ],
             [
              0.3333333333333333,
              "#9c179e"
             ],
             [
              0.4444444444444444,
              "#bd3786"
             ],
             [
              0.5555555555555556,
              "#d8576b"
             ],
             [
              0.6666666666666666,
              "#ed7953"
             ],
             [
              0.7777777777777778,
              "#fb9f3a"
             ],
             [
              0.8888888888888888,
              "#fdca26"
             ],
             [
              1,
              "#f0f921"
             ]
            ],
            "type": "heatmapgl"
           }
          ],
          "histogram": [
           {
            "marker": {
             "pattern": {
              "fillmode": "overlay",
              "size": 10,
              "solidity": 0.2
             }
            },
            "type": "histogram"
           }
          ],
          "histogram2d": [
           {
            "colorbar": {
             "outlinewidth": 0,
             "ticks": ""
            },
            "colorscale": [
             [
              0,
              "#0d0887"
             ],
             [
              0.1111111111111111,
              "#46039f"
             ],
             [
              0.2222222222222222,
              "#7201a8"
             ],
             [
              0.3333333333333333,
              "#9c179e"
             ],
             [
              0.4444444444444444,
              "#bd3786"
             ],
             [
              0.5555555555555556,
              "#d8576b"
             ],
             [
              0.6666666666666666,
              "#ed7953"
             ],
             [
              0.7777777777777778,
              "#fb9f3a"
             ],
             [
              0.8888888888888888,
              "#fdca26"
             ],
             [
              1,
              "#f0f921"
             ]
            ],
            "type": "histogram2d"
           }
          ],
          "histogram2dcontour": [
           {
            "colorbar": {
             "outlinewidth": 0,
             "ticks": ""
            },
            "colorscale": [
             [
              0,
              "#0d0887"
             ],
             [
              0.1111111111111111,
              "#46039f"
             ],
             [
              0.2222222222222222,
              "#7201a8"
             ],
             [
              0.3333333333333333,
              "#9c179e"
             ],
             [
              0.4444444444444444,
              "#bd3786"
             ],
             [
              0.5555555555555556,
              "#d8576b"
             ],
             [
              0.6666666666666666,
              "#ed7953"
             ],
             [
              0.7777777777777778,
              "#fb9f3a"
             ],
             [
              0.8888888888888888,
              "#fdca26"
             ],
             [
              1,
              "#f0f921"
             ]
            ],
            "type": "histogram2dcontour"
           }
          ],
          "mesh3d": [
           {
            "colorbar": {
             "outlinewidth": 0,
             "ticks": ""
            },
            "type": "mesh3d"
           }
          ],
          "parcoords": [
           {
            "line": {
             "colorbar": {
              "outlinewidth": 0,
              "ticks": ""
             }
            },
            "type": "parcoords"
           }
          ],
          "pie": [
           {
            "automargin": true,
            "type": "pie"
           }
          ],
          "scatter": [
           {
            "marker": {
             "colorbar": {
              "outlinewidth": 0,
              "ticks": ""
             }
            },
            "type": "scatter"
           }
          ],
          "scatter3d": [
           {
            "line": {
             "colorbar": {
              "outlinewidth": 0,
              "ticks": ""
             }
            },
            "marker": {
             "colorbar": {
              "outlinewidth": 0,
              "ticks": ""
             }
            },
            "type": "scatter3d"
           }
          ],
          "scattercarpet": [
           {
            "marker": {
             "colorbar": {
              "outlinewidth": 0,
              "ticks": ""
             }
            },
            "type": "scattercarpet"
           }
          ],
          "scattergeo": [
           {
            "marker": {
             "colorbar": {
              "outlinewidth": 0,
              "ticks": ""
             }
            },
            "type": "scattergeo"
           }
          ],
          "scattergl": [
           {
            "marker": {
             "colorbar": {
              "outlinewidth": 0,
              "ticks": ""
             }
            },
            "type": "scattergl"
           }
          ],
          "scattermapbox": [
           {
            "marker": {
             "colorbar": {
              "outlinewidth": 0,
              "ticks": ""
             }
            },
            "type": "scattermapbox"
           }
          ],
          "scatterpolar": [
           {
            "marker": {
             "colorbar": {
              "outlinewidth": 0,
              "ticks": ""
             }
            },
            "type": "scatterpolar"
           }
          ],
          "scatterpolargl": [
           {
            "marker": {
             "colorbar": {
              "outlinewidth": 0,
              "ticks": ""
             }
            },
            "type": "scatterpolargl"
           }
          ],
          "scatterternary": [
           {
            "marker": {
             "colorbar": {
              "outlinewidth": 0,
              "ticks": ""
             }
            },
            "type": "scatterternary"
           }
          ],
          "surface": [
           {
            "colorbar": {
             "outlinewidth": 0,
             "ticks": ""
            },
            "colorscale": [
             [
              0,
              "#0d0887"
             ],
             [
              0.1111111111111111,
              "#46039f"
             ],
             [
              0.2222222222222222,
              "#7201a8"
             ],
             [
              0.3333333333333333,
              "#9c179e"
             ],
             [
              0.4444444444444444,
              "#bd3786"
             ],
             [
              0.5555555555555556,
              "#d8576b"
             ],
             [
              0.6666666666666666,
              "#ed7953"
             ],
             [
              0.7777777777777778,
              "#fb9f3a"
             ],
             [
              0.8888888888888888,
              "#fdca26"
             ],
             [
              1,
              "#f0f921"
             ]
            ],
            "type": "surface"
           }
          ],
          "table": [
           {
            "cells": {
             "fill": {
              "color": "#EBF0F8"
             },
             "line": {
              "color": "white"
             }
            },
            "header": {
             "fill": {
              "color": "#C8D4E3"
             },
             "line": {
              "color": "white"
             }
            },
            "type": "table"
           }
          ]
         },
         "layout": {
          "annotationdefaults": {
           "arrowcolor": "#2a3f5f",
           "arrowhead": 0,
           "arrowwidth": 1
          },
          "autotypenumbers": "strict",
          "coloraxis": {
           "colorbar": {
            "outlinewidth": 0,
            "ticks": ""
           }
          },
          "colorscale": {
           "diverging": [
            [
             0,
             "#8e0152"
            ],
            [
             0.1,
             "#c51b7d"
            ],
            [
             0.2,
             "#de77ae"
            ],
            [
             0.3,
             "#f1b6da"
            ],
            [
             0.4,
             "#fde0ef"
            ],
            [
             0.5,
             "#f7f7f7"
            ],
            [
             0.6,
             "#e6f5d0"
            ],
            [
             0.7,
             "#b8e186"
            ],
            [
             0.8,
             "#7fbc41"
            ],
            [
             0.9,
             "#4d9221"
            ],
            [
             1,
             "#276419"
            ]
           ],
           "sequential": [
            [
             0,
             "#0d0887"
            ],
            [
             0.1111111111111111,
             "#46039f"
            ],
            [
             0.2222222222222222,
             "#7201a8"
            ],
            [
             0.3333333333333333,
             "#9c179e"
            ],
            [
             0.4444444444444444,
             "#bd3786"
            ],
            [
             0.5555555555555556,
             "#d8576b"
            ],
            [
             0.6666666666666666,
             "#ed7953"
            ],
            [
             0.7777777777777778,
             "#fb9f3a"
            ],
            [
             0.8888888888888888,
             "#fdca26"
            ],
            [
             1,
             "#f0f921"
            ]
           ],
           "sequentialminus": [
            [
             0,
             "#0d0887"
            ],
            [
             0.1111111111111111,
             "#46039f"
            ],
            [
             0.2222222222222222,
             "#7201a8"
            ],
            [
             0.3333333333333333,
             "#9c179e"
            ],
            [
             0.4444444444444444,
             "#bd3786"
            ],
            [
             0.5555555555555556,
             "#d8576b"
            ],
            [
             0.6666666666666666,
             "#ed7953"
            ],
            [
             0.7777777777777778,
             "#fb9f3a"
            ],
            [
             0.8888888888888888,
             "#fdca26"
            ],
            [
             1,
             "#f0f921"
            ]
           ]
          },
          "colorway": [
           "#636efa",
           "#EF553B",
           "#00cc96",
           "#ab63fa",
           "#FFA15A",
           "#19d3f3",
           "#FF6692",
           "#B6E880",
           "#FF97FF",
           "#FECB52"
          ],
          "font": {
           "color": "#2a3f5f"
          },
          "geo": {
           "bgcolor": "white",
           "lakecolor": "white",
           "landcolor": "#E5ECF6",
           "showlakes": true,
           "showland": true,
           "subunitcolor": "white"
          },
          "hoverlabel": {
           "align": "left"
          },
          "hovermode": "closest",
          "mapbox": {
           "style": "light"
          },
          "paper_bgcolor": "white",
          "plot_bgcolor": "#E5ECF6",
          "polar": {
           "angularaxis": {
            "gridcolor": "white",
            "linecolor": "white",
            "ticks": ""
           },
           "bgcolor": "#E5ECF6",
           "radialaxis": {
            "gridcolor": "white",
            "linecolor": "white",
            "ticks": ""
           }
          },
          "scene": {
           "xaxis": {
            "backgroundcolor": "#E5ECF6",
            "gridcolor": "white",
            "gridwidth": 2,
            "linecolor": "white",
            "showbackground": true,
            "ticks": "",
            "zerolinecolor": "white"
           },
           "yaxis": {
            "backgroundcolor": "#E5ECF6",
            "gridcolor": "white",
            "gridwidth": 2,
            "linecolor": "white",
            "showbackground": true,
            "ticks": "",
            "zerolinecolor": "white"
           },
           "zaxis": {
            "backgroundcolor": "#E5ECF6",
            "gridcolor": "white",
            "gridwidth": 2,
            "linecolor": "white",
            "showbackground": true,
            "ticks": "",
            "zerolinecolor": "white"
           }
          },
          "shapedefaults": {
           "line": {
            "color": "#2a3f5f"
           }
          },
          "ternary": {
           "aaxis": {
            "gridcolor": "white",
            "linecolor": "white",
            "ticks": ""
           },
           "baxis": {
            "gridcolor": "white",
            "linecolor": "white",
            "ticks": ""
           },
           "bgcolor": "#E5ECF6",
           "caxis": {
            "gridcolor": "white",
            "linecolor": "white",
            "ticks": ""
           }
          },
          "title": {
           "x": 0.05
          },
          "xaxis": {
           "automargin": true,
           "gridcolor": "white",
           "linecolor": "white",
           "ticks": "",
           "title": {
            "standoff": 15
           },
           "zerolinecolor": "white",
           "zerolinewidth": 2
          },
          "yaxis": {
           "automargin": true,
           "gridcolor": "white",
           "linecolor": "white",
           "ticks": "",
           "title": {
            "standoff": 15
           },
           "zerolinecolor": "white",
           "zerolinewidth": 2
          }
         }
        },
        "title": {
         "font": {
          "color": "#4D5663"
         }
        },
        "xaxis": {
         "gridcolor": "#E1E5ED",
         "showgrid": true,
         "tickfont": {
          "color": "#4D5663"
         },
         "title": {
          "font": {
           "color": "#4D5663"
          },
          "text": ""
         },
         "zerolinecolor": "#E1E5ED"
        },
        "yaxis": {
         "gridcolor": "#E1E5ED",
         "showgrid": true,
         "tickfont": {
          "color": "#4D5663"
         },
         "title": {
          "font": {
           "color": "#4D5663"
          },
          "text": ""
         },
         "zerolinecolor": "#E1E5ED"
        }
       }
      },
      "text/html": [
       "<div>                            <div id=\"6c79051f-fd5b-437d-9cf8-30bbeb6c5ccf\" class=\"plotly-graph-div\" style=\"height:525px; width:100%;\"></div>            <script type=\"text/javascript\">                require([\"plotly\"], function(Plotly) {                    window.PLOTLYENV=window.PLOTLYENV || {};\n",
       "                    window.PLOTLYENV.BASE_URL='https://plot.ly';                                    if (document.getElementById(\"6c79051f-fd5b-437d-9cf8-30bbeb6c5ccf\")) {                    Plotly.newPlot(                        \"6c79051f-fd5b-437d-9cf8-30bbeb6c5ccf\",                        [{\"marker\":{\"color\":\"rgba(255, 153, 51, 0.6)\",\"line\":{\"color\":\"rgba(255, 153, 51, 1.0)\",\"width\":1}},\"name\":\"None\",\"orientation\":\"v\",\"text\":\"\",\"x\":[\"A\",\"B\",\"C\",\"D\"],\"y\":[100,100,100,100],\"type\":\"bar\"}],                        {\"legend\":{\"bgcolor\":\"#F5F6F9\",\"font\":{\"color\":\"#4D5663\"}},\"paper_bgcolor\":\"#F5F6F9\",\"plot_bgcolor\":\"#F5F6F9\",\"template\":{\"data\":{\"barpolar\":[{\"marker\":{\"line\":{\"color\":\"#E5ECF6\",\"width\":0.5},\"pattern\":{\"fillmode\":\"overlay\",\"size\":10,\"solidity\":0.2}},\"type\":\"barpolar\"}],\"bar\":[{\"error_x\":{\"color\":\"#2a3f5f\"},\"error_y\":{\"color\":\"#2a3f5f\"},\"marker\":{\"line\":{\"color\":\"#E5ECF6\",\"width\":0.5},\"pattern\":{\"fillmode\":\"overlay\",\"size\":10,\"solidity\":0.2}},\"type\":\"bar\"}],\"carpet\":[{\"aaxis\":{\"endlinecolor\":\"#2a3f5f\",\"gridcolor\":\"white\",\"linecolor\":\"white\",\"minorgridcolor\":\"white\",\"startlinecolor\":\"#2a3f5f\"},\"baxis\":{\"endlinecolor\":\"#2a3f5f\",\"gridcolor\":\"white\",\"linecolor\":\"white\",\"minorgridcolor\":\"white\",\"startlinecolor\":\"#2a3f5f\"},\"type\":\"carpet\"}],\"choropleth\":[{\"colorbar\":{\"outlinewidth\":0,\"ticks\":\"\"},\"type\":\"choropleth\"}],\"contourcarpet\":[{\"colorbar\":{\"outlinewidth\":0,\"ticks\":\"\"},\"type\":\"contourcarpet\"}],\"contour\":[{\"colorbar\":{\"outlinewidth\":0,\"ticks\":\"\"},\"colorscale\":[[0.0,\"#0d0887\"],[0.1111111111111111,\"#46039f\"],[0.2222222222222222,\"#7201a8\"],[0.3333333333333333,\"#9c179e\"],[0.4444444444444444,\"#bd3786\"],[0.5555555555555556,\"#d8576b\"],[0.6666666666666666,\"#ed7953\"],[0.7777777777777778,\"#fb9f3a\"],[0.8888888888888888,\"#fdca26\"],[1.0,\"#f0f921\"]],\"type\":\"contour\"}],\"heatmapgl\":[{\"colorbar\":{\"outlinewidth\":0,\"ticks\":\"\"},\"colorscale\":[[0.0,\"#0d0887\"],[0.1111111111111111,\"#46039f\"],[0.2222222222222222,\"#7201a8\"],[0.3333333333333333,\"#9c179e\"],[0.4444444444444444,\"#bd3786\"],[0.5555555555555556,\"#d8576b\"],[0.6666666666666666,\"#ed7953\"],[0.7777777777777778,\"#fb9f3a\"],[0.8888888888888888,\"#fdca26\"],[1.0,\"#f0f921\"]],\"type\":\"heatmapgl\"}],\"heatmap\":[{\"colorbar\":{\"outlinewidth\":0,\"ticks\":\"\"},\"colorscale\":[[0.0,\"#0d0887\"],[0.1111111111111111,\"#46039f\"],[0.2222222222222222,\"#7201a8\"],[0.3333333333333333,\"#9c179e\"],[0.4444444444444444,\"#bd3786\"],[0.5555555555555556,\"#d8576b\"],[0.6666666666666666,\"#ed7953\"],[0.7777777777777778,\"#fb9f3a\"],[0.8888888888888888,\"#fdca26\"],[1.0,\"#f0f921\"]],\"type\":\"heatmap\"}],\"histogram2dcontour\":[{\"colorbar\":{\"outlinewidth\":0,\"ticks\":\"\"},\"colorscale\":[[0.0,\"#0d0887\"],[0.1111111111111111,\"#46039f\"],[0.2222222222222222,\"#7201a8\"],[0.3333333333333333,\"#9c179e\"],[0.4444444444444444,\"#bd3786\"],[0.5555555555555556,\"#d8576b\"],[0.6666666666666666,\"#ed7953\"],[0.7777777777777778,\"#fb9f3a\"],[0.8888888888888888,\"#fdca26\"],[1.0,\"#f0f921\"]],\"type\":\"histogram2dcontour\"}],\"histogram2d\":[{\"colorbar\":{\"outlinewidth\":0,\"ticks\":\"\"},\"colorscale\":[[0.0,\"#0d0887\"],[0.1111111111111111,\"#46039f\"],[0.2222222222222222,\"#7201a8\"],[0.3333333333333333,\"#9c179e\"],[0.4444444444444444,\"#bd3786\"],[0.5555555555555556,\"#d8576b\"],[0.6666666666666666,\"#ed7953\"],[0.7777777777777778,\"#fb9f3a\"],[0.8888888888888888,\"#fdca26\"],[1.0,\"#f0f921\"]],\"type\":\"histogram2d\"}],\"histogram\":[{\"marker\":{\"pattern\":{\"fillmode\":\"overlay\",\"size\":10,\"solidity\":0.2}},\"type\":\"histogram\"}],\"mesh3d\":[{\"colorbar\":{\"outlinewidth\":0,\"ticks\":\"\"},\"type\":\"mesh3d\"}],\"parcoords\":[{\"line\":{\"colorbar\":{\"outlinewidth\":0,\"ticks\":\"\"}},\"type\":\"parcoords\"}],\"pie\":[{\"automargin\":true,\"type\":\"pie\"}],\"scatter3d\":[{\"line\":{\"colorbar\":{\"outlinewidth\":0,\"ticks\":\"\"}},\"marker\":{\"colorbar\":{\"outlinewidth\":0,\"ticks\":\"\"}},\"type\":\"scatter3d\"}],\"scattercarpet\":[{\"marker\":{\"colorbar\":{\"outlinewidth\":0,\"ticks\":\"\"}},\"type\":\"scattercarpet\"}],\"scattergeo\":[{\"marker\":{\"colorbar\":{\"outlinewidth\":0,\"ticks\":\"\"}},\"type\":\"scattergeo\"}],\"scattergl\":[{\"marker\":{\"colorbar\":{\"outlinewidth\":0,\"ticks\":\"\"}},\"type\":\"scattergl\"}],\"scattermapbox\":[{\"marker\":{\"colorbar\":{\"outlinewidth\":0,\"ticks\":\"\"}},\"type\":\"scattermapbox\"}],\"scatterpolargl\":[{\"marker\":{\"colorbar\":{\"outlinewidth\":0,\"ticks\":\"\"}},\"type\":\"scatterpolargl\"}],\"scatterpolar\":[{\"marker\":{\"colorbar\":{\"outlinewidth\":0,\"ticks\":\"\"}},\"type\":\"scatterpolar\"}],\"scatter\":[{\"marker\":{\"colorbar\":{\"outlinewidth\":0,\"ticks\":\"\"}},\"type\":\"scatter\"}],\"scatterternary\":[{\"marker\":{\"colorbar\":{\"outlinewidth\":0,\"ticks\":\"\"}},\"type\":\"scatterternary\"}],\"surface\":[{\"colorbar\":{\"outlinewidth\":0,\"ticks\":\"\"},\"colorscale\":[[0.0,\"#0d0887\"],[0.1111111111111111,\"#46039f\"],[0.2222222222222222,\"#7201a8\"],[0.3333333333333333,\"#9c179e\"],[0.4444444444444444,\"#bd3786\"],[0.5555555555555556,\"#d8576b\"],[0.6666666666666666,\"#ed7953\"],[0.7777777777777778,\"#fb9f3a\"],[0.8888888888888888,\"#fdca26\"],[1.0,\"#f0f921\"]],\"type\":\"surface\"}],\"table\":[{\"cells\":{\"fill\":{\"color\":\"#EBF0F8\"},\"line\":{\"color\":\"white\"}},\"header\":{\"fill\":{\"color\":\"#C8D4E3\"},\"line\":{\"color\":\"white\"}},\"type\":\"table\"}]},\"layout\":{\"annotationdefaults\":{\"arrowcolor\":\"#2a3f5f\",\"arrowhead\":0,\"arrowwidth\":1},\"autotypenumbers\":\"strict\",\"coloraxis\":{\"colorbar\":{\"outlinewidth\":0,\"ticks\":\"\"}},\"colorscale\":{\"diverging\":[[0,\"#8e0152\"],[0.1,\"#c51b7d\"],[0.2,\"#de77ae\"],[0.3,\"#f1b6da\"],[0.4,\"#fde0ef\"],[0.5,\"#f7f7f7\"],[0.6,\"#e6f5d0\"],[0.7,\"#b8e186\"],[0.8,\"#7fbc41\"],[0.9,\"#4d9221\"],[1,\"#276419\"]],\"sequential\":[[0.0,\"#0d0887\"],[0.1111111111111111,\"#46039f\"],[0.2222222222222222,\"#7201a8\"],[0.3333333333333333,\"#9c179e\"],[0.4444444444444444,\"#bd3786\"],[0.5555555555555556,\"#d8576b\"],[0.6666666666666666,\"#ed7953\"],[0.7777777777777778,\"#fb9f3a\"],[0.8888888888888888,\"#fdca26\"],[1.0,\"#f0f921\"]],\"sequentialminus\":[[0.0,\"#0d0887\"],[0.1111111111111111,\"#46039f\"],[0.2222222222222222,\"#7201a8\"],[0.3333333333333333,\"#9c179e\"],[0.4444444444444444,\"#bd3786\"],[0.5555555555555556,\"#d8576b\"],[0.6666666666666666,\"#ed7953\"],[0.7777777777777778,\"#fb9f3a\"],[0.8888888888888888,\"#fdca26\"],[1.0,\"#f0f921\"]]},\"colorway\":[\"#636efa\",\"#EF553B\",\"#00cc96\",\"#ab63fa\",\"#FFA15A\",\"#19d3f3\",\"#FF6692\",\"#B6E880\",\"#FF97FF\",\"#FECB52\"],\"font\":{\"color\":\"#2a3f5f\"},\"geo\":{\"bgcolor\":\"white\",\"lakecolor\":\"white\",\"landcolor\":\"#E5ECF6\",\"showlakes\":true,\"showland\":true,\"subunitcolor\":\"white\"},\"hoverlabel\":{\"align\":\"left\"},\"hovermode\":\"closest\",\"mapbox\":{\"style\":\"light\"},\"paper_bgcolor\":\"white\",\"plot_bgcolor\":\"#E5ECF6\",\"polar\":{\"angularaxis\":{\"gridcolor\":\"white\",\"linecolor\":\"white\",\"ticks\":\"\"},\"bgcolor\":\"#E5ECF6\",\"radialaxis\":{\"gridcolor\":\"white\",\"linecolor\":\"white\",\"ticks\":\"\"}},\"scene\":{\"xaxis\":{\"backgroundcolor\":\"#E5ECF6\",\"gridcolor\":\"white\",\"gridwidth\":2,\"linecolor\":\"white\",\"showbackground\":true,\"ticks\":\"\",\"zerolinecolor\":\"white\"},\"yaxis\":{\"backgroundcolor\":\"#E5ECF6\",\"gridcolor\":\"white\",\"gridwidth\":2,\"linecolor\":\"white\",\"showbackground\":true,\"ticks\":\"\",\"zerolinecolor\":\"white\"},\"zaxis\":{\"backgroundcolor\":\"#E5ECF6\",\"gridcolor\":\"white\",\"gridwidth\":2,\"linecolor\":\"white\",\"showbackground\":true,\"ticks\":\"\",\"zerolinecolor\":\"white\"}},\"shapedefaults\":{\"line\":{\"color\":\"#2a3f5f\"}},\"ternary\":{\"aaxis\":{\"gridcolor\":\"white\",\"linecolor\":\"white\",\"ticks\":\"\"},\"baxis\":{\"gridcolor\":\"white\",\"linecolor\":\"white\",\"ticks\":\"\"},\"bgcolor\":\"#E5ECF6\",\"caxis\":{\"gridcolor\":\"white\",\"linecolor\":\"white\",\"ticks\":\"\"}},\"title\":{\"x\":0.05},\"xaxis\":{\"automargin\":true,\"gridcolor\":\"white\",\"linecolor\":\"white\",\"ticks\":\"\",\"title\":{\"standoff\":15},\"zerolinecolor\":\"white\",\"zerolinewidth\":2},\"yaxis\":{\"automargin\":true,\"gridcolor\":\"white\",\"linecolor\":\"white\",\"ticks\":\"\",\"title\":{\"standoff\":15},\"zerolinecolor\":\"white\",\"zerolinewidth\":2}}},\"title\":{\"font\":{\"color\":\"#4D5663\"}},\"xaxis\":{\"gridcolor\":\"#E1E5ED\",\"showgrid\":true,\"tickfont\":{\"color\":\"#4D5663\"},\"title\":{\"font\":{\"color\":\"#4D5663\"},\"text\":\"\"},\"zerolinecolor\":\"#E1E5ED\"},\"yaxis\":{\"gridcolor\":\"#E1E5ED\",\"showgrid\":true,\"tickfont\":{\"color\":\"#4D5663\"},\"title\":{\"font\":{\"color\":\"#4D5663\"},\"text\":\"\"},\"zerolinecolor\":\"#E1E5ED\"}},                        {\"showLink\": true, \"linkText\": \"Export to plot.ly\", \"plotlyServerURL\": \"https://plot.ly\", \"responsive\": true}                    ).then(function(){\n",
       "                            \n",
       "var gd = document.getElementById('6c79051f-fd5b-437d-9cf8-30bbeb6c5ccf');\n",
       "var x = new MutationObserver(function (mutations, observer) {{\n",
       "        var display = window.getComputedStyle(gd).display;\n",
       "        if (!display || display === 'none') {{\n",
       "            console.log([gd, 'removed!']);\n",
       "            Plotly.purge(gd);\n",
       "            observer.disconnect();\n",
       "        }}\n",
       "}});\n",
       "\n",
       "// Listen for the removal of the full notebook cells\n",
       "var notebookContainer = gd.closest('#notebook-container');\n",
       "if (notebookContainer) {{\n",
       "    x.observe(notebookContainer, {childList: true});\n",
       "}}\n",
       "\n",
       "// Listen for the clearing of the current output cell\n",
       "var outputEl = gd.closest('.output');\n",
       "if (outputEl) {{\n",
       "    x.observe(outputEl, {childList: true});\n",
       "}}\n",
       "\n",
       "                        })                };                });            </script>        </div>"
      ]
     },
     "metadata": {},
     "output_type": "display_data"
    }
   ],
   "source": [
    "df.count().iplot(kind=\"bar\")"
   ]
  },
  {
   "cell_type": "code",
   "execution_count": 34,
   "id": "c6ebf8ed",
   "metadata": {},
   "outputs": [
    {
     "data": {
      "application/vnd.plotly.v1+json": {
       "config": {
        "linkText": "Export to plot.ly",
        "plotlyServerURL": "https://plot.ly",
        "showLink": true
       },
       "data": [
        {
         "boxpoints": false,
         "line": {
          "width": 1.3
         },
         "marker": {
          "color": "rgba(255, 153, 51, 1.0)"
         },
         "name": "A",
         "orientation": "v",
         "type": "box",
         "y": [
          0.5745116639033776,
          0.9785972848361238,
          -0.46469597183700806,
          0.9184812368604616,
          0.5817003574663901,
          -0.8855551147163485,
          0.09441057738706614,
          1.7836130306849607,
          0.10863026996968499,
          1.655210904475645,
          0.30667166945281715,
          -1.476029094117104,
          0.799313372611074,
          -1.182350550952549,
          -1.6214507865494476,
          -0.42659969531808345,
          -0.3185300279638153,
          -1.3113068558963037,
          0.45441541274656017,
          -0.443448868043506,
          -0.3135832451503955,
          -0.07429059560938601,
          1.8304855967609228,
          -0.0713168342931115,
          0.8847741156048016,
          0.3452923952775951,
          0.5801132528806705,
          0.7624799832899686,
          0.3322130822954626,
          -0.14242422341213887,
          0.5869469207911738,
          0.6341426054564636,
          2.6938248204297524,
          0.8375677977573818,
          -0.2802251892428954,
          -0.5670142257178402,
          -0.8146887280907159,
          -0.6668992899757032,
          2.2222815451456523,
          -0.7833069320609886,
          0.9905961044054827,
          -0.3256149670770055,
          0.7365672470102214,
          -1.0926596097491235,
          1.1139787434940185,
          -0.6114157064105485,
          -0.450868606112402,
          -0.36872430246246546,
          -0.3249512173133247,
          2.1636131958285767,
          -0.75466909629134,
          -1.288377728305726,
          0.605480241918969,
          -1.7403342621117603,
          -0.5767090901550972,
          0.9862116910360376,
          -0.07369698703587212,
          0.20182496138164546,
          -1.2045105548068864,
          -0.7002951860185551,
          -0.5703494211401896,
          -0.68009580336817,
          0.6916715289142051,
          0.27340901129917644,
          -0.29035920152335515,
          0.2852039886179615,
          0.7133312233350243,
          -0.91547252184514,
          0.28003515738276347,
          1.4923423101747046,
          -0.027191134486079134,
          1.6319337877418953,
          -1.3711337986599788,
          -0.8071766479811399,
          1.318813382305548,
          -0.10012598881905053,
          0.46188415018899753,
          -0.04060855731254377,
          2.087349678948209,
          -0.7295423629444664,
          -1.465500164221751,
          0.7008696270372898,
          -1.7579283442082925,
          -1.7328437612335499,
          0.5294871189749688,
          1.43612734612469,
          0.04680259369241339,
          -1.3526150222323468,
          0.6582598167822007,
          -1.9950013095935213,
          0.4033083680452155,
          0.8175282263646728,
          0.07014198917232728,
          0.43828413155616214,
          0.24968000311555905,
          -0.387429824957257,
          -0.031778227882134205,
          -0.8623267915106497,
          -0.953740984431478,
          -0.05445983399194409
         ]
        },
        {
         "boxpoints": false,
         "line": {
          "width": 1.3
         },
         "marker": {
          "color": "rgba(55, 128, 191, 1.0)"
         },
         "name": "B",
         "orientation": "v",
         "type": "box",
         "y": [
          0.3484717820327838,
          0.5039583742528283,
          -0.9990150314466602,
          0.604350440733284,
          0.16033161362756743,
          1.060326634828224,
          0.5691134915340805,
          -0.902432065184702,
          -0.0009131599102196734,
          0.09740491055972142,
          -1.4180894025378805,
          -0.1803668008622408,
          -1.7737974336650428,
          -0.6506678065802198,
          0.8841075279030496,
          -0.5049945854318697,
          0.7239937184181856,
          -1.4383931275209565,
          0.8453066301750151,
          0.34762005674502483,
          2.0400388372549223,
          -2.157315730611294,
          0.2209478364340322,
          1.802311901385443,
          3.3671102200760767,
          -1.7890851153801186,
          0.8635998111125606,
          0.04538181554622621,
          -0.8768539270570925,
          -1.1561098530930023,
          0.469769961263792,
          0.10483776806045433,
          1.1257947743633177,
          -3.1103162481128477,
          -0.3935244258767791,
          -0.07811839656271094,
          -1.0693390703646042,
          0.7577788997522897,
          0.8548256973784643,
          -0.7227486071850662,
          0.12621136521701642,
          -1.5686850089516764,
          2.3752191234886935,
          1.4117382899520032,
          -0.06966122654057275,
          -0.2222910739555117,
          0.6192503527480322,
          -0.008653601175503829,
          1.155008140394314,
          1.1213681767834516,
          0.6227605959154743,
          3.0697752847408153,
          -0.7300573613661158,
          0.13952947626816217,
          -1.9619353983439314,
          0.701911922424966,
          -0.5785472608072868,
          0.904956567921151,
          -0.9164830751388292,
          2.072689928015543,
          -1.266120789293466,
          -1.3461698573203658,
          -1.5214579615650425,
          -0.5072045185877293,
          -0.7444078207165821,
          2.104810542954587,
          -0.5768261503583167,
          2.6776643429524682,
          -2.3662353087503725,
          0.8183446525143931,
          0.7134885860563976,
          1.0906029212725172,
          -0.7230975990475973,
          0.03037479719875758,
          -0.28281776746578247,
          -2.507508618860443,
          -1.5149956387038264,
          0.2410973606292827,
          0.6497788978731519,
          -0.6259518762684783,
          0.48969228635237555,
          -0.2923666080038938,
          -0.3205481507170632,
          -0.43491892684007843,
          0.7769155155258977,
          -0.8411034149662258,
          -0.5552018807643755,
          -0.2920563678052631,
          1.7897545559348271,
          0.2610504779580989,
          -1.4069427847349,
          -1.9312946429450102,
          -0.25086161419952285,
          3.056499097584156,
          -0.1159568138865182,
          0.5182386214901665,
          -1.1810581543932195,
          0.38615617047610795,
          0.5564841086303987,
          -1.2559280625325615
         ]
        },
        {
         "boxpoints": false,
         "line": {
          "width": 1.3
         },
         "marker": {
          "color": "rgba(50, 171, 96, 1.0)"
         },
         "name": "C",
         "orientation": "v",
         "type": "box",
         "y": [
          -0.6279178473499555,
          0.34622561345445335,
          0.6075860797924031,
          0.02913262936668257,
          0.9197560845710289,
          -0.7699731478454107,
          1.262751820212759,
          0.5433569547085509,
          -0.04482419281941183,
          -1.8029330477391154,
          -0.3635930655564669,
          -0.32293359057263066,
          -1.0903441436528212,
          0.7868906023265563,
          1.8802309640937576,
          -1.1904067058610839,
          0.9208295249944821,
          -0.010545087497734865,
          -0.47535946760931175,
          -0.49259542313300664,
          0.49951299732480203,
          0.6107458107182563,
          -0.44760546551429015,
          0.7441989280214762,
          0.126282178595897,
          0.5799743994055035,
          0.8448531473533216,
          0.01721277105263823,
          0.3983984851970272,
          0.8998252618913929,
          -1.128139718568078,
          -2.4470170704696845,
          -0.7641046776489488,
          1.2088552628983082,
          -0.5064963552932986,
          -0.2368630390955342,
          -0.8377971315111741,
          1.1431791731062944,
          -0.33630594515135365,
          -0.05498773522437794,
          0.12855901062512956,
          1.2882887971043535,
          -1.1079393728923863,
          -1.1240040458096074,
          0.20613811688148714,
          0.6603564503196672,
          -0.07931323212753368,
          0.500898078337865,
          0.11881201356812975,
          -0.7348269138908055,
          -1.2170323289831457,
          0.6005777097187909,
          0.31804334040013993,
          -0.6103546895923493,
          0.3376553321693647,
          -0.6970522403401523,
          -1.395723901987532,
          -0.5724566426848541,
          0.41720725384278323,
          0.5623509112780184,
          1.8705345966014466,
          -1.2677745554240667,
          0.9249856098999654,
          0.16752698109952394,
          -0.8547190482771455,
          -0.2760246934292152,
          1.4249491140674166,
          0.461527822040228,
          0.4608526377560005,
          0.21554681297308004,
          -0.3775884115532785,
          0.5779896658643389,
          -0.13449231921950758,
          0.8034085123741144,
          -0.10994124229232537,
          -1.271901145263936,
          -0.30024887575895737,
          0.7338930349916993,
          0.5996504619148298,
          1.3857603182449478,
          -1.4056057067335495,
          0.9151144691560194,
          -0.12771332861383022,
          0.10129448760262104,
          -1.436262638647789,
          -1.0767602472155713,
          -0.2784479812254053,
          0.2896633485845398,
          0.15840710572744796,
          0.16207494875451453,
          -0.705880200771333,
          1.0282269568186841,
          -0.0662258920562984,
          -0.8766807393776468,
          0.6693348680615138,
          -0.4580944882884912,
          0.3660714458836404,
          2.1712711304260988,
          -0.6079636194188285,
          -1.6330563833064893
         ]
        },
        {
         "boxpoints": false,
         "line": {
          "width": 1.3
         },
         "marker": {
          "color": "rgba(128, 0, 128, 1.0)"
         },
         "name": "D",
         "orientation": "v",
         "type": "box",
         "y": [
          1.9606853783266955,
          -1.0136178810359866,
          1.4910953108378,
          -0.3189171713047649,
          0.021843353198976265,
          0.4994652389137691,
          0.6025525448423065,
          -0.21935349285008657,
          -0.980921477319787,
          0.15381984638449858,
          0.25878300442220536,
          0.2699586885699263,
          -0.1873621610845983,
          0.43536025465544065,
          -1.5449545635773947,
          2.0395544786006714,
          -0.6480518257395195,
          0.808721090642994,
          -0.36719354125504494,
          -0.001025316925003803,
          0.8685637725200062,
          -0.6601768772363882,
          -0.6959594745559767,
          0.41764298027593005,
          -0.3333116698881908,
          0.5503601390374941,
          -0.28209193456661696,
          -1.1369615553160728,
          -2.2545149710465613,
          -0.7948856937950168,
          0.5275437880904109,
          0.11551200209770948,
          0.9320589237708774,
          0.42408266688622964,
          0.42268697686270573,
          0.45085952784692396,
          0.48019269833110984,
          0.34403733308482704,
          -0.5615786227070604,
          -0.2368320299715633,
          -0.43983229008381397,
          0.4055089919780472,
          -0.7031968631290005,
          1.0481306791280107,
          -0.5021248693181799,
          2.6184137554616247,
          -0.42501359786823517,
          0.10522954657932518,
          0.6134329174956021,
          1.1904947545127642,
          0.5618872339979997,
          0.34093915540513064,
          0.2854264334198376,
          -2.50992325626351,
          -0.037972860865348235,
          -0.18829670714289753,
          -2.1286085932779284,
          -1.2835300856396996,
          -0.06223488570762441,
          -0.3194064224602298,
          1.2313290995397501,
          -1.5149777816912295,
          -0.34254587282552446,
          -0.6118002590508678,
          0.9164634051413787,
          0.6416523969220308,
          0.8214296467449537,
          -1.5916357601379973,
          0.7184667905552226,
          -0.2135752689842116,
          -0.21718171400949463,
          -0.16507577784971347,
          -0.7448777745649179,
          -0.8368103625305751,
          0.6156877429083625,
          0.41167420140018496,
          -0.050175997897253875,
          0.42280045371233105,
          0.6272893420786025,
          -1.832109685866272,
          0.6069988870305376,
          -0.38886220134506994,
          1.1739274102042094,
          -1.3756508091828772,
          1.0739141347660655,
          -0.3833757608899859,
          0.7587246029321222,
          0.3821433182351493,
          -0.506829574148174,
          -3.002881245728504,
          0.004645115344238137,
          -0.3184797536289734,
          0.750134727440925,
          0.13039868795406834,
          0.8405588014809571,
          -0.3720549904327991,
          -1.3032189362566347,
          -0.8373272550808281,
          -1.1887946406131236,
          -0.1783987610128384
         ]
        }
       ],
       "layout": {
        "legend": {
         "bgcolor": "#F5F6F9",
         "font": {
          "color": "#4D5663"
         }
        },
        "paper_bgcolor": "#F5F6F9",
        "plot_bgcolor": "#F5F6F9",
        "template": {
         "data": {
          "bar": [
           {
            "error_x": {
             "color": "#2a3f5f"
            },
            "error_y": {
             "color": "#2a3f5f"
            },
            "marker": {
             "line": {
              "color": "#E5ECF6",
              "width": 0.5
             },
             "pattern": {
              "fillmode": "overlay",
              "size": 10,
              "solidity": 0.2
             }
            },
            "type": "bar"
           }
          ],
          "barpolar": [
           {
            "marker": {
             "line": {
              "color": "#E5ECF6",
              "width": 0.5
             },
             "pattern": {
              "fillmode": "overlay",
              "size": 10,
              "solidity": 0.2
             }
            },
            "type": "barpolar"
           }
          ],
          "carpet": [
           {
            "aaxis": {
             "endlinecolor": "#2a3f5f",
             "gridcolor": "white",
             "linecolor": "white",
             "minorgridcolor": "white",
             "startlinecolor": "#2a3f5f"
            },
            "baxis": {
             "endlinecolor": "#2a3f5f",
             "gridcolor": "white",
             "linecolor": "white",
             "minorgridcolor": "white",
             "startlinecolor": "#2a3f5f"
            },
            "type": "carpet"
           }
          ],
          "choropleth": [
           {
            "colorbar": {
             "outlinewidth": 0,
             "ticks": ""
            },
            "type": "choropleth"
           }
          ],
          "contour": [
           {
            "colorbar": {
             "outlinewidth": 0,
             "ticks": ""
            },
            "colorscale": [
             [
              0,
              "#0d0887"
             ],
             [
              0.1111111111111111,
              "#46039f"
             ],
             [
              0.2222222222222222,
              "#7201a8"
             ],
             [
              0.3333333333333333,
              "#9c179e"
             ],
             [
              0.4444444444444444,
              "#bd3786"
             ],
             [
              0.5555555555555556,
              "#d8576b"
             ],
             [
              0.6666666666666666,
              "#ed7953"
             ],
             [
              0.7777777777777778,
              "#fb9f3a"
             ],
             [
              0.8888888888888888,
              "#fdca26"
             ],
             [
              1,
              "#f0f921"
             ]
            ],
            "type": "contour"
           }
          ],
          "contourcarpet": [
           {
            "colorbar": {
             "outlinewidth": 0,
             "ticks": ""
            },
            "type": "contourcarpet"
           }
          ],
          "heatmap": [
           {
            "colorbar": {
             "outlinewidth": 0,
             "ticks": ""
            },
            "colorscale": [
             [
              0,
              "#0d0887"
             ],
             [
              0.1111111111111111,
              "#46039f"
             ],
             [
              0.2222222222222222,
              "#7201a8"
             ],
             [
              0.3333333333333333,
              "#9c179e"
             ],
             [
              0.4444444444444444,
              "#bd3786"
             ],
             [
              0.5555555555555556,
              "#d8576b"
             ],
             [
              0.6666666666666666,
              "#ed7953"
             ],
             [
              0.7777777777777778,
              "#fb9f3a"
             ],
             [
              0.8888888888888888,
              "#fdca26"
             ],
             [
              1,
              "#f0f921"
             ]
            ],
            "type": "heatmap"
           }
          ],
          "heatmapgl": [
           {
            "colorbar": {
             "outlinewidth": 0,
             "ticks": ""
            },
            "colorscale": [
             [
              0,
              "#0d0887"
             ],
             [
              0.1111111111111111,
              "#46039f"
             ],
             [
              0.2222222222222222,
              "#7201a8"
             ],
             [
              0.3333333333333333,
              "#9c179e"
             ],
             [
              0.4444444444444444,
              "#bd3786"
             ],
             [
              0.5555555555555556,
              "#d8576b"
             ],
             [
              0.6666666666666666,
              "#ed7953"
             ],
             [
              0.7777777777777778,
              "#fb9f3a"
             ],
             [
              0.8888888888888888,
              "#fdca26"
             ],
             [
              1,
              "#f0f921"
             ]
            ],
            "type": "heatmapgl"
           }
          ],
          "histogram": [
           {
            "marker": {
             "pattern": {
              "fillmode": "overlay",
              "size": 10,
              "solidity": 0.2
             }
            },
            "type": "histogram"
           }
          ],
          "histogram2d": [
           {
            "colorbar": {
             "outlinewidth": 0,
             "ticks": ""
            },
            "colorscale": [
             [
              0,
              "#0d0887"
             ],
             [
              0.1111111111111111,
              "#46039f"
             ],
             [
              0.2222222222222222,
              "#7201a8"
             ],
             [
              0.3333333333333333,
              "#9c179e"
             ],
             [
              0.4444444444444444,
              "#bd3786"
             ],
             [
              0.5555555555555556,
              "#d8576b"
             ],
             [
              0.6666666666666666,
              "#ed7953"
             ],
             [
              0.7777777777777778,
              "#fb9f3a"
             ],
             [
              0.8888888888888888,
              "#fdca26"
             ],
             [
              1,
              "#f0f921"
             ]
            ],
            "type": "histogram2d"
           }
          ],
          "histogram2dcontour": [
           {
            "colorbar": {
             "outlinewidth": 0,
             "ticks": ""
            },
            "colorscale": [
             [
              0,
              "#0d0887"
             ],
             [
              0.1111111111111111,
              "#46039f"
             ],
             [
              0.2222222222222222,
              "#7201a8"
             ],
             [
              0.3333333333333333,
              "#9c179e"
             ],
             [
              0.4444444444444444,
              "#bd3786"
             ],
             [
              0.5555555555555556,
              "#d8576b"
             ],
             [
              0.6666666666666666,
              "#ed7953"
             ],
             [
              0.7777777777777778,
              "#fb9f3a"
             ],
             [
              0.8888888888888888,
              "#fdca26"
             ],
             [
              1,
              "#f0f921"
             ]
            ],
            "type": "histogram2dcontour"
           }
          ],
          "mesh3d": [
           {
            "colorbar": {
             "outlinewidth": 0,
             "ticks": ""
            },
            "type": "mesh3d"
           }
          ],
          "parcoords": [
           {
            "line": {
             "colorbar": {
              "outlinewidth": 0,
              "ticks": ""
             }
            },
            "type": "parcoords"
           }
          ],
          "pie": [
           {
            "automargin": true,
            "type": "pie"
           }
          ],
          "scatter": [
           {
            "marker": {
             "colorbar": {
              "outlinewidth": 0,
              "ticks": ""
             }
            },
            "type": "scatter"
           }
          ],
          "scatter3d": [
           {
            "line": {
             "colorbar": {
              "outlinewidth": 0,
              "ticks": ""
             }
            },
            "marker": {
             "colorbar": {
              "outlinewidth": 0,
              "ticks": ""
             }
            },
            "type": "scatter3d"
           }
          ],
          "scattercarpet": [
           {
            "marker": {
             "colorbar": {
              "outlinewidth": 0,
              "ticks": ""
             }
            },
            "type": "scattercarpet"
           }
          ],
          "scattergeo": [
           {
            "marker": {
             "colorbar": {
              "outlinewidth": 0,
              "ticks": ""
             }
            },
            "type": "scattergeo"
           }
          ],
          "scattergl": [
           {
            "marker": {
             "colorbar": {
              "outlinewidth": 0,
              "ticks": ""
             }
            },
            "type": "scattergl"
           }
          ],
          "scattermapbox": [
           {
            "marker": {
             "colorbar": {
              "outlinewidth": 0,
              "ticks": ""
             }
            },
            "type": "scattermapbox"
           }
          ],
          "scatterpolar": [
           {
            "marker": {
             "colorbar": {
              "outlinewidth": 0,
              "ticks": ""
             }
            },
            "type": "scatterpolar"
           }
          ],
          "scatterpolargl": [
           {
            "marker": {
             "colorbar": {
              "outlinewidth": 0,
              "ticks": ""
             }
            },
            "type": "scatterpolargl"
           }
          ],
          "scatterternary": [
           {
            "marker": {
             "colorbar": {
              "outlinewidth": 0,
              "ticks": ""
             }
            },
            "type": "scatterternary"
           }
          ],
          "surface": [
           {
            "colorbar": {
             "outlinewidth": 0,
             "ticks": ""
            },
            "colorscale": [
             [
              0,
              "#0d0887"
             ],
             [
              0.1111111111111111,
              "#46039f"
             ],
             [
              0.2222222222222222,
              "#7201a8"
             ],
             [
              0.3333333333333333,
              "#9c179e"
             ],
             [
              0.4444444444444444,
              "#bd3786"
             ],
             [
              0.5555555555555556,
              "#d8576b"
             ],
             [
              0.6666666666666666,
              "#ed7953"
             ],
             [
              0.7777777777777778,
              "#fb9f3a"
             ],
             [
              0.8888888888888888,
              "#fdca26"
             ],
             [
              1,
              "#f0f921"
             ]
            ],
            "type": "surface"
           }
          ],
          "table": [
           {
            "cells": {
             "fill": {
              "color": "#EBF0F8"
             },
             "line": {
              "color": "white"
             }
            },
            "header": {
             "fill": {
              "color": "#C8D4E3"
             },
             "line": {
              "color": "white"
             }
            },
            "type": "table"
           }
          ]
         },
         "layout": {
          "annotationdefaults": {
           "arrowcolor": "#2a3f5f",
           "arrowhead": 0,
           "arrowwidth": 1
          },
          "autotypenumbers": "strict",
          "coloraxis": {
           "colorbar": {
            "outlinewidth": 0,
            "ticks": ""
           }
          },
          "colorscale": {
           "diverging": [
            [
             0,
             "#8e0152"
            ],
            [
             0.1,
             "#c51b7d"
            ],
            [
             0.2,
             "#de77ae"
            ],
            [
             0.3,
             "#f1b6da"
            ],
            [
             0.4,
             "#fde0ef"
            ],
            [
             0.5,
             "#f7f7f7"
            ],
            [
             0.6,
             "#e6f5d0"
            ],
            [
             0.7,
             "#b8e186"
            ],
            [
             0.8,
             "#7fbc41"
            ],
            [
             0.9,
             "#4d9221"
            ],
            [
             1,
             "#276419"
            ]
           ],
           "sequential": [
            [
             0,
             "#0d0887"
            ],
            [
             0.1111111111111111,
             "#46039f"
            ],
            [
             0.2222222222222222,
             "#7201a8"
            ],
            [
             0.3333333333333333,
             "#9c179e"
            ],
            [
             0.4444444444444444,
             "#bd3786"
            ],
            [
             0.5555555555555556,
             "#d8576b"
            ],
            [
             0.6666666666666666,
             "#ed7953"
            ],
            [
             0.7777777777777778,
             "#fb9f3a"
            ],
            [
             0.8888888888888888,
             "#fdca26"
            ],
            [
             1,
             "#f0f921"
            ]
           ],
           "sequentialminus": [
            [
             0,
             "#0d0887"
            ],
            [
             0.1111111111111111,
             "#46039f"
            ],
            [
             0.2222222222222222,
             "#7201a8"
            ],
            [
             0.3333333333333333,
             "#9c179e"
            ],
            [
             0.4444444444444444,
             "#bd3786"
            ],
            [
             0.5555555555555556,
             "#d8576b"
            ],
            [
             0.6666666666666666,
             "#ed7953"
            ],
            [
             0.7777777777777778,
             "#fb9f3a"
            ],
            [
             0.8888888888888888,
             "#fdca26"
            ],
            [
             1,
             "#f0f921"
            ]
           ]
          },
          "colorway": [
           "#636efa",
           "#EF553B",
           "#00cc96",
           "#ab63fa",
           "#FFA15A",
           "#19d3f3",
           "#FF6692",
           "#B6E880",
           "#FF97FF",
           "#FECB52"
          ],
          "font": {
           "color": "#2a3f5f"
          },
          "geo": {
           "bgcolor": "white",
           "lakecolor": "white",
           "landcolor": "#E5ECF6",
           "showlakes": true,
           "showland": true,
           "subunitcolor": "white"
          },
          "hoverlabel": {
           "align": "left"
          },
          "hovermode": "closest",
          "mapbox": {
           "style": "light"
          },
          "paper_bgcolor": "white",
          "plot_bgcolor": "#E5ECF6",
          "polar": {
           "angularaxis": {
            "gridcolor": "white",
            "linecolor": "white",
            "ticks": ""
           },
           "bgcolor": "#E5ECF6",
           "radialaxis": {
            "gridcolor": "white",
            "linecolor": "white",
            "ticks": ""
           }
          },
          "scene": {
           "xaxis": {
            "backgroundcolor": "#E5ECF6",
            "gridcolor": "white",
            "gridwidth": 2,
            "linecolor": "white",
            "showbackground": true,
            "ticks": "",
            "zerolinecolor": "white"
           },
           "yaxis": {
            "backgroundcolor": "#E5ECF6",
            "gridcolor": "white",
            "gridwidth": 2,
            "linecolor": "white",
            "showbackground": true,
            "ticks": "",
            "zerolinecolor": "white"
           },
           "zaxis": {
            "backgroundcolor": "#E5ECF6",
            "gridcolor": "white",
            "gridwidth": 2,
            "linecolor": "white",
            "showbackground": true,
            "ticks": "",
            "zerolinecolor": "white"
           }
          },
          "shapedefaults": {
           "line": {
            "color": "#2a3f5f"
           }
          },
          "ternary": {
           "aaxis": {
            "gridcolor": "white",
            "linecolor": "white",
            "ticks": ""
           },
           "baxis": {
            "gridcolor": "white",
            "linecolor": "white",
            "ticks": ""
           },
           "bgcolor": "#E5ECF6",
           "caxis": {
            "gridcolor": "white",
            "linecolor": "white",
            "ticks": ""
           }
          },
          "title": {
           "x": 0.05
          },
          "xaxis": {
           "automargin": true,
           "gridcolor": "white",
           "linecolor": "white",
           "ticks": "",
           "title": {
            "standoff": 15
           },
           "zerolinecolor": "white",
           "zerolinewidth": 2
          },
          "yaxis": {
           "automargin": true,
           "gridcolor": "white",
           "linecolor": "white",
           "ticks": "",
           "title": {
            "standoff": 15
           },
           "zerolinecolor": "white",
           "zerolinewidth": 2
          }
         }
        },
        "title": {
         "font": {
          "color": "#4D5663"
         }
        },
        "xaxis": {
         "gridcolor": "#E1E5ED",
         "showgrid": true,
         "tickfont": {
          "color": "#4D5663"
         },
         "title": {
          "font": {
           "color": "#4D5663"
          },
          "text": ""
         },
         "zerolinecolor": "#E1E5ED"
        },
        "yaxis": {
         "gridcolor": "#E1E5ED",
         "showgrid": true,
         "tickfont": {
          "color": "#4D5663"
         },
         "title": {
          "font": {
           "color": "#4D5663"
          },
          "text": ""
         },
         "zerolinecolor": "#E1E5ED"
        }
       }
      },
      "text/html": [
       "<div>                            <div id=\"5c29ad3f-430f-4cef-b8e1-e92fb357f9c7\" class=\"plotly-graph-div\" style=\"height:525px; width:100%;\"></div>            <script type=\"text/javascript\">                require([\"plotly\"], function(Plotly) {                    window.PLOTLYENV=window.PLOTLYENV || {};\n",
       "                    window.PLOTLYENV.BASE_URL='https://plot.ly';                                    if (document.getElementById(\"5c29ad3f-430f-4cef-b8e1-e92fb357f9c7\")) {                    Plotly.newPlot(                        \"5c29ad3f-430f-4cef-b8e1-e92fb357f9c7\",                        [{\"boxpoints\":false,\"line\":{\"width\":1.3},\"marker\":{\"color\":\"rgba(255, 153, 51, 1.0)\"},\"name\":\"A\",\"orientation\":\"v\",\"y\":[0.5745116639033776,0.9785972848361238,-0.46469597183700806,0.9184812368604616,0.5817003574663901,-0.8855551147163485,0.09441057738706614,1.7836130306849607,0.10863026996968499,1.655210904475645,0.30667166945281715,-1.476029094117104,0.799313372611074,-1.182350550952549,-1.6214507865494476,-0.42659969531808345,-0.3185300279638153,-1.3113068558963037,0.45441541274656017,-0.443448868043506,-0.3135832451503955,-0.07429059560938601,1.8304855967609228,-0.0713168342931115,0.8847741156048016,0.3452923952775951,0.5801132528806705,0.7624799832899686,0.3322130822954626,-0.14242422341213887,0.5869469207911738,0.6341426054564636,2.6938248204297524,0.8375677977573818,-0.2802251892428954,-0.5670142257178402,-0.8146887280907159,-0.6668992899757032,2.2222815451456523,-0.7833069320609886,0.9905961044054827,-0.3256149670770055,0.7365672470102214,-1.0926596097491235,1.1139787434940185,-0.6114157064105485,-0.450868606112402,-0.36872430246246546,-0.3249512173133247,2.1636131958285767,-0.75466909629134,-1.288377728305726,0.605480241918969,-1.7403342621117603,-0.5767090901550972,0.9862116910360376,-0.07369698703587212,0.20182496138164546,-1.2045105548068864,-0.7002951860185551,-0.5703494211401896,-0.68009580336817,0.6916715289142051,0.27340901129917644,-0.29035920152335515,0.2852039886179615,0.7133312233350243,-0.91547252184514,0.28003515738276347,1.4923423101747046,-0.027191134486079134,1.6319337877418953,-1.3711337986599788,-0.8071766479811399,1.318813382305548,-0.10012598881905053,0.46188415018899753,-0.04060855731254377,2.087349678948209,-0.7295423629444664,-1.465500164221751,0.7008696270372898,-1.7579283442082925,-1.7328437612335499,0.5294871189749688,1.43612734612469,0.04680259369241339,-1.3526150222323468,0.6582598167822007,-1.9950013095935213,0.4033083680452155,0.8175282263646728,0.07014198917232728,0.43828413155616214,0.24968000311555905,-0.387429824957257,-0.031778227882134205,-0.8623267915106497,-0.953740984431478,-0.05445983399194409],\"type\":\"box\"},{\"boxpoints\":false,\"line\":{\"width\":1.3},\"marker\":{\"color\":\"rgba(55, 128, 191, 1.0)\"},\"name\":\"B\",\"orientation\":\"v\",\"y\":[0.3484717820327838,0.5039583742528283,-0.9990150314466602,0.604350440733284,0.16033161362756743,1.060326634828224,0.5691134915340805,-0.902432065184702,-0.0009131599102196734,0.09740491055972142,-1.4180894025378805,-0.1803668008622408,-1.7737974336650428,-0.6506678065802198,0.8841075279030496,-0.5049945854318697,0.7239937184181856,-1.4383931275209565,0.8453066301750151,0.34762005674502483,2.0400388372549223,-2.157315730611294,0.2209478364340322,1.802311901385443,3.3671102200760767,-1.7890851153801186,0.8635998111125606,0.04538181554622621,-0.8768539270570925,-1.1561098530930023,0.469769961263792,0.10483776806045433,1.1257947743633177,-3.1103162481128477,-0.3935244258767791,-0.07811839656271094,-1.0693390703646042,0.7577788997522897,0.8548256973784643,-0.7227486071850662,0.12621136521701642,-1.5686850089516764,2.3752191234886935,1.4117382899520032,-0.06966122654057275,-0.2222910739555117,0.6192503527480322,-0.008653601175503829,1.155008140394314,1.1213681767834516,0.6227605959154743,3.0697752847408153,-0.7300573613661158,0.13952947626816217,-1.9619353983439314,0.701911922424966,-0.5785472608072868,0.904956567921151,-0.9164830751388292,2.072689928015543,-1.266120789293466,-1.3461698573203658,-1.5214579615650425,-0.5072045185877293,-0.7444078207165821,2.104810542954587,-0.5768261503583167,2.6776643429524682,-2.3662353087503725,0.8183446525143931,0.7134885860563976,1.0906029212725172,-0.7230975990475973,0.03037479719875758,-0.28281776746578247,-2.507508618860443,-1.5149956387038264,0.2410973606292827,0.6497788978731519,-0.6259518762684783,0.48969228635237555,-0.2923666080038938,-0.3205481507170632,-0.43491892684007843,0.7769155155258977,-0.8411034149662258,-0.5552018807643755,-0.2920563678052631,1.7897545559348271,0.2610504779580989,-1.4069427847349,-1.9312946429450102,-0.25086161419952285,3.056499097584156,-0.1159568138865182,0.5182386214901665,-1.1810581543932195,0.38615617047610795,0.5564841086303987,-1.2559280625325615],\"type\":\"box\"},{\"boxpoints\":false,\"line\":{\"width\":1.3},\"marker\":{\"color\":\"rgba(50, 171, 96, 1.0)\"},\"name\":\"C\",\"orientation\":\"v\",\"y\":[-0.6279178473499555,0.34622561345445335,0.6075860797924031,0.02913262936668257,0.9197560845710289,-0.7699731478454107,1.262751820212759,0.5433569547085509,-0.04482419281941183,-1.8029330477391154,-0.3635930655564669,-0.32293359057263066,-1.0903441436528212,0.7868906023265563,1.8802309640937576,-1.1904067058610839,0.9208295249944821,-0.010545087497734865,-0.47535946760931175,-0.49259542313300664,0.49951299732480203,0.6107458107182563,-0.44760546551429015,0.7441989280214762,0.126282178595897,0.5799743994055035,0.8448531473533216,0.01721277105263823,0.3983984851970272,0.8998252618913929,-1.128139718568078,-2.4470170704696845,-0.7641046776489488,1.2088552628983082,-0.5064963552932986,-0.2368630390955342,-0.8377971315111741,1.1431791731062944,-0.33630594515135365,-0.05498773522437794,0.12855901062512956,1.2882887971043535,-1.1079393728923863,-1.1240040458096074,0.20613811688148714,0.6603564503196672,-0.07931323212753368,0.500898078337865,0.11881201356812975,-0.7348269138908055,-1.2170323289831457,0.6005777097187909,0.31804334040013993,-0.6103546895923493,0.3376553321693647,-0.6970522403401523,-1.395723901987532,-0.5724566426848541,0.41720725384278323,0.5623509112780184,1.8705345966014466,-1.2677745554240667,0.9249856098999654,0.16752698109952394,-0.8547190482771455,-0.2760246934292152,1.4249491140674166,0.461527822040228,0.4608526377560005,0.21554681297308004,-0.3775884115532785,0.5779896658643389,-0.13449231921950758,0.8034085123741144,-0.10994124229232537,-1.271901145263936,-0.30024887575895737,0.7338930349916993,0.5996504619148298,1.3857603182449478,-1.4056057067335495,0.9151144691560194,-0.12771332861383022,0.10129448760262104,-1.436262638647789,-1.0767602472155713,-0.2784479812254053,0.2896633485845398,0.15840710572744796,0.16207494875451453,-0.705880200771333,1.0282269568186841,-0.0662258920562984,-0.8766807393776468,0.6693348680615138,-0.4580944882884912,0.3660714458836404,2.1712711304260988,-0.6079636194188285,-1.6330563833064893],\"type\":\"box\"},{\"boxpoints\":false,\"line\":{\"width\":1.3},\"marker\":{\"color\":\"rgba(128, 0, 128, 1.0)\"},\"name\":\"D\",\"orientation\":\"v\",\"y\":[1.9606853783266955,-1.0136178810359866,1.4910953108378,-0.3189171713047649,0.021843353198976265,0.4994652389137691,0.6025525448423065,-0.21935349285008657,-0.980921477319787,0.15381984638449858,0.25878300442220536,0.2699586885699263,-0.1873621610845983,0.43536025465544065,-1.5449545635773947,2.0395544786006714,-0.6480518257395195,0.808721090642994,-0.36719354125504494,-0.001025316925003803,0.8685637725200062,-0.6601768772363882,-0.6959594745559767,0.41764298027593005,-0.3333116698881908,0.5503601390374941,-0.28209193456661696,-1.1369615553160728,-2.2545149710465613,-0.7948856937950168,0.5275437880904109,0.11551200209770948,0.9320589237708774,0.42408266688622964,0.42268697686270573,0.45085952784692396,0.48019269833110984,0.34403733308482704,-0.5615786227070604,-0.2368320299715633,-0.43983229008381397,0.4055089919780472,-0.7031968631290005,1.0481306791280107,-0.5021248693181799,2.6184137554616247,-0.42501359786823517,0.10522954657932518,0.6134329174956021,1.1904947545127642,0.5618872339979997,0.34093915540513064,0.2854264334198376,-2.50992325626351,-0.037972860865348235,-0.18829670714289753,-2.1286085932779284,-1.2835300856396996,-0.06223488570762441,-0.3194064224602298,1.2313290995397501,-1.5149777816912295,-0.34254587282552446,-0.6118002590508678,0.9164634051413787,0.6416523969220308,0.8214296467449537,-1.5916357601379973,0.7184667905552226,-0.2135752689842116,-0.21718171400949463,-0.16507577784971347,-0.7448777745649179,-0.8368103625305751,0.6156877429083625,0.41167420140018496,-0.050175997897253875,0.42280045371233105,0.6272893420786025,-1.832109685866272,0.6069988870305376,-0.38886220134506994,1.1739274102042094,-1.3756508091828772,1.0739141347660655,-0.3833757608899859,0.7587246029321222,0.3821433182351493,-0.506829574148174,-3.002881245728504,0.004645115344238137,-0.3184797536289734,0.750134727440925,0.13039868795406834,0.8405588014809571,-0.3720549904327991,-1.3032189362566347,-0.8373272550808281,-1.1887946406131236,-0.1783987610128384],\"type\":\"box\"}],                        {\"legend\":{\"bgcolor\":\"#F5F6F9\",\"font\":{\"color\":\"#4D5663\"}},\"paper_bgcolor\":\"#F5F6F9\",\"plot_bgcolor\":\"#F5F6F9\",\"template\":{\"data\":{\"barpolar\":[{\"marker\":{\"line\":{\"color\":\"#E5ECF6\",\"width\":0.5},\"pattern\":{\"fillmode\":\"overlay\",\"size\":10,\"solidity\":0.2}},\"type\":\"barpolar\"}],\"bar\":[{\"error_x\":{\"color\":\"#2a3f5f\"},\"error_y\":{\"color\":\"#2a3f5f\"},\"marker\":{\"line\":{\"color\":\"#E5ECF6\",\"width\":0.5},\"pattern\":{\"fillmode\":\"overlay\",\"size\":10,\"solidity\":0.2}},\"type\":\"bar\"}],\"carpet\":[{\"aaxis\":{\"endlinecolor\":\"#2a3f5f\",\"gridcolor\":\"white\",\"linecolor\":\"white\",\"minorgridcolor\":\"white\",\"startlinecolor\":\"#2a3f5f\"},\"baxis\":{\"endlinecolor\":\"#2a3f5f\",\"gridcolor\":\"white\",\"linecolor\":\"white\",\"minorgridcolor\":\"white\",\"startlinecolor\":\"#2a3f5f\"},\"type\":\"carpet\"}],\"choropleth\":[{\"colorbar\":{\"outlinewidth\":0,\"ticks\":\"\"},\"type\":\"choropleth\"}],\"contourcarpet\":[{\"colorbar\":{\"outlinewidth\":0,\"ticks\":\"\"},\"type\":\"contourcarpet\"}],\"contour\":[{\"colorbar\":{\"outlinewidth\":0,\"ticks\":\"\"},\"colorscale\":[[0.0,\"#0d0887\"],[0.1111111111111111,\"#46039f\"],[0.2222222222222222,\"#7201a8\"],[0.3333333333333333,\"#9c179e\"],[0.4444444444444444,\"#bd3786\"],[0.5555555555555556,\"#d8576b\"],[0.6666666666666666,\"#ed7953\"],[0.7777777777777778,\"#fb9f3a\"],[0.8888888888888888,\"#fdca26\"],[1.0,\"#f0f921\"]],\"type\":\"contour\"}],\"heatmapgl\":[{\"colorbar\":{\"outlinewidth\":0,\"ticks\":\"\"},\"colorscale\":[[0.0,\"#0d0887\"],[0.1111111111111111,\"#46039f\"],[0.2222222222222222,\"#7201a8\"],[0.3333333333333333,\"#9c179e\"],[0.4444444444444444,\"#bd3786\"],[0.5555555555555556,\"#d8576b\"],[0.6666666666666666,\"#ed7953\"],[0.7777777777777778,\"#fb9f3a\"],[0.8888888888888888,\"#fdca26\"],[1.0,\"#f0f921\"]],\"type\":\"heatmapgl\"}],\"heatmap\":[{\"colorbar\":{\"outlinewidth\":0,\"ticks\":\"\"},\"colorscale\":[[0.0,\"#0d0887\"],[0.1111111111111111,\"#46039f\"],[0.2222222222222222,\"#7201a8\"],[0.3333333333333333,\"#9c179e\"],[0.4444444444444444,\"#bd3786\"],[0.5555555555555556,\"#d8576b\"],[0.6666666666666666,\"#ed7953\"],[0.7777777777777778,\"#fb9f3a\"],[0.8888888888888888,\"#fdca26\"],[1.0,\"#f0f921\"]],\"type\":\"heatmap\"}],\"histogram2dcontour\":[{\"colorbar\":{\"outlinewidth\":0,\"ticks\":\"\"},\"colorscale\":[[0.0,\"#0d0887\"],[0.1111111111111111,\"#46039f\"],[0.2222222222222222,\"#7201a8\"],[0.3333333333333333,\"#9c179e\"],[0.4444444444444444,\"#bd3786\"],[0.5555555555555556,\"#d8576b\"],[0.6666666666666666,\"#ed7953\"],[0.7777777777777778,\"#fb9f3a\"],[0.8888888888888888,\"#fdca26\"],[1.0,\"#f0f921\"]],\"type\":\"histogram2dcontour\"}],\"histogram2d\":[{\"colorbar\":{\"outlinewidth\":0,\"ticks\":\"\"},\"colorscale\":[[0.0,\"#0d0887\"],[0.1111111111111111,\"#46039f\"],[0.2222222222222222,\"#7201a8\"],[0.3333333333333333,\"#9c179e\"],[0.4444444444444444,\"#bd3786\"],[0.5555555555555556,\"#d8576b\"],[0.6666666666666666,\"#ed7953\"],[0.7777777777777778,\"#fb9f3a\"],[0.8888888888888888,\"#fdca26\"],[1.0,\"#f0f921\"]],\"type\":\"histogram2d\"}],\"histogram\":[{\"marker\":{\"pattern\":{\"fillmode\":\"overlay\",\"size\":10,\"solidity\":0.2}},\"type\":\"histogram\"}],\"mesh3d\":[{\"colorbar\":{\"outlinewidth\":0,\"ticks\":\"\"},\"type\":\"mesh3d\"}],\"parcoords\":[{\"line\":{\"colorbar\":{\"outlinewidth\":0,\"ticks\":\"\"}},\"type\":\"parcoords\"}],\"pie\":[{\"automargin\":true,\"type\":\"pie\"}],\"scatter3d\":[{\"line\":{\"colorbar\":{\"outlinewidth\":0,\"ticks\":\"\"}},\"marker\":{\"colorbar\":{\"outlinewidth\":0,\"ticks\":\"\"}},\"type\":\"scatter3d\"}],\"scattercarpet\":[{\"marker\":{\"colorbar\":{\"outlinewidth\":0,\"ticks\":\"\"}},\"type\":\"scattercarpet\"}],\"scattergeo\":[{\"marker\":{\"colorbar\":{\"outlinewidth\":0,\"ticks\":\"\"}},\"type\":\"scattergeo\"}],\"scattergl\":[{\"marker\":{\"colorbar\":{\"outlinewidth\":0,\"ticks\":\"\"}},\"type\":\"scattergl\"}],\"scattermapbox\":[{\"marker\":{\"colorbar\":{\"outlinewidth\":0,\"ticks\":\"\"}},\"type\":\"scattermapbox\"}],\"scatterpolargl\":[{\"marker\":{\"colorbar\":{\"outlinewidth\":0,\"ticks\":\"\"}},\"type\":\"scatterpolargl\"}],\"scatterpolar\":[{\"marker\":{\"colorbar\":{\"outlinewidth\":0,\"ticks\":\"\"}},\"type\":\"scatterpolar\"}],\"scatter\":[{\"marker\":{\"colorbar\":{\"outlinewidth\":0,\"ticks\":\"\"}},\"type\":\"scatter\"}],\"scatterternary\":[{\"marker\":{\"colorbar\":{\"outlinewidth\":0,\"ticks\":\"\"}},\"type\":\"scatterternary\"}],\"surface\":[{\"colorbar\":{\"outlinewidth\":0,\"ticks\":\"\"},\"colorscale\":[[0.0,\"#0d0887\"],[0.1111111111111111,\"#46039f\"],[0.2222222222222222,\"#7201a8\"],[0.3333333333333333,\"#9c179e\"],[0.4444444444444444,\"#bd3786\"],[0.5555555555555556,\"#d8576b\"],[0.6666666666666666,\"#ed7953\"],[0.7777777777777778,\"#fb9f3a\"],[0.8888888888888888,\"#fdca26\"],[1.0,\"#f0f921\"]],\"type\":\"surface\"}],\"table\":[{\"cells\":{\"fill\":{\"color\":\"#EBF0F8\"},\"line\":{\"color\":\"white\"}},\"header\":{\"fill\":{\"color\":\"#C8D4E3\"},\"line\":{\"color\":\"white\"}},\"type\":\"table\"}]},\"layout\":{\"annotationdefaults\":{\"arrowcolor\":\"#2a3f5f\",\"arrowhead\":0,\"arrowwidth\":1},\"autotypenumbers\":\"strict\",\"coloraxis\":{\"colorbar\":{\"outlinewidth\":0,\"ticks\":\"\"}},\"colorscale\":{\"diverging\":[[0,\"#8e0152\"],[0.1,\"#c51b7d\"],[0.2,\"#de77ae\"],[0.3,\"#f1b6da\"],[0.4,\"#fde0ef\"],[0.5,\"#f7f7f7\"],[0.6,\"#e6f5d0\"],[0.7,\"#b8e186\"],[0.8,\"#7fbc41\"],[0.9,\"#4d9221\"],[1,\"#276419\"]],\"sequential\":[[0.0,\"#0d0887\"],[0.1111111111111111,\"#46039f\"],[0.2222222222222222,\"#7201a8\"],[0.3333333333333333,\"#9c179e\"],[0.4444444444444444,\"#bd3786\"],[0.5555555555555556,\"#d8576b\"],[0.6666666666666666,\"#ed7953\"],[0.7777777777777778,\"#fb9f3a\"],[0.8888888888888888,\"#fdca26\"],[1.0,\"#f0f921\"]],\"sequentialminus\":[[0.0,\"#0d0887\"],[0.1111111111111111,\"#46039f\"],[0.2222222222222222,\"#7201a8\"],[0.3333333333333333,\"#9c179e\"],[0.4444444444444444,\"#bd3786\"],[0.5555555555555556,\"#d8576b\"],[0.6666666666666666,\"#ed7953\"],[0.7777777777777778,\"#fb9f3a\"],[0.8888888888888888,\"#fdca26\"],[1.0,\"#f0f921\"]]},\"colorway\":[\"#636efa\",\"#EF553B\",\"#00cc96\",\"#ab63fa\",\"#FFA15A\",\"#19d3f3\",\"#FF6692\",\"#B6E880\",\"#FF97FF\",\"#FECB52\"],\"font\":{\"color\":\"#2a3f5f\"},\"geo\":{\"bgcolor\":\"white\",\"lakecolor\":\"white\",\"landcolor\":\"#E5ECF6\",\"showlakes\":true,\"showland\":true,\"subunitcolor\":\"white\"},\"hoverlabel\":{\"align\":\"left\"},\"hovermode\":\"closest\",\"mapbox\":{\"style\":\"light\"},\"paper_bgcolor\":\"white\",\"plot_bgcolor\":\"#E5ECF6\",\"polar\":{\"angularaxis\":{\"gridcolor\":\"white\",\"linecolor\":\"white\",\"ticks\":\"\"},\"bgcolor\":\"#E5ECF6\",\"radialaxis\":{\"gridcolor\":\"white\",\"linecolor\":\"white\",\"ticks\":\"\"}},\"scene\":{\"xaxis\":{\"backgroundcolor\":\"#E5ECF6\",\"gridcolor\":\"white\",\"gridwidth\":2,\"linecolor\":\"white\",\"showbackground\":true,\"ticks\":\"\",\"zerolinecolor\":\"white\"},\"yaxis\":{\"backgroundcolor\":\"#E5ECF6\",\"gridcolor\":\"white\",\"gridwidth\":2,\"linecolor\":\"white\",\"showbackground\":true,\"ticks\":\"\",\"zerolinecolor\":\"white\"},\"zaxis\":{\"backgroundcolor\":\"#E5ECF6\",\"gridcolor\":\"white\",\"gridwidth\":2,\"linecolor\":\"white\",\"showbackground\":true,\"ticks\":\"\",\"zerolinecolor\":\"white\"}},\"shapedefaults\":{\"line\":{\"color\":\"#2a3f5f\"}},\"ternary\":{\"aaxis\":{\"gridcolor\":\"white\",\"linecolor\":\"white\",\"ticks\":\"\"},\"baxis\":{\"gridcolor\":\"white\",\"linecolor\":\"white\",\"ticks\":\"\"},\"bgcolor\":\"#E5ECF6\",\"caxis\":{\"gridcolor\":\"white\",\"linecolor\":\"white\",\"ticks\":\"\"}},\"title\":{\"x\":0.05},\"xaxis\":{\"automargin\":true,\"gridcolor\":\"white\",\"linecolor\":\"white\",\"ticks\":\"\",\"title\":{\"standoff\":15},\"zerolinecolor\":\"white\",\"zerolinewidth\":2},\"yaxis\":{\"automargin\":true,\"gridcolor\":\"white\",\"linecolor\":\"white\",\"ticks\":\"\",\"title\":{\"standoff\":15},\"zerolinecolor\":\"white\",\"zerolinewidth\":2}}},\"title\":{\"font\":{\"color\":\"#4D5663\"}},\"xaxis\":{\"gridcolor\":\"#E1E5ED\",\"showgrid\":true,\"tickfont\":{\"color\":\"#4D5663\"},\"title\":{\"font\":{\"color\":\"#4D5663\"},\"text\":\"\"},\"zerolinecolor\":\"#E1E5ED\"},\"yaxis\":{\"gridcolor\":\"#E1E5ED\",\"showgrid\":true,\"tickfont\":{\"color\":\"#4D5663\"},\"title\":{\"font\":{\"color\":\"#4D5663\"},\"text\":\"\"},\"zerolinecolor\":\"#E1E5ED\"}},                        {\"showLink\": true, \"linkText\": \"Export to plot.ly\", \"plotlyServerURL\": \"https://plot.ly\", \"responsive\": true}                    ).then(function(){\n",
       "                            \n",
       "var gd = document.getElementById('5c29ad3f-430f-4cef-b8e1-e92fb357f9c7');\n",
       "var x = new MutationObserver(function (mutations, observer) {{\n",
       "        var display = window.getComputedStyle(gd).display;\n",
       "        if (!display || display === 'none') {{\n",
       "            console.log([gd, 'removed!']);\n",
       "            Plotly.purge(gd);\n",
       "            observer.disconnect();\n",
       "        }}\n",
       "}});\n",
       "\n",
       "// Listen for the removal of the full notebook cells\n",
       "var notebookContainer = gd.closest('#notebook-container');\n",
       "if (notebookContainer) {{\n",
       "    x.observe(notebookContainer, {childList: true});\n",
       "}}\n",
       "\n",
       "// Listen for the clearing of the current output cell\n",
       "var outputEl = gd.closest('.output');\n",
       "if (outputEl) {{\n",
       "    x.observe(outputEl, {childList: true});\n",
       "}}\n",
       "\n",
       "                        })                };                });            </script>        </div>"
      ]
     },
     "metadata": {},
     "output_type": "display_data"
    }
   ],
   "source": [
    "df.iplot(kind=\"box\")"
   ]
  },
  {
   "cell_type": "code",
   "execution_count": 35,
   "id": "9129fa9c",
   "metadata": {},
   "outputs": [],
   "source": [
    "df3=pd.DataFrame({\"X\":[1,2,3,4,5],\"Y\":[10,20,30,40,50],\"Z\":[100,200,300,400,500]})"
   ]
  },
  {
   "cell_type": "code",
   "execution_count": 36,
   "id": "4316da7b",
   "metadata": {},
   "outputs": [
    {
     "data": {
      "application/vnd.plotly.v1+json": {
       "config": {
        "linkText": "Export to plot.ly",
        "plotlyServerURL": "https://plot.ly",
        "showLink": true
       },
       "data": [
        {
         "colorscale": [
          [
           0,
           "rgb(255, 153, 51)"
          ],
          [
           0.1111111111111111,
           "rgb(55, 128, 191)"
          ],
          [
           0.2222222222222222,
           "rgb(50, 171, 96)"
          ],
          [
           0.3333333333333333,
           "rgb(128, 0, 128)"
          ],
          [
           0.4444444444444444,
           "rgb(219, 64, 82)"
          ],
          [
           0.5555555555555556,
           "rgb(0, 128, 128)"
          ],
          [
           0.6666666666666666,
           "rgb(255, 255, 51)"
          ],
          [
           0.7777777777777778,
           "rgb(128, 128, 0)"
          ],
          [
           0.8888888888888888,
           "rgb(251, 128, 114)"
          ],
          [
           1,
           "rgb(128, 177, 211)"
          ]
         ],
         "type": "surface",
         "x": [
          0,
          1,
          2,
          3,
          4
         ],
         "y": [
          "X",
          "Y",
          "Z"
         ],
         "z": [
          [
           1,
           2,
           3,
           4,
           5
          ],
          [
           10,
           20,
           30,
           40,
           50
          ],
          [
           100,
           200,
           300,
           400,
           500
          ]
         ]
        }
       ],
       "layout": {
        "legend": {
         "bgcolor": "#F5F6F9",
         "font": {
          "color": "#4D5663"
         }
        },
        "paper_bgcolor": "#F5F6F9",
        "plot_bgcolor": "#F5F6F9",
        "template": {
         "data": {
          "bar": [
           {
            "error_x": {
             "color": "#2a3f5f"
            },
            "error_y": {
             "color": "#2a3f5f"
            },
            "marker": {
             "line": {
              "color": "#E5ECF6",
              "width": 0.5
             },
             "pattern": {
              "fillmode": "overlay",
              "size": 10,
              "solidity": 0.2
             }
            },
            "type": "bar"
           }
          ],
          "barpolar": [
           {
            "marker": {
             "line": {
              "color": "#E5ECF6",
              "width": 0.5
             },
             "pattern": {
              "fillmode": "overlay",
              "size": 10,
              "solidity": 0.2
             }
            },
            "type": "barpolar"
           }
          ],
          "carpet": [
           {
            "aaxis": {
             "endlinecolor": "#2a3f5f",
             "gridcolor": "white",
             "linecolor": "white",
             "minorgridcolor": "white",
             "startlinecolor": "#2a3f5f"
            },
            "baxis": {
             "endlinecolor": "#2a3f5f",
             "gridcolor": "white",
             "linecolor": "white",
             "minorgridcolor": "white",
             "startlinecolor": "#2a3f5f"
            },
            "type": "carpet"
           }
          ],
          "choropleth": [
           {
            "colorbar": {
             "outlinewidth": 0,
             "ticks": ""
            },
            "type": "choropleth"
           }
          ],
          "contour": [
           {
            "colorbar": {
             "outlinewidth": 0,
             "ticks": ""
            },
            "colorscale": [
             [
              0,
              "#0d0887"
             ],
             [
              0.1111111111111111,
              "#46039f"
             ],
             [
              0.2222222222222222,
              "#7201a8"
             ],
             [
              0.3333333333333333,
              "#9c179e"
             ],
             [
              0.4444444444444444,
              "#bd3786"
             ],
             [
              0.5555555555555556,
              "#d8576b"
             ],
             [
              0.6666666666666666,
              "#ed7953"
             ],
             [
              0.7777777777777778,
              "#fb9f3a"
             ],
             [
              0.8888888888888888,
              "#fdca26"
             ],
             [
              1,
              "#f0f921"
             ]
            ],
            "type": "contour"
           }
          ],
          "contourcarpet": [
           {
            "colorbar": {
             "outlinewidth": 0,
             "ticks": ""
            },
            "type": "contourcarpet"
           }
          ],
          "heatmap": [
           {
            "colorbar": {
             "outlinewidth": 0,
             "ticks": ""
            },
            "colorscale": [
             [
              0,
              "#0d0887"
             ],
             [
              0.1111111111111111,
              "#46039f"
             ],
             [
              0.2222222222222222,
              "#7201a8"
             ],
             [
              0.3333333333333333,
              "#9c179e"
             ],
             [
              0.4444444444444444,
              "#bd3786"
             ],
             [
              0.5555555555555556,
              "#d8576b"
             ],
             [
              0.6666666666666666,
              "#ed7953"
             ],
             [
              0.7777777777777778,
              "#fb9f3a"
             ],
             [
              0.8888888888888888,
              "#fdca26"
             ],
             [
              1,
              "#f0f921"
             ]
            ],
            "type": "heatmap"
           }
          ],
          "heatmapgl": [
           {
            "colorbar": {
             "outlinewidth": 0,
             "ticks": ""
            },
            "colorscale": [
             [
              0,
              "#0d0887"
             ],
             [
              0.1111111111111111,
              "#46039f"
             ],
             [
              0.2222222222222222,
              "#7201a8"
             ],
             [
              0.3333333333333333,
              "#9c179e"
             ],
             [
              0.4444444444444444,
              "#bd3786"
             ],
             [
              0.5555555555555556,
              "#d8576b"
             ],
             [
              0.6666666666666666,
              "#ed7953"
             ],
             [
              0.7777777777777778,
              "#fb9f3a"
             ],
             [
              0.8888888888888888,
              "#fdca26"
             ],
             [
              1,
              "#f0f921"
             ]
            ],
            "type": "heatmapgl"
           }
          ],
          "histogram": [
           {
            "marker": {
             "pattern": {
              "fillmode": "overlay",
              "size": 10,
              "solidity": 0.2
             }
            },
            "type": "histogram"
           }
          ],
          "histogram2d": [
           {
            "colorbar": {
             "outlinewidth": 0,
             "ticks": ""
            },
            "colorscale": [
             [
              0,
              "#0d0887"
             ],
             [
              0.1111111111111111,
              "#46039f"
             ],
             [
              0.2222222222222222,
              "#7201a8"
             ],
             [
              0.3333333333333333,
              "#9c179e"
             ],
             [
              0.4444444444444444,
              "#bd3786"
             ],
             [
              0.5555555555555556,
              "#d8576b"
             ],
             [
              0.6666666666666666,
              "#ed7953"
             ],
             [
              0.7777777777777778,
              "#fb9f3a"
             ],
             [
              0.8888888888888888,
              "#fdca26"
             ],
             [
              1,
              "#f0f921"
             ]
            ],
            "type": "histogram2d"
           }
          ],
          "histogram2dcontour": [
           {
            "colorbar": {
             "outlinewidth": 0,
             "ticks": ""
            },
            "colorscale": [
             [
              0,
              "#0d0887"
             ],
             [
              0.1111111111111111,
              "#46039f"
             ],
             [
              0.2222222222222222,
              "#7201a8"
             ],
             [
              0.3333333333333333,
              "#9c179e"
             ],
             [
              0.4444444444444444,
              "#bd3786"
             ],
             [
              0.5555555555555556,
              "#d8576b"
             ],
             [
              0.6666666666666666,
              "#ed7953"
             ],
             [
              0.7777777777777778,
              "#fb9f3a"
             ],
             [
              0.8888888888888888,
              "#fdca26"
             ],
             [
              1,
              "#f0f921"
             ]
            ],
            "type": "histogram2dcontour"
           }
          ],
          "mesh3d": [
           {
            "colorbar": {
             "outlinewidth": 0,
             "ticks": ""
            },
            "type": "mesh3d"
           }
          ],
          "parcoords": [
           {
            "line": {
             "colorbar": {
              "outlinewidth": 0,
              "ticks": ""
             }
            },
            "type": "parcoords"
           }
          ],
          "pie": [
           {
            "automargin": true,
            "type": "pie"
           }
          ],
          "scatter": [
           {
            "marker": {
             "colorbar": {
              "outlinewidth": 0,
              "ticks": ""
             }
            },
            "type": "scatter"
           }
          ],
          "scatter3d": [
           {
            "line": {
             "colorbar": {
              "outlinewidth": 0,
              "ticks": ""
             }
            },
            "marker": {
             "colorbar": {
              "outlinewidth": 0,
              "ticks": ""
             }
            },
            "type": "scatter3d"
           }
          ],
          "scattercarpet": [
           {
            "marker": {
             "colorbar": {
              "outlinewidth": 0,
              "ticks": ""
             }
            },
            "type": "scattercarpet"
           }
          ],
          "scattergeo": [
           {
            "marker": {
             "colorbar": {
              "outlinewidth": 0,
              "ticks": ""
             }
            },
            "type": "scattergeo"
           }
          ],
          "scattergl": [
           {
            "marker": {
             "colorbar": {
              "outlinewidth": 0,
              "ticks": ""
             }
            },
            "type": "scattergl"
           }
          ],
          "scattermapbox": [
           {
            "marker": {
             "colorbar": {
              "outlinewidth": 0,
              "ticks": ""
             }
            },
            "type": "scattermapbox"
           }
          ],
          "scatterpolar": [
           {
            "marker": {
             "colorbar": {
              "outlinewidth": 0,
              "ticks": ""
             }
            },
            "type": "scatterpolar"
           }
          ],
          "scatterpolargl": [
           {
            "marker": {
             "colorbar": {
              "outlinewidth": 0,
              "ticks": ""
             }
            },
            "type": "scatterpolargl"
           }
          ],
          "scatterternary": [
           {
            "marker": {
             "colorbar": {
              "outlinewidth": 0,
              "ticks": ""
             }
            },
            "type": "scatterternary"
           }
          ],
          "surface": [
           {
            "colorbar": {
             "outlinewidth": 0,
             "ticks": ""
            },
            "colorscale": [
             [
              0,
              "#0d0887"
             ],
             [
              0.1111111111111111,
              "#46039f"
             ],
             [
              0.2222222222222222,
              "#7201a8"
             ],
             [
              0.3333333333333333,
              "#9c179e"
             ],
             [
              0.4444444444444444,
              "#bd3786"
             ],
             [
              0.5555555555555556,
              "#d8576b"
             ],
             [
              0.6666666666666666,
              "#ed7953"
             ],
             [
              0.7777777777777778,
              "#fb9f3a"
             ],
             [
              0.8888888888888888,
              "#fdca26"
             ],
             [
              1,
              "#f0f921"
             ]
            ],
            "type": "surface"
           }
          ],
          "table": [
           {
            "cells": {
             "fill": {
              "color": "#EBF0F8"
             },
             "line": {
              "color": "white"
             }
            },
            "header": {
             "fill": {
              "color": "#C8D4E3"
             },
             "line": {
              "color": "white"
             }
            },
            "type": "table"
           }
          ]
         },
         "layout": {
          "annotationdefaults": {
           "arrowcolor": "#2a3f5f",
           "arrowhead": 0,
           "arrowwidth": 1
          },
          "autotypenumbers": "strict",
          "coloraxis": {
           "colorbar": {
            "outlinewidth": 0,
            "ticks": ""
           }
          },
          "colorscale": {
           "diverging": [
            [
             0,
             "#8e0152"
            ],
            [
             0.1,
             "#c51b7d"
            ],
            [
             0.2,
             "#de77ae"
            ],
            [
             0.3,
             "#f1b6da"
            ],
            [
             0.4,
             "#fde0ef"
            ],
            [
             0.5,
             "#f7f7f7"
            ],
            [
             0.6,
             "#e6f5d0"
            ],
            [
             0.7,
             "#b8e186"
            ],
            [
             0.8,
             "#7fbc41"
            ],
            [
             0.9,
             "#4d9221"
            ],
            [
             1,
             "#276419"
            ]
           ],
           "sequential": [
            [
             0,
             "#0d0887"
            ],
            [
             0.1111111111111111,
             "#46039f"
            ],
            [
             0.2222222222222222,
             "#7201a8"
            ],
            [
             0.3333333333333333,
             "#9c179e"
            ],
            [
             0.4444444444444444,
             "#bd3786"
            ],
            [
             0.5555555555555556,
             "#d8576b"
            ],
            [
             0.6666666666666666,
             "#ed7953"
            ],
            [
             0.7777777777777778,
             "#fb9f3a"
            ],
            [
             0.8888888888888888,
             "#fdca26"
            ],
            [
             1,
             "#f0f921"
            ]
           ],
           "sequentialminus": [
            [
             0,
             "#0d0887"
            ],
            [
             0.1111111111111111,
             "#46039f"
            ],
            [
             0.2222222222222222,
             "#7201a8"
            ],
            [
             0.3333333333333333,
             "#9c179e"
            ],
            [
             0.4444444444444444,
             "#bd3786"
            ],
            [
             0.5555555555555556,
             "#d8576b"
            ],
            [
             0.6666666666666666,
             "#ed7953"
            ],
            [
             0.7777777777777778,
             "#fb9f3a"
            ],
            [
             0.8888888888888888,
             "#fdca26"
            ],
            [
             1,
             "#f0f921"
            ]
           ]
          },
          "colorway": [
           "#636efa",
           "#EF553B",
           "#00cc96",
           "#ab63fa",
           "#FFA15A",
           "#19d3f3",
           "#FF6692",
           "#B6E880",
           "#FF97FF",
           "#FECB52"
          ],
          "font": {
           "color": "#2a3f5f"
          },
          "geo": {
           "bgcolor": "white",
           "lakecolor": "white",
           "landcolor": "#E5ECF6",
           "showlakes": true,
           "showland": true,
           "subunitcolor": "white"
          },
          "hoverlabel": {
           "align": "left"
          },
          "hovermode": "closest",
          "mapbox": {
           "style": "light"
          },
          "paper_bgcolor": "white",
          "plot_bgcolor": "#E5ECF6",
          "polar": {
           "angularaxis": {
            "gridcolor": "white",
            "linecolor": "white",
            "ticks": ""
           },
           "bgcolor": "#E5ECF6",
           "radialaxis": {
            "gridcolor": "white",
            "linecolor": "white",
            "ticks": ""
           }
          },
          "scene": {
           "xaxis": {
            "backgroundcolor": "#E5ECF6",
            "gridcolor": "white",
            "gridwidth": 2,
            "linecolor": "white",
            "showbackground": true,
            "ticks": "",
            "zerolinecolor": "white"
           },
           "yaxis": {
            "backgroundcolor": "#E5ECF6",
            "gridcolor": "white",
            "gridwidth": 2,
            "linecolor": "white",
            "showbackground": true,
            "ticks": "",
            "zerolinecolor": "white"
           },
           "zaxis": {
            "backgroundcolor": "#E5ECF6",
            "gridcolor": "white",
            "gridwidth": 2,
            "linecolor": "white",
            "showbackground": true,
            "ticks": "",
            "zerolinecolor": "white"
           }
          },
          "shapedefaults": {
           "line": {
            "color": "#2a3f5f"
           }
          },
          "ternary": {
           "aaxis": {
            "gridcolor": "white",
            "linecolor": "white",
            "ticks": ""
           },
           "baxis": {
            "gridcolor": "white",
            "linecolor": "white",
            "ticks": ""
           },
           "bgcolor": "#E5ECF6",
           "caxis": {
            "gridcolor": "white",
            "linecolor": "white",
            "ticks": ""
           }
          },
          "title": {
           "x": 0.05
          },
          "xaxis": {
           "automargin": true,
           "gridcolor": "white",
           "linecolor": "white",
           "ticks": "",
           "title": {
            "standoff": 15
           },
           "zerolinecolor": "white",
           "zerolinewidth": 2
          },
          "yaxis": {
           "automargin": true,
           "gridcolor": "white",
           "linecolor": "white",
           "ticks": "",
           "title": {
            "standoff": 15
           },
           "zerolinecolor": "white",
           "zerolinewidth": 2
          }
         }
        },
        "title": {
         "font": {
          "color": "#4D5663"
         }
        },
        "xaxis": {
         "gridcolor": "#E1E5ED",
         "showgrid": true,
         "tickfont": {
          "color": "#4D5663"
         },
         "title": {
          "font": {
           "color": "#4D5663"
          },
          "text": ""
         },
         "zerolinecolor": "#E1E5ED"
        },
        "yaxis": {
         "gridcolor": "#E1E5ED",
         "showgrid": true,
         "tickfont": {
          "color": "#4D5663"
         },
         "title": {
          "font": {
           "color": "#4D5663"
          },
          "text": ""
         },
         "zerolinecolor": "#E1E5ED"
        }
       }
      },
      "text/html": [
       "<div>                            <div id=\"8232bda0-56f2-4447-a5d9-6744396b101d\" class=\"plotly-graph-div\" style=\"height:525px; width:100%;\"></div>            <script type=\"text/javascript\">                require([\"plotly\"], function(Plotly) {                    window.PLOTLYENV=window.PLOTLYENV || {};\n",
       "                    window.PLOTLYENV.BASE_URL='https://plot.ly';                                    if (document.getElementById(\"8232bda0-56f2-4447-a5d9-6744396b101d\")) {                    Plotly.newPlot(                        \"8232bda0-56f2-4447-a5d9-6744396b101d\",                        [{\"colorscale\":[[0.0,\"rgb(255, 153, 51)\"],[0.1111111111111111,\"rgb(55, 128, 191)\"],[0.2222222222222222,\"rgb(50, 171, 96)\"],[0.3333333333333333,\"rgb(128, 0, 128)\"],[0.4444444444444444,\"rgb(219, 64, 82)\"],[0.5555555555555556,\"rgb(0, 128, 128)\"],[0.6666666666666666,\"rgb(255, 255, 51)\"],[0.7777777777777778,\"rgb(128, 128, 0)\"],[0.8888888888888888,\"rgb(251, 128, 114)\"],[1.0,\"rgb(128, 177, 211)\"]],\"x\":[0,1,2,3,4],\"y\":[\"X\",\"Y\",\"Z\"],\"z\":[[1,2,3,4,5],[10,20,30,40,50],[100,200,300,400,500]],\"type\":\"surface\"}],                        {\"legend\":{\"bgcolor\":\"#F5F6F9\",\"font\":{\"color\":\"#4D5663\"}},\"paper_bgcolor\":\"#F5F6F9\",\"plot_bgcolor\":\"#F5F6F9\",\"template\":{\"data\":{\"barpolar\":[{\"marker\":{\"line\":{\"color\":\"#E5ECF6\",\"width\":0.5},\"pattern\":{\"fillmode\":\"overlay\",\"size\":10,\"solidity\":0.2}},\"type\":\"barpolar\"}],\"bar\":[{\"error_x\":{\"color\":\"#2a3f5f\"},\"error_y\":{\"color\":\"#2a3f5f\"},\"marker\":{\"line\":{\"color\":\"#E5ECF6\",\"width\":0.5},\"pattern\":{\"fillmode\":\"overlay\",\"size\":10,\"solidity\":0.2}},\"type\":\"bar\"}],\"carpet\":[{\"aaxis\":{\"endlinecolor\":\"#2a3f5f\",\"gridcolor\":\"white\",\"linecolor\":\"white\",\"minorgridcolor\":\"white\",\"startlinecolor\":\"#2a3f5f\"},\"baxis\":{\"endlinecolor\":\"#2a3f5f\",\"gridcolor\":\"white\",\"linecolor\":\"white\",\"minorgridcolor\":\"white\",\"startlinecolor\":\"#2a3f5f\"},\"type\":\"carpet\"}],\"choropleth\":[{\"colorbar\":{\"outlinewidth\":0,\"ticks\":\"\"},\"type\":\"choropleth\"}],\"contourcarpet\":[{\"colorbar\":{\"outlinewidth\":0,\"ticks\":\"\"},\"type\":\"contourcarpet\"}],\"contour\":[{\"colorbar\":{\"outlinewidth\":0,\"ticks\":\"\"},\"colorscale\":[[0.0,\"#0d0887\"],[0.1111111111111111,\"#46039f\"],[0.2222222222222222,\"#7201a8\"],[0.3333333333333333,\"#9c179e\"],[0.4444444444444444,\"#bd3786\"],[0.5555555555555556,\"#d8576b\"],[0.6666666666666666,\"#ed7953\"],[0.7777777777777778,\"#fb9f3a\"],[0.8888888888888888,\"#fdca26\"],[1.0,\"#f0f921\"]],\"type\":\"contour\"}],\"heatmapgl\":[{\"colorbar\":{\"outlinewidth\":0,\"ticks\":\"\"},\"colorscale\":[[0.0,\"#0d0887\"],[0.1111111111111111,\"#46039f\"],[0.2222222222222222,\"#7201a8\"],[0.3333333333333333,\"#9c179e\"],[0.4444444444444444,\"#bd3786\"],[0.5555555555555556,\"#d8576b\"],[0.6666666666666666,\"#ed7953\"],[0.7777777777777778,\"#fb9f3a\"],[0.8888888888888888,\"#fdca26\"],[1.0,\"#f0f921\"]],\"type\":\"heatmapgl\"}],\"heatmap\":[{\"colorbar\":{\"outlinewidth\":0,\"ticks\":\"\"},\"colorscale\":[[0.0,\"#0d0887\"],[0.1111111111111111,\"#46039f\"],[0.2222222222222222,\"#7201a8\"],[0.3333333333333333,\"#9c179e\"],[0.4444444444444444,\"#bd3786\"],[0.5555555555555556,\"#d8576b\"],[0.6666666666666666,\"#ed7953\"],[0.7777777777777778,\"#fb9f3a\"],[0.8888888888888888,\"#fdca26\"],[1.0,\"#f0f921\"]],\"type\":\"heatmap\"}],\"histogram2dcontour\":[{\"colorbar\":{\"outlinewidth\":0,\"ticks\":\"\"},\"colorscale\":[[0.0,\"#0d0887\"],[0.1111111111111111,\"#46039f\"],[0.2222222222222222,\"#7201a8\"],[0.3333333333333333,\"#9c179e\"],[0.4444444444444444,\"#bd3786\"],[0.5555555555555556,\"#d8576b\"],[0.6666666666666666,\"#ed7953\"],[0.7777777777777778,\"#fb9f3a\"],[0.8888888888888888,\"#fdca26\"],[1.0,\"#f0f921\"]],\"type\":\"histogram2dcontour\"}],\"histogram2d\":[{\"colorbar\":{\"outlinewidth\":0,\"ticks\":\"\"},\"colorscale\":[[0.0,\"#0d0887\"],[0.1111111111111111,\"#46039f\"],[0.2222222222222222,\"#7201a8\"],[0.3333333333333333,\"#9c179e\"],[0.4444444444444444,\"#bd3786\"],[0.5555555555555556,\"#d8576b\"],[0.6666666666666666,\"#ed7953\"],[0.7777777777777778,\"#fb9f3a\"],[0.8888888888888888,\"#fdca26\"],[1.0,\"#f0f921\"]],\"type\":\"histogram2d\"}],\"histogram\":[{\"marker\":{\"pattern\":{\"fillmode\":\"overlay\",\"size\":10,\"solidity\":0.2}},\"type\":\"histogram\"}],\"mesh3d\":[{\"colorbar\":{\"outlinewidth\":0,\"ticks\":\"\"},\"type\":\"mesh3d\"}],\"parcoords\":[{\"line\":{\"colorbar\":{\"outlinewidth\":0,\"ticks\":\"\"}},\"type\":\"parcoords\"}],\"pie\":[{\"automargin\":true,\"type\":\"pie\"}],\"scatter3d\":[{\"line\":{\"colorbar\":{\"outlinewidth\":0,\"ticks\":\"\"}},\"marker\":{\"colorbar\":{\"outlinewidth\":0,\"ticks\":\"\"}},\"type\":\"scatter3d\"}],\"scattercarpet\":[{\"marker\":{\"colorbar\":{\"outlinewidth\":0,\"ticks\":\"\"}},\"type\":\"scattercarpet\"}],\"scattergeo\":[{\"marker\":{\"colorbar\":{\"outlinewidth\":0,\"ticks\":\"\"}},\"type\":\"scattergeo\"}],\"scattergl\":[{\"marker\":{\"colorbar\":{\"outlinewidth\":0,\"ticks\":\"\"}},\"type\":\"scattergl\"}],\"scattermapbox\":[{\"marker\":{\"colorbar\":{\"outlinewidth\":0,\"ticks\":\"\"}},\"type\":\"scattermapbox\"}],\"scatterpolargl\":[{\"marker\":{\"colorbar\":{\"outlinewidth\":0,\"ticks\":\"\"}},\"type\":\"scatterpolargl\"}],\"scatterpolar\":[{\"marker\":{\"colorbar\":{\"outlinewidth\":0,\"ticks\":\"\"}},\"type\":\"scatterpolar\"}],\"scatter\":[{\"marker\":{\"colorbar\":{\"outlinewidth\":0,\"ticks\":\"\"}},\"type\":\"scatter\"}],\"scatterternary\":[{\"marker\":{\"colorbar\":{\"outlinewidth\":0,\"ticks\":\"\"}},\"type\":\"scatterternary\"}],\"surface\":[{\"colorbar\":{\"outlinewidth\":0,\"ticks\":\"\"},\"colorscale\":[[0.0,\"#0d0887\"],[0.1111111111111111,\"#46039f\"],[0.2222222222222222,\"#7201a8\"],[0.3333333333333333,\"#9c179e\"],[0.4444444444444444,\"#bd3786\"],[0.5555555555555556,\"#d8576b\"],[0.6666666666666666,\"#ed7953\"],[0.7777777777777778,\"#fb9f3a\"],[0.8888888888888888,\"#fdca26\"],[1.0,\"#f0f921\"]],\"type\":\"surface\"}],\"table\":[{\"cells\":{\"fill\":{\"color\":\"#EBF0F8\"},\"line\":{\"color\":\"white\"}},\"header\":{\"fill\":{\"color\":\"#C8D4E3\"},\"line\":{\"color\":\"white\"}},\"type\":\"table\"}]},\"layout\":{\"annotationdefaults\":{\"arrowcolor\":\"#2a3f5f\",\"arrowhead\":0,\"arrowwidth\":1},\"autotypenumbers\":\"strict\",\"coloraxis\":{\"colorbar\":{\"outlinewidth\":0,\"ticks\":\"\"}},\"colorscale\":{\"diverging\":[[0,\"#8e0152\"],[0.1,\"#c51b7d\"],[0.2,\"#de77ae\"],[0.3,\"#f1b6da\"],[0.4,\"#fde0ef\"],[0.5,\"#f7f7f7\"],[0.6,\"#e6f5d0\"],[0.7,\"#b8e186\"],[0.8,\"#7fbc41\"],[0.9,\"#4d9221\"],[1,\"#276419\"]],\"sequential\":[[0.0,\"#0d0887\"],[0.1111111111111111,\"#46039f\"],[0.2222222222222222,\"#7201a8\"],[0.3333333333333333,\"#9c179e\"],[0.4444444444444444,\"#bd3786\"],[0.5555555555555556,\"#d8576b\"],[0.6666666666666666,\"#ed7953\"],[0.7777777777777778,\"#fb9f3a\"],[0.8888888888888888,\"#fdca26\"],[1.0,\"#f0f921\"]],\"sequentialminus\":[[0.0,\"#0d0887\"],[0.1111111111111111,\"#46039f\"],[0.2222222222222222,\"#7201a8\"],[0.3333333333333333,\"#9c179e\"],[0.4444444444444444,\"#bd3786\"],[0.5555555555555556,\"#d8576b\"],[0.6666666666666666,\"#ed7953\"],[0.7777777777777778,\"#fb9f3a\"],[0.8888888888888888,\"#fdca26\"],[1.0,\"#f0f921\"]]},\"colorway\":[\"#636efa\",\"#EF553B\",\"#00cc96\",\"#ab63fa\",\"#FFA15A\",\"#19d3f3\",\"#FF6692\",\"#B6E880\",\"#FF97FF\",\"#FECB52\"],\"font\":{\"color\":\"#2a3f5f\"},\"geo\":{\"bgcolor\":\"white\",\"lakecolor\":\"white\",\"landcolor\":\"#E5ECF6\",\"showlakes\":true,\"showland\":true,\"subunitcolor\":\"white\"},\"hoverlabel\":{\"align\":\"left\"},\"hovermode\":\"closest\",\"mapbox\":{\"style\":\"light\"},\"paper_bgcolor\":\"white\",\"plot_bgcolor\":\"#E5ECF6\",\"polar\":{\"angularaxis\":{\"gridcolor\":\"white\",\"linecolor\":\"white\",\"ticks\":\"\"},\"bgcolor\":\"#E5ECF6\",\"radialaxis\":{\"gridcolor\":\"white\",\"linecolor\":\"white\",\"ticks\":\"\"}},\"scene\":{\"xaxis\":{\"backgroundcolor\":\"#E5ECF6\",\"gridcolor\":\"white\",\"gridwidth\":2,\"linecolor\":\"white\",\"showbackground\":true,\"ticks\":\"\",\"zerolinecolor\":\"white\"},\"yaxis\":{\"backgroundcolor\":\"#E5ECF6\",\"gridcolor\":\"white\",\"gridwidth\":2,\"linecolor\":\"white\",\"showbackground\":true,\"ticks\":\"\",\"zerolinecolor\":\"white\"},\"zaxis\":{\"backgroundcolor\":\"#E5ECF6\",\"gridcolor\":\"white\",\"gridwidth\":2,\"linecolor\":\"white\",\"showbackground\":true,\"ticks\":\"\",\"zerolinecolor\":\"white\"}},\"shapedefaults\":{\"line\":{\"color\":\"#2a3f5f\"}},\"ternary\":{\"aaxis\":{\"gridcolor\":\"white\",\"linecolor\":\"white\",\"ticks\":\"\"},\"baxis\":{\"gridcolor\":\"white\",\"linecolor\":\"white\",\"ticks\":\"\"},\"bgcolor\":\"#E5ECF6\",\"caxis\":{\"gridcolor\":\"white\",\"linecolor\":\"white\",\"ticks\":\"\"}},\"title\":{\"x\":0.05},\"xaxis\":{\"automargin\":true,\"gridcolor\":\"white\",\"linecolor\":\"white\",\"ticks\":\"\",\"title\":{\"standoff\":15},\"zerolinecolor\":\"white\",\"zerolinewidth\":2},\"yaxis\":{\"automargin\":true,\"gridcolor\":\"white\",\"linecolor\":\"white\",\"ticks\":\"\",\"title\":{\"standoff\":15},\"zerolinecolor\":\"white\",\"zerolinewidth\":2}}},\"title\":{\"font\":{\"color\":\"#4D5663\"}},\"xaxis\":{\"gridcolor\":\"#E1E5ED\",\"showgrid\":true,\"tickfont\":{\"color\":\"#4D5663\"},\"title\":{\"font\":{\"color\":\"#4D5663\"},\"text\":\"\"},\"zerolinecolor\":\"#E1E5ED\"},\"yaxis\":{\"gridcolor\":\"#E1E5ED\",\"showgrid\":true,\"tickfont\":{\"color\":\"#4D5663\"},\"title\":{\"font\":{\"color\":\"#4D5663\"},\"text\":\"\"},\"zerolinecolor\":\"#E1E5ED\"}},                        {\"showLink\": true, \"linkText\": \"Export to plot.ly\", \"plotlyServerURL\": \"https://plot.ly\", \"responsive\": true}                    ).then(function(){\n",
       "                            \n",
       "var gd = document.getElementById('8232bda0-56f2-4447-a5d9-6744396b101d');\n",
       "var x = new MutationObserver(function (mutations, observer) {{\n",
       "        var display = window.getComputedStyle(gd).display;\n",
       "        if (!display || display === 'none') {{\n",
       "            console.log([gd, 'removed!']);\n",
       "            Plotly.purge(gd);\n",
       "            observer.disconnect();\n",
       "        }}\n",
       "}});\n",
       "\n",
       "// Listen for the removal of the full notebook cells\n",
       "var notebookContainer = gd.closest('#notebook-container');\n",
       "if (notebookContainer) {{\n",
       "    x.observe(notebookContainer, {childList: true});\n",
       "}}\n",
       "\n",
       "// Listen for the clearing of the current output cell\n",
       "var outputEl = gd.closest('.output');\n",
       "if (outputEl) {{\n",
       "    x.observe(outputEl, {childList: true});\n",
       "}}\n",
       "\n",
       "                        })                };                });            </script>        </div>"
      ]
     },
     "metadata": {},
     "output_type": "display_data"
    }
   ],
   "source": [
    "df3.iplot(kind=\"surface\")"
   ]
  },
  {
   "cell_type": "code",
   "execution_count": 38,
   "id": "644c100d",
   "metadata": {},
   "outputs": [
    {
     "data": {
      "application/vnd.plotly.v1+json": {
       "config": {
        "linkText": "Export to plot.ly",
        "plotlyServerURL": "https://plot.ly",
        "showLink": true
       },
       "data": [
        {
         "colorscale": [
          [
           0,
           "rgb(165,0,38)"
          ],
          [
           0.1,
           "rgb(215,48,39)"
          ],
          [
           0.2,
           "rgb(244,109,67)"
          ],
          [
           0.3,
           "rgb(253,174,97)"
          ],
          [
           0.4,
           "rgb(254,224,144)"
          ],
          [
           0.5,
           "rgb(255,255,191)"
          ],
          [
           0.6,
           "rgb(224,243,248)"
          ],
          [
           0.7,
           "rgb(171,217,233)"
          ],
          [
           0.8,
           "rgb(116,173,209)"
          ],
          [
           0.9,
           "rgb(69,117,180)"
          ],
          [
           1,
           "rgb(49,54,149)"
          ]
         ],
         "type": "surface",
         "x": [
          0,
          1,
          2,
          3,
          4
         ],
         "y": [
          "X",
          "Y",
          "Z"
         ],
         "z": [
          [
           1,
           2,
           3,
           4,
           5
          ],
          [
           10,
           20,
           30,
           40,
           50
          ],
          [
           5,
           4,
           3,
           2,
           1
          ]
         ]
        }
       ],
       "layout": {
        "legend": {
         "bgcolor": "#F5F6F9",
         "font": {
          "color": "#4D5663"
         }
        },
        "paper_bgcolor": "#F5F6F9",
        "plot_bgcolor": "#F5F6F9",
        "template": {
         "data": {
          "bar": [
           {
            "error_x": {
             "color": "#2a3f5f"
            },
            "error_y": {
             "color": "#2a3f5f"
            },
            "marker": {
             "line": {
              "color": "#E5ECF6",
              "width": 0.5
             },
             "pattern": {
              "fillmode": "overlay",
              "size": 10,
              "solidity": 0.2
             }
            },
            "type": "bar"
           }
          ],
          "barpolar": [
           {
            "marker": {
             "line": {
              "color": "#E5ECF6",
              "width": 0.5
             },
             "pattern": {
              "fillmode": "overlay",
              "size": 10,
              "solidity": 0.2
             }
            },
            "type": "barpolar"
           }
          ],
          "carpet": [
           {
            "aaxis": {
             "endlinecolor": "#2a3f5f",
             "gridcolor": "white",
             "linecolor": "white",
             "minorgridcolor": "white",
             "startlinecolor": "#2a3f5f"
            },
            "baxis": {
             "endlinecolor": "#2a3f5f",
             "gridcolor": "white",
             "linecolor": "white",
             "minorgridcolor": "white",
             "startlinecolor": "#2a3f5f"
            },
            "type": "carpet"
           }
          ],
          "choropleth": [
           {
            "colorbar": {
             "outlinewidth": 0,
             "ticks": ""
            },
            "type": "choropleth"
           }
          ],
          "contour": [
           {
            "colorbar": {
             "outlinewidth": 0,
             "ticks": ""
            },
            "colorscale": [
             [
              0,
              "#0d0887"
             ],
             [
              0.1111111111111111,
              "#46039f"
             ],
             [
              0.2222222222222222,
              "#7201a8"
             ],
             [
              0.3333333333333333,
              "#9c179e"
             ],
             [
              0.4444444444444444,
              "#bd3786"
             ],
             [
              0.5555555555555556,
              "#d8576b"
             ],
             [
              0.6666666666666666,
              "#ed7953"
             ],
             [
              0.7777777777777778,
              "#fb9f3a"
             ],
             [
              0.8888888888888888,
              "#fdca26"
             ],
             [
              1,
              "#f0f921"
             ]
            ],
            "type": "contour"
           }
          ],
          "contourcarpet": [
           {
            "colorbar": {
             "outlinewidth": 0,
             "ticks": ""
            },
            "type": "contourcarpet"
           }
          ],
          "heatmap": [
           {
            "colorbar": {
             "outlinewidth": 0,
             "ticks": ""
            },
            "colorscale": [
             [
              0,
              "#0d0887"
             ],
             [
              0.1111111111111111,
              "#46039f"
             ],
             [
              0.2222222222222222,
              "#7201a8"
             ],
             [
              0.3333333333333333,
              "#9c179e"
             ],
             [
              0.4444444444444444,
              "#bd3786"
             ],
             [
              0.5555555555555556,
              "#d8576b"
             ],
             [
              0.6666666666666666,
              "#ed7953"
             ],
             [
              0.7777777777777778,
              "#fb9f3a"
             ],
             [
              0.8888888888888888,
              "#fdca26"
             ],
             [
              1,
              "#f0f921"
             ]
            ],
            "type": "heatmap"
           }
          ],
          "heatmapgl": [
           {
            "colorbar": {
             "outlinewidth": 0,
             "ticks": ""
            },
            "colorscale": [
             [
              0,
              "#0d0887"
             ],
             [
              0.1111111111111111,
              "#46039f"
             ],
             [
              0.2222222222222222,
              "#7201a8"
             ],
             [
              0.3333333333333333,
              "#9c179e"
             ],
             [
              0.4444444444444444,
              "#bd3786"
             ],
             [
              0.5555555555555556,
              "#d8576b"
             ],
             [
              0.6666666666666666,
              "#ed7953"
             ],
             [
              0.7777777777777778,
              "#fb9f3a"
             ],
             [
              0.8888888888888888,
              "#fdca26"
             ],
             [
              1,
              "#f0f921"
             ]
            ],
            "type": "heatmapgl"
           }
          ],
          "histogram": [
           {
            "marker": {
             "pattern": {
              "fillmode": "overlay",
              "size": 10,
              "solidity": 0.2
             }
            },
            "type": "histogram"
           }
          ],
          "histogram2d": [
           {
            "colorbar": {
             "outlinewidth": 0,
             "ticks": ""
            },
            "colorscale": [
             [
              0,
              "#0d0887"
             ],
             [
              0.1111111111111111,
              "#46039f"
             ],
             [
              0.2222222222222222,
              "#7201a8"
             ],
             [
              0.3333333333333333,
              "#9c179e"
             ],
             [
              0.4444444444444444,
              "#bd3786"
             ],
             [
              0.5555555555555556,
              "#d8576b"
             ],
             [
              0.6666666666666666,
              "#ed7953"
             ],
             [
              0.7777777777777778,
              "#fb9f3a"
             ],
             [
              0.8888888888888888,
              "#fdca26"
             ],
             [
              1,
              "#f0f921"
             ]
            ],
            "type": "histogram2d"
           }
          ],
          "histogram2dcontour": [
           {
            "colorbar": {
             "outlinewidth": 0,
             "ticks": ""
            },
            "colorscale": [
             [
              0,
              "#0d0887"
             ],
             [
              0.1111111111111111,
              "#46039f"
             ],
             [
              0.2222222222222222,
              "#7201a8"
             ],
             [
              0.3333333333333333,
              "#9c179e"
             ],
             [
              0.4444444444444444,
              "#bd3786"
             ],
             [
              0.5555555555555556,
              "#d8576b"
             ],
             [
              0.6666666666666666,
              "#ed7953"
             ],
             [
              0.7777777777777778,
              "#fb9f3a"
             ],
             [
              0.8888888888888888,
              "#fdca26"
             ],
             [
              1,
              "#f0f921"
             ]
            ],
            "type": "histogram2dcontour"
           }
          ],
          "mesh3d": [
           {
            "colorbar": {
             "outlinewidth": 0,
             "ticks": ""
            },
            "type": "mesh3d"
           }
          ],
          "parcoords": [
           {
            "line": {
             "colorbar": {
              "outlinewidth": 0,
              "ticks": ""
             }
            },
            "type": "parcoords"
           }
          ],
          "pie": [
           {
            "automargin": true,
            "type": "pie"
           }
          ],
          "scatter": [
           {
            "marker": {
             "colorbar": {
              "outlinewidth": 0,
              "ticks": ""
             }
            },
            "type": "scatter"
           }
          ],
          "scatter3d": [
           {
            "line": {
             "colorbar": {
              "outlinewidth": 0,
              "ticks": ""
             }
            },
            "marker": {
             "colorbar": {
              "outlinewidth": 0,
              "ticks": ""
             }
            },
            "type": "scatter3d"
           }
          ],
          "scattercarpet": [
           {
            "marker": {
             "colorbar": {
              "outlinewidth": 0,
              "ticks": ""
             }
            },
            "type": "scattercarpet"
           }
          ],
          "scattergeo": [
           {
            "marker": {
             "colorbar": {
              "outlinewidth": 0,
              "ticks": ""
             }
            },
            "type": "scattergeo"
           }
          ],
          "scattergl": [
           {
            "marker": {
             "colorbar": {
              "outlinewidth": 0,
              "ticks": ""
             }
            },
            "type": "scattergl"
           }
          ],
          "scattermapbox": [
           {
            "marker": {
             "colorbar": {
              "outlinewidth": 0,
              "ticks": ""
             }
            },
            "type": "scattermapbox"
           }
          ],
          "scatterpolar": [
           {
            "marker": {
             "colorbar": {
              "outlinewidth": 0,
              "ticks": ""
             }
            },
            "type": "scatterpolar"
           }
          ],
          "scatterpolargl": [
           {
            "marker": {
             "colorbar": {
              "outlinewidth": 0,
              "ticks": ""
             }
            },
            "type": "scatterpolargl"
           }
          ],
          "scatterternary": [
           {
            "marker": {
             "colorbar": {
              "outlinewidth": 0,
              "ticks": ""
             }
            },
            "type": "scatterternary"
           }
          ],
          "surface": [
           {
            "colorbar": {
             "outlinewidth": 0,
             "ticks": ""
            },
            "colorscale": [
             [
              0,
              "#0d0887"
             ],
             [
              0.1111111111111111,
              "#46039f"
             ],
             [
              0.2222222222222222,
              "#7201a8"
             ],
             [
              0.3333333333333333,
              "#9c179e"
             ],
             [
              0.4444444444444444,
              "#bd3786"
             ],
             [
              0.5555555555555556,
              "#d8576b"
             ],
             [
              0.6666666666666666,
              "#ed7953"
             ],
             [
              0.7777777777777778,
              "#fb9f3a"
             ],
             [
              0.8888888888888888,
              "#fdca26"
             ],
             [
              1,
              "#f0f921"
             ]
            ],
            "type": "surface"
           }
          ],
          "table": [
           {
            "cells": {
             "fill": {
              "color": "#EBF0F8"
             },
             "line": {
              "color": "white"
             }
            },
            "header": {
             "fill": {
              "color": "#C8D4E3"
             },
             "line": {
              "color": "white"
             }
            },
            "type": "table"
           }
          ]
         },
         "layout": {
          "annotationdefaults": {
           "arrowcolor": "#2a3f5f",
           "arrowhead": 0,
           "arrowwidth": 1
          },
          "autotypenumbers": "strict",
          "coloraxis": {
           "colorbar": {
            "outlinewidth": 0,
            "ticks": ""
           }
          },
          "colorscale": {
           "diverging": [
            [
             0,
             "#8e0152"
            ],
            [
             0.1,
             "#c51b7d"
            ],
            [
             0.2,
             "#de77ae"
            ],
            [
             0.3,
             "#f1b6da"
            ],
            [
             0.4,
             "#fde0ef"
            ],
            [
             0.5,
             "#f7f7f7"
            ],
            [
             0.6,
             "#e6f5d0"
            ],
            [
             0.7,
             "#b8e186"
            ],
            [
             0.8,
             "#7fbc41"
            ],
            [
             0.9,
             "#4d9221"
            ],
            [
             1,
             "#276419"
            ]
           ],
           "sequential": [
            [
             0,
             "#0d0887"
            ],
            [
             0.1111111111111111,
             "#46039f"
            ],
            [
             0.2222222222222222,
             "#7201a8"
            ],
            [
             0.3333333333333333,
             "#9c179e"
            ],
            [
             0.4444444444444444,
             "#bd3786"
            ],
            [
             0.5555555555555556,
             "#d8576b"
            ],
            [
             0.6666666666666666,
             "#ed7953"
            ],
            [
             0.7777777777777778,
             "#fb9f3a"
            ],
            [
             0.8888888888888888,
             "#fdca26"
            ],
            [
             1,
             "#f0f921"
            ]
           ],
           "sequentialminus": [
            [
             0,
             "#0d0887"
            ],
            [
             0.1111111111111111,
             "#46039f"
            ],
            [
             0.2222222222222222,
             "#7201a8"
            ],
            [
             0.3333333333333333,
             "#9c179e"
            ],
            [
             0.4444444444444444,
             "#bd3786"
            ],
            [
             0.5555555555555556,
             "#d8576b"
            ],
            [
             0.6666666666666666,
             "#ed7953"
            ],
            [
             0.7777777777777778,
             "#fb9f3a"
            ],
            [
             0.8888888888888888,
             "#fdca26"
            ],
            [
             1,
             "#f0f921"
            ]
           ]
          },
          "colorway": [
           "#636efa",
           "#EF553B",
           "#00cc96",
           "#ab63fa",
           "#FFA15A",
           "#19d3f3",
           "#FF6692",
           "#B6E880",
           "#FF97FF",
           "#FECB52"
          ],
          "font": {
           "color": "#2a3f5f"
          },
          "geo": {
           "bgcolor": "white",
           "lakecolor": "white",
           "landcolor": "#E5ECF6",
           "showlakes": true,
           "showland": true,
           "subunitcolor": "white"
          },
          "hoverlabel": {
           "align": "left"
          },
          "hovermode": "closest",
          "mapbox": {
           "style": "light"
          },
          "paper_bgcolor": "white",
          "plot_bgcolor": "#E5ECF6",
          "polar": {
           "angularaxis": {
            "gridcolor": "white",
            "linecolor": "white",
            "ticks": ""
           },
           "bgcolor": "#E5ECF6",
           "radialaxis": {
            "gridcolor": "white",
            "linecolor": "white",
            "ticks": ""
           }
          },
          "scene": {
           "xaxis": {
            "backgroundcolor": "#E5ECF6",
            "gridcolor": "white",
            "gridwidth": 2,
            "linecolor": "white",
            "showbackground": true,
            "ticks": "",
            "zerolinecolor": "white"
           },
           "yaxis": {
            "backgroundcolor": "#E5ECF6",
            "gridcolor": "white",
            "gridwidth": 2,
            "linecolor": "white",
            "showbackground": true,
            "ticks": "",
            "zerolinecolor": "white"
           },
           "zaxis": {
            "backgroundcolor": "#E5ECF6",
            "gridcolor": "white",
            "gridwidth": 2,
            "linecolor": "white",
            "showbackground": true,
            "ticks": "",
            "zerolinecolor": "white"
           }
          },
          "shapedefaults": {
           "line": {
            "color": "#2a3f5f"
           }
          },
          "ternary": {
           "aaxis": {
            "gridcolor": "white",
            "linecolor": "white",
            "ticks": ""
           },
           "baxis": {
            "gridcolor": "white",
            "linecolor": "white",
            "ticks": ""
           },
           "bgcolor": "#E5ECF6",
           "caxis": {
            "gridcolor": "white",
            "linecolor": "white",
            "ticks": ""
           }
          },
          "title": {
           "x": 0.05
          },
          "xaxis": {
           "automargin": true,
           "gridcolor": "white",
           "linecolor": "white",
           "ticks": "",
           "title": {
            "standoff": 15
           },
           "zerolinecolor": "white",
           "zerolinewidth": 2
          },
          "yaxis": {
           "automargin": true,
           "gridcolor": "white",
           "linecolor": "white",
           "ticks": "",
           "title": {
            "standoff": 15
           },
           "zerolinecolor": "white",
           "zerolinewidth": 2
          }
         }
        },
        "title": {
         "font": {
          "color": "#4D5663"
         }
        },
        "xaxis": {
         "gridcolor": "#E1E5ED",
         "showgrid": true,
         "tickfont": {
          "color": "#4D5663"
         },
         "title": {
          "font": {
           "color": "#4D5663"
          },
          "text": ""
         },
         "zerolinecolor": "#E1E5ED"
        },
        "yaxis": {
         "gridcolor": "#E1E5ED",
         "showgrid": true,
         "tickfont": {
          "color": "#4D5663"
         },
         "title": {
          "font": {
           "color": "#4D5663"
          },
          "text": ""
         },
         "zerolinecolor": "#E1E5ED"
        }
       }
      },
      "text/html": [
       "<div>                            <div id=\"f631b482-2b95-4473-9d03-3860dce9f33e\" class=\"plotly-graph-div\" style=\"height:525px; width:100%;\"></div>            <script type=\"text/javascript\">                require([\"plotly\"], function(Plotly) {                    window.PLOTLYENV=window.PLOTLYENV || {};\n",
       "                    window.PLOTLYENV.BASE_URL='https://plot.ly';                                    if (document.getElementById(\"f631b482-2b95-4473-9d03-3860dce9f33e\")) {                    Plotly.newPlot(                        \"f631b482-2b95-4473-9d03-3860dce9f33e\",                        [{\"colorscale\":[[0.0,\"rgb(165,0,38)\"],[0.1,\"rgb(215,48,39)\"],[0.2,\"rgb(244,109,67)\"],[0.3,\"rgb(253,174,97)\"],[0.4,\"rgb(254,224,144)\"],[0.5,\"rgb(255,255,191)\"],[0.6,\"rgb(224,243,248)\"],[0.7,\"rgb(171,217,233)\"],[0.8,\"rgb(116,173,209)\"],[0.9,\"rgb(69,117,180)\"],[1.0,\"rgb(49,54,149)\"]],\"x\":[0,1,2,3,4],\"y\":[\"X\",\"Y\",\"Z\"],\"z\":[[1,2,3,4,5],[10,20,30,40,50],[5,4,3,2,1]],\"type\":\"surface\"}],                        {\"legend\":{\"bgcolor\":\"#F5F6F9\",\"font\":{\"color\":\"#4D5663\"}},\"paper_bgcolor\":\"#F5F6F9\",\"plot_bgcolor\":\"#F5F6F9\",\"template\":{\"data\":{\"barpolar\":[{\"marker\":{\"line\":{\"color\":\"#E5ECF6\",\"width\":0.5},\"pattern\":{\"fillmode\":\"overlay\",\"size\":10,\"solidity\":0.2}},\"type\":\"barpolar\"}],\"bar\":[{\"error_x\":{\"color\":\"#2a3f5f\"},\"error_y\":{\"color\":\"#2a3f5f\"},\"marker\":{\"line\":{\"color\":\"#E5ECF6\",\"width\":0.5},\"pattern\":{\"fillmode\":\"overlay\",\"size\":10,\"solidity\":0.2}},\"type\":\"bar\"}],\"carpet\":[{\"aaxis\":{\"endlinecolor\":\"#2a3f5f\",\"gridcolor\":\"white\",\"linecolor\":\"white\",\"minorgridcolor\":\"white\",\"startlinecolor\":\"#2a3f5f\"},\"baxis\":{\"endlinecolor\":\"#2a3f5f\",\"gridcolor\":\"white\",\"linecolor\":\"white\",\"minorgridcolor\":\"white\",\"startlinecolor\":\"#2a3f5f\"},\"type\":\"carpet\"}],\"choropleth\":[{\"colorbar\":{\"outlinewidth\":0,\"ticks\":\"\"},\"type\":\"choropleth\"}],\"contourcarpet\":[{\"colorbar\":{\"outlinewidth\":0,\"ticks\":\"\"},\"type\":\"contourcarpet\"}],\"contour\":[{\"colorbar\":{\"outlinewidth\":0,\"ticks\":\"\"},\"colorscale\":[[0.0,\"#0d0887\"],[0.1111111111111111,\"#46039f\"],[0.2222222222222222,\"#7201a8\"],[0.3333333333333333,\"#9c179e\"],[0.4444444444444444,\"#bd3786\"],[0.5555555555555556,\"#d8576b\"],[0.6666666666666666,\"#ed7953\"],[0.7777777777777778,\"#fb9f3a\"],[0.8888888888888888,\"#fdca26\"],[1.0,\"#f0f921\"]],\"type\":\"contour\"}],\"heatmapgl\":[{\"colorbar\":{\"outlinewidth\":0,\"ticks\":\"\"},\"colorscale\":[[0.0,\"#0d0887\"],[0.1111111111111111,\"#46039f\"],[0.2222222222222222,\"#7201a8\"],[0.3333333333333333,\"#9c179e\"],[0.4444444444444444,\"#bd3786\"],[0.5555555555555556,\"#d8576b\"],[0.6666666666666666,\"#ed7953\"],[0.7777777777777778,\"#fb9f3a\"],[0.8888888888888888,\"#fdca26\"],[1.0,\"#f0f921\"]],\"type\":\"heatmapgl\"}],\"heatmap\":[{\"colorbar\":{\"outlinewidth\":0,\"ticks\":\"\"},\"colorscale\":[[0.0,\"#0d0887\"],[0.1111111111111111,\"#46039f\"],[0.2222222222222222,\"#7201a8\"],[0.3333333333333333,\"#9c179e\"],[0.4444444444444444,\"#bd3786\"],[0.5555555555555556,\"#d8576b\"],[0.6666666666666666,\"#ed7953\"],[0.7777777777777778,\"#fb9f3a\"],[0.8888888888888888,\"#fdca26\"],[1.0,\"#f0f921\"]],\"type\":\"heatmap\"}],\"histogram2dcontour\":[{\"colorbar\":{\"outlinewidth\":0,\"ticks\":\"\"},\"colorscale\":[[0.0,\"#0d0887\"],[0.1111111111111111,\"#46039f\"],[0.2222222222222222,\"#7201a8\"],[0.3333333333333333,\"#9c179e\"],[0.4444444444444444,\"#bd3786\"],[0.5555555555555556,\"#d8576b\"],[0.6666666666666666,\"#ed7953\"],[0.7777777777777778,\"#fb9f3a\"],[0.8888888888888888,\"#fdca26\"],[1.0,\"#f0f921\"]],\"type\":\"histogram2dcontour\"}],\"histogram2d\":[{\"colorbar\":{\"outlinewidth\":0,\"ticks\":\"\"},\"colorscale\":[[0.0,\"#0d0887\"],[0.1111111111111111,\"#46039f\"],[0.2222222222222222,\"#7201a8\"],[0.3333333333333333,\"#9c179e\"],[0.4444444444444444,\"#bd3786\"],[0.5555555555555556,\"#d8576b\"],[0.6666666666666666,\"#ed7953\"],[0.7777777777777778,\"#fb9f3a\"],[0.8888888888888888,\"#fdca26\"],[1.0,\"#f0f921\"]],\"type\":\"histogram2d\"}],\"histogram\":[{\"marker\":{\"pattern\":{\"fillmode\":\"overlay\",\"size\":10,\"solidity\":0.2}},\"type\":\"histogram\"}],\"mesh3d\":[{\"colorbar\":{\"outlinewidth\":0,\"ticks\":\"\"},\"type\":\"mesh3d\"}],\"parcoords\":[{\"line\":{\"colorbar\":{\"outlinewidth\":0,\"ticks\":\"\"}},\"type\":\"parcoords\"}],\"pie\":[{\"automargin\":true,\"type\":\"pie\"}],\"scatter3d\":[{\"line\":{\"colorbar\":{\"outlinewidth\":0,\"ticks\":\"\"}},\"marker\":{\"colorbar\":{\"outlinewidth\":0,\"ticks\":\"\"}},\"type\":\"scatter3d\"}],\"scattercarpet\":[{\"marker\":{\"colorbar\":{\"outlinewidth\":0,\"ticks\":\"\"}},\"type\":\"scattercarpet\"}],\"scattergeo\":[{\"marker\":{\"colorbar\":{\"outlinewidth\":0,\"ticks\":\"\"}},\"type\":\"scattergeo\"}],\"scattergl\":[{\"marker\":{\"colorbar\":{\"outlinewidth\":0,\"ticks\":\"\"}},\"type\":\"scattergl\"}],\"scattermapbox\":[{\"marker\":{\"colorbar\":{\"outlinewidth\":0,\"ticks\":\"\"}},\"type\":\"scattermapbox\"}],\"scatterpolargl\":[{\"marker\":{\"colorbar\":{\"outlinewidth\":0,\"ticks\":\"\"}},\"type\":\"scatterpolargl\"}],\"scatterpolar\":[{\"marker\":{\"colorbar\":{\"outlinewidth\":0,\"ticks\":\"\"}},\"type\":\"scatterpolar\"}],\"scatter\":[{\"marker\":{\"colorbar\":{\"outlinewidth\":0,\"ticks\":\"\"}},\"type\":\"scatter\"}],\"scatterternary\":[{\"marker\":{\"colorbar\":{\"outlinewidth\":0,\"ticks\":\"\"}},\"type\":\"scatterternary\"}],\"surface\":[{\"colorbar\":{\"outlinewidth\":0,\"ticks\":\"\"},\"colorscale\":[[0.0,\"#0d0887\"],[0.1111111111111111,\"#46039f\"],[0.2222222222222222,\"#7201a8\"],[0.3333333333333333,\"#9c179e\"],[0.4444444444444444,\"#bd3786\"],[0.5555555555555556,\"#d8576b\"],[0.6666666666666666,\"#ed7953\"],[0.7777777777777778,\"#fb9f3a\"],[0.8888888888888888,\"#fdca26\"],[1.0,\"#f0f921\"]],\"type\":\"surface\"}],\"table\":[{\"cells\":{\"fill\":{\"color\":\"#EBF0F8\"},\"line\":{\"color\":\"white\"}},\"header\":{\"fill\":{\"color\":\"#C8D4E3\"},\"line\":{\"color\":\"white\"}},\"type\":\"table\"}]},\"layout\":{\"annotationdefaults\":{\"arrowcolor\":\"#2a3f5f\",\"arrowhead\":0,\"arrowwidth\":1},\"autotypenumbers\":\"strict\",\"coloraxis\":{\"colorbar\":{\"outlinewidth\":0,\"ticks\":\"\"}},\"colorscale\":{\"diverging\":[[0,\"#8e0152\"],[0.1,\"#c51b7d\"],[0.2,\"#de77ae\"],[0.3,\"#f1b6da\"],[0.4,\"#fde0ef\"],[0.5,\"#f7f7f7\"],[0.6,\"#e6f5d0\"],[0.7,\"#b8e186\"],[0.8,\"#7fbc41\"],[0.9,\"#4d9221\"],[1,\"#276419\"]],\"sequential\":[[0.0,\"#0d0887\"],[0.1111111111111111,\"#46039f\"],[0.2222222222222222,\"#7201a8\"],[0.3333333333333333,\"#9c179e\"],[0.4444444444444444,\"#bd3786\"],[0.5555555555555556,\"#d8576b\"],[0.6666666666666666,\"#ed7953\"],[0.7777777777777778,\"#fb9f3a\"],[0.8888888888888888,\"#fdca26\"],[1.0,\"#f0f921\"]],\"sequentialminus\":[[0.0,\"#0d0887\"],[0.1111111111111111,\"#46039f\"],[0.2222222222222222,\"#7201a8\"],[0.3333333333333333,\"#9c179e\"],[0.4444444444444444,\"#bd3786\"],[0.5555555555555556,\"#d8576b\"],[0.6666666666666666,\"#ed7953\"],[0.7777777777777778,\"#fb9f3a\"],[0.8888888888888888,\"#fdca26\"],[1.0,\"#f0f921\"]]},\"colorway\":[\"#636efa\",\"#EF553B\",\"#00cc96\",\"#ab63fa\",\"#FFA15A\",\"#19d3f3\",\"#FF6692\",\"#B6E880\",\"#FF97FF\",\"#FECB52\"],\"font\":{\"color\":\"#2a3f5f\"},\"geo\":{\"bgcolor\":\"white\",\"lakecolor\":\"white\",\"landcolor\":\"#E5ECF6\",\"showlakes\":true,\"showland\":true,\"subunitcolor\":\"white\"},\"hoverlabel\":{\"align\":\"left\"},\"hovermode\":\"closest\",\"mapbox\":{\"style\":\"light\"},\"paper_bgcolor\":\"white\",\"plot_bgcolor\":\"#E5ECF6\",\"polar\":{\"angularaxis\":{\"gridcolor\":\"white\",\"linecolor\":\"white\",\"ticks\":\"\"},\"bgcolor\":\"#E5ECF6\",\"radialaxis\":{\"gridcolor\":\"white\",\"linecolor\":\"white\",\"ticks\":\"\"}},\"scene\":{\"xaxis\":{\"backgroundcolor\":\"#E5ECF6\",\"gridcolor\":\"white\",\"gridwidth\":2,\"linecolor\":\"white\",\"showbackground\":true,\"ticks\":\"\",\"zerolinecolor\":\"white\"},\"yaxis\":{\"backgroundcolor\":\"#E5ECF6\",\"gridcolor\":\"white\",\"gridwidth\":2,\"linecolor\":\"white\",\"showbackground\":true,\"ticks\":\"\",\"zerolinecolor\":\"white\"},\"zaxis\":{\"backgroundcolor\":\"#E5ECF6\",\"gridcolor\":\"white\",\"gridwidth\":2,\"linecolor\":\"white\",\"showbackground\":true,\"ticks\":\"\",\"zerolinecolor\":\"white\"}},\"shapedefaults\":{\"line\":{\"color\":\"#2a3f5f\"}},\"ternary\":{\"aaxis\":{\"gridcolor\":\"white\",\"linecolor\":\"white\",\"ticks\":\"\"},\"baxis\":{\"gridcolor\":\"white\",\"linecolor\":\"white\",\"ticks\":\"\"},\"bgcolor\":\"#E5ECF6\",\"caxis\":{\"gridcolor\":\"white\",\"linecolor\":\"white\",\"ticks\":\"\"}},\"title\":{\"x\":0.05},\"xaxis\":{\"automargin\":true,\"gridcolor\":\"white\",\"linecolor\":\"white\",\"ticks\":\"\",\"title\":{\"standoff\":15},\"zerolinecolor\":\"white\",\"zerolinewidth\":2},\"yaxis\":{\"automargin\":true,\"gridcolor\":\"white\",\"linecolor\":\"white\",\"ticks\":\"\",\"title\":{\"standoff\":15},\"zerolinecolor\":\"white\",\"zerolinewidth\":2}}},\"title\":{\"font\":{\"color\":\"#4D5663\"}},\"xaxis\":{\"gridcolor\":\"#E1E5ED\",\"showgrid\":true,\"tickfont\":{\"color\":\"#4D5663\"},\"title\":{\"font\":{\"color\":\"#4D5663\"},\"text\":\"\"},\"zerolinecolor\":\"#E1E5ED\"},\"yaxis\":{\"gridcolor\":\"#E1E5ED\",\"showgrid\":true,\"tickfont\":{\"color\":\"#4D5663\"},\"title\":{\"font\":{\"color\":\"#4D5663\"},\"text\":\"\"},\"zerolinecolor\":\"#E1E5ED\"}},                        {\"showLink\": true, \"linkText\": \"Export to plot.ly\", \"plotlyServerURL\": \"https://plot.ly\", \"responsive\": true}                    ).then(function(){\n",
       "                            \n",
       "var gd = document.getElementById('f631b482-2b95-4473-9d03-3860dce9f33e');\n",
       "var x = new MutationObserver(function (mutations, observer) {{\n",
       "        var display = window.getComputedStyle(gd).display;\n",
       "        if (!display || display === 'none') {{\n",
       "            console.log([gd, 'removed!']);\n",
       "            Plotly.purge(gd);\n",
       "            observer.disconnect();\n",
       "        }}\n",
       "}});\n",
       "\n",
       "// Listen for the removal of the full notebook cells\n",
       "var notebookContainer = gd.closest('#notebook-container');\n",
       "if (notebookContainer) {{\n",
       "    x.observe(notebookContainer, {childList: true});\n",
       "}}\n",
       "\n",
       "// Listen for the clearing of the current output cell\n",
       "var outputEl = gd.closest('.output');\n",
       "if (outputEl) {{\n",
       "    x.observe(outputEl, {childList: true});\n",
       "}}\n",
       "\n",
       "                        })                };                });            </script>        </div>"
      ]
     },
     "metadata": {},
     "output_type": "display_data"
    }
   ],
   "source": [
    "df4=pd.DataFrame({\"X\":[1,2,3,4,5],\"Y\":[10,20,30,40,50],\"Z\":[5,4,3,2,1]})\n",
    "df4.iplot(kind=\"surface\",colorscale=\"rdylbu\")"
   ]
  },
  {
   "cell_type": "code",
   "execution_count": 43,
   "id": "de4ffd74",
   "metadata": {},
   "outputs": [
    {
     "data": {
      "application/vnd.plotly.v1+json": {
       "config": {
        "linkText": "Export to plot.ly",
        "plotlyServerURL": "https://plot.ly",
        "showLink": true
       },
       "data": [
        {
         "histfunc": "count",
         "histnorm": "",
         "marker": {
          "color": "rgba(255, 153, 51, 1.0)",
          "line": {
           "color": "#4D5663",
           "width": 1.3
          }
         },
         "name": "A",
         "nbinsx": 15,
         "opacity": 0.8,
         "orientation": "v",
         "type": "histogram",
         "x": [
          0.5745116639033776,
          0.9785972848361238,
          -0.46469597183700806,
          0.9184812368604616,
          0.5817003574663901,
          -0.8855551147163485,
          0.09441057738706614,
          1.7836130306849607,
          0.10863026996968499,
          1.655210904475645,
          0.30667166945281715,
          -1.476029094117104,
          0.799313372611074,
          -1.182350550952549,
          -1.6214507865494476,
          -0.42659969531808345,
          -0.3185300279638153,
          -1.3113068558963037,
          0.45441541274656017,
          -0.443448868043506,
          -0.3135832451503955,
          -0.07429059560938601,
          1.8304855967609228,
          -0.0713168342931115,
          0.8847741156048016,
          0.3452923952775951,
          0.5801132528806705,
          0.7624799832899686,
          0.3322130822954626,
          -0.14242422341213887,
          0.5869469207911738,
          0.6341426054564636,
          2.6938248204297524,
          0.8375677977573818,
          -0.2802251892428954,
          -0.5670142257178402,
          -0.8146887280907159,
          -0.6668992899757032,
          2.2222815451456523,
          -0.7833069320609886,
          0.9905961044054827,
          -0.3256149670770055,
          0.7365672470102214,
          -1.0926596097491235,
          1.1139787434940185,
          -0.6114157064105485,
          -0.450868606112402,
          -0.36872430246246546,
          -0.3249512173133247,
          2.1636131958285767,
          -0.75466909629134,
          -1.288377728305726,
          0.605480241918969,
          -1.7403342621117603,
          -0.5767090901550972,
          0.9862116910360376,
          -0.07369698703587212,
          0.20182496138164546,
          -1.2045105548068864,
          -0.7002951860185551,
          -0.5703494211401896,
          -0.68009580336817,
          0.6916715289142051,
          0.27340901129917644,
          -0.29035920152335515,
          0.2852039886179615,
          0.7133312233350243,
          -0.91547252184514,
          0.28003515738276347,
          1.4923423101747046,
          -0.027191134486079134,
          1.6319337877418953,
          -1.3711337986599788,
          -0.8071766479811399,
          1.318813382305548,
          -0.10012598881905053,
          0.46188415018899753,
          -0.04060855731254377,
          2.087349678948209,
          -0.7295423629444664,
          -1.465500164221751,
          0.7008696270372898,
          -1.7579283442082925,
          -1.7328437612335499,
          0.5294871189749688,
          1.43612734612469,
          0.04680259369241339,
          -1.3526150222323468,
          0.6582598167822007,
          -1.9950013095935213,
          0.4033083680452155,
          0.8175282263646728,
          0.07014198917232728,
          0.43828413155616214,
          0.24968000311555905,
          -0.387429824957257,
          -0.031778227882134205,
          -0.8623267915106497,
          -0.953740984431478,
          -0.05445983399194409
         ]
        },
        {
         "histfunc": "count",
         "histnorm": "",
         "marker": {
          "color": "rgba(55, 128, 191, 1.0)",
          "line": {
           "color": "#4D5663",
           "width": 1.3
          }
         },
         "name": "B",
         "nbinsx": 15,
         "opacity": 0.8,
         "orientation": "v",
         "type": "histogram",
         "x": [
          0.3484717820327838,
          0.5039583742528283,
          -0.9990150314466602,
          0.604350440733284,
          0.16033161362756743,
          1.060326634828224,
          0.5691134915340805,
          -0.902432065184702,
          -0.0009131599102196734,
          0.09740491055972142,
          -1.4180894025378805,
          -0.1803668008622408,
          -1.7737974336650428,
          -0.6506678065802198,
          0.8841075279030496,
          -0.5049945854318697,
          0.7239937184181856,
          -1.4383931275209565,
          0.8453066301750151,
          0.34762005674502483,
          2.0400388372549223,
          -2.157315730611294,
          0.2209478364340322,
          1.802311901385443,
          3.3671102200760767,
          -1.7890851153801186,
          0.8635998111125606,
          0.04538181554622621,
          -0.8768539270570925,
          -1.1561098530930023,
          0.469769961263792,
          0.10483776806045433,
          1.1257947743633177,
          -3.1103162481128477,
          -0.3935244258767791,
          -0.07811839656271094,
          -1.0693390703646042,
          0.7577788997522897,
          0.8548256973784643,
          -0.7227486071850662,
          0.12621136521701642,
          -1.5686850089516764,
          2.3752191234886935,
          1.4117382899520032,
          -0.06966122654057275,
          -0.2222910739555117,
          0.6192503527480322,
          -0.008653601175503829,
          1.155008140394314,
          1.1213681767834516,
          0.6227605959154743,
          3.0697752847408153,
          -0.7300573613661158,
          0.13952947626816217,
          -1.9619353983439314,
          0.701911922424966,
          -0.5785472608072868,
          0.904956567921151,
          -0.9164830751388292,
          2.072689928015543,
          -1.266120789293466,
          -1.3461698573203658,
          -1.5214579615650425,
          -0.5072045185877293,
          -0.7444078207165821,
          2.104810542954587,
          -0.5768261503583167,
          2.6776643429524682,
          -2.3662353087503725,
          0.8183446525143931,
          0.7134885860563976,
          1.0906029212725172,
          -0.7230975990475973,
          0.03037479719875758,
          -0.28281776746578247,
          -2.507508618860443,
          -1.5149956387038264,
          0.2410973606292827,
          0.6497788978731519,
          -0.6259518762684783,
          0.48969228635237555,
          -0.2923666080038938,
          -0.3205481507170632,
          -0.43491892684007843,
          0.7769155155258977,
          -0.8411034149662258,
          -0.5552018807643755,
          -0.2920563678052631,
          1.7897545559348271,
          0.2610504779580989,
          -1.4069427847349,
          -1.9312946429450102,
          -0.25086161419952285,
          3.056499097584156,
          -0.1159568138865182,
          0.5182386214901665,
          -1.1810581543932195,
          0.38615617047610795,
          0.5564841086303987,
          -1.2559280625325615
         ]
        },
        {
         "histfunc": "count",
         "histnorm": "",
         "marker": {
          "color": "rgba(50, 171, 96, 1.0)",
          "line": {
           "color": "#4D5663",
           "width": 1.3
          }
         },
         "name": "C",
         "nbinsx": 15,
         "opacity": 0.8,
         "orientation": "v",
         "type": "histogram",
         "x": [
          -0.6279178473499555,
          0.34622561345445335,
          0.6075860797924031,
          0.02913262936668257,
          0.9197560845710289,
          -0.7699731478454107,
          1.262751820212759,
          0.5433569547085509,
          -0.04482419281941183,
          -1.8029330477391154,
          -0.3635930655564669,
          -0.32293359057263066,
          -1.0903441436528212,
          0.7868906023265563,
          1.8802309640937576,
          -1.1904067058610839,
          0.9208295249944821,
          -0.010545087497734865,
          -0.47535946760931175,
          -0.49259542313300664,
          0.49951299732480203,
          0.6107458107182563,
          -0.44760546551429015,
          0.7441989280214762,
          0.126282178595897,
          0.5799743994055035,
          0.8448531473533216,
          0.01721277105263823,
          0.3983984851970272,
          0.8998252618913929,
          -1.128139718568078,
          -2.4470170704696845,
          -0.7641046776489488,
          1.2088552628983082,
          -0.5064963552932986,
          -0.2368630390955342,
          -0.8377971315111741,
          1.1431791731062944,
          -0.33630594515135365,
          -0.05498773522437794,
          0.12855901062512956,
          1.2882887971043535,
          -1.1079393728923863,
          -1.1240040458096074,
          0.20613811688148714,
          0.6603564503196672,
          -0.07931323212753368,
          0.500898078337865,
          0.11881201356812975,
          -0.7348269138908055,
          -1.2170323289831457,
          0.6005777097187909,
          0.31804334040013993,
          -0.6103546895923493,
          0.3376553321693647,
          -0.6970522403401523,
          -1.395723901987532,
          -0.5724566426848541,
          0.41720725384278323,
          0.5623509112780184,
          1.8705345966014466,
          -1.2677745554240667,
          0.9249856098999654,
          0.16752698109952394,
          -0.8547190482771455,
          -0.2760246934292152,
          1.4249491140674166,
          0.461527822040228,
          0.4608526377560005,
          0.21554681297308004,
          -0.3775884115532785,
          0.5779896658643389,
          -0.13449231921950758,
          0.8034085123741144,
          -0.10994124229232537,
          -1.271901145263936,
          -0.30024887575895737,
          0.7338930349916993,
          0.5996504619148298,
          1.3857603182449478,
          -1.4056057067335495,
          0.9151144691560194,
          -0.12771332861383022,
          0.10129448760262104,
          -1.436262638647789,
          -1.0767602472155713,
          -0.2784479812254053,
          0.2896633485845398,
          0.15840710572744796,
          0.16207494875451453,
          -0.705880200771333,
          1.0282269568186841,
          -0.0662258920562984,
          -0.8766807393776468,
          0.6693348680615138,
          -0.4580944882884912,
          0.3660714458836404,
          2.1712711304260988,
          -0.6079636194188285,
          -1.6330563833064893
         ]
        },
        {
         "histfunc": "count",
         "histnorm": "",
         "marker": {
          "color": "rgba(128, 0, 128, 1.0)",
          "line": {
           "color": "#4D5663",
           "width": 1.3
          }
         },
         "name": "D",
         "nbinsx": 15,
         "opacity": 0.8,
         "orientation": "v",
         "type": "histogram",
         "x": [
          1.9606853783266955,
          -1.0136178810359866,
          1.4910953108378,
          -0.3189171713047649,
          0.021843353198976265,
          0.4994652389137691,
          0.6025525448423065,
          -0.21935349285008657,
          -0.980921477319787,
          0.15381984638449858,
          0.25878300442220536,
          0.2699586885699263,
          -0.1873621610845983,
          0.43536025465544065,
          -1.5449545635773947,
          2.0395544786006714,
          -0.6480518257395195,
          0.808721090642994,
          -0.36719354125504494,
          -0.001025316925003803,
          0.8685637725200062,
          -0.6601768772363882,
          -0.6959594745559767,
          0.41764298027593005,
          -0.3333116698881908,
          0.5503601390374941,
          -0.28209193456661696,
          -1.1369615553160728,
          -2.2545149710465613,
          -0.7948856937950168,
          0.5275437880904109,
          0.11551200209770948,
          0.9320589237708774,
          0.42408266688622964,
          0.42268697686270573,
          0.45085952784692396,
          0.48019269833110984,
          0.34403733308482704,
          -0.5615786227070604,
          -0.2368320299715633,
          -0.43983229008381397,
          0.4055089919780472,
          -0.7031968631290005,
          1.0481306791280107,
          -0.5021248693181799,
          2.6184137554616247,
          -0.42501359786823517,
          0.10522954657932518,
          0.6134329174956021,
          1.1904947545127642,
          0.5618872339979997,
          0.34093915540513064,
          0.2854264334198376,
          -2.50992325626351,
          -0.037972860865348235,
          -0.18829670714289753,
          -2.1286085932779284,
          -1.2835300856396996,
          -0.06223488570762441,
          -0.3194064224602298,
          1.2313290995397501,
          -1.5149777816912295,
          -0.34254587282552446,
          -0.6118002590508678,
          0.9164634051413787,
          0.6416523969220308,
          0.8214296467449537,
          -1.5916357601379973,
          0.7184667905552226,
          -0.2135752689842116,
          -0.21718171400949463,
          -0.16507577784971347,
          -0.7448777745649179,
          -0.8368103625305751,
          0.6156877429083625,
          0.41167420140018496,
          -0.050175997897253875,
          0.42280045371233105,
          0.6272893420786025,
          -1.832109685866272,
          0.6069988870305376,
          -0.38886220134506994,
          1.1739274102042094,
          -1.3756508091828772,
          1.0739141347660655,
          -0.3833757608899859,
          0.7587246029321222,
          0.3821433182351493,
          -0.506829574148174,
          -3.002881245728504,
          0.004645115344238137,
          -0.3184797536289734,
          0.750134727440925,
          0.13039868795406834,
          0.8405588014809571,
          -0.3720549904327991,
          -1.3032189362566347,
          -0.8373272550808281,
          -1.1887946406131236,
          -0.1783987610128384
         ]
        }
       ],
       "layout": {
        "barmode": "overlay",
        "legend": {
         "bgcolor": "#F5F6F9",
         "font": {
          "color": "#4D5663"
         }
        },
        "paper_bgcolor": "#F5F6F9",
        "plot_bgcolor": "#F5F6F9",
        "template": {
         "data": {
          "bar": [
           {
            "error_x": {
             "color": "#2a3f5f"
            },
            "error_y": {
             "color": "#2a3f5f"
            },
            "marker": {
             "line": {
              "color": "#E5ECF6",
              "width": 0.5
             },
             "pattern": {
              "fillmode": "overlay",
              "size": 10,
              "solidity": 0.2
             }
            },
            "type": "bar"
           }
          ],
          "barpolar": [
           {
            "marker": {
             "line": {
              "color": "#E5ECF6",
              "width": 0.5
             },
             "pattern": {
              "fillmode": "overlay",
              "size": 10,
              "solidity": 0.2
             }
            },
            "type": "barpolar"
           }
          ],
          "carpet": [
           {
            "aaxis": {
             "endlinecolor": "#2a3f5f",
             "gridcolor": "white",
             "linecolor": "white",
             "minorgridcolor": "white",
             "startlinecolor": "#2a3f5f"
            },
            "baxis": {
             "endlinecolor": "#2a3f5f",
             "gridcolor": "white",
             "linecolor": "white",
             "minorgridcolor": "white",
             "startlinecolor": "#2a3f5f"
            },
            "type": "carpet"
           }
          ],
          "choropleth": [
           {
            "colorbar": {
             "outlinewidth": 0,
             "ticks": ""
            },
            "type": "choropleth"
           }
          ],
          "contour": [
           {
            "colorbar": {
             "outlinewidth": 0,
             "ticks": ""
            },
            "colorscale": [
             [
              0,
              "#0d0887"
             ],
             [
              0.1111111111111111,
              "#46039f"
             ],
             [
              0.2222222222222222,
              "#7201a8"
             ],
             [
              0.3333333333333333,
              "#9c179e"
             ],
             [
              0.4444444444444444,
              "#bd3786"
             ],
             [
              0.5555555555555556,
              "#d8576b"
             ],
             [
              0.6666666666666666,
              "#ed7953"
             ],
             [
              0.7777777777777778,
              "#fb9f3a"
             ],
             [
              0.8888888888888888,
              "#fdca26"
             ],
             [
              1,
              "#f0f921"
             ]
            ],
            "type": "contour"
           }
          ],
          "contourcarpet": [
           {
            "colorbar": {
             "outlinewidth": 0,
             "ticks": ""
            },
            "type": "contourcarpet"
           }
          ],
          "heatmap": [
           {
            "colorbar": {
             "outlinewidth": 0,
             "ticks": ""
            },
            "colorscale": [
             [
              0,
              "#0d0887"
             ],
             [
              0.1111111111111111,
              "#46039f"
             ],
             [
              0.2222222222222222,
              "#7201a8"
             ],
             [
              0.3333333333333333,
              "#9c179e"
             ],
             [
              0.4444444444444444,
              "#bd3786"
             ],
             [
              0.5555555555555556,
              "#d8576b"
             ],
             [
              0.6666666666666666,
              "#ed7953"
             ],
             [
              0.7777777777777778,
              "#fb9f3a"
             ],
             [
              0.8888888888888888,
              "#fdca26"
             ],
             [
              1,
              "#f0f921"
             ]
            ],
            "type": "heatmap"
           }
          ],
          "heatmapgl": [
           {
            "colorbar": {
             "outlinewidth": 0,
             "ticks": ""
            },
            "colorscale": [
             [
              0,
              "#0d0887"
             ],
             [
              0.1111111111111111,
              "#46039f"
             ],
             [
              0.2222222222222222,
              "#7201a8"
             ],
             [
              0.3333333333333333,
              "#9c179e"
             ],
             [
              0.4444444444444444,
              "#bd3786"
             ],
             [
              0.5555555555555556,
              "#d8576b"
             ],
             [
              0.6666666666666666,
              "#ed7953"
             ],
             [
              0.7777777777777778,
              "#fb9f3a"
             ],
             [
              0.8888888888888888,
              "#fdca26"
             ],
             [
              1,
              "#f0f921"
             ]
            ],
            "type": "heatmapgl"
           }
          ],
          "histogram": [
           {
            "marker": {
             "pattern": {
              "fillmode": "overlay",
              "size": 10,
              "solidity": 0.2
             }
            },
            "type": "histogram"
           }
          ],
          "histogram2d": [
           {
            "colorbar": {
             "outlinewidth": 0,
             "ticks": ""
            },
            "colorscale": [
             [
              0,
              "#0d0887"
             ],
             [
              0.1111111111111111,
              "#46039f"
             ],
             [
              0.2222222222222222,
              "#7201a8"
             ],
             [
              0.3333333333333333,
              "#9c179e"
             ],
             [
              0.4444444444444444,
              "#bd3786"
             ],
             [
              0.5555555555555556,
              "#d8576b"
             ],
             [
              0.6666666666666666,
              "#ed7953"
             ],
             [
              0.7777777777777778,
              "#fb9f3a"
             ],
             [
              0.8888888888888888,
              "#fdca26"
             ],
             [
              1,
              "#f0f921"
             ]
            ],
            "type": "histogram2d"
           }
          ],
          "histogram2dcontour": [
           {
            "colorbar": {
             "outlinewidth": 0,
             "ticks": ""
            },
            "colorscale": [
             [
              0,
              "#0d0887"
             ],
             [
              0.1111111111111111,
              "#46039f"
             ],
             [
              0.2222222222222222,
              "#7201a8"
             ],
             [
              0.3333333333333333,
              "#9c179e"
             ],
             [
              0.4444444444444444,
              "#bd3786"
             ],
             [
              0.5555555555555556,
              "#d8576b"
             ],
             [
              0.6666666666666666,
              "#ed7953"
             ],
             [
              0.7777777777777778,
              "#fb9f3a"
             ],
             [
              0.8888888888888888,
              "#fdca26"
             ],
             [
              1,
              "#f0f921"
             ]
            ],
            "type": "histogram2dcontour"
           }
          ],
          "mesh3d": [
           {
            "colorbar": {
             "outlinewidth": 0,
             "ticks": ""
            },
            "type": "mesh3d"
           }
          ],
          "parcoords": [
           {
            "line": {
             "colorbar": {
              "outlinewidth": 0,
              "ticks": ""
             }
            },
            "type": "parcoords"
           }
          ],
          "pie": [
           {
            "automargin": true,
            "type": "pie"
           }
          ],
          "scatter": [
           {
            "marker": {
             "colorbar": {
              "outlinewidth": 0,
              "ticks": ""
             }
            },
            "type": "scatter"
           }
          ],
          "scatter3d": [
           {
            "line": {
             "colorbar": {
              "outlinewidth": 0,
              "ticks": ""
             }
            },
            "marker": {
             "colorbar": {
              "outlinewidth": 0,
              "ticks": ""
             }
            },
            "type": "scatter3d"
           }
          ],
          "scattercarpet": [
           {
            "marker": {
             "colorbar": {
              "outlinewidth": 0,
              "ticks": ""
             }
            },
            "type": "scattercarpet"
           }
          ],
          "scattergeo": [
           {
            "marker": {
             "colorbar": {
              "outlinewidth": 0,
              "ticks": ""
             }
            },
            "type": "scattergeo"
           }
          ],
          "scattergl": [
           {
            "marker": {
             "colorbar": {
              "outlinewidth": 0,
              "ticks": ""
             }
            },
            "type": "scattergl"
           }
          ],
          "scattermapbox": [
           {
            "marker": {
             "colorbar": {
              "outlinewidth": 0,
              "ticks": ""
             }
            },
            "type": "scattermapbox"
           }
          ],
          "scatterpolar": [
           {
            "marker": {
             "colorbar": {
              "outlinewidth": 0,
              "ticks": ""
             }
            },
            "type": "scatterpolar"
           }
          ],
          "scatterpolargl": [
           {
            "marker": {
             "colorbar": {
              "outlinewidth": 0,
              "ticks": ""
             }
            },
            "type": "scatterpolargl"
           }
          ],
          "scatterternary": [
           {
            "marker": {
             "colorbar": {
              "outlinewidth": 0,
              "ticks": ""
             }
            },
            "type": "scatterternary"
           }
          ],
          "surface": [
           {
            "colorbar": {
             "outlinewidth": 0,
             "ticks": ""
            },
            "colorscale": [
             [
              0,
              "#0d0887"
             ],
             [
              0.1111111111111111,
              "#46039f"
             ],
             [
              0.2222222222222222,
              "#7201a8"
             ],
             [
              0.3333333333333333,
              "#9c179e"
             ],
             [
              0.4444444444444444,
              "#bd3786"
             ],
             [
              0.5555555555555556,
              "#d8576b"
             ],
             [
              0.6666666666666666,
              "#ed7953"
             ],
             [
              0.7777777777777778,
              "#fb9f3a"
             ],
             [
              0.8888888888888888,
              "#fdca26"
             ],
             [
              1,
              "#f0f921"
             ]
            ],
            "type": "surface"
           }
          ],
          "table": [
           {
            "cells": {
             "fill": {
              "color": "#EBF0F8"
             },
             "line": {
              "color": "white"
             }
            },
            "header": {
             "fill": {
              "color": "#C8D4E3"
             },
             "line": {
              "color": "white"
             }
            },
            "type": "table"
           }
          ]
         },
         "layout": {
          "annotationdefaults": {
           "arrowcolor": "#2a3f5f",
           "arrowhead": 0,
           "arrowwidth": 1
          },
          "autotypenumbers": "strict",
          "coloraxis": {
           "colorbar": {
            "outlinewidth": 0,
            "ticks": ""
           }
          },
          "colorscale": {
           "diverging": [
            [
             0,
             "#8e0152"
            ],
            [
             0.1,
             "#c51b7d"
            ],
            [
             0.2,
             "#de77ae"
            ],
            [
             0.3,
             "#f1b6da"
            ],
            [
             0.4,
             "#fde0ef"
            ],
            [
             0.5,
             "#f7f7f7"
            ],
            [
             0.6,
             "#e6f5d0"
            ],
            [
             0.7,
             "#b8e186"
            ],
            [
             0.8,
             "#7fbc41"
            ],
            [
             0.9,
             "#4d9221"
            ],
            [
             1,
             "#276419"
            ]
           ],
           "sequential": [
            [
             0,
             "#0d0887"
            ],
            [
             0.1111111111111111,
             "#46039f"
            ],
            [
             0.2222222222222222,
             "#7201a8"
            ],
            [
             0.3333333333333333,
             "#9c179e"
            ],
            [
             0.4444444444444444,
             "#bd3786"
            ],
            [
             0.5555555555555556,
             "#d8576b"
            ],
            [
             0.6666666666666666,
             "#ed7953"
            ],
            [
             0.7777777777777778,
             "#fb9f3a"
            ],
            [
             0.8888888888888888,
             "#fdca26"
            ],
            [
             1,
             "#f0f921"
            ]
           ],
           "sequentialminus": [
            [
             0,
             "#0d0887"
            ],
            [
             0.1111111111111111,
             "#46039f"
            ],
            [
             0.2222222222222222,
             "#7201a8"
            ],
            [
             0.3333333333333333,
             "#9c179e"
            ],
            [
             0.4444444444444444,
             "#bd3786"
            ],
            [
             0.5555555555555556,
             "#d8576b"
            ],
            [
             0.6666666666666666,
             "#ed7953"
            ],
            [
             0.7777777777777778,
             "#fb9f3a"
            ],
            [
             0.8888888888888888,
             "#fdca26"
            ],
            [
             1,
             "#f0f921"
            ]
           ]
          },
          "colorway": [
           "#636efa",
           "#EF553B",
           "#00cc96",
           "#ab63fa",
           "#FFA15A",
           "#19d3f3",
           "#FF6692",
           "#B6E880",
           "#FF97FF",
           "#FECB52"
          ],
          "font": {
           "color": "#2a3f5f"
          },
          "geo": {
           "bgcolor": "white",
           "lakecolor": "white",
           "landcolor": "#E5ECF6",
           "showlakes": true,
           "showland": true,
           "subunitcolor": "white"
          },
          "hoverlabel": {
           "align": "left"
          },
          "hovermode": "closest",
          "mapbox": {
           "style": "light"
          },
          "paper_bgcolor": "white",
          "plot_bgcolor": "#E5ECF6",
          "polar": {
           "angularaxis": {
            "gridcolor": "white",
            "linecolor": "white",
            "ticks": ""
           },
           "bgcolor": "#E5ECF6",
           "radialaxis": {
            "gridcolor": "white",
            "linecolor": "white",
            "ticks": ""
           }
          },
          "scene": {
           "xaxis": {
            "backgroundcolor": "#E5ECF6",
            "gridcolor": "white",
            "gridwidth": 2,
            "linecolor": "white",
            "showbackground": true,
            "ticks": "",
            "zerolinecolor": "white"
           },
           "yaxis": {
            "backgroundcolor": "#E5ECF6",
            "gridcolor": "white",
            "gridwidth": 2,
            "linecolor": "white",
            "showbackground": true,
            "ticks": "",
            "zerolinecolor": "white"
           },
           "zaxis": {
            "backgroundcolor": "#E5ECF6",
            "gridcolor": "white",
            "gridwidth": 2,
            "linecolor": "white",
            "showbackground": true,
            "ticks": "",
            "zerolinecolor": "white"
           }
          },
          "shapedefaults": {
           "line": {
            "color": "#2a3f5f"
           }
          },
          "ternary": {
           "aaxis": {
            "gridcolor": "white",
            "linecolor": "white",
            "ticks": ""
           },
           "baxis": {
            "gridcolor": "white",
            "linecolor": "white",
            "ticks": ""
           },
           "bgcolor": "#E5ECF6",
           "caxis": {
            "gridcolor": "white",
            "linecolor": "white",
            "ticks": ""
           }
          },
          "title": {
           "x": 0.05
          },
          "xaxis": {
           "automargin": true,
           "gridcolor": "white",
           "linecolor": "white",
           "ticks": "",
           "title": {
            "standoff": 15
           },
           "zerolinecolor": "white",
           "zerolinewidth": 2
          },
          "yaxis": {
           "automargin": true,
           "gridcolor": "white",
           "linecolor": "white",
           "ticks": "",
           "title": {
            "standoff": 15
           },
           "zerolinecolor": "white",
           "zerolinewidth": 2
          }
         }
        },
        "title": {
         "font": {
          "color": "#4D5663"
         }
        },
        "xaxis": {
         "gridcolor": "#E1E5ED",
         "showgrid": true,
         "tickfont": {
          "color": "#4D5663"
         },
         "title": {
          "font": {
           "color": "#4D5663"
          },
          "text": ""
         },
         "zerolinecolor": "#E1E5ED"
        },
        "yaxis": {
         "gridcolor": "#E1E5ED",
         "showgrid": true,
         "tickfont": {
          "color": "#4D5663"
         },
         "title": {
          "font": {
           "color": "#4D5663"
          },
          "text": ""
         },
         "zerolinecolor": "#E1E5ED"
        }
       }
      },
      "text/html": [
       "<div>                            <div id=\"76bfc639-202b-4d06-97bc-e0b723607245\" class=\"plotly-graph-div\" style=\"height:525px; width:100%;\"></div>            <script type=\"text/javascript\">                require([\"plotly\"], function(Plotly) {                    window.PLOTLYENV=window.PLOTLYENV || {};\n",
       "                    window.PLOTLYENV.BASE_URL='https://plot.ly';                                    if (document.getElementById(\"76bfc639-202b-4d06-97bc-e0b723607245\")) {                    Plotly.newPlot(                        \"76bfc639-202b-4d06-97bc-e0b723607245\",                        [{\"histfunc\":\"count\",\"histnorm\":\"\",\"marker\":{\"color\":\"rgba(255, 153, 51, 1.0)\",\"line\":{\"color\":\"#4D5663\",\"width\":1.3}},\"name\":\"A\",\"nbinsx\":15,\"opacity\":0.8,\"orientation\":\"v\",\"x\":[0.5745116639033776,0.9785972848361238,-0.46469597183700806,0.9184812368604616,0.5817003574663901,-0.8855551147163485,0.09441057738706614,1.7836130306849607,0.10863026996968499,1.655210904475645,0.30667166945281715,-1.476029094117104,0.799313372611074,-1.182350550952549,-1.6214507865494476,-0.42659969531808345,-0.3185300279638153,-1.3113068558963037,0.45441541274656017,-0.443448868043506,-0.3135832451503955,-0.07429059560938601,1.8304855967609228,-0.0713168342931115,0.8847741156048016,0.3452923952775951,0.5801132528806705,0.7624799832899686,0.3322130822954626,-0.14242422341213887,0.5869469207911738,0.6341426054564636,2.6938248204297524,0.8375677977573818,-0.2802251892428954,-0.5670142257178402,-0.8146887280907159,-0.6668992899757032,2.2222815451456523,-0.7833069320609886,0.9905961044054827,-0.3256149670770055,0.7365672470102214,-1.0926596097491235,1.1139787434940185,-0.6114157064105485,-0.450868606112402,-0.36872430246246546,-0.3249512173133247,2.1636131958285767,-0.75466909629134,-1.288377728305726,0.605480241918969,-1.7403342621117603,-0.5767090901550972,0.9862116910360376,-0.07369698703587212,0.20182496138164546,-1.2045105548068864,-0.7002951860185551,-0.5703494211401896,-0.68009580336817,0.6916715289142051,0.27340901129917644,-0.29035920152335515,0.2852039886179615,0.7133312233350243,-0.91547252184514,0.28003515738276347,1.4923423101747046,-0.027191134486079134,1.6319337877418953,-1.3711337986599788,-0.8071766479811399,1.318813382305548,-0.10012598881905053,0.46188415018899753,-0.04060855731254377,2.087349678948209,-0.7295423629444664,-1.465500164221751,0.7008696270372898,-1.7579283442082925,-1.7328437612335499,0.5294871189749688,1.43612734612469,0.04680259369241339,-1.3526150222323468,0.6582598167822007,-1.9950013095935213,0.4033083680452155,0.8175282263646728,0.07014198917232728,0.43828413155616214,0.24968000311555905,-0.387429824957257,-0.031778227882134205,-0.8623267915106497,-0.953740984431478,-0.05445983399194409],\"type\":\"histogram\"},{\"histfunc\":\"count\",\"histnorm\":\"\",\"marker\":{\"color\":\"rgba(55, 128, 191, 1.0)\",\"line\":{\"color\":\"#4D5663\",\"width\":1.3}},\"name\":\"B\",\"nbinsx\":15,\"opacity\":0.8,\"orientation\":\"v\",\"x\":[0.3484717820327838,0.5039583742528283,-0.9990150314466602,0.604350440733284,0.16033161362756743,1.060326634828224,0.5691134915340805,-0.902432065184702,-0.0009131599102196734,0.09740491055972142,-1.4180894025378805,-0.1803668008622408,-1.7737974336650428,-0.6506678065802198,0.8841075279030496,-0.5049945854318697,0.7239937184181856,-1.4383931275209565,0.8453066301750151,0.34762005674502483,2.0400388372549223,-2.157315730611294,0.2209478364340322,1.802311901385443,3.3671102200760767,-1.7890851153801186,0.8635998111125606,0.04538181554622621,-0.8768539270570925,-1.1561098530930023,0.469769961263792,0.10483776806045433,1.1257947743633177,-3.1103162481128477,-0.3935244258767791,-0.07811839656271094,-1.0693390703646042,0.7577788997522897,0.8548256973784643,-0.7227486071850662,0.12621136521701642,-1.5686850089516764,2.3752191234886935,1.4117382899520032,-0.06966122654057275,-0.2222910739555117,0.6192503527480322,-0.008653601175503829,1.155008140394314,1.1213681767834516,0.6227605959154743,3.0697752847408153,-0.7300573613661158,0.13952947626816217,-1.9619353983439314,0.701911922424966,-0.5785472608072868,0.904956567921151,-0.9164830751388292,2.072689928015543,-1.266120789293466,-1.3461698573203658,-1.5214579615650425,-0.5072045185877293,-0.7444078207165821,2.104810542954587,-0.5768261503583167,2.6776643429524682,-2.3662353087503725,0.8183446525143931,0.7134885860563976,1.0906029212725172,-0.7230975990475973,0.03037479719875758,-0.28281776746578247,-2.507508618860443,-1.5149956387038264,0.2410973606292827,0.6497788978731519,-0.6259518762684783,0.48969228635237555,-0.2923666080038938,-0.3205481507170632,-0.43491892684007843,0.7769155155258977,-0.8411034149662258,-0.5552018807643755,-0.2920563678052631,1.7897545559348271,0.2610504779580989,-1.4069427847349,-1.9312946429450102,-0.25086161419952285,3.056499097584156,-0.1159568138865182,0.5182386214901665,-1.1810581543932195,0.38615617047610795,0.5564841086303987,-1.2559280625325615],\"type\":\"histogram\"},{\"histfunc\":\"count\",\"histnorm\":\"\",\"marker\":{\"color\":\"rgba(50, 171, 96, 1.0)\",\"line\":{\"color\":\"#4D5663\",\"width\":1.3}},\"name\":\"C\",\"nbinsx\":15,\"opacity\":0.8,\"orientation\":\"v\",\"x\":[-0.6279178473499555,0.34622561345445335,0.6075860797924031,0.02913262936668257,0.9197560845710289,-0.7699731478454107,1.262751820212759,0.5433569547085509,-0.04482419281941183,-1.8029330477391154,-0.3635930655564669,-0.32293359057263066,-1.0903441436528212,0.7868906023265563,1.8802309640937576,-1.1904067058610839,0.9208295249944821,-0.010545087497734865,-0.47535946760931175,-0.49259542313300664,0.49951299732480203,0.6107458107182563,-0.44760546551429015,0.7441989280214762,0.126282178595897,0.5799743994055035,0.8448531473533216,0.01721277105263823,0.3983984851970272,0.8998252618913929,-1.128139718568078,-2.4470170704696845,-0.7641046776489488,1.2088552628983082,-0.5064963552932986,-0.2368630390955342,-0.8377971315111741,1.1431791731062944,-0.33630594515135365,-0.05498773522437794,0.12855901062512956,1.2882887971043535,-1.1079393728923863,-1.1240040458096074,0.20613811688148714,0.6603564503196672,-0.07931323212753368,0.500898078337865,0.11881201356812975,-0.7348269138908055,-1.2170323289831457,0.6005777097187909,0.31804334040013993,-0.6103546895923493,0.3376553321693647,-0.6970522403401523,-1.395723901987532,-0.5724566426848541,0.41720725384278323,0.5623509112780184,1.8705345966014466,-1.2677745554240667,0.9249856098999654,0.16752698109952394,-0.8547190482771455,-0.2760246934292152,1.4249491140674166,0.461527822040228,0.4608526377560005,0.21554681297308004,-0.3775884115532785,0.5779896658643389,-0.13449231921950758,0.8034085123741144,-0.10994124229232537,-1.271901145263936,-0.30024887575895737,0.7338930349916993,0.5996504619148298,1.3857603182449478,-1.4056057067335495,0.9151144691560194,-0.12771332861383022,0.10129448760262104,-1.436262638647789,-1.0767602472155713,-0.2784479812254053,0.2896633485845398,0.15840710572744796,0.16207494875451453,-0.705880200771333,1.0282269568186841,-0.0662258920562984,-0.8766807393776468,0.6693348680615138,-0.4580944882884912,0.3660714458836404,2.1712711304260988,-0.6079636194188285,-1.6330563833064893],\"type\":\"histogram\"},{\"histfunc\":\"count\",\"histnorm\":\"\",\"marker\":{\"color\":\"rgba(128, 0, 128, 1.0)\",\"line\":{\"color\":\"#4D5663\",\"width\":1.3}},\"name\":\"D\",\"nbinsx\":15,\"opacity\":0.8,\"orientation\":\"v\",\"x\":[1.9606853783266955,-1.0136178810359866,1.4910953108378,-0.3189171713047649,0.021843353198976265,0.4994652389137691,0.6025525448423065,-0.21935349285008657,-0.980921477319787,0.15381984638449858,0.25878300442220536,0.2699586885699263,-0.1873621610845983,0.43536025465544065,-1.5449545635773947,2.0395544786006714,-0.6480518257395195,0.808721090642994,-0.36719354125504494,-0.001025316925003803,0.8685637725200062,-0.6601768772363882,-0.6959594745559767,0.41764298027593005,-0.3333116698881908,0.5503601390374941,-0.28209193456661696,-1.1369615553160728,-2.2545149710465613,-0.7948856937950168,0.5275437880904109,0.11551200209770948,0.9320589237708774,0.42408266688622964,0.42268697686270573,0.45085952784692396,0.48019269833110984,0.34403733308482704,-0.5615786227070604,-0.2368320299715633,-0.43983229008381397,0.4055089919780472,-0.7031968631290005,1.0481306791280107,-0.5021248693181799,2.6184137554616247,-0.42501359786823517,0.10522954657932518,0.6134329174956021,1.1904947545127642,0.5618872339979997,0.34093915540513064,0.2854264334198376,-2.50992325626351,-0.037972860865348235,-0.18829670714289753,-2.1286085932779284,-1.2835300856396996,-0.06223488570762441,-0.3194064224602298,1.2313290995397501,-1.5149777816912295,-0.34254587282552446,-0.6118002590508678,0.9164634051413787,0.6416523969220308,0.8214296467449537,-1.5916357601379973,0.7184667905552226,-0.2135752689842116,-0.21718171400949463,-0.16507577784971347,-0.7448777745649179,-0.8368103625305751,0.6156877429083625,0.41167420140018496,-0.050175997897253875,0.42280045371233105,0.6272893420786025,-1.832109685866272,0.6069988870305376,-0.38886220134506994,1.1739274102042094,-1.3756508091828772,1.0739141347660655,-0.3833757608899859,0.7587246029321222,0.3821433182351493,-0.506829574148174,-3.002881245728504,0.004645115344238137,-0.3184797536289734,0.750134727440925,0.13039868795406834,0.8405588014809571,-0.3720549904327991,-1.3032189362566347,-0.8373272550808281,-1.1887946406131236,-0.1783987610128384],\"type\":\"histogram\"}],                        {\"barmode\":\"overlay\",\"legend\":{\"bgcolor\":\"#F5F6F9\",\"font\":{\"color\":\"#4D5663\"}},\"paper_bgcolor\":\"#F5F6F9\",\"plot_bgcolor\":\"#F5F6F9\",\"template\":{\"data\":{\"barpolar\":[{\"marker\":{\"line\":{\"color\":\"#E5ECF6\",\"width\":0.5},\"pattern\":{\"fillmode\":\"overlay\",\"size\":10,\"solidity\":0.2}},\"type\":\"barpolar\"}],\"bar\":[{\"error_x\":{\"color\":\"#2a3f5f\"},\"error_y\":{\"color\":\"#2a3f5f\"},\"marker\":{\"line\":{\"color\":\"#E5ECF6\",\"width\":0.5},\"pattern\":{\"fillmode\":\"overlay\",\"size\":10,\"solidity\":0.2}},\"type\":\"bar\"}],\"carpet\":[{\"aaxis\":{\"endlinecolor\":\"#2a3f5f\",\"gridcolor\":\"white\",\"linecolor\":\"white\",\"minorgridcolor\":\"white\",\"startlinecolor\":\"#2a3f5f\"},\"baxis\":{\"endlinecolor\":\"#2a3f5f\",\"gridcolor\":\"white\",\"linecolor\":\"white\",\"minorgridcolor\":\"white\",\"startlinecolor\":\"#2a3f5f\"},\"type\":\"carpet\"}],\"choropleth\":[{\"colorbar\":{\"outlinewidth\":0,\"ticks\":\"\"},\"type\":\"choropleth\"}],\"contourcarpet\":[{\"colorbar\":{\"outlinewidth\":0,\"ticks\":\"\"},\"type\":\"contourcarpet\"}],\"contour\":[{\"colorbar\":{\"outlinewidth\":0,\"ticks\":\"\"},\"colorscale\":[[0.0,\"#0d0887\"],[0.1111111111111111,\"#46039f\"],[0.2222222222222222,\"#7201a8\"],[0.3333333333333333,\"#9c179e\"],[0.4444444444444444,\"#bd3786\"],[0.5555555555555556,\"#d8576b\"],[0.6666666666666666,\"#ed7953\"],[0.7777777777777778,\"#fb9f3a\"],[0.8888888888888888,\"#fdca26\"],[1.0,\"#f0f921\"]],\"type\":\"contour\"}],\"heatmapgl\":[{\"colorbar\":{\"outlinewidth\":0,\"ticks\":\"\"},\"colorscale\":[[0.0,\"#0d0887\"],[0.1111111111111111,\"#46039f\"],[0.2222222222222222,\"#7201a8\"],[0.3333333333333333,\"#9c179e\"],[0.4444444444444444,\"#bd3786\"],[0.5555555555555556,\"#d8576b\"],[0.6666666666666666,\"#ed7953\"],[0.7777777777777778,\"#fb9f3a\"],[0.8888888888888888,\"#fdca26\"],[1.0,\"#f0f921\"]],\"type\":\"heatmapgl\"}],\"heatmap\":[{\"colorbar\":{\"outlinewidth\":0,\"ticks\":\"\"},\"colorscale\":[[0.0,\"#0d0887\"],[0.1111111111111111,\"#46039f\"],[0.2222222222222222,\"#7201a8\"],[0.3333333333333333,\"#9c179e\"],[0.4444444444444444,\"#bd3786\"],[0.5555555555555556,\"#d8576b\"],[0.6666666666666666,\"#ed7953\"],[0.7777777777777778,\"#fb9f3a\"],[0.8888888888888888,\"#fdca26\"],[1.0,\"#f0f921\"]],\"type\":\"heatmap\"}],\"histogram2dcontour\":[{\"colorbar\":{\"outlinewidth\":0,\"ticks\":\"\"},\"colorscale\":[[0.0,\"#0d0887\"],[0.1111111111111111,\"#46039f\"],[0.2222222222222222,\"#7201a8\"],[0.3333333333333333,\"#9c179e\"],[0.4444444444444444,\"#bd3786\"],[0.5555555555555556,\"#d8576b\"],[0.6666666666666666,\"#ed7953\"],[0.7777777777777778,\"#fb9f3a\"],[0.8888888888888888,\"#fdca26\"],[1.0,\"#f0f921\"]],\"type\":\"histogram2dcontour\"}],\"histogram2d\":[{\"colorbar\":{\"outlinewidth\":0,\"ticks\":\"\"},\"colorscale\":[[0.0,\"#0d0887\"],[0.1111111111111111,\"#46039f\"],[0.2222222222222222,\"#7201a8\"],[0.3333333333333333,\"#9c179e\"],[0.4444444444444444,\"#bd3786\"],[0.5555555555555556,\"#d8576b\"],[0.6666666666666666,\"#ed7953\"],[0.7777777777777778,\"#fb9f3a\"],[0.8888888888888888,\"#fdca26\"],[1.0,\"#f0f921\"]],\"type\":\"histogram2d\"}],\"histogram\":[{\"marker\":{\"pattern\":{\"fillmode\":\"overlay\",\"size\":10,\"solidity\":0.2}},\"type\":\"histogram\"}],\"mesh3d\":[{\"colorbar\":{\"outlinewidth\":0,\"ticks\":\"\"},\"type\":\"mesh3d\"}],\"parcoords\":[{\"line\":{\"colorbar\":{\"outlinewidth\":0,\"ticks\":\"\"}},\"type\":\"parcoords\"}],\"pie\":[{\"automargin\":true,\"type\":\"pie\"}],\"scatter3d\":[{\"line\":{\"colorbar\":{\"outlinewidth\":0,\"ticks\":\"\"}},\"marker\":{\"colorbar\":{\"outlinewidth\":0,\"ticks\":\"\"}},\"type\":\"scatter3d\"}],\"scattercarpet\":[{\"marker\":{\"colorbar\":{\"outlinewidth\":0,\"ticks\":\"\"}},\"type\":\"scattercarpet\"}],\"scattergeo\":[{\"marker\":{\"colorbar\":{\"outlinewidth\":0,\"ticks\":\"\"}},\"type\":\"scattergeo\"}],\"scattergl\":[{\"marker\":{\"colorbar\":{\"outlinewidth\":0,\"ticks\":\"\"}},\"type\":\"scattergl\"}],\"scattermapbox\":[{\"marker\":{\"colorbar\":{\"outlinewidth\":0,\"ticks\":\"\"}},\"type\":\"scattermapbox\"}],\"scatterpolargl\":[{\"marker\":{\"colorbar\":{\"outlinewidth\":0,\"ticks\":\"\"}},\"type\":\"scatterpolargl\"}],\"scatterpolar\":[{\"marker\":{\"colorbar\":{\"outlinewidth\":0,\"ticks\":\"\"}},\"type\":\"scatterpolar\"}],\"scatter\":[{\"marker\":{\"colorbar\":{\"outlinewidth\":0,\"ticks\":\"\"}},\"type\":\"scatter\"}],\"scatterternary\":[{\"marker\":{\"colorbar\":{\"outlinewidth\":0,\"ticks\":\"\"}},\"type\":\"scatterternary\"}],\"surface\":[{\"colorbar\":{\"outlinewidth\":0,\"ticks\":\"\"},\"colorscale\":[[0.0,\"#0d0887\"],[0.1111111111111111,\"#46039f\"],[0.2222222222222222,\"#7201a8\"],[0.3333333333333333,\"#9c179e\"],[0.4444444444444444,\"#bd3786\"],[0.5555555555555556,\"#d8576b\"],[0.6666666666666666,\"#ed7953\"],[0.7777777777777778,\"#fb9f3a\"],[0.8888888888888888,\"#fdca26\"],[1.0,\"#f0f921\"]],\"type\":\"surface\"}],\"table\":[{\"cells\":{\"fill\":{\"color\":\"#EBF0F8\"},\"line\":{\"color\":\"white\"}},\"header\":{\"fill\":{\"color\":\"#C8D4E3\"},\"line\":{\"color\":\"white\"}},\"type\":\"table\"}]},\"layout\":{\"annotationdefaults\":{\"arrowcolor\":\"#2a3f5f\",\"arrowhead\":0,\"arrowwidth\":1},\"autotypenumbers\":\"strict\",\"coloraxis\":{\"colorbar\":{\"outlinewidth\":0,\"ticks\":\"\"}},\"colorscale\":{\"diverging\":[[0,\"#8e0152\"],[0.1,\"#c51b7d\"],[0.2,\"#de77ae\"],[0.3,\"#f1b6da\"],[0.4,\"#fde0ef\"],[0.5,\"#f7f7f7\"],[0.6,\"#e6f5d0\"],[0.7,\"#b8e186\"],[0.8,\"#7fbc41\"],[0.9,\"#4d9221\"],[1,\"#276419\"]],\"sequential\":[[0.0,\"#0d0887\"],[0.1111111111111111,\"#46039f\"],[0.2222222222222222,\"#7201a8\"],[0.3333333333333333,\"#9c179e\"],[0.4444444444444444,\"#bd3786\"],[0.5555555555555556,\"#d8576b\"],[0.6666666666666666,\"#ed7953\"],[0.7777777777777778,\"#fb9f3a\"],[0.8888888888888888,\"#fdca26\"],[1.0,\"#f0f921\"]],\"sequentialminus\":[[0.0,\"#0d0887\"],[0.1111111111111111,\"#46039f\"],[0.2222222222222222,\"#7201a8\"],[0.3333333333333333,\"#9c179e\"],[0.4444444444444444,\"#bd3786\"],[0.5555555555555556,\"#d8576b\"],[0.6666666666666666,\"#ed7953\"],[0.7777777777777778,\"#fb9f3a\"],[0.8888888888888888,\"#fdca26\"],[1.0,\"#f0f921\"]]},\"colorway\":[\"#636efa\",\"#EF553B\",\"#00cc96\",\"#ab63fa\",\"#FFA15A\",\"#19d3f3\",\"#FF6692\",\"#B6E880\",\"#FF97FF\",\"#FECB52\"],\"font\":{\"color\":\"#2a3f5f\"},\"geo\":{\"bgcolor\":\"white\",\"lakecolor\":\"white\",\"landcolor\":\"#E5ECF6\",\"showlakes\":true,\"showland\":true,\"subunitcolor\":\"white\"},\"hoverlabel\":{\"align\":\"left\"},\"hovermode\":\"closest\",\"mapbox\":{\"style\":\"light\"},\"paper_bgcolor\":\"white\",\"plot_bgcolor\":\"#E5ECF6\",\"polar\":{\"angularaxis\":{\"gridcolor\":\"white\",\"linecolor\":\"white\",\"ticks\":\"\"},\"bgcolor\":\"#E5ECF6\",\"radialaxis\":{\"gridcolor\":\"white\",\"linecolor\":\"white\",\"ticks\":\"\"}},\"scene\":{\"xaxis\":{\"backgroundcolor\":\"#E5ECF6\",\"gridcolor\":\"white\",\"gridwidth\":2,\"linecolor\":\"white\",\"showbackground\":true,\"ticks\":\"\",\"zerolinecolor\":\"white\"},\"yaxis\":{\"backgroundcolor\":\"#E5ECF6\",\"gridcolor\":\"white\",\"gridwidth\":2,\"linecolor\":\"white\",\"showbackground\":true,\"ticks\":\"\",\"zerolinecolor\":\"white\"},\"zaxis\":{\"backgroundcolor\":\"#E5ECF6\",\"gridcolor\":\"white\",\"gridwidth\":2,\"linecolor\":\"white\",\"showbackground\":true,\"ticks\":\"\",\"zerolinecolor\":\"white\"}},\"shapedefaults\":{\"line\":{\"color\":\"#2a3f5f\"}},\"ternary\":{\"aaxis\":{\"gridcolor\":\"white\",\"linecolor\":\"white\",\"ticks\":\"\"},\"baxis\":{\"gridcolor\":\"white\",\"linecolor\":\"white\",\"ticks\":\"\"},\"bgcolor\":\"#E5ECF6\",\"caxis\":{\"gridcolor\":\"white\",\"linecolor\":\"white\",\"ticks\":\"\"}},\"title\":{\"x\":0.05},\"xaxis\":{\"automargin\":true,\"gridcolor\":\"white\",\"linecolor\":\"white\",\"ticks\":\"\",\"title\":{\"standoff\":15},\"zerolinecolor\":\"white\",\"zerolinewidth\":2},\"yaxis\":{\"automargin\":true,\"gridcolor\":\"white\",\"linecolor\":\"white\",\"ticks\":\"\",\"title\":{\"standoff\":15},\"zerolinecolor\":\"white\",\"zerolinewidth\":2}}},\"title\":{\"font\":{\"color\":\"#4D5663\"}},\"xaxis\":{\"gridcolor\":\"#E1E5ED\",\"showgrid\":true,\"tickfont\":{\"color\":\"#4D5663\"},\"title\":{\"font\":{\"color\":\"#4D5663\"},\"text\":\"\"},\"zerolinecolor\":\"#E1E5ED\"},\"yaxis\":{\"gridcolor\":\"#E1E5ED\",\"showgrid\":true,\"tickfont\":{\"color\":\"#4D5663\"},\"title\":{\"font\":{\"color\":\"#4D5663\"},\"text\":\"\"},\"zerolinecolor\":\"#E1E5ED\"}},                        {\"showLink\": true, \"linkText\": \"Export to plot.ly\", \"plotlyServerURL\": \"https://plot.ly\", \"responsive\": true}                    ).then(function(){\n",
       "                            \n",
       "var gd = document.getElementById('76bfc639-202b-4d06-97bc-e0b723607245');\n",
       "var x = new MutationObserver(function (mutations, observer) {{\n",
       "        var display = window.getComputedStyle(gd).display;\n",
       "        if (!display || display === 'none') {{\n",
       "            console.log([gd, 'removed!']);\n",
       "            Plotly.purge(gd);\n",
       "            observer.disconnect();\n",
       "        }}\n",
       "}});\n",
       "\n",
       "// Listen for the removal of the full notebook cells\n",
       "var notebookContainer = gd.closest('#notebook-container');\n",
       "if (notebookContainer) {{\n",
       "    x.observe(notebookContainer, {childList: true});\n",
       "}}\n",
       "\n",
       "// Listen for the clearing of the current output cell\n",
       "var outputEl = gd.closest('.output');\n",
       "if (outputEl) {{\n",
       "    x.observe(outputEl, {childList: true});\n",
       "}}\n",
       "\n",
       "                        })                };                });            </script>        </div>"
      ]
     },
     "metadata": {},
     "output_type": "display_data"
    }
   ],
   "source": [
    "df.iplot(kind=\"hist\",bins=15)"
   ]
  },
  {
   "cell_type": "code",
   "execution_count": 44,
   "id": "baac87e3",
   "metadata": {},
   "outputs": [
    {
     "name": "stderr",
     "output_type": "stream",
     "text": [
      "C:\\Users\\user\\anaconda3\\envs\\pythomopencv\\lib\\site-packages\\cufflinks\\plotlytools.py:849: FutureWarning:\n",
      "\n",
      "The pandas.np module is deprecated and will be removed from pandas in a future version. Import numpy directly instead\n",
      "\n",
      "C:\\Users\\user\\anaconda3\\envs\\pythomopencv\\lib\\site-packages\\cufflinks\\plotlytools.py:850: FutureWarning:\n",
      "\n",
      "The pandas.np module is deprecated and will be removed from pandas in a future version. Import numpy directly instead\n",
      "\n"
     ]
    },
    {
     "data": {
      "application/vnd.plotly.v1+json": {
       "config": {
        "linkText": "Export to plot.ly",
        "plotlyServerURL": "https://plot.ly",
        "showLink": true
       },
       "data": [
        {
         "line": {
          "color": "rgba(255, 153, 51, 1.0)",
          "dash": "solid",
          "shape": "linear",
          "width": 1.3
         },
         "mode": "lines",
         "name": "A",
         "text": "",
         "type": "scatter",
         "x": [
          0,
          1,
          2,
          3,
          4,
          5,
          6,
          7,
          8,
          9,
          10,
          11,
          12,
          13,
          14,
          15,
          16,
          17,
          18,
          19,
          20,
          21,
          22,
          23,
          24,
          25,
          26,
          27,
          28,
          29,
          30,
          31,
          32,
          33,
          34,
          35,
          36,
          37,
          38,
          39,
          40,
          41,
          42,
          43,
          44,
          45,
          46,
          47,
          48,
          49,
          50,
          51,
          52,
          53,
          54,
          55,
          56,
          57,
          58,
          59,
          60,
          61,
          62,
          63,
          64,
          65,
          66,
          67,
          68,
          69,
          70,
          71,
          72,
          73,
          74,
          75,
          76,
          77,
          78,
          79,
          80,
          81,
          82,
          83,
          84,
          85,
          86,
          87,
          88,
          89,
          90,
          91,
          92,
          93,
          94,
          95,
          96,
          97,
          98,
          99
         ],
         "y": [
          0.5745116639033776,
          0.9785972848361238,
          -0.46469597183700806,
          0.9184812368604616,
          0.5817003574663901,
          -0.8855551147163485,
          0.09441057738706614,
          1.7836130306849607,
          0.10863026996968499,
          1.655210904475645,
          0.30667166945281715,
          -1.476029094117104,
          0.799313372611074,
          -1.182350550952549,
          -1.6214507865494476,
          -0.42659969531808345,
          -0.3185300279638153,
          -1.3113068558963037,
          0.45441541274656017,
          -0.443448868043506,
          -0.3135832451503955,
          -0.07429059560938601,
          1.8304855967609228,
          -0.0713168342931115,
          0.8847741156048016,
          0.3452923952775951,
          0.5801132528806705,
          0.7624799832899686,
          0.3322130822954626,
          -0.14242422341213887,
          0.5869469207911738,
          0.6341426054564636,
          2.6938248204297524,
          0.8375677977573818,
          -0.2802251892428954,
          -0.5670142257178402,
          -0.8146887280907159,
          -0.6668992899757032,
          2.2222815451456523,
          -0.7833069320609886,
          0.9905961044054827,
          -0.3256149670770055,
          0.7365672470102214,
          -1.0926596097491235,
          1.1139787434940185,
          -0.6114157064105485,
          -0.450868606112402,
          -0.36872430246246546,
          -0.3249512173133247,
          2.1636131958285767,
          -0.75466909629134,
          -1.288377728305726,
          0.605480241918969,
          -1.7403342621117603,
          -0.5767090901550972,
          0.9862116910360376,
          -0.07369698703587212,
          0.20182496138164546,
          -1.2045105548068864,
          -0.7002951860185551,
          -0.5703494211401896,
          -0.68009580336817,
          0.6916715289142051,
          0.27340901129917644,
          -0.29035920152335515,
          0.2852039886179615,
          0.7133312233350243,
          -0.91547252184514,
          0.28003515738276347,
          1.4923423101747046,
          -0.027191134486079134,
          1.6319337877418953,
          -1.3711337986599788,
          -0.8071766479811399,
          1.318813382305548,
          -0.10012598881905053,
          0.46188415018899753,
          -0.04060855731254377,
          2.087349678948209,
          -0.7295423629444664,
          -1.465500164221751,
          0.7008696270372898,
          -1.7579283442082925,
          -1.7328437612335499,
          0.5294871189749688,
          1.43612734612469,
          0.04680259369241339,
          -1.3526150222323468,
          0.6582598167822007,
          -1.9950013095935213,
          0.4033083680452155,
          0.8175282263646728,
          0.07014198917232728,
          0.43828413155616214,
          0.24968000311555905,
          -0.387429824957257,
          -0.031778227882134205,
          -0.8623267915106497,
          -0.953740984431478,
          -0.05445983399194409
         ]
        },
        {
         "line": {
          "color": "rgba(55, 128, 191, 1.0)",
          "dash": "solid",
          "shape": "linear",
          "width": 1.3
         },
         "mode": "lines",
         "name": "B",
         "text": "",
         "type": "scatter",
         "x": [
          0,
          1,
          2,
          3,
          4,
          5,
          6,
          7,
          8,
          9,
          10,
          11,
          12,
          13,
          14,
          15,
          16,
          17,
          18,
          19,
          20,
          21,
          22,
          23,
          24,
          25,
          26,
          27,
          28,
          29,
          30,
          31,
          32,
          33,
          34,
          35,
          36,
          37,
          38,
          39,
          40,
          41,
          42,
          43,
          44,
          45,
          46,
          47,
          48,
          49,
          50,
          51,
          52,
          53,
          54,
          55,
          56,
          57,
          58,
          59,
          60,
          61,
          62,
          63,
          64,
          65,
          66,
          67,
          68,
          69,
          70,
          71,
          72,
          73,
          74,
          75,
          76,
          77,
          78,
          79,
          80,
          81,
          82,
          83,
          84,
          85,
          86,
          87,
          88,
          89,
          90,
          91,
          92,
          93,
          94,
          95,
          96,
          97,
          98,
          99
         ],
         "y": [
          0.3484717820327838,
          0.5039583742528283,
          -0.9990150314466602,
          0.604350440733284,
          0.16033161362756743,
          1.060326634828224,
          0.5691134915340805,
          -0.902432065184702,
          -0.0009131599102196734,
          0.09740491055972142,
          -1.4180894025378805,
          -0.1803668008622408,
          -1.7737974336650428,
          -0.6506678065802198,
          0.8841075279030496,
          -0.5049945854318697,
          0.7239937184181856,
          -1.4383931275209565,
          0.8453066301750151,
          0.34762005674502483,
          2.0400388372549223,
          -2.157315730611294,
          0.2209478364340322,
          1.802311901385443,
          3.3671102200760767,
          -1.7890851153801186,
          0.8635998111125606,
          0.04538181554622621,
          -0.8768539270570925,
          -1.1561098530930023,
          0.469769961263792,
          0.10483776806045433,
          1.1257947743633177,
          -3.1103162481128477,
          -0.3935244258767791,
          -0.07811839656271094,
          -1.0693390703646042,
          0.7577788997522897,
          0.8548256973784643,
          -0.7227486071850662,
          0.12621136521701642,
          -1.5686850089516764,
          2.3752191234886935,
          1.4117382899520032,
          -0.06966122654057275,
          -0.2222910739555117,
          0.6192503527480322,
          -0.008653601175503829,
          1.155008140394314,
          1.1213681767834516,
          0.6227605959154743,
          3.0697752847408153,
          -0.7300573613661158,
          0.13952947626816217,
          -1.9619353983439314,
          0.701911922424966,
          -0.5785472608072868,
          0.904956567921151,
          -0.9164830751388292,
          2.072689928015543,
          -1.266120789293466,
          -1.3461698573203658,
          -1.5214579615650425,
          -0.5072045185877293,
          -0.7444078207165821,
          2.104810542954587,
          -0.5768261503583167,
          2.6776643429524682,
          -2.3662353087503725,
          0.8183446525143931,
          0.7134885860563976,
          1.0906029212725172,
          -0.7230975990475973,
          0.03037479719875758,
          -0.28281776746578247,
          -2.507508618860443,
          -1.5149956387038264,
          0.2410973606292827,
          0.6497788978731519,
          -0.6259518762684783,
          0.48969228635237555,
          -0.2923666080038938,
          -0.3205481507170632,
          -0.43491892684007843,
          0.7769155155258977,
          -0.8411034149662258,
          -0.5552018807643755,
          -0.2920563678052631,
          1.7897545559348271,
          0.2610504779580989,
          -1.4069427847349,
          -1.9312946429450102,
          -0.25086161419952285,
          3.056499097584156,
          -0.1159568138865182,
          0.5182386214901665,
          -1.1810581543932195,
          0.38615617047610795,
          0.5564841086303987,
          -1.2559280625325615
         ]
        },
        {
         "connectgaps": false,
         "fill": "tozeroy",
         "line": {
          "color": "green",
          "dash": "solid",
          "shape": "linear",
          "width": 0.5
         },
         "mode": "lines",
         "name": "Spread",
         "showlegend": false,
         "type": "scatter",
         "x": [
          0,
          1,
          2,
          3,
          4,
          5,
          6,
          7,
          8,
          9,
          10,
          11,
          12,
          13,
          14,
          15,
          16,
          17,
          18,
          19,
          20,
          21,
          22,
          23,
          24,
          25,
          26,
          27,
          28,
          29,
          30,
          31,
          32,
          33,
          34,
          35,
          36,
          37,
          38,
          39,
          40,
          41,
          42,
          43,
          44,
          45,
          46,
          47,
          48,
          49,
          50,
          51,
          52,
          53,
          54,
          55,
          56,
          57,
          58,
          59,
          60,
          61,
          62,
          63,
          64,
          65,
          66,
          67,
          68,
          69,
          70,
          71,
          72,
          73,
          74,
          75,
          76,
          77,
          78,
          79,
          80,
          81,
          82,
          83,
          84,
          85,
          86,
          87,
          88,
          89,
          90,
          91,
          92,
          93,
          94,
          95,
          96,
          97,
          98,
          99
         ],
         "xaxis": "x2",
         "y": [
          0.22603988187059382,
          0.47463891058329555,
          0.5343190596096521,
          0.31413079612717754,
          0.4213687438388227,
          "",
          "",
          2.6860450958696624,
          0.10954342987990466,
          1.5578059939159234,
          1.7247610719906976,
          "",
          2.5731108062761168,
          "",
          "",
          0.07839489011378625,
          "",
          0.1270862716246528,
          "",
          "",
          "",
          2.0830251350019076,
          1.6095377603268906,
          "",
          "",
          2.1343775106577136,
          "",
          0.7170981677437424,
          1.209067009352555,
          1.0136856296808634,
          0.11717695952738183,
          0.5293048373960093,
          1.5680300460664347,
          3.9478840458702296,
          0.1132992366338837,
          "",
          0.2546503422738883,
          "",
          1.367455847767188,
          "",
          0.8643847391884663,
          1.243070041874671,
          "",
          "",
          1.1836399700345912,
          "",
          "",
          "",
          "",
          1.0422450190451251,
          "",
          "",
          1.3355376032850848,
          "",
          1.3852263081888343,
          0.28429976861107153,
          0.5048502737714147,
          "",
          "",
          "",
          0.6957713681532764,
          0.6660740539521958,
          2.213129490479248,
          0.7806135298869057,
          0.4540486191932269,
          "",
          1.290157373693341,
          "",
          2.646270466133136,
          0.6739976576603115,
          "",
          0.5413308664693781,
          "",
          "",
          1.6016311497713303,
          2.4073826300413925,
          1.9768797888928238,
          "",
          1.437570781075057,
          "",
          "",
          0.9932362350411836,
          "",
          "",
          "",
          2.277230761090916,
          0.6020044744567888,
          "",
          "",
          "",
          1.8102511527801157,
          2.748822869309683,
          0.32100360337185013,
          "",
          0.36563681700207723,
          "",
          1.1492799265110853,
          "",
          "",
          1.2014682285406175
         ],
         "yaxis": "y2"
        },
        {
         "connectgaps": false,
         "fill": "tozeroy",
         "line": {
          "color": "red",
          "dash": "solid",
          "shape": "linear",
          "width": 0.5
         },
         "mode": "lines",
         "name": "Spread",
         "showlegend": false,
         "type": "scatter",
         "x": [
          0,
          1,
          2,
          3,
          4,
          5,
          6,
          7,
          8,
          9,
          10,
          11,
          12,
          13,
          14,
          15,
          16,
          17,
          18,
          19,
          20,
          21,
          22,
          23,
          24,
          25,
          26,
          27,
          28,
          29,
          30,
          31,
          32,
          33,
          34,
          35,
          36,
          37,
          38,
          39,
          40,
          41,
          42,
          43,
          44,
          45,
          46,
          47,
          48,
          49,
          50,
          51,
          52,
          53,
          54,
          55,
          56,
          57,
          58,
          59,
          60,
          61,
          62,
          63,
          64,
          65,
          66,
          67,
          68,
          69,
          70,
          71,
          72,
          73,
          74,
          75,
          76,
          77,
          78,
          79,
          80,
          81,
          82,
          83,
          84,
          85,
          86,
          87,
          88,
          89,
          90,
          91,
          92,
          93,
          94,
          95,
          96,
          97,
          98,
          99
         ],
         "xaxis": "x2",
         "y": [
          "",
          "",
          "",
          "",
          "",
          -1.9458817495445726,
          -0.4747029141470144,
          "",
          "",
          "",
          "",
          -1.2956622932548632,
          "",
          -0.5316827443723291,
          -2.505558314452497,
          "",
          -1.042523746382001,
          "",
          -0.3908912174284549,
          -0.7910689247885307,
          -2.353622082405318,
          "",
          "",
          -1.8736287356785544,
          -2.4823361044712753,
          "",
          -0.28348655823189006,
          "",
          "",
          "",
          "",
          "",
          "",
          "",
          "",
          -0.4888958291551293,
          "",
          -1.424678189727993,
          "",
          -0.06055832487592239,
          "",
          "",
          -1.638651876478472,
          -2.504397899701127,
          "",
          -0.3891246324550368,
          -1.070118958860434,
          -0.3600707012869616,
          -1.4799593577076386,
          "",
          -1.3774296922068143,
          -4.358153013046541,
          "",
          -1.8798637383799226,
          "",
          "",
          "",
          -0.7031316065395055,
          -0.2880274796680572,
          -2.772985114034098,
          "",
          "",
          "",
          "",
          "",
          -1.8196065543366258,
          "",
          -3.593136864797608,
          "",
          "",
          -0.7406797205424768,
          "",
          -0.6480361996123815,
          -0.8375514451798974,
          "",
          "",
          "",
          -0.2817059179418265,
          "",
          -0.10359048667598814,
          -1.9551924505741265,
          "",
          -1.4373801934912294,
          -1.2979248343934715,
          -0.24742839655092885,
          "",
          "",
          -1.0605586544270835,
          -1.1314947391526264,
          -2.25605178755162,
          "",
          "",
          "",
          -2.6182149660279936,
          "",
          -0.9056684464474235,
          "",
          -1.2484829619867577,
          -1.5102250930618766,
          ""
         ],
         "yaxis": "y2"
        }
       ],
       "layout": {
        "hovermode": "x",
        "legend": {
         "bgcolor": "#F5F6F9",
         "font": {
          "color": "#4D5663"
         }
        },
        "paper_bgcolor": "#F5F6F9",
        "plot_bgcolor": "#F5F6F9",
        "template": {
         "data": {
          "bar": [
           {
            "error_x": {
             "color": "#2a3f5f"
            },
            "error_y": {
             "color": "#2a3f5f"
            },
            "marker": {
             "line": {
              "color": "#E5ECF6",
              "width": 0.5
             },
             "pattern": {
              "fillmode": "overlay",
              "size": 10,
              "solidity": 0.2
             }
            },
            "type": "bar"
           }
          ],
          "barpolar": [
           {
            "marker": {
             "line": {
              "color": "#E5ECF6",
              "width": 0.5
             },
             "pattern": {
              "fillmode": "overlay",
              "size": 10,
              "solidity": 0.2
             }
            },
            "type": "barpolar"
           }
          ],
          "carpet": [
           {
            "aaxis": {
             "endlinecolor": "#2a3f5f",
             "gridcolor": "white",
             "linecolor": "white",
             "minorgridcolor": "white",
             "startlinecolor": "#2a3f5f"
            },
            "baxis": {
             "endlinecolor": "#2a3f5f",
             "gridcolor": "white",
             "linecolor": "white",
             "minorgridcolor": "white",
             "startlinecolor": "#2a3f5f"
            },
            "type": "carpet"
           }
          ],
          "choropleth": [
           {
            "colorbar": {
             "outlinewidth": 0,
             "ticks": ""
            },
            "type": "choropleth"
           }
          ],
          "contour": [
           {
            "colorbar": {
             "outlinewidth": 0,
             "ticks": ""
            },
            "colorscale": [
             [
              0,
              "#0d0887"
             ],
             [
              0.1111111111111111,
              "#46039f"
             ],
             [
              0.2222222222222222,
              "#7201a8"
             ],
             [
              0.3333333333333333,
              "#9c179e"
             ],
             [
              0.4444444444444444,
              "#bd3786"
             ],
             [
              0.5555555555555556,
              "#d8576b"
             ],
             [
              0.6666666666666666,
              "#ed7953"
             ],
             [
              0.7777777777777778,
              "#fb9f3a"
             ],
             [
              0.8888888888888888,
              "#fdca26"
             ],
             [
              1,
              "#f0f921"
             ]
            ],
            "type": "contour"
           }
          ],
          "contourcarpet": [
           {
            "colorbar": {
             "outlinewidth": 0,
             "ticks": ""
            },
            "type": "contourcarpet"
           }
          ],
          "heatmap": [
           {
            "colorbar": {
             "outlinewidth": 0,
             "ticks": ""
            },
            "colorscale": [
             [
              0,
              "#0d0887"
             ],
             [
              0.1111111111111111,
              "#46039f"
             ],
             [
              0.2222222222222222,
              "#7201a8"
             ],
             [
              0.3333333333333333,
              "#9c179e"
             ],
             [
              0.4444444444444444,
              "#bd3786"
             ],
             [
              0.5555555555555556,
              "#d8576b"
             ],
             [
              0.6666666666666666,
              "#ed7953"
             ],
             [
              0.7777777777777778,
              "#fb9f3a"
             ],
             [
              0.8888888888888888,
              "#fdca26"
             ],
             [
              1,
              "#f0f921"
             ]
            ],
            "type": "heatmap"
           }
          ],
          "heatmapgl": [
           {
            "colorbar": {
             "outlinewidth": 0,
             "ticks": ""
            },
            "colorscale": [
             [
              0,
              "#0d0887"
             ],
             [
              0.1111111111111111,
              "#46039f"
             ],
             [
              0.2222222222222222,
              "#7201a8"
             ],
             [
              0.3333333333333333,
              "#9c179e"
             ],
             [
              0.4444444444444444,
              "#bd3786"
             ],
             [
              0.5555555555555556,
              "#d8576b"
             ],
             [
              0.6666666666666666,
              "#ed7953"
             ],
             [
              0.7777777777777778,
              "#fb9f3a"
             ],
             [
              0.8888888888888888,
              "#fdca26"
             ],
             [
              1,
              "#f0f921"
             ]
            ],
            "type": "heatmapgl"
           }
          ],
          "histogram": [
           {
            "marker": {
             "pattern": {
              "fillmode": "overlay",
              "size": 10,
              "solidity": 0.2
             }
            },
            "type": "histogram"
           }
          ],
          "histogram2d": [
           {
            "colorbar": {
             "outlinewidth": 0,
             "ticks": ""
            },
            "colorscale": [
             [
              0,
              "#0d0887"
             ],
             [
              0.1111111111111111,
              "#46039f"
             ],
             [
              0.2222222222222222,
              "#7201a8"
             ],
             [
              0.3333333333333333,
              "#9c179e"
             ],
             [
              0.4444444444444444,
              "#bd3786"
             ],
             [
              0.5555555555555556,
              "#d8576b"
             ],
             [
              0.6666666666666666,
              "#ed7953"
             ],
             [
              0.7777777777777778,
              "#fb9f3a"
             ],
             [
              0.8888888888888888,
              "#fdca26"
             ],
             [
              1,
              "#f0f921"
             ]
            ],
            "type": "histogram2d"
           }
          ],
          "histogram2dcontour": [
           {
            "colorbar": {
             "outlinewidth": 0,
             "ticks": ""
            },
            "colorscale": [
             [
              0,
              "#0d0887"
             ],
             [
              0.1111111111111111,
              "#46039f"
             ],
             [
              0.2222222222222222,
              "#7201a8"
             ],
             [
              0.3333333333333333,
              "#9c179e"
             ],
             [
              0.4444444444444444,
              "#bd3786"
             ],
             [
              0.5555555555555556,
              "#d8576b"
             ],
             [
              0.6666666666666666,
              "#ed7953"
             ],
             [
              0.7777777777777778,
              "#fb9f3a"
             ],
             [
              0.8888888888888888,
              "#fdca26"
             ],
             [
              1,
              "#f0f921"
             ]
            ],
            "type": "histogram2dcontour"
           }
          ],
          "mesh3d": [
           {
            "colorbar": {
             "outlinewidth": 0,
             "ticks": ""
            },
            "type": "mesh3d"
           }
          ],
          "parcoords": [
           {
            "line": {
             "colorbar": {
              "outlinewidth": 0,
              "ticks": ""
             }
            },
            "type": "parcoords"
           }
          ],
          "pie": [
           {
            "automargin": true,
            "type": "pie"
           }
          ],
          "scatter": [
           {
            "marker": {
             "colorbar": {
              "outlinewidth": 0,
              "ticks": ""
             }
            },
            "type": "scatter"
           }
          ],
          "scatter3d": [
           {
            "line": {
             "colorbar": {
              "outlinewidth": 0,
              "ticks": ""
             }
            },
            "marker": {
             "colorbar": {
              "outlinewidth": 0,
              "ticks": ""
             }
            },
            "type": "scatter3d"
           }
          ],
          "scattercarpet": [
           {
            "marker": {
             "colorbar": {
              "outlinewidth": 0,
              "ticks": ""
             }
            },
            "type": "scattercarpet"
           }
          ],
          "scattergeo": [
           {
            "marker": {
             "colorbar": {
              "outlinewidth": 0,
              "ticks": ""
             }
            },
            "type": "scattergeo"
           }
          ],
          "scattergl": [
           {
            "marker": {
             "colorbar": {
              "outlinewidth": 0,
              "ticks": ""
             }
            },
            "type": "scattergl"
           }
          ],
          "scattermapbox": [
           {
            "marker": {
             "colorbar": {
              "outlinewidth": 0,
              "ticks": ""
             }
            },
            "type": "scattermapbox"
           }
          ],
          "scatterpolar": [
           {
            "marker": {
             "colorbar": {
              "outlinewidth": 0,
              "ticks": ""
             }
            },
            "type": "scatterpolar"
           }
          ],
          "scatterpolargl": [
           {
            "marker": {
             "colorbar": {
              "outlinewidth": 0,
              "ticks": ""
             }
            },
            "type": "scatterpolargl"
           }
          ],
          "scatterternary": [
           {
            "marker": {
             "colorbar": {
              "outlinewidth": 0,
              "ticks": ""
             }
            },
            "type": "scatterternary"
           }
          ],
          "surface": [
           {
            "colorbar": {
             "outlinewidth": 0,
             "ticks": ""
            },
            "colorscale": [
             [
              0,
              "#0d0887"
             ],
             [
              0.1111111111111111,
              "#46039f"
             ],
             [
              0.2222222222222222,
              "#7201a8"
             ],
             [
              0.3333333333333333,
              "#9c179e"
             ],
             [
              0.4444444444444444,
              "#bd3786"
             ],
             [
              0.5555555555555556,
              "#d8576b"
             ],
             [
              0.6666666666666666,
              "#ed7953"
             ],
             [
              0.7777777777777778,
              "#fb9f3a"
             ],
             [
              0.8888888888888888,
              "#fdca26"
             ],
             [
              1,
              "#f0f921"
             ]
            ],
            "type": "surface"
           }
          ],
          "table": [
           {
            "cells": {
             "fill": {
              "color": "#EBF0F8"
             },
             "line": {
              "color": "white"
             }
            },
            "header": {
             "fill": {
              "color": "#C8D4E3"
             },
             "line": {
              "color": "white"
             }
            },
            "type": "table"
           }
          ]
         },
         "layout": {
          "annotationdefaults": {
           "arrowcolor": "#2a3f5f",
           "arrowhead": 0,
           "arrowwidth": 1
          },
          "autotypenumbers": "strict",
          "coloraxis": {
           "colorbar": {
            "outlinewidth": 0,
            "ticks": ""
           }
          },
          "colorscale": {
           "diverging": [
            [
             0,
             "#8e0152"
            ],
            [
             0.1,
             "#c51b7d"
            ],
            [
             0.2,
             "#de77ae"
            ],
            [
             0.3,
             "#f1b6da"
            ],
            [
             0.4,
             "#fde0ef"
            ],
            [
             0.5,
             "#f7f7f7"
            ],
            [
             0.6,
             "#e6f5d0"
            ],
            [
             0.7,
             "#b8e186"
            ],
            [
             0.8,
             "#7fbc41"
            ],
            [
             0.9,
             "#4d9221"
            ],
            [
             1,
             "#276419"
            ]
           ],
           "sequential": [
            [
             0,
             "#0d0887"
            ],
            [
             0.1111111111111111,
             "#46039f"
            ],
            [
             0.2222222222222222,
             "#7201a8"
            ],
            [
             0.3333333333333333,
             "#9c179e"
            ],
            [
             0.4444444444444444,
             "#bd3786"
            ],
            [
             0.5555555555555556,
             "#d8576b"
            ],
            [
             0.6666666666666666,
             "#ed7953"
            ],
            [
             0.7777777777777778,
             "#fb9f3a"
            ],
            [
             0.8888888888888888,
             "#fdca26"
            ],
            [
             1,
             "#f0f921"
            ]
           ],
           "sequentialminus": [
            [
             0,
             "#0d0887"
            ],
            [
             0.1111111111111111,
             "#46039f"
            ],
            [
             0.2222222222222222,
             "#7201a8"
            ],
            [
             0.3333333333333333,
             "#9c179e"
            ],
            [
             0.4444444444444444,
             "#bd3786"
            ],
            [
             0.5555555555555556,
             "#d8576b"
            ],
            [
             0.6666666666666666,
             "#ed7953"
            ],
            [
             0.7777777777777778,
             "#fb9f3a"
            ],
            [
             0.8888888888888888,
             "#fdca26"
            ],
            [
             1,
             "#f0f921"
            ]
           ]
          },
          "colorway": [
           "#636efa",
           "#EF553B",
           "#00cc96",
           "#ab63fa",
           "#FFA15A",
           "#19d3f3",
           "#FF6692",
           "#B6E880",
           "#FF97FF",
           "#FECB52"
          ],
          "font": {
           "color": "#2a3f5f"
          },
          "geo": {
           "bgcolor": "white",
           "lakecolor": "white",
           "landcolor": "#E5ECF6",
           "showlakes": true,
           "showland": true,
           "subunitcolor": "white"
          },
          "hoverlabel": {
           "align": "left"
          },
          "hovermode": "closest",
          "mapbox": {
           "style": "light"
          },
          "paper_bgcolor": "white",
          "plot_bgcolor": "#E5ECF6",
          "polar": {
           "angularaxis": {
            "gridcolor": "white",
            "linecolor": "white",
            "ticks": ""
           },
           "bgcolor": "#E5ECF6",
           "radialaxis": {
            "gridcolor": "white",
            "linecolor": "white",
            "ticks": ""
           }
          },
          "scene": {
           "xaxis": {
            "backgroundcolor": "#E5ECF6",
            "gridcolor": "white",
            "gridwidth": 2,
            "linecolor": "white",
            "showbackground": true,
            "ticks": "",
            "zerolinecolor": "white"
           },
           "yaxis": {
            "backgroundcolor": "#E5ECF6",
            "gridcolor": "white",
            "gridwidth": 2,
            "linecolor": "white",
            "showbackground": true,
            "ticks": "",
            "zerolinecolor": "white"
           },
           "zaxis": {
            "backgroundcolor": "#E5ECF6",
            "gridcolor": "white",
            "gridwidth": 2,
            "linecolor": "white",
            "showbackground": true,
            "ticks": "",
            "zerolinecolor": "white"
           }
          },
          "shapedefaults": {
           "line": {
            "color": "#2a3f5f"
           }
          },
          "ternary": {
           "aaxis": {
            "gridcolor": "white",
            "linecolor": "white",
            "ticks": ""
           },
           "baxis": {
            "gridcolor": "white",
            "linecolor": "white",
            "ticks": ""
           },
           "bgcolor": "#E5ECF6",
           "caxis": {
            "gridcolor": "white",
            "linecolor": "white",
            "ticks": ""
           }
          },
          "title": {
           "x": 0.05
          },
          "xaxis": {
           "automargin": true,
           "gridcolor": "white",
           "linecolor": "white",
           "ticks": "",
           "title": {
            "standoff": 15
           },
           "zerolinecolor": "white",
           "zerolinewidth": 2
          },
          "yaxis": {
           "automargin": true,
           "gridcolor": "white",
           "linecolor": "white",
           "ticks": "",
           "title": {
            "standoff": 15
           },
           "zerolinecolor": "white",
           "zerolinewidth": 2
          }
         }
        },
        "title": {
         "font": {
          "color": "#4D5663"
         }
        },
        "xaxis": {
         "gridcolor": "#E1E5ED",
         "showgrid": true,
         "tickfont": {
          "color": "#4D5663"
         },
         "title": {
          "font": {
           "color": "#4D5663"
          },
          "text": ""
         },
         "zerolinecolor": "#E1E5ED"
        },
        "xaxis2": {
         "anchor": "y2",
         "gridcolor": "#E1E5ED",
         "showgrid": true,
         "showticklabels": false,
         "tickfont": {
          "color": "#4D5663"
         },
         "title": {
          "font": {
           "color": "#4D5663"
          },
          "text": ""
         },
         "zerolinecolor": "#E1E5ED"
        },
        "yaxis": {
         "domain": [
          0.3,
          1
         ],
         "gridcolor": "#E1E5ED",
         "showgrid": true,
         "tickfont": {
          "color": "#4D5663"
         },
         "title": {
          "font": {
           "color": "#4D5663"
          },
          "text": ""
         },
         "zerolinecolor": "#E1E5ED"
        },
        "yaxis2": {
         "domain": [
          0,
          0.25
         ],
         "gridcolor": "#E1E5ED",
         "showgrid": true,
         "tickfont": {
          "color": "#4D5663"
         },
         "title": {
          "font": {
           "color": "#4D5663"
          },
          "text": "Spread"
         },
         "zerolinecolor": "#E1E5ED"
        }
       }
      },
      "text/html": [
       "<div>                            <div id=\"167449ac-6d91-4300-a118-3ef154b7132f\" class=\"plotly-graph-div\" style=\"height:525px; width:100%;\"></div>            <script type=\"text/javascript\">                require([\"plotly\"], function(Plotly) {                    window.PLOTLYENV=window.PLOTLYENV || {};\n",
       "                    window.PLOTLYENV.BASE_URL='https://plot.ly';                                    if (document.getElementById(\"167449ac-6d91-4300-a118-3ef154b7132f\")) {                    Plotly.newPlot(                        \"167449ac-6d91-4300-a118-3ef154b7132f\",                        [{\"line\":{\"color\":\"rgba(255, 153, 51, 1.0)\",\"dash\":\"solid\",\"shape\":\"linear\",\"width\":1.3},\"mode\":\"lines\",\"name\":\"A\",\"text\":\"\",\"x\":[0,1,2,3,4,5,6,7,8,9,10,11,12,13,14,15,16,17,18,19,20,21,22,23,24,25,26,27,28,29,30,31,32,33,34,35,36,37,38,39,40,41,42,43,44,45,46,47,48,49,50,51,52,53,54,55,56,57,58,59,60,61,62,63,64,65,66,67,68,69,70,71,72,73,74,75,76,77,78,79,80,81,82,83,84,85,86,87,88,89,90,91,92,93,94,95,96,97,98,99],\"y\":[0.5745116639033776,0.9785972848361238,-0.46469597183700806,0.9184812368604616,0.5817003574663901,-0.8855551147163485,0.09441057738706614,1.7836130306849607,0.10863026996968499,1.655210904475645,0.30667166945281715,-1.476029094117104,0.799313372611074,-1.182350550952549,-1.6214507865494476,-0.42659969531808345,-0.3185300279638153,-1.3113068558963037,0.45441541274656017,-0.443448868043506,-0.3135832451503955,-0.07429059560938601,1.8304855967609228,-0.0713168342931115,0.8847741156048016,0.3452923952775951,0.5801132528806705,0.7624799832899686,0.3322130822954626,-0.14242422341213887,0.5869469207911738,0.6341426054564636,2.6938248204297524,0.8375677977573818,-0.2802251892428954,-0.5670142257178402,-0.8146887280907159,-0.6668992899757032,2.2222815451456523,-0.7833069320609886,0.9905961044054827,-0.3256149670770055,0.7365672470102214,-1.0926596097491235,1.1139787434940185,-0.6114157064105485,-0.450868606112402,-0.36872430246246546,-0.3249512173133247,2.1636131958285767,-0.75466909629134,-1.288377728305726,0.605480241918969,-1.7403342621117603,-0.5767090901550972,0.9862116910360376,-0.07369698703587212,0.20182496138164546,-1.2045105548068864,-0.7002951860185551,-0.5703494211401896,-0.68009580336817,0.6916715289142051,0.27340901129917644,-0.29035920152335515,0.2852039886179615,0.7133312233350243,-0.91547252184514,0.28003515738276347,1.4923423101747046,-0.027191134486079134,1.6319337877418953,-1.3711337986599788,-0.8071766479811399,1.318813382305548,-0.10012598881905053,0.46188415018899753,-0.04060855731254377,2.087349678948209,-0.7295423629444664,-1.465500164221751,0.7008696270372898,-1.7579283442082925,-1.7328437612335499,0.5294871189749688,1.43612734612469,0.04680259369241339,-1.3526150222323468,0.6582598167822007,-1.9950013095935213,0.4033083680452155,0.8175282263646728,0.07014198917232728,0.43828413155616214,0.24968000311555905,-0.387429824957257,-0.031778227882134205,-0.8623267915106497,-0.953740984431478,-0.05445983399194409],\"type\":\"scatter\"},{\"line\":{\"color\":\"rgba(55, 128, 191, 1.0)\",\"dash\":\"solid\",\"shape\":\"linear\",\"width\":1.3},\"mode\":\"lines\",\"name\":\"B\",\"text\":\"\",\"x\":[0,1,2,3,4,5,6,7,8,9,10,11,12,13,14,15,16,17,18,19,20,21,22,23,24,25,26,27,28,29,30,31,32,33,34,35,36,37,38,39,40,41,42,43,44,45,46,47,48,49,50,51,52,53,54,55,56,57,58,59,60,61,62,63,64,65,66,67,68,69,70,71,72,73,74,75,76,77,78,79,80,81,82,83,84,85,86,87,88,89,90,91,92,93,94,95,96,97,98,99],\"y\":[0.3484717820327838,0.5039583742528283,-0.9990150314466602,0.604350440733284,0.16033161362756743,1.060326634828224,0.5691134915340805,-0.902432065184702,-0.0009131599102196734,0.09740491055972142,-1.4180894025378805,-0.1803668008622408,-1.7737974336650428,-0.6506678065802198,0.8841075279030496,-0.5049945854318697,0.7239937184181856,-1.4383931275209565,0.8453066301750151,0.34762005674502483,2.0400388372549223,-2.157315730611294,0.2209478364340322,1.802311901385443,3.3671102200760767,-1.7890851153801186,0.8635998111125606,0.04538181554622621,-0.8768539270570925,-1.1561098530930023,0.469769961263792,0.10483776806045433,1.1257947743633177,-3.1103162481128477,-0.3935244258767791,-0.07811839656271094,-1.0693390703646042,0.7577788997522897,0.8548256973784643,-0.7227486071850662,0.12621136521701642,-1.5686850089516764,2.3752191234886935,1.4117382899520032,-0.06966122654057275,-0.2222910739555117,0.6192503527480322,-0.008653601175503829,1.155008140394314,1.1213681767834516,0.6227605959154743,3.0697752847408153,-0.7300573613661158,0.13952947626816217,-1.9619353983439314,0.701911922424966,-0.5785472608072868,0.904956567921151,-0.9164830751388292,2.072689928015543,-1.266120789293466,-1.3461698573203658,-1.5214579615650425,-0.5072045185877293,-0.7444078207165821,2.104810542954587,-0.5768261503583167,2.6776643429524682,-2.3662353087503725,0.8183446525143931,0.7134885860563976,1.0906029212725172,-0.7230975990475973,0.03037479719875758,-0.28281776746578247,-2.507508618860443,-1.5149956387038264,0.2410973606292827,0.6497788978731519,-0.6259518762684783,0.48969228635237555,-0.2923666080038938,-0.3205481507170632,-0.43491892684007843,0.7769155155258977,-0.8411034149662258,-0.5552018807643755,-0.2920563678052631,1.7897545559348271,0.2610504779580989,-1.4069427847349,-1.9312946429450102,-0.25086161419952285,3.056499097584156,-0.1159568138865182,0.5182386214901665,-1.1810581543932195,0.38615617047610795,0.5564841086303987,-1.2559280625325615],\"type\":\"scatter\"},{\"connectgaps\":false,\"fill\":\"tozeroy\",\"line\":{\"color\":\"green\",\"dash\":\"solid\",\"shape\":\"linear\",\"width\":0.5},\"mode\":\"lines\",\"name\":\"Spread\",\"showlegend\":false,\"x\":[0,1,2,3,4,5,6,7,8,9,10,11,12,13,14,15,16,17,18,19,20,21,22,23,24,25,26,27,28,29,30,31,32,33,34,35,36,37,38,39,40,41,42,43,44,45,46,47,48,49,50,51,52,53,54,55,56,57,58,59,60,61,62,63,64,65,66,67,68,69,70,71,72,73,74,75,76,77,78,79,80,81,82,83,84,85,86,87,88,89,90,91,92,93,94,95,96,97,98,99],\"xaxis\":\"x2\",\"y\":[0.22603988187059382,0.47463891058329555,0.5343190596096521,0.31413079612717754,0.4213687438388227,\"\",\"\",2.6860450958696624,0.10954342987990466,1.5578059939159234,1.7247610719906976,\"\",2.5731108062761168,\"\",\"\",0.07839489011378625,\"\",0.1270862716246528,\"\",\"\",\"\",2.0830251350019076,1.6095377603268906,\"\",\"\",2.1343775106577136,\"\",0.7170981677437424,1.209067009352555,1.0136856296808634,0.11717695952738183,0.5293048373960093,1.5680300460664347,3.9478840458702296,0.1132992366338837,\"\",0.2546503422738883,\"\",1.367455847767188,\"\",0.8643847391884663,1.243070041874671,\"\",\"\",1.1836399700345912,\"\",\"\",\"\",\"\",1.0422450190451251,\"\",\"\",1.3355376032850848,\"\",1.3852263081888343,0.28429976861107153,0.5048502737714147,\"\",\"\",\"\",0.6957713681532764,0.6660740539521958,2.213129490479248,0.7806135298869057,0.4540486191932269,\"\",1.290157373693341,\"\",2.646270466133136,0.6739976576603115,\"\",0.5413308664693781,\"\",\"\",1.6016311497713303,2.4073826300413925,1.9768797888928238,\"\",1.437570781075057,\"\",\"\",0.9932362350411836,\"\",\"\",\"\",2.277230761090916,0.6020044744567888,\"\",\"\",\"\",1.8102511527801157,2.748822869309683,0.32100360337185013,\"\",0.36563681700207723,\"\",1.1492799265110853,\"\",\"\",1.2014682285406175],\"yaxis\":\"y2\",\"type\":\"scatter\"},{\"connectgaps\":false,\"fill\":\"tozeroy\",\"line\":{\"color\":\"red\",\"dash\":\"solid\",\"shape\":\"linear\",\"width\":0.5},\"mode\":\"lines\",\"name\":\"Spread\",\"showlegend\":false,\"x\":[0,1,2,3,4,5,6,7,8,9,10,11,12,13,14,15,16,17,18,19,20,21,22,23,24,25,26,27,28,29,30,31,32,33,34,35,36,37,38,39,40,41,42,43,44,45,46,47,48,49,50,51,52,53,54,55,56,57,58,59,60,61,62,63,64,65,66,67,68,69,70,71,72,73,74,75,76,77,78,79,80,81,82,83,84,85,86,87,88,89,90,91,92,93,94,95,96,97,98,99],\"xaxis\":\"x2\",\"y\":[\"\",\"\",\"\",\"\",\"\",-1.9458817495445726,-0.4747029141470144,\"\",\"\",\"\",\"\",-1.2956622932548632,\"\",-0.5316827443723291,-2.505558314452497,\"\",-1.042523746382001,\"\",-0.3908912174284549,-0.7910689247885307,-2.353622082405318,\"\",\"\",-1.8736287356785544,-2.4823361044712753,\"\",-0.28348655823189006,\"\",\"\",\"\",\"\",\"\",\"\",\"\",\"\",-0.4888958291551293,\"\",-1.424678189727993,\"\",-0.06055832487592239,\"\",\"\",-1.638651876478472,-2.504397899701127,\"\",-0.3891246324550368,-1.070118958860434,-0.3600707012869616,-1.4799593577076386,\"\",-1.3774296922068143,-4.358153013046541,\"\",-1.8798637383799226,\"\",\"\",\"\",-0.7031316065395055,-0.2880274796680572,-2.772985114034098,\"\",\"\",\"\",\"\",\"\",-1.8196065543366258,\"\",-3.593136864797608,\"\",\"\",-0.7406797205424768,\"\",-0.6480361996123815,-0.8375514451798974,\"\",\"\",\"\",-0.2817059179418265,\"\",-0.10359048667598814,-1.9551924505741265,\"\",-1.4373801934912294,-1.2979248343934715,-0.24742839655092885,\"\",\"\",-1.0605586544270835,-1.1314947391526264,-2.25605178755162,\"\",\"\",\"\",-2.6182149660279936,\"\",-0.9056684464474235,\"\",-1.2484829619867577,-1.5102250930618766,\"\"],\"yaxis\":\"y2\",\"type\":\"scatter\"}],                        {\"hovermode\":\"x\",\"legend\":{\"bgcolor\":\"#F5F6F9\",\"font\":{\"color\":\"#4D5663\"}},\"paper_bgcolor\":\"#F5F6F9\",\"plot_bgcolor\":\"#F5F6F9\",\"template\":{\"data\":{\"barpolar\":[{\"marker\":{\"line\":{\"color\":\"#E5ECF6\",\"width\":0.5},\"pattern\":{\"fillmode\":\"overlay\",\"size\":10,\"solidity\":0.2}},\"type\":\"barpolar\"}],\"bar\":[{\"error_x\":{\"color\":\"#2a3f5f\"},\"error_y\":{\"color\":\"#2a3f5f\"},\"marker\":{\"line\":{\"color\":\"#E5ECF6\",\"width\":0.5},\"pattern\":{\"fillmode\":\"overlay\",\"size\":10,\"solidity\":0.2}},\"type\":\"bar\"}],\"carpet\":[{\"aaxis\":{\"endlinecolor\":\"#2a3f5f\",\"gridcolor\":\"white\",\"linecolor\":\"white\",\"minorgridcolor\":\"white\",\"startlinecolor\":\"#2a3f5f\"},\"baxis\":{\"endlinecolor\":\"#2a3f5f\",\"gridcolor\":\"white\",\"linecolor\":\"white\",\"minorgridcolor\":\"white\",\"startlinecolor\":\"#2a3f5f\"},\"type\":\"carpet\"}],\"choropleth\":[{\"colorbar\":{\"outlinewidth\":0,\"ticks\":\"\"},\"type\":\"choropleth\"}],\"contourcarpet\":[{\"colorbar\":{\"outlinewidth\":0,\"ticks\":\"\"},\"type\":\"contourcarpet\"}],\"contour\":[{\"colorbar\":{\"outlinewidth\":0,\"ticks\":\"\"},\"colorscale\":[[0.0,\"#0d0887\"],[0.1111111111111111,\"#46039f\"],[0.2222222222222222,\"#7201a8\"],[0.3333333333333333,\"#9c179e\"],[0.4444444444444444,\"#bd3786\"],[0.5555555555555556,\"#d8576b\"],[0.6666666666666666,\"#ed7953\"],[0.7777777777777778,\"#fb9f3a\"],[0.8888888888888888,\"#fdca26\"],[1.0,\"#f0f921\"]],\"type\":\"contour\"}],\"heatmapgl\":[{\"colorbar\":{\"outlinewidth\":0,\"ticks\":\"\"},\"colorscale\":[[0.0,\"#0d0887\"],[0.1111111111111111,\"#46039f\"],[0.2222222222222222,\"#7201a8\"],[0.3333333333333333,\"#9c179e\"],[0.4444444444444444,\"#bd3786\"],[0.5555555555555556,\"#d8576b\"],[0.6666666666666666,\"#ed7953\"],[0.7777777777777778,\"#fb9f3a\"],[0.8888888888888888,\"#fdca26\"],[1.0,\"#f0f921\"]],\"type\":\"heatmapgl\"}],\"heatmap\":[{\"colorbar\":{\"outlinewidth\":0,\"ticks\":\"\"},\"colorscale\":[[0.0,\"#0d0887\"],[0.1111111111111111,\"#46039f\"],[0.2222222222222222,\"#7201a8\"],[0.3333333333333333,\"#9c179e\"],[0.4444444444444444,\"#bd3786\"],[0.5555555555555556,\"#d8576b\"],[0.6666666666666666,\"#ed7953\"],[0.7777777777777778,\"#fb9f3a\"],[0.8888888888888888,\"#fdca26\"],[1.0,\"#f0f921\"]],\"type\":\"heatmap\"}],\"histogram2dcontour\":[{\"colorbar\":{\"outlinewidth\":0,\"ticks\":\"\"},\"colorscale\":[[0.0,\"#0d0887\"],[0.1111111111111111,\"#46039f\"],[0.2222222222222222,\"#7201a8\"],[0.3333333333333333,\"#9c179e\"],[0.4444444444444444,\"#bd3786\"],[0.5555555555555556,\"#d8576b\"],[0.6666666666666666,\"#ed7953\"],[0.7777777777777778,\"#fb9f3a\"],[0.8888888888888888,\"#fdca26\"],[1.0,\"#f0f921\"]],\"type\":\"histogram2dcontour\"}],\"histogram2d\":[{\"colorbar\":{\"outlinewidth\":0,\"ticks\":\"\"},\"colorscale\":[[0.0,\"#0d0887\"],[0.1111111111111111,\"#46039f\"],[0.2222222222222222,\"#7201a8\"],[0.3333333333333333,\"#9c179e\"],[0.4444444444444444,\"#bd3786\"],[0.5555555555555556,\"#d8576b\"],[0.6666666666666666,\"#ed7953\"],[0.7777777777777778,\"#fb9f3a\"],[0.8888888888888888,\"#fdca26\"],[1.0,\"#f0f921\"]],\"type\":\"histogram2d\"}],\"histogram\":[{\"marker\":{\"pattern\":{\"fillmode\":\"overlay\",\"size\":10,\"solidity\":0.2}},\"type\":\"histogram\"}],\"mesh3d\":[{\"colorbar\":{\"outlinewidth\":0,\"ticks\":\"\"},\"type\":\"mesh3d\"}],\"parcoords\":[{\"line\":{\"colorbar\":{\"outlinewidth\":0,\"ticks\":\"\"}},\"type\":\"parcoords\"}],\"pie\":[{\"automargin\":true,\"type\":\"pie\"}],\"scatter3d\":[{\"line\":{\"colorbar\":{\"outlinewidth\":0,\"ticks\":\"\"}},\"marker\":{\"colorbar\":{\"outlinewidth\":0,\"ticks\":\"\"}},\"type\":\"scatter3d\"}],\"scattercarpet\":[{\"marker\":{\"colorbar\":{\"outlinewidth\":0,\"ticks\":\"\"}},\"type\":\"scattercarpet\"}],\"scattergeo\":[{\"marker\":{\"colorbar\":{\"outlinewidth\":0,\"ticks\":\"\"}},\"type\":\"scattergeo\"}],\"scattergl\":[{\"marker\":{\"colorbar\":{\"outlinewidth\":0,\"ticks\":\"\"}},\"type\":\"scattergl\"}],\"scattermapbox\":[{\"marker\":{\"colorbar\":{\"outlinewidth\":0,\"ticks\":\"\"}},\"type\":\"scattermapbox\"}],\"scatterpolargl\":[{\"marker\":{\"colorbar\":{\"outlinewidth\":0,\"ticks\":\"\"}},\"type\":\"scatterpolargl\"}],\"scatterpolar\":[{\"marker\":{\"colorbar\":{\"outlinewidth\":0,\"ticks\":\"\"}},\"type\":\"scatterpolar\"}],\"scatter\":[{\"marker\":{\"colorbar\":{\"outlinewidth\":0,\"ticks\":\"\"}},\"type\":\"scatter\"}],\"scatterternary\":[{\"marker\":{\"colorbar\":{\"outlinewidth\":0,\"ticks\":\"\"}},\"type\":\"scatterternary\"}],\"surface\":[{\"colorbar\":{\"outlinewidth\":0,\"ticks\":\"\"},\"colorscale\":[[0.0,\"#0d0887\"],[0.1111111111111111,\"#46039f\"],[0.2222222222222222,\"#7201a8\"],[0.3333333333333333,\"#9c179e\"],[0.4444444444444444,\"#bd3786\"],[0.5555555555555556,\"#d8576b\"],[0.6666666666666666,\"#ed7953\"],[0.7777777777777778,\"#fb9f3a\"],[0.8888888888888888,\"#fdca26\"],[1.0,\"#f0f921\"]],\"type\":\"surface\"}],\"table\":[{\"cells\":{\"fill\":{\"color\":\"#EBF0F8\"},\"line\":{\"color\":\"white\"}},\"header\":{\"fill\":{\"color\":\"#C8D4E3\"},\"line\":{\"color\":\"white\"}},\"type\":\"table\"}]},\"layout\":{\"annotationdefaults\":{\"arrowcolor\":\"#2a3f5f\",\"arrowhead\":0,\"arrowwidth\":1},\"autotypenumbers\":\"strict\",\"coloraxis\":{\"colorbar\":{\"outlinewidth\":0,\"ticks\":\"\"}},\"colorscale\":{\"diverging\":[[0,\"#8e0152\"],[0.1,\"#c51b7d\"],[0.2,\"#de77ae\"],[0.3,\"#f1b6da\"],[0.4,\"#fde0ef\"],[0.5,\"#f7f7f7\"],[0.6,\"#e6f5d0\"],[0.7,\"#b8e186\"],[0.8,\"#7fbc41\"],[0.9,\"#4d9221\"],[1,\"#276419\"]],\"sequential\":[[0.0,\"#0d0887\"],[0.1111111111111111,\"#46039f\"],[0.2222222222222222,\"#7201a8\"],[0.3333333333333333,\"#9c179e\"],[0.4444444444444444,\"#bd3786\"],[0.5555555555555556,\"#d8576b\"],[0.6666666666666666,\"#ed7953\"],[0.7777777777777778,\"#fb9f3a\"],[0.8888888888888888,\"#fdca26\"],[1.0,\"#f0f921\"]],\"sequentialminus\":[[0.0,\"#0d0887\"],[0.1111111111111111,\"#46039f\"],[0.2222222222222222,\"#7201a8\"],[0.3333333333333333,\"#9c179e\"],[0.4444444444444444,\"#bd3786\"],[0.5555555555555556,\"#d8576b\"],[0.6666666666666666,\"#ed7953\"],[0.7777777777777778,\"#fb9f3a\"],[0.8888888888888888,\"#fdca26\"],[1.0,\"#f0f921\"]]},\"colorway\":[\"#636efa\",\"#EF553B\",\"#00cc96\",\"#ab63fa\",\"#FFA15A\",\"#19d3f3\",\"#FF6692\",\"#B6E880\",\"#FF97FF\",\"#FECB52\"],\"font\":{\"color\":\"#2a3f5f\"},\"geo\":{\"bgcolor\":\"white\",\"lakecolor\":\"white\",\"landcolor\":\"#E5ECF6\",\"showlakes\":true,\"showland\":true,\"subunitcolor\":\"white\"},\"hoverlabel\":{\"align\":\"left\"},\"hovermode\":\"closest\",\"mapbox\":{\"style\":\"light\"},\"paper_bgcolor\":\"white\",\"plot_bgcolor\":\"#E5ECF6\",\"polar\":{\"angularaxis\":{\"gridcolor\":\"white\",\"linecolor\":\"white\",\"ticks\":\"\"},\"bgcolor\":\"#E5ECF6\",\"radialaxis\":{\"gridcolor\":\"white\",\"linecolor\":\"white\",\"ticks\":\"\"}},\"scene\":{\"xaxis\":{\"backgroundcolor\":\"#E5ECF6\",\"gridcolor\":\"white\",\"gridwidth\":2,\"linecolor\":\"white\",\"showbackground\":true,\"ticks\":\"\",\"zerolinecolor\":\"white\"},\"yaxis\":{\"backgroundcolor\":\"#E5ECF6\",\"gridcolor\":\"white\",\"gridwidth\":2,\"linecolor\":\"white\",\"showbackground\":true,\"ticks\":\"\",\"zerolinecolor\":\"white\"},\"zaxis\":{\"backgroundcolor\":\"#E5ECF6\",\"gridcolor\":\"white\",\"gridwidth\":2,\"linecolor\":\"white\",\"showbackground\":true,\"ticks\":\"\",\"zerolinecolor\":\"white\"}},\"shapedefaults\":{\"line\":{\"color\":\"#2a3f5f\"}},\"ternary\":{\"aaxis\":{\"gridcolor\":\"white\",\"linecolor\":\"white\",\"ticks\":\"\"},\"baxis\":{\"gridcolor\":\"white\",\"linecolor\":\"white\",\"ticks\":\"\"},\"bgcolor\":\"#E5ECF6\",\"caxis\":{\"gridcolor\":\"white\",\"linecolor\":\"white\",\"ticks\":\"\"}},\"title\":{\"x\":0.05},\"xaxis\":{\"automargin\":true,\"gridcolor\":\"white\",\"linecolor\":\"white\",\"ticks\":\"\",\"title\":{\"standoff\":15},\"zerolinecolor\":\"white\",\"zerolinewidth\":2},\"yaxis\":{\"automargin\":true,\"gridcolor\":\"white\",\"linecolor\":\"white\",\"ticks\":\"\",\"title\":{\"standoff\":15},\"zerolinecolor\":\"white\",\"zerolinewidth\":2}}},\"title\":{\"font\":{\"color\":\"#4D5663\"}},\"xaxis\":{\"gridcolor\":\"#E1E5ED\",\"showgrid\":true,\"tickfont\":{\"color\":\"#4D5663\"},\"title\":{\"font\":{\"color\":\"#4D5663\"},\"text\":\"\"},\"zerolinecolor\":\"#E1E5ED\"},\"yaxis\":{\"domain\":[0.3,1],\"gridcolor\":\"#E1E5ED\",\"showgrid\":true,\"tickfont\":{\"color\":\"#4D5663\"},\"title\":{\"font\":{\"color\":\"#4D5663\"},\"text\":\"\"},\"zerolinecolor\":\"#E1E5ED\"},\"yaxis2\":{\"domain\":[0,0.25],\"gridcolor\":\"#E1E5ED\",\"showgrid\":true,\"tickfont\":{\"color\":\"#4D5663\"},\"title\":{\"font\":{\"color\":\"#4D5663\"},\"text\":\"Spread\"},\"zerolinecolor\":\"#E1E5ED\"},\"xaxis2\":{\"anchor\":\"y2\",\"gridcolor\":\"#E1E5ED\",\"showgrid\":true,\"showticklabels\":false,\"tickfont\":{\"color\":\"#4D5663\"},\"title\":{\"font\":{\"color\":\"#4D5663\"},\"text\":\"\"},\"zerolinecolor\":\"#E1E5ED\"}},                        {\"showLink\": true, \"linkText\": \"Export to plot.ly\", \"plotlyServerURL\": \"https://plot.ly\", \"responsive\": true}                    ).then(function(){\n",
       "                            \n",
       "var gd = document.getElementById('167449ac-6d91-4300-a118-3ef154b7132f');\n",
       "var x = new MutationObserver(function (mutations, observer) {{\n",
       "        var display = window.getComputedStyle(gd).display;\n",
       "        if (!display || display === 'none') {{\n",
       "            console.log([gd, 'removed!']);\n",
       "            Plotly.purge(gd);\n",
       "            observer.disconnect();\n",
       "        }}\n",
       "}});\n",
       "\n",
       "// Listen for the removal of the full notebook cells\n",
       "var notebookContainer = gd.closest('#notebook-container');\n",
       "if (notebookContainer) {{\n",
       "    x.observe(notebookContainer, {childList: true});\n",
       "}}\n",
       "\n",
       "// Listen for the clearing of the current output cell\n",
       "var outputEl = gd.closest('.output');\n",
       "if (outputEl) {{\n",
       "    x.observe(outputEl, {childList: true});\n",
       "}}\n",
       "\n",
       "                        })                };                });            </script>        </div>"
      ]
     },
     "metadata": {},
     "output_type": "display_data"
    }
   ],
   "source": [
    "df[[\"A\",\"B\"]].iplot(kind=\"spread\")"
   ]
  },
  {
   "cell_type": "code",
   "execution_count": 46,
   "id": "77cf871b",
   "metadata": {},
   "outputs": [
    {
     "data": {
      "application/vnd.plotly.v1+json": {
       "config": {
        "linkText": "Export to plot.ly",
        "plotlyServerURL": "https://plot.ly",
        "showLink": true
       },
       "data": [
        {
         "marker": {
          "color": [
           "rgb(255, 153, 51)",
           "rgb(55, 128, 191)",
           "rgb(50, 171, 96)",
           "rgb(128, 0, 128)",
           "rgb(219, 64, 82)",
           "rgb(0, 128, 128)",
           "rgb(255, 255, 51)",
           "rgb(128, 128, 0)",
           "rgb(251, 128, 114)",
           "rgb(128, 177, 211)"
          ],
          "line": {
           "width": 1.3
          },
          "size": [
           51,
           72,
           78,
           65,
           84,
           48,
           92,
           76,
           64,
           25,
           57,
           57,
           41,
           82,
           105,
           39,
           84,
           64,
           54,
           54,
           75,
           78,
           55,
           81,
           67,
           77,
           83,
           65,
           73,
           84,
           40,
           12,
           48,
           91,
           54,
           59,
           46,
           89,
           57,
           63,
           67,
           92,
           40,
           40,
           69,
           79,
           63,
           75,
           67,
           49,
           38,
           77,
           71,
           51,
           72,
           49,
           34,
           52,
           74,
           77,
           105,
           37,
           85,
           68,
           46,
           59,
           95,
           74,
           74,
           69,
           56,
           77,
           62,
           82,
           62,
           37,
           58,
           80,
           77,
           94,
           34,
           84,
           62,
           67,
           33,
           41,
           58,
           71,
           68,
           68,
           49,
           87,
           63,
           46,
           79,
           55,
           72,
           112,
           51,
           29
          ],
          "symbol": "circle"
         },
         "mode": "markers",
         "text": "",
         "type": "scatter",
         "x": [
          0.5745116639033776,
          0.9785972848361238,
          -0.46469597183700806,
          0.9184812368604616,
          0.5817003574663901,
          -0.8855551147163485,
          0.09441057738706614,
          1.7836130306849607,
          0.10863026996968499,
          1.655210904475645,
          0.30667166945281715,
          -1.476029094117104,
          0.799313372611074,
          -1.182350550952549,
          -1.6214507865494476,
          -0.42659969531808345,
          -0.3185300279638153,
          -1.3113068558963037,
          0.45441541274656017,
          -0.443448868043506,
          -0.3135832451503955,
          -0.07429059560938601,
          1.8304855967609228,
          -0.0713168342931115,
          0.8847741156048016,
          0.3452923952775951,
          0.5801132528806705,
          0.7624799832899686,
          0.3322130822954626,
          -0.14242422341213887,
          0.5869469207911738,
          0.6341426054564636,
          2.6938248204297524,
          0.8375677977573818,
          -0.2802251892428954,
          -0.5670142257178402,
          -0.8146887280907159,
          -0.6668992899757032,
          2.2222815451456523,
          -0.7833069320609886,
          0.9905961044054827,
          -0.3256149670770055,
          0.7365672470102214,
          -1.0926596097491235,
          1.1139787434940185,
          -0.6114157064105485,
          -0.450868606112402,
          -0.36872430246246546,
          -0.3249512173133247,
          2.1636131958285767,
          -0.75466909629134,
          -1.288377728305726,
          0.605480241918969,
          -1.7403342621117603,
          -0.5767090901550972,
          0.9862116910360376,
          -0.07369698703587212,
          0.20182496138164546,
          -1.2045105548068864,
          -0.7002951860185551,
          -0.5703494211401896,
          -0.68009580336817,
          0.6916715289142051,
          0.27340901129917644,
          -0.29035920152335515,
          0.2852039886179615,
          0.7133312233350243,
          -0.91547252184514,
          0.28003515738276347,
          1.4923423101747046,
          -0.027191134486079134,
          1.6319337877418953,
          -1.3711337986599788,
          -0.8071766479811399,
          1.318813382305548,
          -0.10012598881905053,
          0.46188415018899753,
          -0.04060855731254377,
          2.087349678948209,
          -0.7295423629444664,
          -1.465500164221751,
          0.7008696270372898,
          -1.7579283442082925,
          -1.7328437612335499,
          0.5294871189749688,
          1.43612734612469,
          0.04680259369241339,
          -1.3526150222323468,
          0.6582598167822007,
          -1.9950013095935213,
          0.4033083680452155,
          0.8175282263646728,
          0.07014198917232728,
          0.43828413155616214,
          0.24968000311555905,
          -0.387429824957257,
          -0.031778227882134205,
          -0.8623267915106497,
          -0.953740984431478,
          -0.05445983399194409
         ],
         "y": [
          0.3484717820327838,
          0.5039583742528283,
          -0.9990150314466602,
          0.604350440733284,
          0.16033161362756743,
          1.060326634828224,
          0.5691134915340805,
          -0.902432065184702,
          -0.0009131599102196734,
          0.09740491055972142,
          -1.4180894025378805,
          -0.1803668008622408,
          -1.7737974336650428,
          -0.6506678065802198,
          0.8841075279030496,
          -0.5049945854318697,
          0.7239937184181856,
          -1.4383931275209565,
          0.8453066301750151,
          0.34762005674502483,
          2.0400388372549223,
          -2.157315730611294,
          0.2209478364340322,
          1.802311901385443,
          3.3671102200760767,
          -1.7890851153801186,
          0.8635998111125606,
          0.04538181554622621,
          -0.8768539270570925,
          -1.1561098530930023,
          0.469769961263792,
          0.10483776806045433,
          1.1257947743633177,
          -3.1103162481128477,
          -0.3935244258767791,
          -0.07811839656271094,
          -1.0693390703646042,
          0.7577788997522897,
          0.8548256973784643,
          -0.7227486071850662,
          0.12621136521701642,
          -1.5686850089516764,
          2.3752191234886935,
          1.4117382899520032,
          -0.06966122654057275,
          -0.2222910739555117,
          0.6192503527480322,
          -0.008653601175503829,
          1.155008140394314,
          1.1213681767834516,
          0.6227605959154743,
          3.0697752847408153,
          -0.7300573613661158,
          0.13952947626816217,
          -1.9619353983439314,
          0.701911922424966,
          -0.5785472608072868,
          0.904956567921151,
          -0.9164830751388292,
          2.072689928015543,
          -1.266120789293466,
          -1.3461698573203658,
          -1.5214579615650425,
          -0.5072045185877293,
          -0.7444078207165821,
          2.104810542954587,
          -0.5768261503583167,
          2.6776643429524682,
          -2.3662353087503725,
          0.8183446525143931,
          0.7134885860563976,
          1.0906029212725172,
          -0.7230975990475973,
          0.03037479719875758,
          -0.28281776746578247,
          -2.507508618860443,
          -1.5149956387038264,
          0.2410973606292827,
          0.6497788978731519,
          -0.6259518762684783,
          0.48969228635237555,
          -0.2923666080038938,
          -0.3205481507170632,
          -0.43491892684007843,
          0.7769155155258977,
          -0.8411034149662258,
          -0.5552018807643755,
          -0.2920563678052631,
          1.7897545559348271,
          0.2610504779580989,
          -1.4069427847349,
          -1.9312946429450102,
          -0.25086161419952285,
          3.056499097584156,
          -0.1159568138865182,
          0.5182386214901665,
          -1.1810581543932195,
          0.38615617047610795,
          0.5564841086303987,
          -1.2559280625325615
         ]
        }
       ],
       "layout": {
        "legend": {
         "bgcolor": "#F5F6F9",
         "font": {
          "color": "#4D5663"
         }
        },
        "paper_bgcolor": "#F5F6F9",
        "plot_bgcolor": "#F5F6F9",
        "template": {
         "data": {
          "bar": [
           {
            "error_x": {
             "color": "#2a3f5f"
            },
            "error_y": {
             "color": "#2a3f5f"
            },
            "marker": {
             "line": {
              "color": "#E5ECF6",
              "width": 0.5
             },
             "pattern": {
              "fillmode": "overlay",
              "size": 10,
              "solidity": 0.2
             }
            },
            "type": "bar"
           }
          ],
          "barpolar": [
           {
            "marker": {
             "line": {
              "color": "#E5ECF6",
              "width": 0.5
             },
             "pattern": {
              "fillmode": "overlay",
              "size": 10,
              "solidity": 0.2
             }
            },
            "type": "barpolar"
           }
          ],
          "carpet": [
           {
            "aaxis": {
             "endlinecolor": "#2a3f5f",
             "gridcolor": "white",
             "linecolor": "white",
             "minorgridcolor": "white",
             "startlinecolor": "#2a3f5f"
            },
            "baxis": {
             "endlinecolor": "#2a3f5f",
             "gridcolor": "white",
             "linecolor": "white",
             "minorgridcolor": "white",
             "startlinecolor": "#2a3f5f"
            },
            "type": "carpet"
           }
          ],
          "choropleth": [
           {
            "colorbar": {
             "outlinewidth": 0,
             "ticks": ""
            },
            "type": "choropleth"
           }
          ],
          "contour": [
           {
            "colorbar": {
             "outlinewidth": 0,
             "ticks": ""
            },
            "colorscale": [
             [
              0,
              "#0d0887"
             ],
             [
              0.1111111111111111,
              "#46039f"
             ],
             [
              0.2222222222222222,
              "#7201a8"
             ],
             [
              0.3333333333333333,
              "#9c179e"
             ],
             [
              0.4444444444444444,
              "#bd3786"
             ],
             [
              0.5555555555555556,
              "#d8576b"
             ],
             [
              0.6666666666666666,
              "#ed7953"
             ],
             [
              0.7777777777777778,
              "#fb9f3a"
             ],
             [
              0.8888888888888888,
              "#fdca26"
             ],
             [
              1,
              "#f0f921"
             ]
            ],
            "type": "contour"
           }
          ],
          "contourcarpet": [
           {
            "colorbar": {
             "outlinewidth": 0,
             "ticks": ""
            },
            "type": "contourcarpet"
           }
          ],
          "heatmap": [
           {
            "colorbar": {
             "outlinewidth": 0,
             "ticks": ""
            },
            "colorscale": [
             [
              0,
              "#0d0887"
             ],
             [
              0.1111111111111111,
              "#46039f"
             ],
             [
              0.2222222222222222,
              "#7201a8"
             ],
             [
              0.3333333333333333,
              "#9c179e"
             ],
             [
              0.4444444444444444,
              "#bd3786"
             ],
             [
              0.5555555555555556,
              "#d8576b"
             ],
             [
              0.6666666666666666,
              "#ed7953"
             ],
             [
              0.7777777777777778,
              "#fb9f3a"
             ],
             [
              0.8888888888888888,
              "#fdca26"
             ],
             [
              1,
              "#f0f921"
             ]
            ],
            "type": "heatmap"
           }
          ],
          "heatmapgl": [
           {
            "colorbar": {
             "outlinewidth": 0,
             "ticks": ""
            },
            "colorscale": [
             [
              0,
              "#0d0887"
             ],
             [
              0.1111111111111111,
              "#46039f"
             ],
             [
              0.2222222222222222,
              "#7201a8"
             ],
             [
              0.3333333333333333,
              "#9c179e"
             ],
             [
              0.4444444444444444,
              "#bd3786"
             ],
             [
              0.5555555555555556,
              "#d8576b"
             ],
             [
              0.6666666666666666,
              "#ed7953"
             ],
             [
              0.7777777777777778,
              "#fb9f3a"
             ],
             [
              0.8888888888888888,
              "#fdca26"
             ],
             [
              1,
              "#f0f921"
             ]
            ],
            "type": "heatmapgl"
           }
          ],
          "histogram": [
           {
            "marker": {
             "pattern": {
              "fillmode": "overlay",
              "size": 10,
              "solidity": 0.2
             }
            },
            "type": "histogram"
           }
          ],
          "histogram2d": [
           {
            "colorbar": {
             "outlinewidth": 0,
             "ticks": ""
            },
            "colorscale": [
             [
              0,
              "#0d0887"
             ],
             [
              0.1111111111111111,
              "#46039f"
             ],
             [
              0.2222222222222222,
              "#7201a8"
             ],
             [
              0.3333333333333333,
              "#9c179e"
             ],
             [
              0.4444444444444444,
              "#bd3786"
             ],
             [
              0.5555555555555556,
              "#d8576b"
             ],
             [
              0.6666666666666666,
              "#ed7953"
             ],
             [
              0.7777777777777778,
              "#fb9f3a"
             ],
             [
              0.8888888888888888,
              "#fdca26"
             ],
             [
              1,
              "#f0f921"
             ]
            ],
            "type": "histogram2d"
           }
          ],
          "histogram2dcontour": [
           {
            "colorbar": {
             "outlinewidth": 0,
             "ticks": ""
            },
            "colorscale": [
             [
              0,
              "#0d0887"
             ],
             [
              0.1111111111111111,
              "#46039f"
             ],
             [
              0.2222222222222222,
              "#7201a8"
             ],
             [
              0.3333333333333333,
              "#9c179e"
             ],
             [
              0.4444444444444444,
              "#bd3786"
             ],
             [
              0.5555555555555556,
              "#d8576b"
             ],
             [
              0.6666666666666666,
              "#ed7953"
             ],
             [
              0.7777777777777778,
              "#fb9f3a"
             ],
             [
              0.8888888888888888,
              "#fdca26"
             ],
             [
              1,
              "#f0f921"
             ]
            ],
            "type": "histogram2dcontour"
           }
          ],
          "mesh3d": [
           {
            "colorbar": {
             "outlinewidth": 0,
             "ticks": ""
            },
            "type": "mesh3d"
           }
          ],
          "parcoords": [
           {
            "line": {
             "colorbar": {
              "outlinewidth": 0,
              "ticks": ""
             }
            },
            "type": "parcoords"
           }
          ],
          "pie": [
           {
            "automargin": true,
            "type": "pie"
           }
          ],
          "scatter": [
           {
            "marker": {
             "colorbar": {
              "outlinewidth": 0,
              "ticks": ""
             }
            },
            "type": "scatter"
           }
          ],
          "scatter3d": [
           {
            "line": {
             "colorbar": {
              "outlinewidth": 0,
              "ticks": ""
             }
            },
            "marker": {
             "colorbar": {
              "outlinewidth": 0,
              "ticks": ""
             }
            },
            "type": "scatter3d"
           }
          ],
          "scattercarpet": [
           {
            "marker": {
             "colorbar": {
              "outlinewidth": 0,
              "ticks": ""
             }
            },
            "type": "scattercarpet"
           }
          ],
          "scattergeo": [
           {
            "marker": {
             "colorbar": {
              "outlinewidth": 0,
              "ticks": ""
             }
            },
            "type": "scattergeo"
           }
          ],
          "scattergl": [
           {
            "marker": {
             "colorbar": {
              "outlinewidth": 0,
              "ticks": ""
             }
            },
            "type": "scattergl"
           }
          ],
          "scattermapbox": [
           {
            "marker": {
             "colorbar": {
              "outlinewidth": 0,
              "ticks": ""
             }
            },
            "type": "scattermapbox"
           }
          ],
          "scatterpolar": [
           {
            "marker": {
             "colorbar": {
              "outlinewidth": 0,
              "ticks": ""
             }
            },
            "type": "scatterpolar"
           }
          ],
          "scatterpolargl": [
           {
            "marker": {
             "colorbar": {
              "outlinewidth": 0,
              "ticks": ""
             }
            },
            "type": "scatterpolargl"
           }
          ],
          "scatterternary": [
           {
            "marker": {
             "colorbar": {
              "outlinewidth": 0,
              "ticks": ""
             }
            },
            "type": "scatterternary"
           }
          ],
          "surface": [
           {
            "colorbar": {
             "outlinewidth": 0,
             "ticks": ""
            },
            "colorscale": [
             [
              0,
              "#0d0887"
             ],
             [
              0.1111111111111111,
              "#46039f"
             ],
             [
              0.2222222222222222,
              "#7201a8"
             ],
             [
              0.3333333333333333,
              "#9c179e"
             ],
             [
              0.4444444444444444,
              "#bd3786"
             ],
             [
              0.5555555555555556,
              "#d8576b"
             ],
             [
              0.6666666666666666,
              "#ed7953"
             ],
             [
              0.7777777777777778,
              "#fb9f3a"
             ],
             [
              0.8888888888888888,
              "#fdca26"
             ],
             [
              1,
              "#f0f921"
             ]
            ],
            "type": "surface"
           }
          ],
          "table": [
           {
            "cells": {
             "fill": {
              "color": "#EBF0F8"
             },
             "line": {
              "color": "white"
             }
            },
            "header": {
             "fill": {
              "color": "#C8D4E3"
             },
             "line": {
              "color": "white"
             }
            },
            "type": "table"
           }
          ]
         },
         "layout": {
          "annotationdefaults": {
           "arrowcolor": "#2a3f5f",
           "arrowhead": 0,
           "arrowwidth": 1
          },
          "autotypenumbers": "strict",
          "coloraxis": {
           "colorbar": {
            "outlinewidth": 0,
            "ticks": ""
           }
          },
          "colorscale": {
           "diverging": [
            [
             0,
             "#8e0152"
            ],
            [
             0.1,
             "#c51b7d"
            ],
            [
             0.2,
             "#de77ae"
            ],
            [
             0.3,
             "#f1b6da"
            ],
            [
             0.4,
             "#fde0ef"
            ],
            [
             0.5,
             "#f7f7f7"
            ],
            [
             0.6,
             "#e6f5d0"
            ],
            [
             0.7,
             "#b8e186"
            ],
            [
             0.8,
             "#7fbc41"
            ],
            [
             0.9,
             "#4d9221"
            ],
            [
             1,
             "#276419"
            ]
           ],
           "sequential": [
            [
             0,
             "#0d0887"
            ],
            [
             0.1111111111111111,
             "#46039f"
            ],
            [
             0.2222222222222222,
             "#7201a8"
            ],
            [
             0.3333333333333333,
             "#9c179e"
            ],
            [
             0.4444444444444444,
             "#bd3786"
            ],
            [
             0.5555555555555556,
             "#d8576b"
            ],
            [
             0.6666666666666666,
             "#ed7953"
            ],
            [
             0.7777777777777778,
             "#fb9f3a"
            ],
            [
             0.8888888888888888,
             "#fdca26"
            ],
            [
             1,
             "#f0f921"
            ]
           ],
           "sequentialminus": [
            [
             0,
             "#0d0887"
            ],
            [
             0.1111111111111111,
             "#46039f"
            ],
            [
             0.2222222222222222,
             "#7201a8"
            ],
            [
             0.3333333333333333,
             "#9c179e"
            ],
            [
             0.4444444444444444,
             "#bd3786"
            ],
            [
             0.5555555555555556,
             "#d8576b"
            ],
            [
             0.6666666666666666,
             "#ed7953"
            ],
            [
             0.7777777777777778,
             "#fb9f3a"
            ],
            [
             0.8888888888888888,
             "#fdca26"
            ],
            [
             1,
             "#f0f921"
            ]
           ]
          },
          "colorway": [
           "#636efa",
           "#EF553B",
           "#00cc96",
           "#ab63fa",
           "#FFA15A",
           "#19d3f3",
           "#FF6692",
           "#B6E880",
           "#FF97FF",
           "#FECB52"
          ],
          "font": {
           "color": "#2a3f5f"
          },
          "geo": {
           "bgcolor": "white",
           "lakecolor": "white",
           "landcolor": "#E5ECF6",
           "showlakes": true,
           "showland": true,
           "subunitcolor": "white"
          },
          "hoverlabel": {
           "align": "left"
          },
          "hovermode": "closest",
          "mapbox": {
           "style": "light"
          },
          "paper_bgcolor": "white",
          "plot_bgcolor": "#E5ECF6",
          "polar": {
           "angularaxis": {
            "gridcolor": "white",
            "linecolor": "white",
            "ticks": ""
           },
           "bgcolor": "#E5ECF6",
           "radialaxis": {
            "gridcolor": "white",
            "linecolor": "white",
            "ticks": ""
           }
          },
          "scene": {
           "xaxis": {
            "backgroundcolor": "#E5ECF6",
            "gridcolor": "white",
            "gridwidth": 2,
            "linecolor": "white",
            "showbackground": true,
            "ticks": "",
            "zerolinecolor": "white"
           },
           "yaxis": {
            "backgroundcolor": "#E5ECF6",
            "gridcolor": "white",
            "gridwidth": 2,
            "linecolor": "white",
            "showbackground": true,
            "ticks": "",
            "zerolinecolor": "white"
           },
           "zaxis": {
            "backgroundcolor": "#E5ECF6",
            "gridcolor": "white",
            "gridwidth": 2,
            "linecolor": "white",
            "showbackground": true,
            "ticks": "",
            "zerolinecolor": "white"
           }
          },
          "shapedefaults": {
           "line": {
            "color": "#2a3f5f"
           }
          },
          "ternary": {
           "aaxis": {
            "gridcolor": "white",
            "linecolor": "white",
            "ticks": ""
           },
           "baxis": {
            "gridcolor": "white",
            "linecolor": "white",
            "ticks": ""
           },
           "bgcolor": "#E5ECF6",
           "caxis": {
            "gridcolor": "white",
            "linecolor": "white",
            "ticks": ""
           }
          },
          "title": {
           "x": 0.05
          },
          "xaxis": {
           "automargin": true,
           "gridcolor": "white",
           "linecolor": "white",
           "ticks": "",
           "title": {
            "standoff": 15
           },
           "zerolinecolor": "white",
           "zerolinewidth": 2
          },
          "yaxis": {
           "automargin": true,
           "gridcolor": "white",
           "linecolor": "white",
           "ticks": "",
           "title": {
            "standoff": 15
           },
           "zerolinecolor": "white",
           "zerolinewidth": 2
          }
         }
        },
        "title": {
         "font": {
          "color": "#4D5663"
         }
        },
        "xaxis": {
         "gridcolor": "#E1E5ED",
         "showgrid": true,
         "tickfont": {
          "color": "#4D5663"
         },
         "title": {
          "font": {
           "color": "#4D5663"
          },
          "text": ""
         },
         "zerolinecolor": "#E1E5ED"
        },
        "yaxis": {
         "gridcolor": "#E1E5ED",
         "showgrid": true,
         "tickfont": {
          "color": "#4D5663"
         },
         "title": {
          "font": {
           "color": "#4D5663"
          },
          "text": ""
         },
         "zerolinecolor": "#E1E5ED"
        }
       }
      },
      "text/html": [
       "<div>                            <div id=\"69384b13-0d02-4866-a1bf-44b3d4f3922f\" class=\"plotly-graph-div\" style=\"height:525px; width:100%;\"></div>            <script type=\"text/javascript\">                require([\"plotly\"], function(Plotly) {                    window.PLOTLYENV=window.PLOTLYENV || {};\n",
       "                    window.PLOTLYENV.BASE_URL='https://plot.ly';                                    if (document.getElementById(\"69384b13-0d02-4866-a1bf-44b3d4f3922f\")) {                    Plotly.newPlot(                        \"69384b13-0d02-4866-a1bf-44b3d4f3922f\",                        [{\"marker\":{\"color\":[\"rgb(255, 153, 51)\",\"rgb(55, 128, 191)\",\"rgb(50, 171, 96)\",\"rgb(128, 0, 128)\",\"rgb(219, 64, 82)\",\"rgb(0, 128, 128)\",\"rgb(255, 255, 51)\",\"rgb(128, 128, 0)\",\"rgb(251, 128, 114)\",\"rgb(128, 177, 211)\"],\"line\":{\"width\":1.3},\"size\":[51,72,78,65,84,48,92,76,64,25,57,57,41,82,105,39,84,64,54,54,75,78,55,81,67,77,83,65,73,84,40,12,48,91,54,59,46,89,57,63,67,92,40,40,69,79,63,75,67,49,38,77,71,51,72,49,34,52,74,77,105,37,85,68,46,59,95,74,74,69,56,77,62,82,62,37,58,80,77,94,34,84,62,67,33,41,58,71,68,68,49,87,63,46,79,55,72,112,51,29],\"symbol\":\"circle\"},\"mode\":\"markers\",\"text\":\"\",\"x\":[0.5745116639033776,0.9785972848361238,-0.46469597183700806,0.9184812368604616,0.5817003574663901,-0.8855551147163485,0.09441057738706614,1.7836130306849607,0.10863026996968499,1.655210904475645,0.30667166945281715,-1.476029094117104,0.799313372611074,-1.182350550952549,-1.6214507865494476,-0.42659969531808345,-0.3185300279638153,-1.3113068558963037,0.45441541274656017,-0.443448868043506,-0.3135832451503955,-0.07429059560938601,1.8304855967609228,-0.0713168342931115,0.8847741156048016,0.3452923952775951,0.5801132528806705,0.7624799832899686,0.3322130822954626,-0.14242422341213887,0.5869469207911738,0.6341426054564636,2.6938248204297524,0.8375677977573818,-0.2802251892428954,-0.5670142257178402,-0.8146887280907159,-0.6668992899757032,2.2222815451456523,-0.7833069320609886,0.9905961044054827,-0.3256149670770055,0.7365672470102214,-1.0926596097491235,1.1139787434940185,-0.6114157064105485,-0.450868606112402,-0.36872430246246546,-0.3249512173133247,2.1636131958285767,-0.75466909629134,-1.288377728305726,0.605480241918969,-1.7403342621117603,-0.5767090901550972,0.9862116910360376,-0.07369698703587212,0.20182496138164546,-1.2045105548068864,-0.7002951860185551,-0.5703494211401896,-0.68009580336817,0.6916715289142051,0.27340901129917644,-0.29035920152335515,0.2852039886179615,0.7133312233350243,-0.91547252184514,0.28003515738276347,1.4923423101747046,-0.027191134486079134,1.6319337877418953,-1.3711337986599788,-0.8071766479811399,1.318813382305548,-0.10012598881905053,0.46188415018899753,-0.04060855731254377,2.087349678948209,-0.7295423629444664,-1.465500164221751,0.7008696270372898,-1.7579283442082925,-1.7328437612335499,0.5294871189749688,1.43612734612469,0.04680259369241339,-1.3526150222323468,0.6582598167822007,-1.9950013095935213,0.4033083680452155,0.8175282263646728,0.07014198917232728,0.43828413155616214,0.24968000311555905,-0.387429824957257,-0.031778227882134205,-0.8623267915106497,-0.953740984431478,-0.05445983399194409],\"y\":[0.3484717820327838,0.5039583742528283,-0.9990150314466602,0.604350440733284,0.16033161362756743,1.060326634828224,0.5691134915340805,-0.902432065184702,-0.0009131599102196734,0.09740491055972142,-1.4180894025378805,-0.1803668008622408,-1.7737974336650428,-0.6506678065802198,0.8841075279030496,-0.5049945854318697,0.7239937184181856,-1.4383931275209565,0.8453066301750151,0.34762005674502483,2.0400388372549223,-2.157315730611294,0.2209478364340322,1.802311901385443,3.3671102200760767,-1.7890851153801186,0.8635998111125606,0.04538181554622621,-0.8768539270570925,-1.1561098530930023,0.469769961263792,0.10483776806045433,1.1257947743633177,-3.1103162481128477,-0.3935244258767791,-0.07811839656271094,-1.0693390703646042,0.7577788997522897,0.8548256973784643,-0.7227486071850662,0.12621136521701642,-1.5686850089516764,2.3752191234886935,1.4117382899520032,-0.06966122654057275,-0.2222910739555117,0.6192503527480322,-0.008653601175503829,1.155008140394314,1.1213681767834516,0.6227605959154743,3.0697752847408153,-0.7300573613661158,0.13952947626816217,-1.9619353983439314,0.701911922424966,-0.5785472608072868,0.904956567921151,-0.9164830751388292,2.072689928015543,-1.266120789293466,-1.3461698573203658,-1.5214579615650425,-0.5072045185877293,-0.7444078207165821,2.104810542954587,-0.5768261503583167,2.6776643429524682,-2.3662353087503725,0.8183446525143931,0.7134885860563976,1.0906029212725172,-0.7230975990475973,0.03037479719875758,-0.28281776746578247,-2.507508618860443,-1.5149956387038264,0.2410973606292827,0.6497788978731519,-0.6259518762684783,0.48969228635237555,-0.2923666080038938,-0.3205481507170632,-0.43491892684007843,0.7769155155258977,-0.8411034149662258,-0.5552018807643755,-0.2920563678052631,1.7897545559348271,0.2610504779580989,-1.4069427847349,-1.9312946429450102,-0.25086161419952285,3.056499097584156,-0.1159568138865182,0.5182386214901665,-1.1810581543932195,0.38615617047610795,0.5564841086303987,-1.2559280625325615],\"type\":\"scatter\"}],                        {\"legend\":{\"bgcolor\":\"#F5F6F9\",\"font\":{\"color\":\"#4D5663\"}},\"paper_bgcolor\":\"#F5F6F9\",\"plot_bgcolor\":\"#F5F6F9\",\"template\":{\"data\":{\"barpolar\":[{\"marker\":{\"line\":{\"color\":\"#E5ECF6\",\"width\":0.5},\"pattern\":{\"fillmode\":\"overlay\",\"size\":10,\"solidity\":0.2}},\"type\":\"barpolar\"}],\"bar\":[{\"error_x\":{\"color\":\"#2a3f5f\"},\"error_y\":{\"color\":\"#2a3f5f\"},\"marker\":{\"line\":{\"color\":\"#E5ECF6\",\"width\":0.5},\"pattern\":{\"fillmode\":\"overlay\",\"size\":10,\"solidity\":0.2}},\"type\":\"bar\"}],\"carpet\":[{\"aaxis\":{\"endlinecolor\":\"#2a3f5f\",\"gridcolor\":\"white\",\"linecolor\":\"white\",\"minorgridcolor\":\"white\",\"startlinecolor\":\"#2a3f5f\"},\"baxis\":{\"endlinecolor\":\"#2a3f5f\",\"gridcolor\":\"white\",\"linecolor\":\"white\",\"minorgridcolor\":\"white\",\"startlinecolor\":\"#2a3f5f\"},\"type\":\"carpet\"}],\"choropleth\":[{\"colorbar\":{\"outlinewidth\":0,\"ticks\":\"\"},\"type\":\"choropleth\"}],\"contourcarpet\":[{\"colorbar\":{\"outlinewidth\":0,\"ticks\":\"\"},\"type\":\"contourcarpet\"}],\"contour\":[{\"colorbar\":{\"outlinewidth\":0,\"ticks\":\"\"},\"colorscale\":[[0.0,\"#0d0887\"],[0.1111111111111111,\"#46039f\"],[0.2222222222222222,\"#7201a8\"],[0.3333333333333333,\"#9c179e\"],[0.4444444444444444,\"#bd3786\"],[0.5555555555555556,\"#d8576b\"],[0.6666666666666666,\"#ed7953\"],[0.7777777777777778,\"#fb9f3a\"],[0.8888888888888888,\"#fdca26\"],[1.0,\"#f0f921\"]],\"type\":\"contour\"}],\"heatmapgl\":[{\"colorbar\":{\"outlinewidth\":0,\"ticks\":\"\"},\"colorscale\":[[0.0,\"#0d0887\"],[0.1111111111111111,\"#46039f\"],[0.2222222222222222,\"#7201a8\"],[0.3333333333333333,\"#9c179e\"],[0.4444444444444444,\"#bd3786\"],[0.5555555555555556,\"#d8576b\"],[0.6666666666666666,\"#ed7953\"],[0.7777777777777778,\"#fb9f3a\"],[0.8888888888888888,\"#fdca26\"],[1.0,\"#f0f921\"]],\"type\":\"heatmapgl\"}],\"heatmap\":[{\"colorbar\":{\"outlinewidth\":0,\"ticks\":\"\"},\"colorscale\":[[0.0,\"#0d0887\"],[0.1111111111111111,\"#46039f\"],[0.2222222222222222,\"#7201a8\"],[0.3333333333333333,\"#9c179e\"],[0.4444444444444444,\"#bd3786\"],[0.5555555555555556,\"#d8576b\"],[0.6666666666666666,\"#ed7953\"],[0.7777777777777778,\"#fb9f3a\"],[0.8888888888888888,\"#fdca26\"],[1.0,\"#f0f921\"]],\"type\":\"heatmap\"}],\"histogram2dcontour\":[{\"colorbar\":{\"outlinewidth\":0,\"ticks\":\"\"},\"colorscale\":[[0.0,\"#0d0887\"],[0.1111111111111111,\"#46039f\"],[0.2222222222222222,\"#7201a8\"],[0.3333333333333333,\"#9c179e\"],[0.4444444444444444,\"#bd3786\"],[0.5555555555555556,\"#d8576b\"],[0.6666666666666666,\"#ed7953\"],[0.7777777777777778,\"#fb9f3a\"],[0.8888888888888888,\"#fdca26\"],[1.0,\"#f0f921\"]],\"type\":\"histogram2dcontour\"}],\"histogram2d\":[{\"colorbar\":{\"outlinewidth\":0,\"ticks\":\"\"},\"colorscale\":[[0.0,\"#0d0887\"],[0.1111111111111111,\"#46039f\"],[0.2222222222222222,\"#7201a8\"],[0.3333333333333333,\"#9c179e\"],[0.4444444444444444,\"#bd3786\"],[0.5555555555555556,\"#d8576b\"],[0.6666666666666666,\"#ed7953\"],[0.7777777777777778,\"#fb9f3a\"],[0.8888888888888888,\"#fdca26\"],[1.0,\"#f0f921\"]],\"type\":\"histogram2d\"}],\"histogram\":[{\"marker\":{\"pattern\":{\"fillmode\":\"overlay\",\"size\":10,\"solidity\":0.2}},\"type\":\"histogram\"}],\"mesh3d\":[{\"colorbar\":{\"outlinewidth\":0,\"ticks\":\"\"},\"type\":\"mesh3d\"}],\"parcoords\":[{\"line\":{\"colorbar\":{\"outlinewidth\":0,\"ticks\":\"\"}},\"type\":\"parcoords\"}],\"pie\":[{\"automargin\":true,\"type\":\"pie\"}],\"scatter3d\":[{\"line\":{\"colorbar\":{\"outlinewidth\":0,\"ticks\":\"\"}},\"marker\":{\"colorbar\":{\"outlinewidth\":0,\"ticks\":\"\"}},\"type\":\"scatter3d\"}],\"scattercarpet\":[{\"marker\":{\"colorbar\":{\"outlinewidth\":0,\"ticks\":\"\"}},\"type\":\"scattercarpet\"}],\"scattergeo\":[{\"marker\":{\"colorbar\":{\"outlinewidth\":0,\"ticks\":\"\"}},\"type\":\"scattergeo\"}],\"scattergl\":[{\"marker\":{\"colorbar\":{\"outlinewidth\":0,\"ticks\":\"\"}},\"type\":\"scattergl\"}],\"scattermapbox\":[{\"marker\":{\"colorbar\":{\"outlinewidth\":0,\"ticks\":\"\"}},\"type\":\"scattermapbox\"}],\"scatterpolargl\":[{\"marker\":{\"colorbar\":{\"outlinewidth\":0,\"ticks\":\"\"}},\"type\":\"scatterpolargl\"}],\"scatterpolar\":[{\"marker\":{\"colorbar\":{\"outlinewidth\":0,\"ticks\":\"\"}},\"type\":\"scatterpolar\"}],\"scatter\":[{\"marker\":{\"colorbar\":{\"outlinewidth\":0,\"ticks\":\"\"}},\"type\":\"scatter\"}],\"scatterternary\":[{\"marker\":{\"colorbar\":{\"outlinewidth\":0,\"ticks\":\"\"}},\"type\":\"scatterternary\"}],\"surface\":[{\"colorbar\":{\"outlinewidth\":0,\"ticks\":\"\"},\"colorscale\":[[0.0,\"#0d0887\"],[0.1111111111111111,\"#46039f\"],[0.2222222222222222,\"#7201a8\"],[0.3333333333333333,\"#9c179e\"],[0.4444444444444444,\"#bd3786\"],[0.5555555555555556,\"#d8576b\"],[0.6666666666666666,\"#ed7953\"],[0.7777777777777778,\"#fb9f3a\"],[0.8888888888888888,\"#fdca26\"],[1.0,\"#f0f921\"]],\"type\":\"surface\"}],\"table\":[{\"cells\":{\"fill\":{\"color\":\"#EBF0F8\"},\"line\":{\"color\":\"white\"}},\"header\":{\"fill\":{\"color\":\"#C8D4E3\"},\"line\":{\"color\":\"white\"}},\"type\":\"table\"}]},\"layout\":{\"annotationdefaults\":{\"arrowcolor\":\"#2a3f5f\",\"arrowhead\":0,\"arrowwidth\":1},\"autotypenumbers\":\"strict\",\"coloraxis\":{\"colorbar\":{\"outlinewidth\":0,\"ticks\":\"\"}},\"colorscale\":{\"diverging\":[[0,\"#8e0152\"],[0.1,\"#c51b7d\"],[0.2,\"#de77ae\"],[0.3,\"#f1b6da\"],[0.4,\"#fde0ef\"],[0.5,\"#f7f7f7\"],[0.6,\"#e6f5d0\"],[0.7,\"#b8e186\"],[0.8,\"#7fbc41\"],[0.9,\"#4d9221\"],[1,\"#276419\"]],\"sequential\":[[0.0,\"#0d0887\"],[0.1111111111111111,\"#46039f\"],[0.2222222222222222,\"#7201a8\"],[0.3333333333333333,\"#9c179e\"],[0.4444444444444444,\"#bd3786\"],[0.5555555555555556,\"#d8576b\"],[0.6666666666666666,\"#ed7953\"],[0.7777777777777778,\"#fb9f3a\"],[0.8888888888888888,\"#fdca26\"],[1.0,\"#f0f921\"]],\"sequentialminus\":[[0.0,\"#0d0887\"],[0.1111111111111111,\"#46039f\"],[0.2222222222222222,\"#7201a8\"],[0.3333333333333333,\"#9c179e\"],[0.4444444444444444,\"#bd3786\"],[0.5555555555555556,\"#d8576b\"],[0.6666666666666666,\"#ed7953\"],[0.7777777777777778,\"#fb9f3a\"],[0.8888888888888888,\"#fdca26\"],[1.0,\"#f0f921\"]]},\"colorway\":[\"#636efa\",\"#EF553B\",\"#00cc96\",\"#ab63fa\",\"#FFA15A\",\"#19d3f3\",\"#FF6692\",\"#B6E880\",\"#FF97FF\",\"#FECB52\"],\"font\":{\"color\":\"#2a3f5f\"},\"geo\":{\"bgcolor\":\"white\",\"lakecolor\":\"white\",\"landcolor\":\"#E5ECF6\",\"showlakes\":true,\"showland\":true,\"subunitcolor\":\"white\"},\"hoverlabel\":{\"align\":\"left\"},\"hovermode\":\"closest\",\"mapbox\":{\"style\":\"light\"},\"paper_bgcolor\":\"white\",\"plot_bgcolor\":\"#E5ECF6\",\"polar\":{\"angularaxis\":{\"gridcolor\":\"white\",\"linecolor\":\"white\",\"ticks\":\"\"},\"bgcolor\":\"#E5ECF6\",\"radialaxis\":{\"gridcolor\":\"white\",\"linecolor\":\"white\",\"ticks\":\"\"}},\"scene\":{\"xaxis\":{\"backgroundcolor\":\"#E5ECF6\",\"gridcolor\":\"white\",\"gridwidth\":2,\"linecolor\":\"white\",\"showbackground\":true,\"ticks\":\"\",\"zerolinecolor\":\"white\"},\"yaxis\":{\"backgroundcolor\":\"#E5ECF6\",\"gridcolor\":\"white\",\"gridwidth\":2,\"linecolor\":\"white\",\"showbackground\":true,\"ticks\":\"\",\"zerolinecolor\":\"white\"},\"zaxis\":{\"backgroundcolor\":\"#E5ECF6\",\"gridcolor\":\"white\",\"gridwidth\":2,\"linecolor\":\"white\",\"showbackground\":true,\"ticks\":\"\",\"zerolinecolor\":\"white\"}},\"shapedefaults\":{\"line\":{\"color\":\"#2a3f5f\"}},\"ternary\":{\"aaxis\":{\"gridcolor\":\"white\",\"linecolor\":\"white\",\"ticks\":\"\"},\"baxis\":{\"gridcolor\":\"white\",\"linecolor\":\"white\",\"ticks\":\"\"},\"bgcolor\":\"#E5ECF6\",\"caxis\":{\"gridcolor\":\"white\",\"linecolor\":\"white\",\"ticks\":\"\"}},\"title\":{\"x\":0.05},\"xaxis\":{\"automargin\":true,\"gridcolor\":\"white\",\"linecolor\":\"white\",\"ticks\":\"\",\"title\":{\"standoff\":15},\"zerolinecolor\":\"white\",\"zerolinewidth\":2},\"yaxis\":{\"automargin\":true,\"gridcolor\":\"white\",\"linecolor\":\"white\",\"ticks\":\"\",\"title\":{\"standoff\":15},\"zerolinecolor\":\"white\",\"zerolinewidth\":2}}},\"title\":{\"font\":{\"color\":\"#4D5663\"}},\"xaxis\":{\"gridcolor\":\"#E1E5ED\",\"showgrid\":true,\"tickfont\":{\"color\":\"#4D5663\"},\"title\":{\"font\":{\"color\":\"#4D5663\"},\"text\":\"\"},\"zerolinecolor\":\"#E1E5ED\"},\"yaxis\":{\"gridcolor\":\"#E1E5ED\",\"showgrid\":true,\"tickfont\":{\"color\":\"#4D5663\"},\"title\":{\"font\":{\"color\":\"#4D5663\"},\"text\":\"\"},\"zerolinecolor\":\"#E1E5ED\"}},                        {\"showLink\": true, \"linkText\": \"Export to plot.ly\", \"plotlyServerURL\": \"https://plot.ly\", \"responsive\": true}                    ).then(function(){\n",
       "                            \n",
       "var gd = document.getElementById('69384b13-0d02-4866-a1bf-44b3d4f3922f');\n",
       "var x = new MutationObserver(function (mutations, observer) {{\n",
       "        var display = window.getComputedStyle(gd).display;\n",
       "        if (!display || display === 'none') {{\n",
       "            console.log([gd, 'removed!']);\n",
       "            Plotly.purge(gd);\n",
       "            observer.disconnect();\n",
       "        }}\n",
       "}});\n",
       "\n",
       "// Listen for the removal of the full notebook cells\n",
       "var notebookContainer = gd.closest('#notebook-container');\n",
       "if (notebookContainer) {{\n",
       "    x.observe(notebookContainer, {childList: true});\n",
       "}}\n",
       "\n",
       "// Listen for the clearing of the current output cell\n",
       "var outputEl = gd.closest('.output');\n",
       "if (outputEl) {{\n",
       "    x.observe(outputEl, {childList: true});\n",
       "}}\n",
       "\n",
       "                        })                };                });            </script>        </div>"
      ]
     },
     "metadata": {},
     "output_type": "display_data"
    }
   ],
   "source": [
    "df.iplot(x=\"A\",y=\"B\",size=\"C\",kind=\"bubble\")"
   ]
  },
  {
   "cell_type": "code",
   "execution_count": 50,
   "id": "5254f4a6",
   "metadata": {
    "scrolled": true
   },
   "outputs": [
    {
     "data": {
      "application/vnd.plotly.v1+json": {
       "config": {
        "linkText": "Export to plot.ly",
        "plotlyServerURL": "https://plot.ly",
        "showLink": true
       },
       "data": [
        {
         "histfunc": "count",
         "histnorm": "",
         "marker": {
          "color": "rgba(255, 153, 51, 1.0)",
          "line": {
           "color": "#4D5663",
           "width": 1.3
          }
         },
         "name": "A",
         "nbinsx": 10,
         "opacity": 0.8,
         "orientation": "v",
         "type": "histogram",
         "x": [
          0.5745116639033776,
          0.9785972848361238,
          -0.46469597183700806,
          0.9184812368604616,
          0.5817003574663901,
          -0.8855551147163485,
          0.09441057738706614,
          1.7836130306849607,
          0.10863026996968499,
          1.655210904475645,
          0.30667166945281715,
          -1.476029094117104,
          0.799313372611074,
          -1.182350550952549,
          -1.6214507865494476,
          -0.42659969531808345,
          -0.3185300279638153,
          -1.3113068558963037,
          0.45441541274656017,
          -0.443448868043506,
          -0.3135832451503955,
          -0.07429059560938601,
          1.8304855967609228,
          -0.0713168342931115,
          0.8847741156048016,
          0.3452923952775951,
          0.5801132528806705,
          0.7624799832899686,
          0.3322130822954626,
          -0.14242422341213887,
          0.5869469207911738,
          0.6341426054564636,
          2.6938248204297524,
          0.8375677977573818,
          -0.2802251892428954,
          -0.5670142257178402,
          -0.8146887280907159,
          -0.6668992899757032,
          2.2222815451456523,
          -0.7833069320609886,
          0.9905961044054827,
          -0.3256149670770055,
          0.7365672470102214,
          -1.0926596097491235,
          1.1139787434940185,
          -0.6114157064105485,
          -0.450868606112402,
          -0.36872430246246546,
          -0.3249512173133247,
          2.1636131958285767,
          -0.75466909629134,
          -1.288377728305726,
          0.605480241918969,
          -1.7403342621117603,
          -0.5767090901550972,
          0.9862116910360376,
          -0.07369698703587212,
          0.20182496138164546,
          -1.2045105548068864,
          -0.7002951860185551,
          -0.5703494211401896,
          -0.68009580336817,
          0.6916715289142051,
          0.27340901129917644,
          -0.29035920152335515,
          0.2852039886179615,
          0.7133312233350243,
          -0.91547252184514,
          0.28003515738276347,
          1.4923423101747046,
          -0.027191134486079134,
          1.6319337877418953,
          -1.3711337986599788,
          -0.8071766479811399,
          1.318813382305548,
          -0.10012598881905053,
          0.46188415018899753,
          -0.04060855731254377,
          2.087349678948209,
          -0.7295423629444664,
          -1.465500164221751,
          0.7008696270372898,
          -1.7579283442082925,
          -1.7328437612335499,
          0.5294871189749688,
          1.43612734612469,
          0.04680259369241339,
          -1.3526150222323468,
          0.6582598167822007,
          -1.9950013095935213,
          0.4033083680452155,
          0.8175282263646728,
          0.07014198917232728,
          0.43828413155616214,
          0.24968000311555905,
          -0.387429824957257,
          -0.031778227882134205,
          -0.8623267915106497,
          -0.953740984431478,
          -0.05445983399194409
         ],
         "xaxis": "x",
         "yaxis": "y"
        },
        {
         "line": {
          "color": "rgba(128, 128, 128, 1.0)",
          "dash": "solid",
          "shape": "linear",
          "width": 1.3
         },
         "marker": {
          "size": 2,
          "symbol": "circle"
         },
         "mode": "markers",
         "name": "A",
         "text": "",
         "type": "scatter",
         "x": [
          0.3484717820327838,
          0.5039583742528283,
          -0.9990150314466602,
          0.604350440733284,
          0.16033161362756743,
          1.060326634828224,
          0.5691134915340805,
          -0.902432065184702,
          -0.0009131599102196734,
          0.09740491055972142,
          -1.4180894025378805,
          -0.1803668008622408,
          -1.7737974336650428,
          -0.6506678065802198,
          0.8841075279030496,
          -0.5049945854318697,
          0.7239937184181856,
          -1.4383931275209565,
          0.8453066301750151,
          0.34762005674502483,
          2.0400388372549223,
          -2.157315730611294,
          0.2209478364340322,
          1.802311901385443,
          3.3671102200760767,
          -1.7890851153801186,
          0.8635998111125606,
          0.04538181554622621,
          -0.8768539270570925,
          -1.1561098530930023,
          0.469769961263792,
          0.10483776806045433,
          1.1257947743633177,
          -3.1103162481128477,
          -0.3935244258767791,
          -0.07811839656271094,
          -1.0693390703646042,
          0.7577788997522897,
          0.8548256973784643,
          -0.7227486071850662,
          0.12621136521701642,
          -1.5686850089516764,
          2.3752191234886935,
          1.4117382899520032,
          -0.06966122654057275,
          -0.2222910739555117,
          0.6192503527480322,
          -0.008653601175503829,
          1.155008140394314,
          1.1213681767834516,
          0.6227605959154743,
          3.0697752847408153,
          -0.7300573613661158,
          0.13952947626816217,
          -1.9619353983439314,
          0.701911922424966,
          -0.5785472608072868,
          0.904956567921151,
          -0.9164830751388292,
          2.072689928015543,
          -1.266120789293466,
          -1.3461698573203658,
          -1.5214579615650425,
          -0.5072045185877293,
          -0.7444078207165821,
          2.104810542954587,
          -0.5768261503583167,
          2.6776643429524682,
          -2.3662353087503725,
          0.8183446525143931,
          0.7134885860563976,
          1.0906029212725172,
          -0.7230975990475973,
          0.03037479719875758,
          -0.28281776746578247,
          -2.507508618860443,
          -1.5149956387038264,
          0.2410973606292827,
          0.6497788978731519,
          -0.6259518762684783,
          0.48969228635237555,
          -0.2923666080038938,
          -0.3205481507170632,
          -0.43491892684007843,
          0.7769155155258977,
          -0.8411034149662258,
          -0.5552018807643755,
          -0.2920563678052631,
          1.7897545559348271,
          0.2610504779580989,
          -1.4069427847349,
          -1.9312946429450102,
          -0.25086161419952285,
          3.056499097584156,
          -0.1159568138865182,
          0.5182386214901665,
          -1.1810581543932195,
          0.38615617047610795,
          0.5564841086303987,
          -1.2559280625325615
         ],
         "xaxis": "x2",
         "y": [
          0.5745116639033776,
          0.9785972848361238,
          -0.46469597183700806,
          0.9184812368604616,
          0.5817003574663901,
          -0.8855551147163485,
          0.09441057738706614,
          1.7836130306849607,
          0.10863026996968499,
          1.655210904475645,
          0.30667166945281715,
          -1.476029094117104,
          0.799313372611074,
          -1.182350550952549,
          -1.6214507865494476,
          -0.42659969531808345,
          -0.3185300279638153,
          -1.3113068558963037,
          0.45441541274656017,
          -0.443448868043506,
          -0.3135832451503955,
          -0.07429059560938601,
          1.8304855967609228,
          -0.0713168342931115,
          0.8847741156048016,
          0.3452923952775951,
          0.5801132528806705,
          0.7624799832899686,
          0.3322130822954626,
          -0.14242422341213887,
          0.5869469207911738,
          0.6341426054564636,
          2.6938248204297524,
          0.8375677977573818,
          -0.2802251892428954,
          -0.5670142257178402,
          -0.8146887280907159,
          -0.6668992899757032,
          2.2222815451456523,
          -0.7833069320609886,
          0.9905961044054827,
          -0.3256149670770055,
          0.7365672470102214,
          -1.0926596097491235,
          1.1139787434940185,
          -0.6114157064105485,
          -0.450868606112402,
          -0.36872430246246546,
          -0.3249512173133247,
          2.1636131958285767,
          -0.75466909629134,
          -1.288377728305726,
          0.605480241918969,
          -1.7403342621117603,
          -0.5767090901550972,
          0.9862116910360376,
          -0.07369698703587212,
          0.20182496138164546,
          -1.2045105548068864,
          -0.7002951860185551,
          -0.5703494211401896,
          -0.68009580336817,
          0.6916715289142051,
          0.27340901129917644,
          -0.29035920152335515,
          0.2852039886179615,
          0.7133312233350243,
          -0.91547252184514,
          0.28003515738276347,
          1.4923423101747046,
          -0.027191134486079134,
          1.6319337877418953,
          -1.3711337986599788,
          -0.8071766479811399,
          1.318813382305548,
          -0.10012598881905053,
          0.46188415018899753,
          -0.04060855731254377,
          2.087349678948209,
          -0.7295423629444664,
          -1.465500164221751,
          0.7008696270372898,
          -1.7579283442082925,
          -1.7328437612335499,
          0.5294871189749688,
          1.43612734612469,
          0.04680259369241339,
          -1.3526150222323468,
          0.6582598167822007,
          -1.9950013095935213,
          0.4033083680452155,
          0.8175282263646728,
          0.07014198917232728,
          0.43828413155616214,
          0.24968000311555905,
          -0.387429824957257,
          -0.031778227882134205,
          -0.8623267915106497,
          -0.953740984431478,
          -0.05445983399194409
         ],
         "yaxis": "y2"
        },
        {
         "line": {
          "color": "rgba(128, 128, 128, 1.0)",
          "dash": "solid",
          "shape": "linear",
          "width": 1.3
         },
         "marker": {
          "size": 2,
          "symbol": "circle"
         },
         "mode": "markers",
         "name": "A",
         "text": "",
         "type": "scatter",
         "x": [
          -0.6279178473499555,
          0.34622561345445335,
          0.6075860797924031,
          0.02913262936668257,
          0.9197560845710289,
          -0.7699731478454107,
          1.262751820212759,
          0.5433569547085509,
          -0.04482419281941183,
          -1.8029330477391154,
          -0.3635930655564669,
          -0.32293359057263066,
          -1.0903441436528212,
          0.7868906023265563,
          1.8802309640937576,
          -1.1904067058610839,
          0.9208295249944821,
          -0.010545087497734865,
          -0.47535946760931175,
          -0.49259542313300664,
          0.49951299732480203,
          0.6107458107182563,
          -0.44760546551429015,
          0.7441989280214762,
          0.126282178595897,
          0.5799743994055035,
          0.8448531473533216,
          0.01721277105263823,
          0.3983984851970272,
          0.8998252618913929,
          -1.128139718568078,
          -2.4470170704696845,
          -0.7641046776489488,
          1.2088552628983082,
          -0.5064963552932986,
          -0.2368630390955342,
          -0.8377971315111741,
          1.1431791731062944,
          -0.33630594515135365,
          -0.05498773522437794,
          0.12855901062512956,
          1.2882887971043535,
          -1.1079393728923863,
          -1.1240040458096074,
          0.20613811688148714,
          0.6603564503196672,
          -0.07931323212753368,
          0.500898078337865,
          0.11881201356812975,
          -0.7348269138908055,
          -1.2170323289831457,
          0.6005777097187909,
          0.31804334040013993,
          -0.6103546895923493,
          0.3376553321693647,
          -0.6970522403401523,
          -1.395723901987532,
          -0.5724566426848541,
          0.41720725384278323,
          0.5623509112780184,
          1.8705345966014466,
          -1.2677745554240667,
          0.9249856098999654,
          0.16752698109952394,
          -0.8547190482771455,
          -0.2760246934292152,
          1.4249491140674166,
          0.461527822040228,
          0.4608526377560005,
          0.21554681297308004,
          -0.3775884115532785,
          0.5779896658643389,
          -0.13449231921950758,
          0.8034085123741144,
          -0.10994124229232537,
          -1.271901145263936,
          -0.30024887575895737,
          0.7338930349916993,
          0.5996504619148298,
          1.3857603182449478,
          -1.4056057067335495,
          0.9151144691560194,
          -0.12771332861383022,
          0.10129448760262104,
          -1.436262638647789,
          -1.0767602472155713,
          -0.2784479812254053,
          0.2896633485845398,
          0.15840710572744796,
          0.16207494875451453,
          -0.705880200771333,
          1.0282269568186841,
          -0.0662258920562984,
          -0.8766807393776468,
          0.6693348680615138,
          -0.4580944882884912,
          0.3660714458836404,
          2.1712711304260988,
          -0.6079636194188285,
          -1.6330563833064893
         ],
         "xaxis": "x3",
         "y": [
          0.5745116639033776,
          0.9785972848361238,
          -0.46469597183700806,
          0.9184812368604616,
          0.5817003574663901,
          -0.8855551147163485,
          0.09441057738706614,
          1.7836130306849607,
          0.10863026996968499,
          1.655210904475645,
          0.30667166945281715,
          -1.476029094117104,
          0.799313372611074,
          -1.182350550952549,
          -1.6214507865494476,
          -0.42659969531808345,
          -0.3185300279638153,
          -1.3113068558963037,
          0.45441541274656017,
          -0.443448868043506,
          -0.3135832451503955,
          -0.07429059560938601,
          1.8304855967609228,
          -0.0713168342931115,
          0.8847741156048016,
          0.3452923952775951,
          0.5801132528806705,
          0.7624799832899686,
          0.3322130822954626,
          -0.14242422341213887,
          0.5869469207911738,
          0.6341426054564636,
          2.6938248204297524,
          0.8375677977573818,
          -0.2802251892428954,
          -0.5670142257178402,
          -0.8146887280907159,
          -0.6668992899757032,
          2.2222815451456523,
          -0.7833069320609886,
          0.9905961044054827,
          -0.3256149670770055,
          0.7365672470102214,
          -1.0926596097491235,
          1.1139787434940185,
          -0.6114157064105485,
          -0.450868606112402,
          -0.36872430246246546,
          -0.3249512173133247,
          2.1636131958285767,
          -0.75466909629134,
          -1.288377728305726,
          0.605480241918969,
          -1.7403342621117603,
          -0.5767090901550972,
          0.9862116910360376,
          -0.07369698703587212,
          0.20182496138164546,
          -1.2045105548068864,
          -0.7002951860185551,
          -0.5703494211401896,
          -0.68009580336817,
          0.6916715289142051,
          0.27340901129917644,
          -0.29035920152335515,
          0.2852039886179615,
          0.7133312233350243,
          -0.91547252184514,
          0.28003515738276347,
          1.4923423101747046,
          -0.027191134486079134,
          1.6319337877418953,
          -1.3711337986599788,
          -0.8071766479811399,
          1.318813382305548,
          -0.10012598881905053,
          0.46188415018899753,
          -0.04060855731254377,
          2.087349678948209,
          -0.7295423629444664,
          -1.465500164221751,
          0.7008696270372898,
          -1.7579283442082925,
          -1.7328437612335499,
          0.5294871189749688,
          1.43612734612469,
          0.04680259369241339,
          -1.3526150222323468,
          0.6582598167822007,
          -1.9950013095935213,
          0.4033083680452155,
          0.8175282263646728,
          0.07014198917232728,
          0.43828413155616214,
          0.24968000311555905,
          -0.387429824957257,
          -0.031778227882134205,
          -0.8623267915106497,
          -0.953740984431478,
          -0.05445983399194409
         ],
         "yaxis": "y3"
        },
        {
         "line": {
          "color": "rgba(128, 128, 128, 1.0)",
          "dash": "solid",
          "shape": "linear",
          "width": 1.3
         },
         "marker": {
          "size": 2,
          "symbol": "circle"
         },
         "mode": "markers",
         "name": "A",
         "text": "",
         "type": "scatter",
         "x": [
          1.9606853783266955,
          -1.0136178810359866,
          1.4910953108378,
          -0.3189171713047649,
          0.021843353198976265,
          0.4994652389137691,
          0.6025525448423065,
          -0.21935349285008657,
          -0.980921477319787,
          0.15381984638449858,
          0.25878300442220536,
          0.2699586885699263,
          -0.1873621610845983,
          0.43536025465544065,
          -1.5449545635773947,
          2.0395544786006714,
          -0.6480518257395195,
          0.808721090642994,
          -0.36719354125504494,
          -0.001025316925003803,
          0.8685637725200062,
          -0.6601768772363882,
          -0.6959594745559767,
          0.41764298027593005,
          -0.3333116698881908,
          0.5503601390374941,
          -0.28209193456661696,
          -1.1369615553160728,
          -2.2545149710465613,
          -0.7948856937950168,
          0.5275437880904109,
          0.11551200209770948,
          0.9320589237708774,
          0.42408266688622964,
          0.42268697686270573,
          0.45085952784692396,
          0.48019269833110984,
          0.34403733308482704,
          -0.5615786227070604,
          -0.2368320299715633,
          -0.43983229008381397,
          0.4055089919780472,
          -0.7031968631290005,
          1.0481306791280107,
          -0.5021248693181799,
          2.6184137554616247,
          -0.42501359786823517,
          0.10522954657932518,
          0.6134329174956021,
          1.1904947545127642,
          0.5618872339979997,
          0.34093915540513064,
          0.2854264334198376,
          -2.50992325626351,
          -0.037972860865348235,
          -0.18829670714289753,
          -2.1286085932779284,
          -1.2835300856396996,
          -0.06223488570762441,
          -0.3194064224602298,
          1.2313290995397501,
          -1.5149777816912295,
          -0.34254587282552446,
          -0.6118002590508678,
          0.9164634051413787,
          0.6416523969220308,
          0.8214296467449537,
          -1.5916357601379973,
          0.7184667905552226,
          -0.2135752689842116,
          -0.21718171400949463,
          -0.16507577784971347,
          -0.7448777745649179,
          -0.8368103625305751,
          0.6156877429083625,
          0.41167420140018496,
          -0.050175997897253875,
          0.42280045371233105,
          0.6272893420786025,
          -1.832109685866272,
          0.6069988870305376,
          -0.38886220134506994,
          1.1739274102042094,
          -1.3756508091828772,
          1.0739141347660655,
          -0.3833757608899859,
          0.7587246029321222,
          0.3821433182351493,
          -0.506829574148174,
          -3.002881245728504,
          0.004645115344238137,
          -0.3184797536289734,
          0.750134727440925,
          0.13039868795406834,
          0.8405588014809571,
          -0.3720549904327991,
          -1.3032189362566347,
          -0.8373272550808281,
          -1.1887946406131236,
          -0.1783987610128384
         ],
         "xaxis": "x4",
         "y": [
          0.5745116639033776,
          0.9785972848361238,
          -0.46469597183700806,
          0.9184812368604616,
          0.5817003574663901,
          -0.8855551147163485,
          0.09441057738706614,
          1.7836130306849607,
          0.10863026996968499,
          1.655210904475645,
          0.30667166945281715,
          -1.476029094117104,
          0.799313372611074,
          -1.182350550952549,
          -1.6214507865494476,
          -0.42659969531808345,
          -0.3185300279638153,
          -1.3113068558963037,
          0.45441541274656017,
          -0.443448868043506,
          -0.3135832451503955,
          -0.07429059560938601,
          1.8304855967609228,
          -0.0713168342931115,
          0.8847741156048016,
          0.3452923952775951,
          0.5801132528806705,
          0.7624799832899686,
          0.3322130822954626,
          -0.14242422341213887,
          0.5869469207911738,
          0.6341426054564636,
          2.6938248204297524,
          0.8375677977573818,
          -0.2802251892428954,
          -0.5670142257178402,
          -0.8146887280907159,
          -0.6668992899757032,
          2.2222815451456523,
          -0.7833069320609886,
          0.9905961044054827,
          -0.3256149670770055,
          0.7365672470102214,
          -1.0926596097491235,
          1.1139787434940185,
          -0.6114157064105485,
          -0.450868606112402,
          -0.36872430246246546,
          -0.3249512173133247,
          2.1636131958285767,
          -0.75466909629134,
          -1.288377728305726,
          0.605480241918969,
          -1.7403342621117603,
          -0.5767090901550972,
          0.9862116910360376,
          -0.07369698703587212,
          0.20182496138164546,
          -1.2045105548068864,
          -0.7002951860185551,
          -0.5703494211401896,
          -0.68009580336817,
          0.6916715289142051,
          0.27340901129917644,
          -0.29035920152335515,
          0.2852039886179615,
          0.7133312233350243,
          -0.91547252184514,
          0.28003515738276347,
          1.4923423101747046,
          -0.027191134486079134,
          1.6319337877418953,
          -1.3711337986599788,
          -0.8071766479811399,
          1.318813382305548,
          -0.10012598881905053,
          0.46188415018899753,
          -0.04060855731254377,
          2.087349678948209,
          -0.7295423629444664,
          -1.465500164221751,
          0.7008696270372898,
          -1.7579283442082925,
          -1.7328437612335499,
          0.5294871189749688,
          1.43612734612469,
          0.04680259369241339,
          -1.3526150222323468,
          0.6582598167822007,
          -1.9950013095935213,
          0.4033083680452155,
          0.8175282263646728,
          0.07014198917232728,
          0.43828413155616214,
          0.24968000311555905,
          -0.387429824957257,
          -0.031778227882134205,
          -0.8623267915106497,
          -0.953740984431478,
          -0.05445983399194409
         ],
         "yaxis": "y4"
        },
        {
         "line": {
          "color": "rgba(128, 128, 128, 1.0)",
          "dash": "solid",
          "shape": "linear",
          "width": 1.3
         },
         "marker": {
          "size": 2,
          "symbol": "circle"
         },
         "mode": "markers",
         "name": "B",
         "text": "",
         "type": "scatter",
         "x": [
          0.5745116639033776,
          0.9785972848361238,
          -0.46469597183700806,
          0.9184812368604616,
          0.5817003574663901,
          -0.8855551147163485,
          0.09441057738706614,
          1.7836130306849607,
          0.10863026996968499,
          1.655210904475645,
          0.30667166945281715,
          -1.476029094117104,
          0.799313372611074,
          -1.182350550952549,
          -1.6214507865494476,
          -0.42659969531808345,
          -0.3185300279638153,
          -1.3113068558963037,
          0.45441541274656017,
          -0.443448868043506,
          -0.3135832451503955,
          -0.07429059560938601,
          1.8304855967609228,
          -0.0713168342931115,
          0.8847741156048016,
          0.3452923952775951,
          0.5801132528806705,
          0.7624799832899686,
          0.3322130822954626,
          -0.14242422341213887,
          0.5869469207911738,
          0.6341426054564636,
          2.6938248204297524,
          0.8375677977573818,
          -0.2802251892428954,
          -0.5670142257178402,
          -0.8146887280907159,
          -0.6668992899757032,
          2.2222815451456523,
          -0.7833069320609886,
          0.9905961044054827,
          -0.3256149670770055,
          0.7365672470102214,
          -1.0926596097491235,
          1.1139787434940185,
          -0.6114157064105485,
          -0.450868606112402,
          -0.36872430246246546,
          -0.3249512173133247,
          2.1636131958285767,
          -0.75466909629134,
          -1.288377728305726,
          0.605480241918969,
          -1.7403342621117603,
          -0.5767090901550972,
          0.9862116910360376,
          -0.07369698703587212,
          0.20182496138164546,
          -1.2045105548068864,
          -0.7002951860185551,
          -0.5703494211401896,
          -0.68009580336817,
          0.6916715289142051,
          0.27340901129917644,
          -0.29035920152335515,
          0.2852039886179615,
          0.7133312233350243,
          -0.91547252184514,
          0.28003515738276347,
          1.4923423101747046,
          -0.027191134486079134,
          1.6319337877418953,
          -1.3711337986599788,
          -0.8071766479811399,
          1.318813382305548,
          -0.10012598881905053,
          0.46188415018899753,
          -0.04060855731254377,
          2.087349678948209,
          -0.7295423629444664,
          -1.465500164221751,
          0.7008696270372898,
          -1.7579283442082925,
          -1.7328437612335499,
          0.5294871189749688,
          1.43612734612469,
          0.04680259369241339,
          -1.3526150222323468,
          0.6582598167822007,
          -1.9950013095935213,
          0.4033083680452155,
          0.8175282263646728,
          0.07014198917232728,
          0.43828413155616214,
          0.24968000311555905,
          -0.387429824957257,
          -0.031778227882134205,
          -0.8623267915106497,
          -0.953740984431478,
          -0.05445983399194409
         ],
         "xaxis": "x5",
         "y": [
          0.3484717820327838,
          0.5039583742528283,
          -0.9990150314466602,
          0.604350440733284,
          0.16033161362756743,
          1.060326634828224,
          0.5691134915340805,
          -0.902432065184702,
          -0.0009131599102196734,
          0.09740491055972142,
          -1.4180894025378805,
          -0.1803668008622408,
          -1.7737974336650428,
          -0.6506678065802198,
          0.8841075279030496,
          -0.5049945854318697,
          0.7239937184181856,
          -1.4383931275209565,
          0.8453066301750151,
          0.34762005674502483,
          2.0400388372549223,
          -2.157315730611294,
          0.2209478364340322,
          1.802311901385443,
          3.3671102200760767,
          -1.7890851153801186,
          0.8635998111125606,
          0.04538181554622621,
          -0.8768539270570925,
          -1.1561098530930023,
          0.469769961263792,
          0.10483776806045433,
          1.1257947743633177,
          -3.1103162481128477,
          -0.3935244258767791,
          -0.07811839656271094,
          -1.0693390703646042,
          0.7577788997522897,
          0.8548256973784643,
          -0.7227486071850662,
          0.12621136521701642,
          -1.5686850089516764,
          2.3752191234886935,
          1.4117382899520032,
          -0.06966122654057275,
          -0.2222910739555117,
          0.6192503527480322,
          -0.008653601175503829,
          1.155008140394314,
          1.1213681767834516,
          0.6227605959154743,
          3.0697752847408153,
          -0.7300573613661158,
          0.13952947626816217,
          -1.9619353983439314,
          0.701911922424966,
          -0.5785472608072868,
          0.904956567921151,
          -0.9164830751388292,
          2.072689928015543,
          -1.266120789293466,
          -1.3461698573203658,
          -1.5214579615650425,
          -0.5072045185877293,
          -0.7444078207165821,
          2.104810542954587,
          -0.5768261503583167,
          2.6776643429524682,
          -2.3662353087503725,
          0.8183446525143931,
          0.7134885860563976,
          1.0906029212725172,
          -0.7230975990475973,
          0.03037479719875758,
          -0.28281776746578247,
          -2.507508618860443,
          -1.5149956387038264,
          0.2410973606292827,
          0.6497788978731519,
          -0.6259518762684783,
          0.48969228635237555,
          -0.2923666080038938,
          -0.3205481507170632,
          -0.43491892684007843,
          0.7769155155258977,
          -0.8411034149662258,
          -0.5552018807643755,
          -0.2920563678052631,
          1.7897545559348271,
          0.2610504779580989,
          -1.4069427847349,
          -1.9312946429450102,
          -0.25086161419952285,
          3.056499097584156,
          -0.1159568138865182,
          0.5182386214901665,
          -1.1810581543932195,
          0.38615617047610795,
          0.5564841086303987,
          -1.2559280625325615
         ],
         "yaxis": "y5"
        },
        {
         "histfunc": "count",
         "histnorm": "",
         "marker": {
          "color": "rgba(55, 128, 191, 1.0)",
          "line": {
           "color": "#4D5663",
           "width": 1.3
          }
         },
         "name": "B",
         "nbinsx": 10,
         "opacity": 0.8,
         "orientation": "v",
         "type": "histogram",
         "x": [
          0.3484717820327838,
          0.5039583742528283,
          -0.9990150314466602,
          0.604350440733284,
          0.16033161362756743,
          1.060326634828224,
          0.5691134915340805,
          -0.902432065184702,
          -0.0009131599102196734,
          0.09740491055972142,
          -1.4180894025378805,
          -0.1803668008622408,
          -1.7737974336650428,
          -0.6506678065802198,
          0.8841075279030496,
          -0.5049945854318697,
          0.7239937184181856,
          -1.4383931275209565,
          0.8453066301750151,
          0.34762005674502483,
          2.0400388372549223,
          -2.157315730611294,
          0.2209478364340322,
          1.802311901385443,
          3.3671102200760767,
          -1.7890851153801186,
          0.8635998111125606,
          0.04538181554622621,
          -0.8768539270570925,
          -1.1561098530930023,
          0.469769961263792,
          0.10483776806045433,
          1.1257947743633177,
          -3.1103162481128477,
          -0.3935244258767791,
          -0.07811839656271094,
          -1.0693390703646042,
          0.7577788997522897,
          0.8548256973784643,
          -0.7227486071850662,
          0.12621136521701642,
          -1.5686850089516764,
          2.3752191234886935,
          1.4117382899520032,
          -0.06966122654057275,
          -0.2222910739555117,
          0.6192503527480322,
          -0.008653601175503829,
          1.155008140394314,
          1.1213681767834516,
          0.6227605959154743,
          3.0697752847408153,
          -0.7300573613661158,
          0.13952947626816217,
          -1.9619353983439314,
          0.701911922424966,
          -0.5785472608072868,
          0.904956567921151,
          -0.9164830751388292,
          2.072689928015543,
          -1.266120789293466,
          -1.3461698573203658,
          -1.5214579615650425,
          -0.5072045185877293,
          -0.7444078207165821,
          2.104810542954587,
          -0.5768261503583167,
          2.6776643429524682,
          -2.3662353087503725,
          0.8183446525143931,
          0.7134885860563976,
          1.0906029212725172,
          -0.7230975990475973,
          0.03037479719875758,
          -0.28281776746578247,
          -2.507508618860443,
          -1.5149956387038264,
          0.2410973606292827,
          0.6497788978731519,
          -0.6259518762684783,
          0.48969228635237555,
          -0.2923666080038938,
          -0.3205481507170632,
          -0.43491892684007843,
          0.7769155155258977,
          -0.8411034149662258,
          -0.5552018807643755,
          -0.2920563678052631,
          1.7897545559348271,
          0.2610504779580989,
          -1.4069427847349,
          -1.9312946429450102,
          -0.25086161419952285,
          3.056499097584156,
          -0.1159568138865182,
          0.5182386214901665,
          -1.1810581543932195,
          0.38615617047610795,
          0.5564841086303987,
          -1.2559280625325615
         ],
         "xaxis": "x6",
         "yaxis": "y6"
        },
        {
         "line": {
          "color": "rgba(128, 128, 128, 1.0)",
          "dash": "solid",
          "shape": "linear",
          "width": 1.3
         },
         "marker": {
          "size": 2,
          "symbol": "circle"
         },
         "mode": "markers",
         "name": "B",
         "text": "",
         "type": "scatter",
         "x": [
          -0.6279178473499555,
          0.34622561345445335,
          0.6075860797924031,
          0.02913262936668257,
          0.9197560845710289,
          -0.7699731478454107,
          1.262751820212759,
          0.5433569547085509,
          -0.04482419281941183,
          -1.8029330477391154,
          -0.3635930655564669,
          -0.32293359057263066,
          -1.0903441436528212,
          0.7868906023265563,
          1.8802309640937576,
          -1.1904067058610839,
          0.9208295249944821,
          -0.010545087497734865,
          -0.47535946760931175,
          -0.49259542313300664,
          0.49951299732480203,
          0.6107458107182563,
          -0.44760546551429015,
          0.7441989280214762,
          0.126282178595897,
          0.5799743994055035,
          0.8448531473533216,
          0.01721277105263823,
          0.3983984851970272,
          0.8998252618913929,
          -1.128139718568078,
          -2.4470170704696845,
          -0.7641046776489488,
          1.2088552628983082,
          -0.5064963552932986,
          -0.2368630390955342,
          -0.8377971315111741,
          1.1431791731062944,
          -0.33630594515135365,
          -0.05498773522437794,
          0.12855901062512956,
          1.2882887971043535,
          -1.1079393728923863,
          -1.1240040458096074,
          0.20613811688148714,
          0.6603564503196672,
          -0.07931323212753368,
          0.500898078337865,
          0.11881201356812975,
          -0.7348269138908055,
          -1.2170323289831457,
          0.6005777097187909,
          0.31804334040013993,
          -0.6103546895923493,
          0.3376553321693647,
          -0.6970522403401523,
          -1.395723901987532,
          -0.5724566426848541,
          0.41720725384278323,
          0.5623509112780184,
          1.8705345966014466,
          -1.2677745554240667,
          0.9249856098999654,
          0.16752698109952394,
          -0.8547190482771455,
          -0.2760246934292152,
          1.4249491140674166,
          0.461527822040228,
          0.4608526377560005,
          0.21554681297308004,
          -0.3775884115532785,
          0.5779896658643389,
          -0.13449231921950758,
          0.8034085123741144,
          -0.10994124229232537,
          -1.271901145263936,
          -0.30024887575895737,
          0.7338930349916993,
          0.5996504619148298,
          1.3857603182449478,
          -1.4056057067335495,
          0.9151144691560194,
          -0.12771332861383022,
          0.10129448760262104,
          -1.436262638647789,
          -1.0767602472155713,
          -0.2784479812254053,
          0.2896633485845398,
          0.15840710572744796,
          0.16207494875451453,
          -0.705880200771333,
          1.0282269568186841,
          -0.0662258920562984,
          -0.8766807393776468,
          0.6693348680615138,
          -0.4580944882884912,
          0.3660714458836404,
          2.1712711304260988,
          -0.6079636194188285,
          -1.6330563833064893
         ],
         "xaxis": "x7",
         "y": [
          0.3484717820327838,
          0.5039583742528283,
          -0.9990150314466602,
          0.604350440733284,
          0.16033161362756743,
          1.060326634828224,
          0.5691134915340805,
          -0.902432065184702,
          -0.0009131599102196734,
          0.09740491055972142,
          -1.4180894025378805,
          -0.1803668008622408,
          -1.7737974336650428,
          -0.6506678065802198,
          0.8841075279030496,
          -0.5049945854318697,
          0.7239937184181856,
          -1.4383931275209565,
          0.8453066301750151,
          0.34762005674502483,
          2.0400388372549223,
          -2.157315730611294,
          0.2209478364340322,
          1.802311901385443,
          3.3671102200760767,
          -1.7890851153801186,
          0.8635998111125606,
          0.04538181554622621,
          -0.8768539270570925,
          -1.1561098530930023,
          0.469769961263792,
          0.10483776806045433,
          1.1257947743633177,
          -3.1103162481128477,
          -0.3935244258767791,
          -0.07811839656271094,
          -1.0693390703646042,
          0.7577788997522897,
          0.8548256973784643,
          -0.7227486071850662,
          0.12621136521701642,
          -1.5686850089516764,
          2.3752191234886935,
          1.4117382899520032,
          -0.06966122654057275,
          -0.2222910739555117,
          0.6192503527480322,
          -0.008653601175503829,
          1.155008140394314,
          1.1213681767834516,
          0.6227605959154743,
          3.0697752847408153,
          -0.7300573613661158,
          0.13952947626816217,
          -1.9619353983439314,
          0.701911922424966,
          -0.5785472608072868,
          0.904956567921151,
          -0.9164830751388292,
          2.072689928015543,
          -1.266120789293466,
          -1.3461698573203658,
          -1.5214579615650425,
          -0.5072045185877293,
          -0.7444078207165821,
          2.104810542954587,
          -0.5768261503583167,
          2.6776643429524682,
          -2.3662353087503725,
          0.8183446525143931,
          0.7134885860563976,
          1.0906029212725172,
          -0.7230975990475973,
          0.03037479719875758,
          -0.28281776746578247,
          -2.507508618860443,
          -1.5149956387038264,
          0.2410973606292827,
          0.6497788978731519,
          -0.6259518762684783,
          0.48969228635237555,
          -0.2923666080038938,
          -0.3205481507170632,
          -0.43491892684007843,
          0.7769155155258977,
          -0.8411034149662258,
          -0.5552018807643755,
          -0.2920563678052631,
          1.7897545559348271,
          0.2610504779580989,
          -1.4069427847349,
          -1.9312946429450102,
          -0.25086161419952285,
          3.056499097584156,
          -0.1159568138865182,
          0.5182386214901665,
          -1.1810581543932195,
          0.38615617047610795,
          0.5564841086303987,
          -1.2559280625325615
         ],
         "yaxis": "y7"
        },
        {
         "line": {
          "color": "rgba(128, 128, 128, 1.0)",
          "dash": "solid",
          "shape": "linear",
          "width": 1.3
         },
         "marker": {
          "size": 2,
          "symbol": "circle"
         },
         "mode": "markers",
         "name": "B",
         "text": "",
         "type": "scatter",
         "x": [
          1.9606853783266955,
          -1.0136178810359866,
          1.4910953108378,
          -0.3189171713047649,
          0.021843353198976265,
          0.4994652389137691,
          0.6025525448423065,
          -0.21935349285008657,
          -0.980921477319787,
          0.15381984638449858,
          0.25878300442220536,
          0.2699586885699263,
          -0.1873621610845983,
          0.43536025465544065,
          -1.5449545635773947,
          2.0395544786006714,
          -0.6480518257395195,
          0.808721090642994,
          -0.36719354125504494,
          -0.001025316925003803,
          0.8685637725200062,
          -0.6601768772363882,
          -0.6959594745559767,
          0.41764298027593005,
          -0.3333116698881908,
          0.5503601390374941,
          -0.28209193456661696,
          -1.1369615553160728,
          -2.2545149710465613,
          -0.7948856937950168,
          0.5275437880904109,
          0.11551200209770948,
          0.9320589237708774,
          0.42408266688622964,
          0.42268697686270573,
          0.45085952784692396,
          0.48019269833110984,
          0.34403733308482704,
          -0.5615786227070604,
          -0.2368320299715633,
          -0.43983229008381397,
          0.4055089919780472,
          -0.7031968631290005,
          1.0481306791280107,
          -0.5021248693181799,
          2.6184137554616247,
          -0.42501359786823517,
          0.10522954657932518,
          0.6134329174956021,
          1.1904947545127642,
          0.5618872339979997,
          0.34093915540513064,
          0.2854264334198376,
          -2.50992325626351,
          -0.037972860865348235,
          -0.18829670714289753,
          -2.1286085932779284,
          -1.2835300856396996,
          -0.06223488570762441,
          -0.3194064224602298,
          1.2313290995397501,
          -1.5149777816912295,
          -0.34254587282552446,
          -0.6118002590508678,
          0.9164634051413787,
          0.6416523969220308,
          0.8214296467449537,
          -1.5916357601379973,
          0.7184667905552226,
          -0.2135752689842116,
          -0.21718171400949463,
          -0.16507577784971347,
          -0.7448777745649179,
          -0.8368103625305751,
          0.6156877429083625,
          0.41167420140018496,
          -0.050175997897253875,
          0.42280045371233105,
          0.6272893420786025,
          -1.832109685866272,
          0.6069988870305376,
          -0.38886220134506994,
          1.1739274102042094,
          -1.3756508091828772,
          1.0739141347660655,
          -0.3833757608899859,
          0.7587246029321222,
          0.3821433182351493,
          -0.506829574148174,
          -3.002881245728504,
          0.004645115344238137,
          -0.3184797536289734,
          0.750134727440925,
          0.13039868795406834,
          0.8405588014809571,
          -0.3720549904327991,
          -1.3032189362566347,
          -0.8373272550808281,
          -1.1887946406131236,
          -0.1783987610128384
         ],
         "xaxis": "x8",
         "y": [
          0.3484717820327838,
          0.5039583742528283,
          -0.9990150314466602,
          0.604350440733284,
          0.16033161362756743,
          1.060326634828224,
          0.5691134915340805,
          -0.902432065184702,
          -0.0009131599102196734,
          0.09740491055972142,
          -1.4180894025378805,
          -0.1803668008622408,
          -1.7737974336650428,
          -0.6506678065802198,
          0.8841075279030496,
          -0.5049945854318697,
          0.7239937184181856,
          -1.4383931275209565,
          0.8453066301750151,
          0.34762005674502483,
          2.0400388372549223,
          -2.157315730611294,
          0.2209478364340322,
          1.802311901385443,
          3.3671102200760767,
          -1.7890851153801186,
          0.8635998111125606,
          0.04538181554622621,
          -0.8768539270570925,
          -1.1561098530930023,
          0.469769961263792,
          0.10483776806045433,
          1.1257947743633177,
          -3.1103162481128477,
          -0.3935244258767791,
          -0.07811839656271094,
          -1.0693390703646042,
          0.7577788997522897,
          0.8548256973784643,
          -0.7227486071850662,
          0.12621136521701642,
          -1.5686850089516764,
          2.3752191234886935,
          1.4117382899520032,
          -0.06966122654057275,
          -0.2222910739555117,
          0.6192503527480322,
          -0.008653601175503829,
          1.155008140394314,
          1.1213681767834516,
          0.6227605959154743,
          3.0697752847408153,
          -0.7300573613661158,
          0.13952947626816217,
          -1.9619353983439314,
          0.701911922424966,
          -0.5785472608072868,
          0.904956567921151,
          -0.9164830751388292,
          2.072689928015543,
          -1.266120789293466,
          -1.3461698573203658,
          -1.5214579615650425,
          -0.5072045185877293,
          -0.7444078207165821,
          2.104810542954587,
          -0.5768261503583167,
          2.6776643429524682,
          -2.3662353087503725,
          0.8183446525143931,
          0.7134885860563976,
          1.0906029212725172,
          -0.7230975990475973,
          0.03037479719875758,
          -0.28281776746578247,
          -2.507508618860443,
          -1.5149956387038264,
          0.2410973606292827,
          0.6497788978731519,
          -0.6259518762684783,
          0.48969228635237555,
          -0.2923666080038938,
          -0.3205481507170632,
          -0.43491892684007843,
          0.7769155155258977,
          -0.8411034149662258,
          -0.5552018807643755,
          -0.2920563678052631,
          1.7897545559348271,
          0.2610504779580989,
          -1.4069427847349,
          -1.9312946429450102,
          -0.25086161419952285,
          3.056499097584156,
          -0.1159568138865182,
          0.5182386214901665,
          -1.1810581543932195,
          0.38615617047610795,
          0.5564841086303987,
          -1.2559280625325615
         ],
         "yaxis": "y8"
        },
        {
         "line": {
          "color": "rgba(128, 128, 128, 1.0)",
          "dash": "solid",
          "shape": "linear",
          "width": 1.3
         },
         "marker": {
          "size": 2,
          "symbol": "circle"
         },
         "mode": "markers",
         "name": "C",
         "text": "",
         "type": "scatter",
         "x": [
          0.5745116639033776,
          0.9785972848361238,
          -0.46469597183700806,
          0.9184812368604616,
          0.5817003574663901,
          -0.8855551147163485,
          0.09441057738706614,
          1.7836130306849607,
          0.10863026996968499,
          1.655210904475645,
          0.30667166945281715,
          -1.476029094117104,
          0.799313372611074,
          -1.182350550952549,
          -1.6214507865494476,
          -0.42659969531808345,
          -0.3185300279638153,
          -1.3113068558963037,
          0.45441541274656017,
          -0.443448868043506,
          -0.3135832451503955,
          -0.07429059560938601,
          1.8304855967609228,
          -0.0713168342931115,
          0.8847741156048016,
          0.3452923952775951,
          0.5801132528806705,
          0.7624799832899686,
          0.3322130822954626,
          -0.14242422341213887,
          0.5869469207911738,
          0.6341426054564636,
          2.6938248204297524,
          0.8375677977573818,
          -0.2802251892428954,
          -0.5670142257178402,
          -0.8146887280907159,
          -0.6668992899757032,
          2.2222815451456523,
          -0.7833069320609886,
          0.9905961044054827,
          -0.3256149670770055,
          0.7365672470102214,
          -1.0926596097491235,
          1.1139787434940185,
          -0.6114157064105485,
          -0.450868606112402,
          -0.36872430246246546,
          -0.3249512173133247,
          2.1636131958285767,
          -0.75466909629134,
          -1.288377728305726,
          0.605480241918969,
          -1.7403342621117603,
          -0.5767090901550972,
          0.9862116910360376,
          -0.07369698703587212,
          0.20182496138164546,
          -1.2045105548068864,
          -0.7002951860185551,
          -0.5703494211401896,
          -0.68009580336817,
          0.6916715289142051,
          0.27340901129917644,
          -0.29035920152335515,
          0.2852039886179615,
          0.7133312233350243,
          -0.91547252184514,
          0.28003515738276347,
          1.4923423101747046,
          -0.027191134486079134,
          1.6319337877418953,
          -1.3711337986599788,
          -0.8071766479811399,
          1.318813382305548,
          -0.10012598881905053,
          0.46188415018899753,
          -0.04060855731254377,
          2.087349678948209,
          -0.7295423629444664,
          -1.465500164221751,
          0.7008696270372898,
          -1.7579283442082925,
          -1.7328437612335499,
          0.5294871189749688,
          1.43612734612469,
          0.04680259369241339,
          -1.3526150222323468,
          0.6582598167822007,
          -1.9950013095935213,
          0.4033083680452155,
          0.8175282263646728,
          0.07014198917232728,
          0.43828413155616214,
          0.24968000311555905,
          -0.387429824957257,
          -0.031778227882134205,
          -0.8623267915106497,
          -0.953740984431478,
          -0.05445983399194409
         ],
         "xaxis": "x9",
         "y": [
          -0.6279178473499555,
          0.34622561345445335,
          0.6075860797924031,
          0.02913262936668257,
          0.9197560845710289,
          -0.7699731478454107,
          1.262751820212759,
          0.5433569547085509,
          -0.04482419281941183,
          -1.8029330477391154,
          -0.3635930655564669,
          -0.32293359057263066,
          -1.0903441436528212,
          0.7868906023265563,
          1.8802309640937576,
          -1.1904067058610839,
          0.9208295249944821,
          -0.010545087497734865,
          -0.47535946760931175,
          -0.49259542313300664,
          0.49951299732480203,
          0.6107458107182563,
          -0.44760546551429015,
          0.7441989280214762,
          0.126282178595897,
          0.5799743994055035,
          0.8448531473533216,
          0.01721277105263823,
          0.3983984851970272,
          0.8998252618913929,
          -1.128139718568078,
          -2.4470170704696845,
          -0.7641046776489488,
          1.2088552628983082,
          -0.5064963552932986,
          -0.2368630390955342,
          -0.8377971315111741,
          1.1431791731062944,
          -0.33630594515135365,
          -0.05498773522437794,
          0.12855901062512956,
          1.2882887971043535,
          -1.1079393728923863,
          -1.1240040458096074,
          0.20613811688148714,
          0.6603564503196672,
          -0.07931323212753368,
          0.500898078337865,
          0.11881201356812975,
          -0.7348269138908055,
          -1.2170323289831457,
          0.6005777097187909,
          0.31804334040013993,
          -0.6103546895923493,
          0.3376553321693647,
          -0.6970522403401523,
          -1.395723901987532,
          -0.5724566426848541,
          0.41720725384278323,
          0.5623509112780184,
          1.8705345966014466,
          -1.2677745554240667,
          0.9249856098999654,
          0.16752698109952394,
          -0.8547190482771455,
          -0.2760246934292152,
          1.4249491140674166,
          0.461527822040228,
          0.4608526377560005,
          0.21554681297308004,
          -0.3775884115532785,
          0.5779896658643389,
          -0.13449231921950758,
          0.8034085123741144,
          -0.10994124229232537,
          -1.271901145263936,
          -0.30024887575895737,
          0.7338930349916993,
          0.5996504619148298,
          1.3857603182449478,
          -1.4056057067335495,
          0.9151144691560194,
          -0.12771332861383022,
          0.10129448760262104,
          -1.436262638647789,
          -1.0767602472155713,
          -0.2784479812254053,
          0.2896633485845398,
          0.15840710572744796,
          0.16207494875451453,
          -0.705880200771333,
          1.0282269568186841,
          -0.0662258920562984,
          -0.8766807393776468,
          0.6693348680615138,
          -0.4580944882884912,
          0.3660714458836404,
          2.1712711304260988,
          -0.6079636194188285,
          -1.6330563833064893
         ],
         "yaxis": "y9"
        },
        {
         "line": {
          "color": "rgba(128, 128, 128, 1.0)",
          "dash": "solid",
          "shape": "linear",
          "width": 1.3
         },
         "marker": {
          "size": 2,
          "symbol": "circle"
         },
         "mode": "markers",
         "name": "C",
         "text": "",
         "type": "scatter",
         "x": [
          0.3484717820327838,
          0.5039583742528283,
          -0.9990150314466602,
          0.604350440733284,
          0.16033161362756743,
          1.060326634828224,
          0.5691134915340805,
          -0.902432065184702,
          -0.0009131599102196734,
          0.09740491055972142,
          -1.4180894025378805,
          -0.1803668008622408,
          -1.7737974336650428,
          -0.6506678065802198,
          0.8841075279030496,
          -0.5049945854318697,
          0.7239937184181856,
          -1.4383931275209565,
          0.8453066301750151,
          0.34762005674502483,
          2.0400388372549223,
          -2.157315730611294,
          0.2209478364340322,
          1.802311901385443,
          3.3671102200760767,
          -1.7890851153801186,
          0.8635998111125606,
          0.04538181554622621,
          -0.8768539270570925,
          -1.1561098530930023,
          0.469769961263792,
          0.10483776806045433,
          1.1257947743633177,
          -3.1103162481128477,
          -0.3935244258767791,
          -0.07811839656271094,
          -1.0693390703646042,
          0.7577788997522897,
          0.8548256973784643,
          -0.7227486071850662,
          0.12621136521701642,
          -1.5686850089516764,
          2.3752191234886935,
          1.4117382899520032,
          -0.06966122654057275,
          -0.2222910739555117,
          0.6192503527480322,
          -0.008653601175503829,
          1.155008140394314,
          1.1213681767834516,
          0.6227605959154743,
          3.0697752847408153,
          -0.7300573613661158,
          0.13952947626816217,
          -1.9619353983439314,
          0.701911922424966,
          -0.5785472608072868,
          0.904956567921151,
          -0.9164830751388292,
          2.072689928015543,
          -1.266120789293466,
          -1.3461698573203658,
          -1.5214579615650425,
          -0.5072045185877293,
          -0.7444078207165821,
          2.104810542954587,
          -0.5768261503583167,
          2.6776643429524682,
          -2.3662353087503725,
          0.8183446525143931,
          0.7134885860563976,
          1.0906029212725172,
          -0.7230975990475973,
          0.03037479719875758,
          -0.28281776746578247,
          -2.507508618860443,
          -1.5149956387038264,
          0.2410973606292827,
          0.6497788978731519,
          -0.6259518762684783,
          0.48969228635237555,
          -0.2923666080038938,
          -0.3205481507170632,
          -0.43491892684007843,
          0.7769155155258977,
          -0.8411034149662258,
          -0.5552018807643755,
          -0.2920563678052631,
          1.7897545559348271,
          0.2610504779580989,
          -1.4069427847349,
          -1.9312946429450102,
          -0.25086161419952285,
          3.056499097584156,
          -0.1159568138865182,
          0.5182386214901665,
          -1.1810581543932195,
          0.38615617047610795,
          0.5564841086303987,
          -1.2559280625325615
         ],
         "xaxis": "x10",
         "y": [
          -0.6279178473499555,
          0.34622561345445335,
          0.6075860797924031,
          0.02913262936668257,
          0.9197560845710289,
          -0.7699731478454107,
          1.262751820212759,
          0.5433569547085509,
          -0.04482419281941183,
          -1.8029330477391154,
          -0.3635930655564669,
          -0.32293359057263066,
          -1.0903441436528212,
          0.7868906023265563,
          1.8802309640937576,
          -1.1904067058610839,
          0.9208295249944821,
          -0.010545087497734865,
          -0.47535946760931175,
          -0.49259542313300664,
          0.49951299732480203,
          0.6107458107182563,
          -0.44760546551429015,
          0.7441989280214762,
          0.126282178595897,
          0.5799743994055035,
          0.8448531473533216,
          0.01721277105263823,
          0.3983984851970272,
          0.8998252618913929,
          -1.128139718568078,
          -2.4470170704696845,
          -0.7641046776489488,
          1.2088552628983082,
          -0.5064963552932986,
          -0.2368630390955342,
          -0.8377971315111741,
          1.1431791731062944,
          -0.33630594515135365,
          -0.05498773522437794,
          0.12855901062512956,
          1.2882887971043535,
          -1.1079393728923863,
          -1.1240040458096074,
          0.20613811688148714,
          0.6603564503196672,
          -0.07931323212753368,
          0.500898078337865,
          0.11881201356812975,
          -0.7348269138908055,
          -1.2170323289831457,
          0.6005777097187909,
          0.31804334040013993,
          -0.6103546895923493,
          0.3376553321693647,
          -0.6970522403401523,
          -1.395723901987532,
          -0.5724566426848541,
          0.41720725384278323,
          0.5623509112780184,
          1.8705345966014466,
          -1.2677745554240667,
          0.9249856098999654,
          0.16752698109952394,
          -0.8547190482771455,
          -0.2760246934292152,
          1.4249491140674166,
          0.461527822040228,
          0.4608526377560005,
          0.21554681297308004,
          -0.3775884115532785,
          0.5779896658643389,
          -0.13449231921950758,
          0.8034085123741144,
          -0.10994124229232537,
          -1.271901145263936,
          -0.30024887575895737,
          0.7338930349916993,
          0.5996504619148298,
          1.3857603182449478,
          -1.4056057067335495,
          0.9151144691560194,
          -0.12771332861383022,
          0.10129448760262104,
          -1.436262638647789,
          -1.0767602472155713,
          -0.2784479812254053,
          0.2896633485845398,
          0.15840710572744796,
          0.16207494875451453,
          -0.705880200771333,
          1.0282269568186841,
          -0.0662258920562984,
          -0.8766807393776468,
          0.6693348680615138,
          -0.4580944882884912,
          0.3660714458836404,
          2.1712711304260988,
          -0.6079636194188285,
          -1.6330563833064893
         ],
         "yaxis": "y10"
        },
        {
         "histfunc": "count",
         "histnorm": "",
         "marker": {
          "color": "rgba(50, 171, 96, 1.0)",
          "line": {
           "color": "#4D5663",
           "width": 1.3
          }
         },
         "name": "C",
         "nbinsx": 10,
         "opacity": 0.8,
         "orientation": "v",
         "type": "histogram",
         "x": [
          -0.6279178473499555,
          0.34622561345445335,
          0.6075860797924031,
          0.02913262936668257,
          0.9197560845710289,
          -0.7699731478454107,
          1.262751820212759,
          0.5433569547085509,
          -0.04482419281941183,
          -1.8029330477391154,
          -0.3635930655564669,
          -0.32293359057263066,
          -1.0903441436528212,
          0.7868906023265563,
          1.8802309640937576,
          -1.1904067058610839,
          0.9208295249944821,
          -0.010545087497734865,
          -0.47535946760931175,
          -0.49259542313300664,
          0.49951299732480203,
          0.6107458107182563,
          -0.44760546551429015,
          0.7441989280214762,
          0.126282178595897,
          0.5799743994055035,
          0.8448531473533216,
          0.01721277105263823,
          0.3983984851970272,
          0.8998252618913929,
          -1.128139718568078,
          -2.4470170704696845,
          -0.7641046776489488,
          1.2088552628983082,
          -0.5064963552932986,
          -0.2368630390955342,
          -0.8377971315111741,
          1.1431791731062944,
          -0.33630594515135365,
          -0.05498773522437794,
          0.12855901062512956,
          1.2882887971043535,
          -1.1079393728923863,
          -1.1240040458096074,
          0.20613811688148714,
          0.6603564503196672,
          -0.07931323212753368,
          0.500898078337865,
          0.11881201356812975,
          -0.7348269138908055,
          -1.2170323289831457,
          0.6005777097187909,
          0.31804334040013993,
          -0.6103546895923493,
          0.3376553321693647,
          -0.6970522403401523,
          -1.395723901987532,
          -0.5724566426848541,
          0.41720725384278323,
          0.5623509112780184,
          1.8705345966014466,
          -1.2677745554240667,
          0.9249856098999654,
          0.16752698109952394,
          -0.8547190482771455,
          -0.2760246934292152,
          1.4249491140674166,
          0.461527822040228,
          0.4608526377560005,
          0.21554681297308004,
          -0.3775884115532785,
          0.5779896658643389,
          -0.13449231921950758,
          0.8034085123741144,
          -0.10994124229232537,
          -1.271901145263936,
          -0.30024887575895737,
          0.7338930349916993,
          0.5996504619148298,
          1.3857603182449478,
          -1.4056057067335495,
          0.9151144691560194,
          -0.12771332861383022,
          0.10129448760262104,
          -1.436262638647789,
          -1.0767602472155713,
          -0.2784479812254053,
          0.2896633485845398,
          0.15840710572744796,
          0.16207494875451453,
          -0.705880200771333,
          1.0282269568186841,
          -0.0662258920562984,
          -0.8766807393776468,
          0.6693348680615138,
          -0.4580944882884912,
          0.3660714458836404,
          2.1712711304260988,
          -0.6079636194188285,
          -1.6330563833064893
         ],
         "xaxis": "x11",
         "yaxis": "y11"
        },
        {
         "line": {
          "color": "rgba(128, 128, 128, 1.0)",
          "dash": "solid",
          "shape": "linear",
          "width": 1.3
         },
         "marker": {
          "size": 2,
          "symbol": "circle"
         },
         "mode": "markers",
         "name": "C",
         "text": "",
         "type": "scatter",
         "x": [
          1.9606853783266955,
          -1.0136178810359866,
          1.4910953108378,
          -0.3189171713047649,
          0.021843353198976265,
          0.4994652389137691,
          0.6025525448423065,
          -0.21935349285008657,
          -0.980921477319787,
          0.15381984638449858,
          0.25878300442220536,
          0.2699586885699263,
          -0.1873621610845983,
          0.43536025465544065,
          -1.5449545635773947,
          2.0395544786006714,
          -0.6480518257395195,
          0.808721090642994,
          -0.36719354125504494,
          -0.001025316925003803,
          0.8685637725200062,
          -0.6601768772363882,
          -0.6959594745559767,
          0.41764298027593005,
          -0.3333116698881908,
          0.5503601390374941,
          -0.28209193456661696,
          -1.1369615553160728,
          -2.2545149710465613,
          -0.7948856937950168,
          0.5275437880904109,
          0.11551200209770948,
          0.9320589237708774,
          0.42408266688622964,
          0.42268697686270573,
          0.45085952784692396,
          0.48019269833110984,
          0.34403733308482704,
          -0.5615786227070604,
          -0.2368320299715633,
          -0.43983229008381397,
          0.4055089919780472,
          -0.7031968631290005,
          1.0481306791280107,
          -0.5021248693181799,
          2.6184137554616247,
          -0.42501359786823517,
          0.10522954657932518,
          0.6134329174956021,
          1.1904947545127642,
          0.5618872339979997,
          0.34093915540513064,
          0.2854264334198376,
          -2.50992325626351,
          -0.037972860865348235,
          -0.18829670714289753,
          -2.1286085932779284,
          -1.2835300856396996,
          -0.06223488570762441,
          -0.3194064224602298,
          1.2313290995397501,
          -1.5149777816912295,
          -0.34254587282552446,
          -0.6118002590508678,
          0.9164634051413787,
          0.6416523969220308,
          0.8214296467449537,
          -1.5916357601379973,
          0.7184667905552226,
          -0.2135752689842116,
          -0.21718171400949463,
          -0.16507577784971347,
          -0.7448777745649179,
          -0.8368103625305751,
          0.6156877429083625,
          0.41167420140018496,
          -0.050175997897253875,
          0.42280045371233105,
          0.6272893420786025,
          -1.832109685866272,
          0.6069988870305376,
          -0.38886220134506994,
          1.1739274102042094,
          -1.3756508091828772,
          1.0739141347660655,
          -0.3833757608899859,
          0.7587246029321222,
          0.3821433182351493,
          -0.506829574148174,
          -3.002881245728504,
          0.004645115344238137,
          -0.3184797536289734,
          0.750134727440925,
          0.13039868795406834,
          0.8405588014809571,
          -0.3720549904327991,
          -1.3032189362566347,
          -0.8373272550808281,
          -1.1887946406131236,
          -0.1783987610128384
         ],
         "xaxis": "x12",
         "y": [
          -0.6279178473499555,
          0.34622561345445335,
          0.6075860797924031,
          0.02913262936668257,
          0.9197560845710289,
          -0.7699731478454107,
          1.262751820212759,
          0.5433569547085509,
          -0.04482419281941183,
          -1.8029330477391154,
          -0.3635930655564669,
          -0.32293359057263066,
          -1.0903441436528212,
          0.7868906023265563,
          1.8802309640937576,
          -1.1904067058610839,
          0.9208295249944821,
          -0.010545087497734865,
          -0.47535946760931175,
          -0.49259542313300664,
          0.49951299732480203,
          0.6107458107182563,
          -0.44760546551429015,
          0.7441989280214762,
          0.126282178595897,
          0.5799743994055035,
          0.8448531473533216,
          0.01721277105263823,
          0.3983984851970272,
          0.8998252618913929,
          -1.128139718568078,
          -2.4470170704696845,
          -0.7641046776489488,
          1.2088552628983082,
          -0.5064963552932986,
          -0.2368630390955342,
          -0.8377971315111741,
          1.1431791731062944,
          -0.33630594515135365,
          -0.05498773522437794,
          0.12855901062512956,
          1.2882887971043535,
          -1.1079393728923863,
          -1.1240040458096074,
          0.20613811688148714,
          0.6603564503196672,
          -0.07931323212753368,
          0.500898078337865,
          0.11881201356812975,
          -0.7348269138908055,
          -1.2170323289831457,
          0.6005777097187909,
          0.31804334040013993,
          -0.6103546895923493,
          0.3376553321693647,
          -0.6970522403401523,
          -1.395723901987532,
          -0.5724566426848541,
          0.41720725384278323,
          0.5623509112780184,
          1.8705345966014466,
          -1.2677745554240667,
          0.9249856098999654,
          0.16752698109952394,
          -0.8547190482771455,
          -0.2760246934292152,
          1.4249491140674166,
          0.461527822040228,
          0.4608526377560005,
          0.21554681297308004,
          -0.3775884115532785,
          0.5779896658643389,
          -0.13449231921950758,
          0.8034085123741144,
          -0.10994124229232537,
          -1.271901145263936,
          -0.30024887575895737,
          0.7338930349916993,
          0.5996504619148298,
          1.3857603182449478,
          -1.4056057067335495,
          0.9151144691560194,
          -0.12771332861383022,
          0.10129448760262104,
          -1.436262638647789,
          -1.0767602472155713,
          -0.2784479812254053,
          0.2896633485845398,
          0.15840710572744796,
          0.16207494875451453,
          -0.705880200771333,
          1.0282269568186841,
          -0.0662258920562984,
          -0.8766807393776468,
          0.6693348680615138,
          -0.4580944882884912,
          0.3660714458836404,
          2.1712711304260988,
          -0.6079636194188285,
          -1.6330563833064893
         ],
         "yaxis": "y12"
        },
        {
         "line": {
          "color": "rgba(128, 128, 128, 1.0)",
          "dash": "solid",
          "shape": "linear",
          "width": 1.3
         },
         "marker": {
          "size": 2,
          "symbol": "circle"
         },
         "mode": "markers",
         "name": "D",
         "text": "",
         "type": "scatter",
         "x": [
          0.5745116639033776,
          0.9785972848361238,
          -0.46469597183700806,
          0.9184812368604616,
          0.5817003574663901,
          -0.8855551147163485,
          0.09441057738706614,
          1.7836130306849607,
          0.10863026996968499,
          1.655210904475645,
          0.30667166945281715,
          -1.476029094117104,
          0.799313372611074,
          -1.182350550952549,
          -1.6214507865494476,
          -0.42659969531808345,
          -0.3185300279638153,
          -1.3113068558963037,
          0.45441541274656017,
          -0.443448868043506,
          -0.3135832451503955,
          -0.07429059560938601,
          1.8304855967609228,
          -0.0713168342931115,
          0.8847741156048016,
          0.3452923952775951,
          0.5801132528806705,
          0.7624799832899686,
          0.3322130822954626,
          -0.14242422341213887,
          0.5869469207911738,
          0.6341426054564636,
          2.6938248204297524,
          0.8375677977573818,
          -0.2802251892428954,
          -0.5670142257178402,
          -0.8146887280907159,
          -0.6668992899757032,
          2.2222815451456523,
          -0.7833069320609886,
          0.9905961044054827,
          -0.3256149670770055,
          0.7365672470102214,
          -1.0926596097491235,
          1.1139787434940185,
          -0.6114157064105485,
          -0.450868606112402,
          -0.36872430246246546,
          -0.3249512173133247,
          2.1636131958285767,
          -0.75466909629134,
          -1.288377728305726,
          0.605480241918969,
          -1.7403342621117603,
          -0.5767090901550972,
          0.9862116910360376,
          -0.07369698703587212,
          0.20182496138164546,
          -1.2045105548068864,
          -0.7002951860185551,
          -0.5703494211401896,
          -0.68009580336817,
          0.6916715289142051,
          0.27340901129917644,
          -0.29035920152335515,
          0.2852039886179615,
          0.7133312233350243,
          -0.91547252184514,
          0.28003515738276347,
          1.4923423101747046,
          -0.027191134486079134,
          1.6319337877418953,
          -1.3711337986599788,
          -0.8071766479811399,
          1.318813382305548,
          -0.10012598881905053,
          0.46188415018899753,
          -0.04060855731254377,
          2.087349678948209,
          -0.7295423629444664,
          -1.465500164221751,
          0.7008696270372898,
          -1.7579283442082925,
          -1.7328437612335499,
          0.5294871189749688,
          1.43612734612469,
          0.04680259369241339,
          -1.3526150222323468,
          0.6582598167822007,
          -1.9950013095935213,
          0.4033083680452155,
          0.8175282263646728,
          0.07014198917232728,
          0.43828413155616214,
          0.24968000311555905,
          -0.387429824957257,
          -0.031778227882134205,
          -0.8623267915106497,
          -0.953740984431478,
          -0.05445983399194409
         ],
         "xaxis": "x13",
         "y": [
          1.9606853783266955,
          -1.0136178810359866,
          1.4910953108378,
          -0.3189171713047649,
          0.021843353198976265,
          0.4994652389137691,
          0.6025525448423065,
          -0.21935349285008657,
          -0.980921477319787,
          0.15381984638449858,
          0.25878300442220536,
          0.2699586885699263,
          -0.1873621610845983,
          0.43536025465544065,
          -1.5449545635773947,
          2.0395544786006714,
          -0.6480518257395195,
          0.808721090642994,
          -0.36719354125504494,
          -0.001025316925003803,
          0.8685637725200062,
          -0.6601768772363882,
          -0.6959594745559767,
          0.41764298027593005,
          -0.3333116698881908,
          0.5503601390374941,
          -0.28209193456661696,
          -1.1369615553160728,
          -2.2545149710465613,
          -0.7948856937950168,
          0.5275437880904109,
          0.11551200209770948,
          0.9320589237708774,
          0.42408266688622964,
          0.42268697686270573,
          0.45085952784692396,
          0.48019269833110984,
          0.34403733308482704,
          -0.5615786227070604,
          -0.2368320299715633,
          -0.43983229008381397,
          0.4055089919780472,
          -0.7031968631290005,
          1.0481306791280107,
          -0.5021248693181799,
          2.6184137554616247,
          -0.42501359786823517,
          0.10522954657932518,
          0.6134329174956021,
          1.1904947545127642,
          0.5618872339979997,
          0.34093915540513064,
          0.2854264334198376,
          -2.50992325626351,
          -0.037972860865348235,
          -0.18829670714289753,
          -2.1286085932779284,
          -1.2835300856396996,
          -0.06223488570762441,
          -0.3194064224602298,
          1.2313290995397501,
          -1.5149777816912295,
          -0.34254587282552446,
          -0.6118002590508678,
          0.9164634051413787,
          0.6416523969220308,
          0.8214296467449537,
          -1.5916357601379973,
          0.7184667905552226,
          -0.2135752689842116,
          -0.21718171400949463,
          -0.16507577784971347,
          -0.7448777745649179,
          -0.8368103625305751,
          0.6156877429083625,
          0.41167420140018496,
          -0.050175997897253875,
          0.42280045371233105,
          0.6272893420786025,
          -1.832109685866272,
          0.6069988870305376,
          -0.38886220134506994,
          1.1739274102042094,
          -1.3756508091828772,
          1.0739141347660655,
          -0.3833757608899859,
          0.7587246029321222,
          0.3821433182351493,
          -0.506829574148174,
          -3.002881245728504,
          0.004645115344238137,
          -0.3184797536289734,
          0.750134727440925,
          0.13039868795406834,
          0.8405588014809571,
          -0.3720549904327991,
          -1.3032189362566347,
          -0.8373272550808281,
          -1.1887946406131236,
          -0.1783987610128384
         ],
         "yaxis": "y13"
        },
        {
         "line": {
          "color": "rgba(128, 128, 128, 1.0)",
          "dash": "solid",
          "shape": "linear",
          "width": 1.3
         },
         "marker": {
          "size": 2,
          "symbol": "circle"
         },
         "mode": "markers",
         "name": "D",
         "text": "",
         "type": "scatter",
         "x": [
          0.3484717820327838,
          0.5039583742528283,
          -0.9990150314466602,
          0.604350440733284,
          0.16033161362756743,
          1.060326634828224,
          0.5691134915340805,
          -0.902432065184702,
          -0.0009131599102196734,
          0.09740491055972142,
          -1.4180894025378805,
          -0.1803668008622408,
          -1.7737974336650428,
          -0.6506678065802198,
          0.8841075279030496,
          -0.5049945854318697,
          0.7239937184181856,
          -1.4383931275209565,
          0.8453066301750151,
          0.34762005674502483,
          2.0400388372549223,
          -2.157315730611294,
          0.2209478364340322,
          1.802311901385443,
          3.3671102200760767,
          -1.7890851153801186,
          0.8635998111125606,
          0.04538181554622621,
          -0.8768539270570925,
          -1.1561098530930023,
          0.469769961263792,
          0.10483776806045433,
          1.1257947743633177,
          -3.1103162481128477,
          -0.3935244258767791,
          -0.07811839656271094,
          -1.0693390703646042,
          0.7577788997522897,
          0.8548256973784643,
          -0.7227486071850662,
          0.12621136521701642,
          -1.5686850089516764,
          2.3752191234886935,
          1.4117382899520032,
          -0.06966122654057275,
          -0.2222910739555117,
          0.6192503527480322,
          -0.008653601175503829,
          1.155008140394314,
          1.1213681767834516,
          0.6227605959154743,
          3.0697752847408153,
          -0.7300573613661158,
          0.13952947626816217,
          -1.9619353983439314,
          0.701911922424966,
          -0.5785472608072868,
          0.904956567921151,
          -0.9164830751388292,
          2.072689928015543,
          -1.266120789293466,
          -1.3461698573203658,
          -1.5214579615650425,
          -0.5072045185877293,
          -0.7444078207165821,
          2.104810542954587,
          -0.5768261503583167,
          2.6776643429524682,
          -2.3662353087503725,
          0.8183446525143931,
          0.7134885860563976,
          1.0906029212725172,
          -0.7230975990475973,
          0.03037479719875758,
          -0.28281776746578247,
          -2.507508618860443,
          -1.5149956387038264,
          0.2410973606292827,
          0.6497788978731519,
          -0.6259518762684783,
          0.48969228635237555,
          -0.2923666080038938,
          -0.3205481507170632,
          -0.43491892684007843,
          0.7769155155258977,
          -0.8411034149662258,
          -0.5552018807643755,
          -0.2920563678052631,
          1.7897545559348271,
          0.2610504779580989,
          -1.4069427847349,
          -1.9312946429450102,
          -0.25086161419952285,
          3.056499097584156,
          -0.1159568138865182,
          0.5182386214901665,
          -1.1810581543932195,
          0.38615617047610795,
          0.5564841086303987,
          -1.2559280625325615
         ],
         "xaxis": "x14",
         "y": [
          1.9606853783266955,
          -1.0136178810359866,
          1.4910953108378,
          -0.3189171713047649,
          0.021843353198976265,
          0.4994652389137691,
          0.6025525448423065,
          -0.21935349285008657,
          -0.980921477319787,
          0.15381984638449858,
          0.25878300442220536,
          0.2699586885699263,
          -0.1873621610845983,
          0.43536025465544065,
          -1.5449545635773947,
          2.0395544786006714,
          -0.6480518257395195,
          0.808721090642994,
          -0.36719354125504494,
          -0.001025316925003803,
          0.8685637725200062,
          -0.6601768772363882,
          -0.6959594745559767,
          0.41764298027593005,
          -0.3333116698881908,
          0.5503601390374941,
          -0.28209193456661696,
          -1.1369615553160728,
          -2.2545149710465613,
          -0.7948856937950168,
          0.5275437880904109,
          0.11551200209770948,
          0.9320589237708774,
          0.42408266688622964,
          0.42268697686270573,
          0.45085952784692396,
          0.48019269833110984,
          0.34403733308482704,
          -0.5615786227070604,
          -0.2368320299715633,
          -0.43983229008381397,
          0.4055089919780472,
          -0.7031968631290005,
          1.0481306791280107,
          -0.5021248693181799,
          2.6184137554616247,
          -0.42501359786823517,
          0.10522954657932518,
          0.6134329174956021,
          1.1904947545127642,
          0.5618872339979997,
          0.34093915540513064,
          0.2854264334198376,
          -2.50992325626351,
          -0.037972860865348235,
          -0.18829670714289753,
          -2.1286085932779284,
          -1.2835300856396996,
          -0.06223488570762441,
          -0.3194064224602298,
          1.2313290995397501,
          -1.5149777816912295,
          -0.34254587282552446,
          -0.6118002590508678,
          0.9164634051413787,
          0.6416523969220308,
          0.8214296467449537,
          -1.5916357601379973,
          0.7184667905552226,
          -0.2135752689842116,
          -0.21718171400949463,
          -0.16507577784971347,
          -0.7448777745649179,
          -0.8368103625305751,
          0.6156877429083625,
          0.41167420140018496,
          -0.050175997897253875,
          0.42280045371233105,
          0.6272893420786025,
          -1.832109685866272,
          0.6069988870305376,
          -0.38886220134506994,
          1.1739274102042094,
          -1.3756508091828772,
          1.0739141347660655,
          -0.3833757608899859,
          0.7587246029321222,
          0.3821433182351493,
          -0.506829574148174,
          -3.002881245728504,
          0.004645115344238137,
          -0.3184797536289734,
          0.750134727440925,
          0.13039868795406834,
          0.8405588014809571,
          -0.3720549904327991,
          -1.3032189362566347,
          -0.8373272550808281,
          -1.1887946406131236,
          -0.1783987610128384
         ],
         "yaxis": "y14"
        },
        {
         "line": {
          "color": "rgba(128, 128, 128, 1.0)",
          "dash": "solid",
          "shape": "linear",
          "width": 1.3
         },
         "marker": {
          "size": 2,
          "symbol": "circle"
         },
         "mode": "markers",
         "name": "D",
         "text": "",
         "type": "scatter",
         "x": [
          -0.6279178473499555,
          0.34622561345445335,
          0.6075860797924031,
          0.02913262936668257,
          0.9197560845710289,
          -0.7699731478454107,
          1.262751820212759,
          0.5433569547085509,
          -0.04482419281941183,
          -1.8029330477391154,
          -0.3635930655564669,
          -0.32293359057263066,
          -1.0903441436528212,
          0.7868906023265563,
          1.8802309640937576,
          -1.1904067058610839,
          0.9208295249944821,
          -0.010545087497734865,
          -0.47535946760931175,
          -0.49259542313300664,
          0.49951299732480203,
          0.6107458107182563,
          -0.44760546551429015,
          0.7441989280214762,
          0.126282178595897,
          0.5799743994055035,
          0.8448531473533216,
          0.01721277105263823,
          0.3983984851970272,
          0.8998252618913929,
          -1.128139718568078,
          -2.4470170704696845,
          -0.7641046776489488,
          1.2088552628983082,
          -0.5064963552932986,
          -0.2368630390955342,
          -0.8377971315111741,
          1.1431791731062944,
          -0.33630594515135365,
          -0.05498773522437794,
          0.12855901062512956,
          1.2882887971043535,
          -1.1079393728923863,
          -1.1240040458096074,
          0.20613811688148714,
          0.6603564503196672,
          -0.07931323212753368,
          0.500898078337865,
          0.11881201356812975,
          -0.7348269138908055,
          -1.2170323289831457,
          0.6005777097187909,
          0.31804334040013993,
          -0.6103546895923493,
          0.3376553321693647,
          -0.6970522403401523,
          -1.395723901987532,
          -0.5724566426848541,
          0.41720725384278323,
          0.5623509112780184,
          1.8705345966014466,
          -1.2677745554240667,
          0.9249856098999654,
          0.16752698109952394,
          -0.8547190482771455,
          -0.2760246934292152,
          1.4249491140674166,
          0.461527822040228,
          0.4608526377560005,
          0.21554681297308004,
          -0.3775884115532785,
          0.5779896658643389,
          -0.13449231921950758,
          0.8034085123741144,
          -0.10994124229232537,
          -1.271901145263936,
          -0.30024887575895737,
          0.7338930349916993,
          0.5996504619148298,
          1.3857603182449478,
          -1.4056057067335495,
          0.9151144691560194,
          -0.12771332861383022,
          0.10129448760262104,
          -1.436262638647789,
          -1.0767602472155713,
          -0.2784479812254053,
          0.2896633485845398,
          0.15840710572744796,
          0.16207494875451453,
          -0.705880200771333,
          1.0282269568186841,
          -0.0662258920562984,
          -0.8766807393776468,
          0.6693348680615138,
          -0.4580944882884912,
          0.3660714458836404,
          2.1712711304260988,
          -0.6079636194188285,
          -1.6330563833064893
         ],
         "xaxis": "x15",
         "y": [
          1.9606853783266955,
          -1.0136178810359866,
          1.4910953108378,
          -0.3189171713047649,
          0.021843353198976265,
          0.4994652389137691,
          0.6025525448423065,
          -0.21935349285008657,
          -0.980921477319787,
          0.15381984638449858,
          0.25878300442220536,
          0.2699586885699263,
          -0.1873621610845983,
          0.43536025465544065,
          -1.5449545635773947,
          2.0395544786006714,
          -0.6480518257395195,
          0.808721090642994,
          -0.36719354125504494,
          -0.001025316925003803,
          0.8685637725200062,
          -0.6601768772363882,
          -0.6959594745559767,
          0.41764298027593005,
          -0.3333116698881908,
          0.5503601390374941,
          -0.28209193456661696,
          -1.1369615553160728,
          -2.2545149710465613,
          -0.7948856937950168,
          0.5275437880904109,
          0.11551200209770948,
          0.9320589237708774,
          0.42408266688622964,
          0.42268697686270573,
          0.45085952784692396,
          0.48019269833110984,
          0.34403733308482704,
          -0.5615786227070604,
          -0.2368320299715633,
          -0.43983229008381397,
          0.4055089919780472,
          -0.7031968631290005,
          1.0481306791280107,
          -0.5021248693181799,
          2.6184137554616247,
          -0.42501359786823517,
          0.10522954657932518,
          0.6134329174956021,
          1.1904947545127642,
          0.5618872339979997,
          0.34093915540513064,
          0.2854264334198376,
          -2.50992325626351,
          -0.037972860865348235,
          -0.18829670714289753,
          -2.1286085932779284,
          -1.2835300856396996,
          -0.06223488570762441,
          -0.3194064224602298,
          1.2313290995397501,
          -1.5149777816912295,
          -0.34254587282552446,
          -0.6118002590508678,
          0.9164634051413787,
          0.6416523969220308,
          0.8214296467449537,
          -1.5916357601379973,
          0.7184667905552226,
          -0.2135752689842116,
          -0.21718171400949463,
          -0.16507577784971347,
          -0.7448777745649179,
          -0.8368103625305751,
          0.6156877429083625,
          0.41167420140018496,
          -0.050175997897253875,
          0.42280045371233105,
          0.6272893420786025,
          -1.832109685866272,
          0.6069988870305376,
          -0.38886220134506994,
          1.1739274102042094,
          -1.3756508091828772,
          1.0739141347660655,
          -0.3833757608899859,
          0.7587246029321222,
          0.3821433182351493,
          -0.506829574148174,
          -3.002881245728504,
          0.004645115344238137,
          -0.3184797536289734,
          0.750134727440925,
          0.13039868795406834,
          0.8405588014809571,
          -0.3720549904327991,
          -1.3032189362566347,
          -0.8373272550808281,
          -1.1887946406131236,
          -0.1783987610128384
         ],
         "yaxis": "y15"
        },
        {
         "histfunc": "count",
         "histnorm": "",
         "marker": {
          "color": "rgba(128, 0, 128, 1.0)",
          "line": {
           "color": "#4D5663",
           "width": 1.3
          }
         },
         "name": "D",
         "nbinsx": 10,
         "opacity": 0.8,
         "orientation": "v",
         "type": "histogram",
         "x": [
          1.9606853783266955,
          -1.0136178810359866,
          1.4910953108378,
          -0.3189171713047649,
          0.021843353198976265,
          0.4994652389137691,
          0.6025525448423065,
          -0.21935349285008657,
          -0.980921477319787,
          0.15381984638449858,
          0.25878300442220536,
          0.2699586885699263,
          -0.1873621610845983,
          0.43536025465544065,
          -1.5449545635773947,
          2.0395544786006714,
          -0.6480518257395195,
          0.808721090642994,
          -0.36719354125504494,
          -0.001025316925003803,
          0.8685637725200062,
          -0.6601768772363882,
          -0.6959594745559767,
          0.41764298027593005,
          -0.3333116698881908,
          0.5503601390374941,
          -0.28209193456661696,
          -1.1369615553160728,
          -2.2545149710465613,
          -0.7948856937950168,
          0.5275437880904109,
          0.11551200209770948,
          0.9320589237708774,
          0.42408266688622964,
          0.42268697686270573,
          0.45085952784692396,
          0.48019269833110984,
          0.34403733308482704,
          -0.5615786227070604,
          -0.2368320299715633,
          -0.43983229008381397,
          0.4055089919780472,
          -0.7031968631290005,
          1.0481306791280107,
          -0.5021248693181799,
          2.6184137554616247,
          -0.42501359786823517,
          0.10522954657932518,
          0.6134329174956021,
          1.1904947545127642,
          0.5618872339979997,
          0.34093915540513064,
          0.2854264334198376,
          -2.50992325626351,
          -0.037972860865348235,
          -0.18829670714289753,
          -2.1286085932779284,
          -1.2835300856396996,
          -0.06223488570762441,
          -0.3194064224602298,
          1.2313290995397501,
          -1.5149777816912295,
          -0.34254587282552446,
          -0.6118002590508678,
          0.9164634051413787,
          0.6416523969220308,
          0.8214296467449537,
          -1.5916357601379973,
          0.7184667905552226,
          -0.2135752689842116,
          -0.21718171400949463,
          -0.16507577784971347,
          -0.7448777745649179,
          -0.8368103625305751,
          0.6156877429083625,
          0.41167420140018496,
          -0.050175997897253875,
          0.42280045371233105,
          0.6272893420786025,
          -1.832109685866272,
          0.6069988870305376,
          -0.38886220134506994,
          1.1739274102042094,
          -1.3756508091828772,
          1.0739141347660655,
          -0.3833757608899859,
          0.7587246029321222,
          0.3821433182351493,
          -0.506829574148174,
          -3.002881245728504,
          0.004645115344238137,
          -0.3184797536289734,
          0.750134727440925,
          0.13039868795406834,
          0.8405588014809571,
          -0.3720549904327991,
          -1.3032189362566347,
          -0.8373272550808281,
          -1.1887946406131236,
          -0.1783987610128384
         ],
         "xaxis": "x16",
         "yaxis": "y16"
        }
       ],
       "layout": {
        "bargap": 0.02,
        "legend": {
         "bgcolor": "#F5F6F9",
         "font": {
          "color": "#4D5663"
         }
        },
        "paper_bgcolor": "#F5F6F9",
        "plot_bgcolor": "#F5F6F9",
        "showlegend": false,
        "template": {
         "data": {
          "bar": [
           {
            "error_x": {
             "color": "#2a3f5f"
            },
            "error_y": {
             "color": "#2a3f5f"
            },
            "marker": {
             "line": {
              "color": "#E5ECF6",
              "width": 0.5
             },
             "pattern": {
              "fillmode": "overlay",
              "size": 10,
              "solidity": 0.2
             }
            },
            "type": "bar"
           }
          ],
          "barpolar": [
           {
            "marker": {
             "line": {
              "color": "#E5ECF6",
              "width": 0.5
             },
             "pattern": {
              "fillmode": "overlay",
              "size": 10,
              "solidity": 0.2
             }
            },
            "type": "barpolar"
           }
          ],
          "carpet": [
           {
            "aaxis": {
             "endlinecolor": "#2a3f5f",
             "gridcolor": "white",
             "linecolor": "white",
             "minorgridcolor": "white",
             "startlinecolor": "#2a3f5f"
            },
            "baxis": {
             "endlinecolor": "#2a3f5f",
             "gridcolor": "white",
             "linecolor": "white",
             "minorgridcolor": "white",
             "startlinecolor": "#2a3f5f"
            },
            "type": "carpet"
           }
          ],
          "choropleth": [
           {
            "colorbar": {
             "outlinewidth": 0,
             "ticks": ""
            },
            "type": "choropleth"
           }
          ],
          "contour": [
           {
            "colorbar": {
             "outlinewidth": 0,
             "ticks": ""
            },
            "colorscale": [
             [
              0,
              "#0d0887"
             ],
             [
              0.1111111111111111,
              "#46039f"
             ],
             [
              0.2222222222222222,
              "#7201a8"
             ],
             [
              0.3333333333333333,
              "#9c179e"
             ],
             [
              0.4444444444444444,
              "#bd3786"
             ],
             [
              0.5555555555555556,
              "#d8576b"
             ],
             [
              0.6666666666666666,
              "#ed7953"
             ],
             [
              0.7777777777777778,
              "#fb9f3a"
             ],
             [
              0.8888888888888888,
              "#fdca26"
             ],
             [
              1,
              "#f0f921"
             ]
            ],
            "type": "contour"
           }
          ],
          "contourcarpet": [
           {
            "colorbar": {
             "outlinewidth": 0,
             "ticks": ""
            },
            "type": "contourcarpet"
           }
          ],
          "heatmap": [
           {
            "colorbar": {
             "outlinewidth": 0,
             "ticks": ""
            },
            "colorscale": [
             [
              0,
              "#0d0887"
             ],
             [
              0.1111111111111111,
              "#46039f"
             ],
             [
              0.2222222222222222,
              "#7201a8"
             ],
             [
              0.3333333333333333,
              "#9c179e"
             ],
             [
              0.4444444444444444,
              "#bd3786"
             ],
             [
              0.5555555555555556,
              "#d8576b"
             ],
             [
              0.6666666666666666,
              "#ed7953"
             ],
             [
              0.7777777777777778,
              "#fb9f3a"
             ],
             [
              0.8888888888888888,
              "#fdca26"
             ],
             [
              1,
              "#f0f921"
             ]
            ],
            "type": "heatmap"
           }
          ],
          "heatmapgl": [
           {
            "colorbar": {
             "outlinewidth": 0,
             "ticks": ""
            },
            "colorscale": [
             [
              0,
              "#0d0887"
             ],
             [
              0.1111111111111111,
              "#46039f"
             ],
             [
              0.2222222222222222,
              "#7201a8"
             ],
             [
              0.3333333333333333,
              "#9c179e"
             ],
             [
              0.4444444444444444,
              "#bd3786"
             ],
             [
              0.5555555555555556,
              "#d8576b"
             ],
             [
              0.6666666666666666,
              "#ed7953"
             ],
             [
              0.7777777777777778,
              "#fb9f3a"
             ],
             [
              0.8888888888888888,
              "#fdca26"
             ],
             [
              1,
              "#f0f921"
             ]
            ],
            "type": "heatmapgl"
           }
          ],
          "histogram": [
           {
            "marker": {
             "pattern": {
              "fillmode": "overlay",
              "size": 10,
              "solidity": 0.2
             }
            },
            "type": "histogram"
           }
          ],
          "histogram2d": [
           {
            "colorbar": {
             "outlinewidth": 0,
             "ticks": ""
            },
            "colorscale": [
             [
              0,
              "#0d0887"
             ],
             [
              0.1111111111111111,
              "#46039f"
             ],
             [
              0.2222222222222222,
              "#7201a8"
             ],
             [
              0.3333333333333333,
              "#9c179e"
             ],
             [
              0.4444444444444444,
              "#bd3786"
             ],
             [
              0.5555555555555556,
              "#d8576b"
             ],
             [
              0.6666666666666666,
              "#ed7953"
             ],
             [
              0.7777777777777778,
              "#fb9f3a"
             ],
             [
              0.8888888888888888,
              "#fdca26"
             ],
             [
              1,
              "#f0f921"
             ]
            ],
            "type": "histogram2d"
           }
          ],
          "histogram2dcontour": [
           {
            "colorbar": {
             "outlinewidth": 0,
             "ticks": ""
            },
            "colorscale": [
             [
              0,
              "#0d0887"
             ],
             [
              0.1111111111111111,
              "#46039f"
             ],
             [
              0.2222222222222222,
              "#7201a8"
             ],
             [
              0.3333333333333333,
              "#9c179e"
             ],
             [
              0.4444444444444444,
              "#bd3786"
             ],
             [
              0.5555555555555556,
              "#d8576b"
             ],
             [
              0.6666666666666666,
              "#ed7953"
             ],
             [
              0.7777777777777778,
              "#fb9f3a"
             ],
             [
              0.8888888888888888,
              "#fdca26"
             ],
             [
              1,
              "#f0f921"
             ]
            ],
            "type": "histogram2dcontour"
           }
          ],
          "mesh3d": [
           {
            "colorbar": {
             "outlinewidth": 0,
             "ticks": ""
            },
            "type": "mesh3d"
           }
          ],
          "parcoords": [
           {
            "line": {
             "colorbar": {
              "outlinewidth": 0,
              "ticks": ""
             }
            },
            "type": "parcoords"
           }
          ],
          "pie": [
           {
            "automargin": true,
            "type": "pie"
           }
          ],
          "scatter": [
           {
            "marker": {
             "colorbar": {
              "outlinewidth": 0,
              "ticks": ""
             }
            },
            "type": "scatter"
           }
          ],
          "scatter3d": [
           {
            "line": {
             "colorbar": {
              "outlinewidth": 0,
              "ticks": ""
             }
            },
            "marker": {
             "colorbar": {
              "outlinewidth": 0,
              "ticks": ""
             }
            },
            "type": "scatter3d"
           }
          ],
          "scattercarpet": [
           {
            "marker": {
             "colorbar": {
              "outlinewidth": 0,
              "ticks": ""
             }
            },
            "type": "scattercarpet"
           }
          ],
          "scattergeo": [
           {
            "marker": {
             "colorbar": {
              "outlinewidth": 0,
              "ticks": ""
             }
            },
            "type": "scattergeo"
           }
          ],
          "scattergl": [
           {
            "marker": {
             "colorbar": {
              "outlinewidth": 0,
              "ticks": ""
             }
            },
            "type": "scattergl"
           }
          ],
          "scattermapbox": [
           {
            "marker": {
             "colorbar": {
              "outlinewidth": 0,
              "ticks": ""
             }
            },
            "type": "scattermapbox"
           }
          ],
          "scatterpolar": [
           {
            "marker": {
             "colorbar": {
              "outlinewidth": 0,
              "ticks": ""
             }
            },
            "type": "scatterpolar"
           }
          ],
          "scatterpolargl": [
           {
            "marker": {
             "colorbar": {
              "outlinewidth": 0,
              "ticks": ""
             }
            },
            "type": "scatterpolargl"
           }
          ],
          "scatterternary": [
           {
            "marker": {
             "colorbar": {
              "outlinewidth": 0,
              "ticks": ""
             }
            },
            "type": "scatterternary"
           }
          ],
          "surface": [
           {
            "colorbar": {
             "outlinewidth": 0,
             "ticks": ""
            },
            "colorscale": [
             [
              0,
              "#0d0887"
             ],
             [
              0.1111111111111111,
              "#46039f"
             ],
             [
              0.2222222222222222,
              "#7201a8"
             ],
             [
              0.3333333333333333,
              "#9c179e"
             ],
             [
              0.4444444444444444,
              "#bd3786"
             ],
             [
              0.5555555555555556,
              "#d8576b"
             ],
             [
              0.6666666666666666,
              "#ed7953"
             ],
             [
              0.7777777777777778,
              "#fb9f3a"
             ],
             [
              0.8888888888888888,
              "#fdca26"
             ],
             [
              1,
              "#f0f921"
             ]
            ],
            "type": "surface"
           }
          ],
          "table": [
           {
            "cells": {
             "fill": {
              "color": "#EBF0F8"
             },
             "line": {
              "color": "white"
             }
            },
            "header": {
             "fill": {
              "color": "#C8D4E3"
             },
             "line": {
              "color": "white"
             }
            },
            "type": "table"
           }
          ]
         },
         "layout": {
          "annotationdefaults": {
           "arrowcolor": "#2a3f5f",
           "arrowhead": 0,
           "arrowwidth": 1
          },
          "autotypenumbers": "strict",
          "coloraxis": {
           "colorbar": {
            "outlinewidth": 0,
            "ticks": ""
           }
          },
          "colorscale": {
           "diverging": [
            [
             0,
             "#8e0152"
            ],
            [
             0.1,
             "#c51b7d"
            ],
            [
             0.2,
             "#de77ae"
            ],
            [
             0.3,
             "#f1b6da"
            ],
            [
             0.4,
             "#fde0ef"
            ],
            [
             0.5,
             "#f7f7f7"
            ],
            [
             0.6,
             "#e6f5d0"
            ],
            [
             0.7,
             "#b8e186"
            ],
            [
             0.8,
             "#7fbc41"
            ],
            [
             0.9,
             "#4d9221"
            ],
            [
             1,
             "#276419"
            ]
           ],
           "sequential": [
            [
             0,
             "#0d0887"
            ],
            [
             0.1111111111111111,
             "#46039f"
            ],
            [
             0.2222222222222222,
             "#7201a8"
            ],
            [
             0.3333333333333333,
             "#9c179e"
            ],
            [
             0.4444444444444444,
             "#bd3786"
            ],
            [
             0.5555555555555556,
             "#d8576b"
            ],
            [
             0.6666666666666666,
             "#ed7953"
            ],
            [
             0.7777777777777778,
             "#fb9f3a"
            ],
            [
             0.8888888888888888,
             "#fdca26"
            ],
            [
             1,
             "#f0f921"
            ]
           ],
           "sequentialminus": [
            [
             0,
             "#0d0887"
            ],
            [
             0.1111111111111111,
             "#46039f"
            ],
            [
             0.2222222222222222,
             "#7201a8"
            ],
            [
             0.3333333333333333,
             "#9c179e"
            ],
            [
             0.4444444444444444,
             "#bd3786"
            ],
            [
             0.5555555555555556,
             "#d8576b"
            ],
            [
             0.6666666666666666,
             "#ed7953"
            ],
            [
             0.7777777777777778,
             "#fb9f3a"
            ],
            [
             0.8888888888888888,
             "#fdca26"
            ],
            [
             1,
             "#f0f921"
            ]
           ]
          },
          "colorway": [
           "#636efa",
           "#EF553B",
           "#00cc96",
           "#ab63fa",
           "#FFA15A",
           "#19d3f3",
           "#FF6692",
           "#B6E880",
           "#FF97FF",
           "#FECB52"
          ],
          "font": {
           "color": "#2a3f5f"
          },
          "geo": {
           "bgcolor": "white",
           "lakecolor": "white",
           "landcolor": "#E5ECF6",
           "showlakes": true,
           "showland": true,
           "subunitcolor": "white"
          },
          "hoverlabel": {
           "align": "left"
          },
          "hovermode": "closest",
          "mapbox": {
           "style": "light"
          },
          "paper_bgcolor": "white",
          "plot_bgcolor": "#E5ECF6",
          "polar": {
           "angularaxis": {
            "gridcolor": "white",
            "linecolor": "white",
            "ticks": ""
           },
           "bgcolor": "#E5ECF6",
           "radialaxis": {
            "gridcolor": "white",
            "linecolor": "white",
            "ticks": ""
           }
          },
          "scene": {
           "xaxis": {
            "backgroundcolor": "#E5ECF6",
            "gridcolor": "white",
            "gridwidth": 2,
            "linecolor": "white",
            "showbackground": true,
            "ticks": "",
            "zerolinecolor": "white"
           },
           "yaxis": {
            "backgroundcolor": "#E5ECF6",
            "gridcolor": "white",
            "gridwidth": 2,
            "linecolor": "white",
            "showbackground": true,
            "ticks": "",
            "zerolinecolor": "white"
           },
           "zaxis": {
            "backgroundcolor": "#E5ECF6",
            "gridcolor": "white",
            "gridwidth": 2,
            "linecolor": "white",
            "showbackground": true,
            "ticks": "",
            "zerolinecolor": "white"
           }
          },
          "shapedefaults": {
           "line": {
            "color": "#2a3f5f"
           }
          },
          "ternary": {
           "aaxis": {
            "gridcolor": "white",
            "linecolor": "white",
            "ticks": ""
           },
           "baxis": {
            "gridcolor": "white",
            "linecolor": "white",
            "ticks": ""
           },
           "bgcolor": "#E5ECF6",
           "caxis": {
            "gridcolor": "white",
            "linecolor": "white",
            "ticks": ""
           }
          },
          "title": {
           "x": 0.05
          },
          "xaxis": {
           "automargin": true,
           "gridcolor": "white",
           "linecolor": "white",
           "ticks": "",
           "title": {
            "standoff": 15
           },
           "zerolinecolor": "white",
           "zerolinewidth": 2
          },
          "yaxis": {
           "automargin": true,
           "gridcolor": "white",
           "linecolor": "white",
           "ticks": "",
           "title": {
            "standoff": 15
           },
           "zerolinecolor": "white",
           "zerolinewidth": 2
          }
         }
        },
        "title": {
         "font": {
          "color": "#4D5663"
         }
        },
        "xaxis": {
         "anchor": "y",
         "domain": [
          0,
          0.2125
         ],
         "gridcolor": "#E1E5ED",
         "showgrid": false,
         "tickfont": {
          "color": "#4D5663"
         },
         "title": {
          "font": {
           "color": "#4D5663"
          },
          "text": ""
         },
         "zerolinecolor": "#E1E5ED"
        },
        "xaxis10": {
         "anchor": "y10",
         "domain": [
          0.2625,
          0.475
         ],
         "gridcolor": "#E1E5ED",
         "showgrid": false,
         "tickfont": {
          "color": "#4D5663"
         },
         "title": {
          "font": {
           "color": "#4D5663"
          },
          "text": ""
         },
         "zerolinecolor": "#E1E5ED"
        },
        "xaxis11": {
         "anchor": "y11",
         "domain": [
          0.525,
          0.7375
         ],
         "gridcolor": "#E1E5ED",
         "showgrid": false,
         "tickfont": {
          "color": "#4D5663"
         },
         "title": {
          "font": {
           "color": "#4D5663"
          },
          "text": ""
         },
         "zerolinecolor": "#E1E5ED"
        },
        "xaxis12": {
         "anchor": "y12",
         "domain": [
          0.7875,
          1
         ],
         "gridcolor": "#E1E5ED",
         "showgrid": false,
         "tickfont": {
          "color": "#4D5663"
         },
         "title": {
          "font": {
           "color": "#4D5663"
          },
          "text": ""
         },
         "zerolinecolor": "#E1E5ED"
        },
        "xaxis13": {
         "anchor": "y13",
         "domain": [
          0,
          0.2125
         ],
         "gridcolor": "#E1E5ED",
         "showgrid": false,
         "tickfont": {
          "color": "#4D5663"
         },
         "title": {
          "font": {
           "color": "#4D5663"
          },
          "text": ""
         },
         "zerolinecolor": "#E1E5ED"
        },
        "xaxis14": {
         "anchor": "y14",
         "domain": [
          0.2625,
          0.475
         ],
         "gridcolor": "#E1E5ED",
         "showgrid": false,
         "tickfont": {
          "color": "#4D5663"
         },
         "title": {
          "font": {
           "color": "#4D5663"
          },
          "text": ""
         },
         "zerolinecolor": "#E1E5ED"
        },
        "xaxis15": {
         "anchor": "y15",
         "domain": [
          0.525,
          0.7375
         ],
         "gridcolor": "#E1E5ED",
         "showgrid": false,
         "tickfont": {
          "color": "#4D5663"
         },
         "title": {
          "font": {
           "color": "#4D5663"
          },
          "text": ""
         },
         "zerolinecolor": "#E1E5ED"
        },
        "xaxis16": {
         "anchor": "y16",
         "domain": [
          0.7875,
          1
         ],
         "gridcolor": "#E1E5ED",
         "showgrid": false,
         "tickfont": {
          "color": "#4D5663"
         },
         "title": {
          "font": {
           "color": "#4D5663"
          },
          "text": ""
         },
         "zerolinecolor": "#E1E5ED"
        },
        "xaxis2": {
         "anchor": "y2",
         "domain": [
          0.2625,
          0.475
         ],
         "gridcolor": "#E1E5ED",
         "showgrid": false,
         "tickfont": {
          "color": "#4D5663"
         },
         "title": {
          "font": {
           "color": "#4D5663"
          },
          "text": ""
         },
         "zerolinecolor": "#E1E5ED"
        },
        "xaxis3": {
         "anchor": "y3",
         "domain": [
          0.525,
          0.7375
         ],
         "gridcolor": "#E1E5ED",
         "showgrid": false,
         "tickfont": {
          "color": "#4D5663"
         },
         "title": {
          "font": {
           "color": "#4D5663"
          },
          "text": ""
         },
         "zerolinecolor": "#E1E5ED"
        },
        "xaxis4": {
         "anchor": "y4",
         "domain": [
          0.7875,
          1
         ],
         "gridcolor": "#E1E5ED",
         "showgrid": false,
         "tickfont": {
          "color": "#4D5663"
         },
         "title": {
          "font": {
           "color": "#4D5663"
          },
          "text": ""
         },
         "zerolinecolor": "#E1E5ED"
        },
        "xaxis5": {
         "anchor": "y5",
         "domain": [
          0,
          0.2125
         ],
         "gridcolor": "#E1E5ED",
         "showgrid": false,
         "tickfont": {
          "color": "#4D5663"
         },
         "title": {
          "font": {
           "color": "#4D5663"
          },
          "text": ""
         },
         "zerolinecolor": "#E1E5ED"
        },
        "xaxis6": {
         "anchor": "y6",
         "domain": [
          0.2625,
          0.475
         ],
         "gridcolor": "#E1E5ED",
         "showgrid": false,
         "tickfont": {
          "color": "#4D5663"
         },
         "title": {
          "font": {
           "color": "#4D5663"
          },
          "text": ""
         },
         "zerolinecolor": "#E1E5ED"
        },
        "xaxis7": {
         "anchor": "y7",
         "domain": [
          0.525,
          0.7375
         ],
         "gridcolor": "#E1E5ED",
         "showgrid": false,
         "tickfont": {
          "color": "#4D5663"
         },
         "title": {
          "font": {
           "color": "#4D5663"
          },
          "text": ""
         },
         "zerolinecolor": "#E1E5ED"
        },
        "xaxis8": {
         "anchor": "y8",
         "domain": [
          0.7875,
          1
         ],
         "gridcolor": "#E1E5ED",
         "showgrid": false,
         "tickfont": {
          "color": "#4D5663"
         },
         "title": {
          "font": {
           "color": "#4D5663"
          },
          "text": ""
         },
         "zerolinecolor": "#E1E5ED"
        },
        "xaxis9": {
         "anchor": "y9",
         "domain": [
          0,
          0.2125
         ],
         "gridcolor": "#E1E5ED",
         "showgrid": false,
         "tickfont": {
          "color": "#4D5663"
         },
         "title": {
          "font": {
           "color": "#4D5663"
          },
          "text": ""
         },
         "zerolinecolor": "#E1E5ED"
        },
        "yaxis": {
         "anchor": "x",
         "domain": [
          0.8025,
          1
         ],
         "gridcolor": "#E1E5ED",
         "showgrid": false,
         "tickfont": {
          "color": "#4D5663"
         },
         "title": {
          "font": {
           "color": "#4D5663"
          },
          "text": ""
         },
         "zerolinecolor": "#E1E5ED"
        },
        "yaxis10": {
         "anchor": "x10",
         "domain": [
          0.2675,
          0.465
         ],
         "gridcolor": "#E1E5ED",
         "showgrid": false,
         "tickfont": {
          "color": "#4D5663"
         },
         "title": {
          "font": {
           "color": "#4D5663"
          },
          "text": ""
         },
         "zerolinecolor": "#E1E5ED"
        },
        "yaxis11": {
         "anchor": "x11",
         "domain": [
          0.2675,
          0.465
         ],
         "gridcolor": "#E1E5ED",
         "showgrid": false,
         "tickfont": {
          "color": "#4D5663"
         },
         "title": {
          "font": {
           "color": "#4D5663"
          },
          "text": ""
         },
         "zerolinecolor": "#E1E5ED"
        },
        "yaxis12": {
         "anchor": "x12",
         "domain": [
          0.2675,
          0.465
         ],
         "gridcolor": "#E1E5ED",
         "showgrid": false,
         "tickfont": {
          "color": "#4D5663"
         },
         "title": {
          "font": {
           "color": "#4D5663"
          },
          "text": ""
         },
         "zerolinecolor": "#E1E5ED"
        },
        "yaxis13": {
         "anchor": "x13",
         "domain": [
          0,
          0.1975
         ],
         "gridcolor": "#E1E5ED",
         "showgrid": false,
         "tickfont": {
          "color": "#4D5663"
         },
         "title": {
          "font": {
           "color": "#4D5663"
          },
          "text": ""
         },
         "zerolinecolor": "#E1E5ED"
        },
        "yaxis14": {
         "anchor": "x14",
         "domain": [
          0,
          0.1975
         ],
         "gridcolor": "#E1E5ED",
         "showgrid": false,
         "tickfont": {
          "color": "#4D5663"
         },
         "title": {
          "font": {
           "color": "#4D5663"
          },
          "text": ""
         },
         "zerolinecolor": "#E1E5ED"
        },
        "yaxis15": {
         "anchor": "x15",
         "domain": [
          0,
          0.1975
         ],
         "gridcolor": "#E1E5ED",
         "showgrid": false,
         "tickfont": {
          "color": "#4D5663"
         },
         "title": {
          "font": {
           "color": "#4D5663"
          },
          "text": ""
         },
         "zerolinecolor": "#E1E5ED"
        },
        "yaxis16": {
         "anchor": "x16",
         "domain": [
          0,
          0.1975
         ],
         "gridcolor": "#E1E5ED",
         "showgrid": false,
         "tickfont": {
          "color": "#4D5663"
         },
         "title": {
          "font": {
           "color": "#4D5663"
          },
          "text": ""
         },
         "zerolinecolor": "#E1E5ED"
        },
        "yaxis2": {
         "anchor": "x2",
         "domain": [
          0.8025,
          1
         ],
         "gridcolor": "#E1E5ED",
         "showgrid": false,
         "tickfont": {
          "color": "#4D5663"
         },
         "title": {
          "font": {
           "color": "#4D5663"
          },
          "text": ""
         },
         "zerolinecolor": "#E1E5ED"
        },
        "yaxis3": {
         "anchor": "x3",
         "domain": [
          0.8025,
          1
         ],
         "gridcolor": "#E1E5ED",
         "showgrid": false,
         "tickfont": {
          "color": "#4D5663"
         },
         "title": {
          "font": {
           "color": "#4D5663"
          },
          "text": ""
         },
         "zerolinecolor": "#E1E5ED"
        },
        "yaxis4": {
         "anchor": "x4",
         "domain": [
          0.8025,
          1
         ],
         "gridcolor": "#E1E5ED",
         "showgrid": false,
         "tickfont": {
          "color": "#4D5663"
         },
         "title": {
          "font": {
           "color": "#4D5663"
          },
          "text": ""
         },
         "zerolinecolor": "#E1E5ED"
        },
        "yaxis5": {
         "anchor": "x5",
         "domain": [
          0.535,
          0.7325
         ],
         "gridcolor": "#E1E5ED",
         "showgrid": false,
         "tickfont": {
          "color": "#4D5663"
         },
         "title": {
          "font": {
           "color": "#4D5663"
          },
          "text": ""
         },
         "zerolinecolor": "#E1E5ED"
        },
        "yaxis6": {
         "anchor": "x6",
         "domain": [
          0.535,
          0.7325
         ],
         "gridcolor": "#E1E5ED",
         "showgrid": false,
         "tickfont": {
          "color": "#4D5663"
         },
         "title": {
          "font": {
           "color": "#4D5663"
          },
          "text": ""
         },
         "zerolinecolor": "#E1E5ED"
        },
        "yaxis7": {
         "anchor": "x7",
         "domain": [
          0.535,
          0.7325
         ],
         "gridcolor": "#E1E5ED",
         "showgrid": false,
         "tickfont": {
          "color": "#4D5663"
         },
         "title": {
          "font": {
           "color": "#4D5663"
          },
          "text": ""
         },
         "zerolinecolor": "#E1E5ED"
        },
        "yaxis8": {
         "anchor": "x8",
         "domain": [
          0.535,
          0.7325
         ],
         "gridcolor": "#E1E5ED",
         "showgrid": false,
         "tickfont": {
          "color": "#4D5663"
         },
         "title": {
          "font": {
           "color": "#4D5663"
          },
          "text": ""
         },
         "zerolinecolor": "#E1E5ED"
        },
        "yaxis9": {
         "anchor": "x9",
         "domain": [
          0.2675,
          0.465
         ],
         "gridcolor": "#E1E5ED",
         "showgrid": false,
         "tickfont": {
          "color": "#4D5663"
         },
         "title": {
          "font": {
           "color": "#4D5663"
          },
          "text": ""
         },
         "zerolinecolor": "#E1E5ED"
        }
       }
      },
      "text/html": [
       "<div>                            <div id=\"a37184ed-420f-49aa-aa30-6ed22489139b\" class=\"plotly-graph-div\" style=\"height:525px; width:100%;\"></div>            <script type=\"text/javascript\">                require([\"plotly\"], function(Plotly) {                    window.PLOTLYENV=window.PLOTLYENV || {};\n",
       "                    window.PLOTLYENV.BASE_URL='https://plot.ly';                                    if (document.getElementById(\"a37184ed-420f-49aa-aa30-6ed22489139b\")) {                    Plotly.newPlot(                        \"a37184ed-420f-49aa-aa30-6ed22489139b\",                        [{\"histfunc\":\"count\",\"histnorm\":\"\",\"marker\":{\"color\":\"rgba(255, 153, 51, 1.0)\",\"line\":{\"color\":\"#4D5663\",\"width\":1.3}},\"name\":\"A\",\"nbinsx\":10,\"opacity\":0.8,\"orientation\":\"v\",\"x\":[0.5745116639033776,0.9785972848361238,-0.46469597183700806,0.9184812368604616,0.5817003574663901,-0.8855551147163485,0.09441057738706614,1.7836130306849607,0.10863026996968499,1.655210904475645,0.30667166945281715,-1.476029094117104,0.799313372611074,-1.182350550952549,-1.6214507865494476,-0.42659969531808345,-0.3185300279638153,-1.3113068558963037,0.45441541274656017,-0.443448868043506,-0.3135832451503955,-0.07429059560938601,1.8304855967609228,-0.0713168342931115,0.8847741156048016,0.3452923952775951,0.5801132528806705,0.7624799832899686,0.3322130822954626,-0.14242422341213887,0.5869469207911738,0.6341426054564636,2.6938248204297524,0.8375677977573818,-0.2802251892428954,-0.5670142257178402,-0.8146887280907159,-0.6668992899757032,2.2222815451456523,-0.7833069320609886,0.9905961044054827,-0.3256149670770055,0.7365672470102214,-1.0926596097491235,1.1139787434940185,-0.6114157064105485,-0.450868606112402,-0.36872430246246546,-0.3249512173133247,2.1636131958285767,-0.75466909629134,-1.288377728305726,0.605480241918969,-1.7403342621117603,-0.5767090901550972,0.9862116910360376,-0.07369698703587212,0.20182496138164546,-1.2045105548068864,-0.7002951860185551,-0.5703494211401896,-0.68009580336817,0.6916715289142051,0.27340901129917644,-0.29035920152335515,0.2852039886179615,0.7133312233350243,-0.91547252184514,0.28003515738276347,1.4923423101747046,-0.027191134486079134,1.6319337877418953,-1.3711337986599788,-0.8071766479811399,1.318813382305548,-0.10012598881905053,0.46188415018899753,-0.04060855731254377,2.087349678948209,-0.7295423629444664,-1.465500164221751,0.7008696270372898,-1.7579283442082925,-1.7328437612335499,0.5294871189749688,1.43612734612469,0.04680259369241339,-1.3526150222323468,0.6582598167822007,-1.9950013095935213,0.4033083680452155,0.8175282263646728,0.07014198917232728,0.43828413155616214,0.24968000311555905,-0.387429824957257,-0.031778227882134205,-0.8623267915106497,-0.953740984431478,-0.05445983399194409],\"xaxis\":\"x\",\"yaxis\":\"y\",\"type\":\"histogram\"},{\"line\":{\"color\":\"rgba(128, 128, 128, 1.0)\",\"dash\":\"solid\",\"shape\":\"linear\",\"width\":1.3},\"marker\":{\"size\":2,\"symbol\":\"circle\"},\"mode\":\"markers\",\"name\":\"A\",\"text\":\"\",\"x\":[0.3484717820327838,0.5039583742528283,-0.9990150314466602,0.604350440733284,0.16033161362756743,1.060326634828224,0.5691134915340805,-0.902432065184702,-0.0009131599102196734,0.09740491055972142,-1.4180894025378805,-0.1803668008622408,-1.7737974336650428,-0.6506678065802198,0.8841075279030496,-0.5049945854318697,0.7239937184181856,-1.4383931275209565,0.8453066301750151,0.34762005674502483,2.0400388372549223,-2.157315730611294,0.2209478364340322,1.802311901385443,3.3671102200760767,-1.7890851153801186,0.8635998111125606,0.04538181554622621,-0.8768539270570925,-1.1561098530930023,0.469769961263792,0.10483776806045433,1.1257947743633177,-3.1103162481128477,-0.3935244258767791,-0.07811839656271094,-1.0693390703646042,0.7577788997522897,0.8548256973784643,-0.7227486071850662,0.12621136521701642,-1.5686850089516764,2.3752191234886935,1.4117382899520032,-0.06966122654057275,-0.2222910739555117,0.6192503527480322,-0.008653601175503829,1.155008140394314,1.1213681767834516,0.6227605959154743,3.0697752847408153,-0.7300573613661158,0.13952947626816217,-1.9619353983439314,0.701911922424966,-0.5785472608072868,0.904956567921151,-0.9164830751388292,2.072689928015543,-1.266120789293466,-1.3461698573203658,-1.5214579615650425,-0.5072045185877293,-0.7444078207165821,2.104810542954587,-0.5768261503583167,2.6776643429524682,-2.3662353087503725,0.8183446525143931,0.7134885860563976,1.0906029212725172,-0.7230975990475973,0.03037479719875758,-0.28281776746578247,-2.507508618860443,-1.5149956387038264,0.2410973606292827,0.6497788978731519,-0.6259518762684783,0.48969228635237555,-0.2923666080038938,-0.3205481507170632,-0.43491892684007843,0.7769155155258977,-0.8411034149662258,-0.5552018807643755,-0.2920563678052631,1.7897545559348271,0.2610504779580989,-1.4069427847349,-1.9312946429450102,-0.25086161419952285,3.056499097584156,-0.1159568138865182,0.5182386214901665,-1.1810581543932195,0.38615617047610795,0.5564841086303987,-1.2559280625325615],\"xaxis\":\"x2\",\"y\":[0.5745116639033776,0.9785972848361238,-0.46469597183700806,0.9184812368604616,0.5817003574663901,-0.8855551147163485,0.09441057738706614,1.7836130306849607,0.10863026996968499,1.655210904475645,0.30667166945281715,-1.476029094117104,0.799313372611074,-1.182350550952549,-1.6214507865494476,-0.42659969531808345,-0.3185300279638153,-1.3113068558963037,0.45441541274656017,-0.443448868043506,-0.3135832451503955,-0.07429059560938601,1.8304855967609228,-0.0713168342931115,0.8847741156048016,0.3452923952775951,0.5801132528806705,0.7624799832899686,0.3322130822954626,-0.14242422341213887,0.5869469207911738,0.6341426054564636,2.6938248204297524,0.8375677977573818,-0.2802251892428954,-0.5670142257178402,-0.8146887280907159,-0.6668992899757032,2.2222815451456523,-0.7833069320609886,0.9905961044054827,-0.3256149670770055,0.7365672470102214,-1.0926596097491235,1.1139787434940185,-0.6114157064105485,-0.450868606112402,-0.36872430246246546,-0.3249512173133247,2.1636131958285767,-0.75466909629134,-1.288377728305726,0.605480241918969,-1.7403342621117603,-0.5767090901550972,0.9862116910360376,-0.07369698703587212,0.20182496138164546,-1.2045105548068864,-0.7002951860185551,-0.5703494211401896,-0.68009580336817,0.6916715289142051,0.27340901129917644,-0.29035920152335515,0.2852039886179615,0.7133312233350243,-0.91547252184514,0.28003515738276347,1.4923423101747046,-0.027191134486079134,1.6319337877418953,-1.3711337986599788,-0.8071766479811399,1.318813382305548,-0.10012598881905053,0.46188415018899753,-0.04060855731254377,2.087349678948209,-0.7295423629444664,-1.465500164221751,0.7008696270372898,-1.7579283442082925,-1.7328437612335499,0.5294871189749688,1.43612734612469,0.04680259369241339,-1.3526150222323468,0.6582598167822007,-1.9950013095935213,0.4033083680452155,0.8175282263646728,0.07014198917232728,0.43828413155616214,0.24968000311555905,-0.387429824957257,-0.031778227882134205,-0.8623267915106497,-0.953740984431478,-0.05445983399194409],\"yaxis\":\"y2\",\"type\":\"scatter\"},{\"line\":{\"color\":\"rgba(128, 128, 128, 1.0)\",\"dash\":\"solid\",\"shape\":\"linear\",\"width\":1.3},\"marker\":{\"size\":2,\"symbol\":\"circle\"},\"mode\":\"markers\",\"name\":\"A\",\"text\":\"\",\"x\":[-0.6279178473499555,0.34622561345445335,0.6075860797924031,0.02913262936668257,0.9197560845710289,-0.7699731478454107,1.262751820212759,0.5433569547085509,-0.04482419281941183,-1.8029330477391154,-0.3635930655564669,-0.32293359057263066,-1.0903441436528212,0.7868906023265563,1.8802309640937576,-1.1904067058610839,0.9208295249944821,-0.010545087497734865,-0.47535946760931175,-0.49259542313300664,0.49951299732480203,0.6107458107182563,-0.44760546551429015,0.7441989280214762,0.126282178595897,0.5799743994055035,0.8448531473533216,0.01721277105263823,0.3983984851970272,0.8998252618913929,-1.128139718568078,-2.4470170704696845,-0.7641046776489488,1.2088552628983082,-0.5064963552932986,-0.2368630390955342,-0.8377971315111741,1.1431791731062944,-0.33630594515135365,-0.05498773522437794,0.12855901062512956,1.2882887971043535,-1.1079393728923863,-1.1240040458096074,0.20613811688148714,0.6603564503196672,-0.07931323212753368,0.500898078337865,0.11881201356812975,-0.7348269138908055,-1.2170323289831457,0.6005777097187909,0.31804334040013993,-0.6103546895923493,0.3376553321693647,-0.6970522403401523,-1.395723901987532,-0.5724566426848541,0.41720725384278323,0.5623509112780184,1.8705345966014466,-1.2677745554240667,0.9249856098999654,0.16752698109952394,-0.8547190482771455,-0.2760246934292152,1.4249491140674166,0.461527822040228,0.4608526377560005,0.21554681297308004,-0.3775884115532785,0.5779896658643389,-0.13449231921950758,0.8034085123741144,-0.10994124229232537,-1.271901145263936,-0.30024887575895737,0.7338930349916993,0.5996504619148298,1.3857603182449478,-1.4056057067335495,0.9151144691560194,-0.12771332861383022,0.10129448760262104,-1.436262638647789,-1.0767602472155713,-0.2784479812254053,0.2896633485845398,0.15840710572744796,0.16207494875451453,-0.705880200771333,1.0282269568186841,-0.0662258920562984,-0.8766807393776468,0.6693348680615138,-0.4580944882884912,0.3660714458836404,2.1712711304260988,-0.6079636194188285,-1.6330563833064893],\"xaxis\":\"x3\",\"y\":[0.5745116639033776,0.9785972848361238,-0.46469597183700806,0.9184812368604616,0.5817003574663901,-0.8855551147163485,0.09441057738706614,1.7836130306849607,0.10863026996968499,1.655210904475645,0.30667166945281715,-1.476029094117104,0.799313372611074,-1.182350550952549,-1.6214507865494476,-0.42659969531808345,-0.3185300279638153,-1.3113068558963037,0.45441541274656017,-0.443448868043506,-0.3135832451503955,-0.07429059560938601,1.8304855967609228,-0.0713168342931115,0.8847741156048016,0.3452923952775951,0.5801132528806705,0.7624799832899686,0.3322130822954626,-0.14242422341213887,0.5869469207911738,0.6341426054564636,2.6938248204297524,0.8375677977573818,-0.2802251892428954,-0.5670142257178402,-0.8146887280907159,-0.6668992899757032,2.2222815451456523,-0.7833069320609886,0.9905961044054827,-0.3256149670770055,0.7365672470102214,-1.0926596097491235,1.1139787434940185,-0.6114157064105485,-0.450868606112402,-0.36872430246246546,-0.3249512173133247,2.1636131958285767,-0.75466909629134,-1.288377728305726,0.605480241918969,-1.7403342621117603,-0.5767090901550972,0.9862116910360376,-0.07369698703587212,0.20182496138164546,-1.2045105548068864,-0.7002951860185551,-0.5703494211401896,-0.68009580336817,0.6916715289142051,0.27340901129917644,-0.29035920152335515,0.2852039886179615,0.7133312233350243,-0.91547252184514,0.28003515738276347,1.4923423101747046,-0.027191134486079134,1.6319337877418953,-1.3711337986599788,-0.8071766479811399,1.318813382305548,-0.10012598881905053,0.46188415018899753,-0.04060855731254377,2.087349678948209,-0.7295423629444664,-1.465500164221751,0.7008696270372898,-1.7579283442082925,-1.7328437612335499,0.5294871189749688,1.43612734612469,0.04680259369241339,-1.3526150222323468,0.6582598167822007,-1.9950013095935213,0.4033083680452155,0.8175282263646728,0.07014198917232728,0.43828413155616214,0.24968000311555905,-0.387429824957257,-0.031778227882134205,-0.8623267915106497,-0.953740984431478,-0.05445983399194409],\"yaxis\":\"y3\",\"type\":\"scatter\"},{\"line\":{\"color\":\"rgba(128, 128, 128, 1.0)\",\"dash\":\"solid\",\"shape\":\"linear\",\"width\":1.3},\"marker\":{\"size\":2,\"symbol\":\"circle\"},\"mode\":\"markers\",\"name\":\"A\",\"text\":\"\",\"x\":[1.9606853783266955,-1.0136178810359866,1.4910953108378,-0.3189171713047649,0.021843353198976265,0.4994652389137691,0.6025525448423065,-0.21935349285008657,-0.980921477319787,0.15381984638449858,0.25878300442220536,0.2699586885699263,-0.1873621610845983,0.43536025465544065,-1.5449545635773947,2.0395544786006714,-0.6480518257395195,0.808721090642994,-0.36719354125504494,-0.001025316925003803,0.8685637725200062,-0.6601768772363882,-0.6959594745559767,0.41764298027593005,-0.3333116698881908,0.5503601390374941,-0.28209193456661696,-1.1369615553160728,-2.2545149710465613,-0.7948856937950168,0.5275437880904109,0.11551200209770948,0.9320589237708774,0.42408266688622964,0.42268697686270573,0.45085952784692396,0.48019269833110984,0.34403733308482704,-0.5615786227070604,-0.2368320299715633,-0.43983229008381397,0.4055089919780472,-0.7031968631290005,1.0481306791280107,-0.5021248693181799,2.6184137554616247,-0.42501359786823517,0.10522954657932518,0.6134329174956021,1.1904947545127642,0.5618872339979997,0.34093915540513064,0.2854264334198376,-2.50992325626351,-0.037972860865348235,-0.18829670714289753,-2.1286085932779284,-1.2835300856396996,-0.06223488570762441,-0.3194064224602298,1.2313290995397501,-1.5149777816912295,-0.34254587282552446,-0.6118002590508678,0.9164634051413787,0.6416523969220308,0.8214296467449537,-1.5916357601379973,0.7184667905552226,-0.2135752689842116,-0.21718171400949463,-0.16507577784971347,-0.7448777745649179,-0.8368103625305751,0.6156877429083625,0.41167420140018496,-0.050175997897253875,0.42280045371233105,0.6272893420786025,-1.832109685866272,0.6069988870305376,-0.38886220134506994,1.1739274102042094,-1.3756508091828772,1.0739141347660655,-0.3833757608899859,0.7587246029321222,0.3821433182351493,-0.506829574148174,-3.002881245728504,0.004645115344238137,-0.3184797536289734,0.750134727440925,0.13039868795406834,0.8405588014809571,-0.3720549904327991,-1.3032189362566347,-0.8373272550808281,-1.1887946406131236,-0.1783987610128384],\"xaxis\":\"x4\",\"y\":[0.5745116639033776,0.9785972848361238,-0.46469597183700806,0.9184812368604616,0.5817003574663901,-0.8855551147163485,0.09441057738706614,1.7836130306849607,0.10863026996968499,1.655210904475645,0.30667166945281715,-1.476029094117104,0.799313372611074,-1.182350550952549,-1.6214507865494476,-0.42659969531808345,-0.3185300279638153,-1.3113068558963037,0.45441541274656017,-0.443448868043506,-0.3135832451503955,-0.07429059560938601,1.8304855967609228,-0.0713168342931115,0.8847741156048016,0.3452923952775951,0.5801132528806705,0.7624799832899686,0.3322130822954626,-0.14242422341213887,0.5869469207911738,0.6341426054564636,2.6938248204297524,0.8375677977573818,-0.2802251892428954,-0.5670142257178402,-0.8146887280907159,-0.6668992899757032,2.2222815451456523,-0.7833069320609886,0.9905961044054827,-0.3256149670770055,0.7365672470102214,-1.0926596097491235,1.1139787434940185,-0.6114157064105485,-0.450868606112402,-0.36872430246246546,-0.3249512173133247,2.1636131958285767,-0.75466909629134,-1.288377728305726,0.605480241918969,-1.7403342621117603,-0.5767090901550972,0.9862116910360376,-0.07369698703587212,0.20182496138164546,-1.2045105548068864,-0.7002951860185551,-0.5703494211401896,-0.68009580336817,0.6916715289142051,0.27340901129917644,-0.29035920152335515,0.2852039886179615,0.7133312233350243,-0.91547252184514,0.28003515738276347,1.4923423101747046,-0.027191134486079134,1.6319337877418953,-1.3711337986599788,-0.8071766479811399,1.318813382305548,-0.10012598881905053,0.46188415018899753,-0.04060855731254377,2.087349678948209,-0.7295423629444664,-1.465500164221751,0.7008696270372898,-1.7579283442082925,-1.7328437612335499,0.5294871189749688,1.43612734612469,0.04680259369241339,-1.3526150222323468,0.6582598167822007,-1.9950013095935213,0.4033083680452155,0.8175282263646728,0.07014198917232728,0.43828413155616214,0.24968000311555905,-0.387429824957257,-0.031778227882134205,-0.8623267915106497,-0.953740984431478,-0.05445983399194409],\"yaxis\":\"y4\",\"type\":\"scatter\"},{\"line\":{\"color\":\"rgba(128, 128, 128, 1.0)\",\"dash\":\"solid\",\"shape\":\"linear\",\"width\":1.3},\"marker\":{\"size\":2,\"symbol\":\"circle\"},\"mode\":\"markers\",\"name\":\"B\",\"text\":\"\",\"x\":[0.5745116639033776,0.9785972848361238,-0.46469597183700806,0.9184812368604616,0.5817003574663901,-0.8855551147163485,0.09441057738706614,1.7836130306849607,0.10863026996968499,1.655210904475645,0.30667166945281715,-1.476029094117104,0.799313372611074,-1.182350550952549,-1.6214507865494476,-0.42659969531808345,-0.3185300279638153,-1.3113068558963037,0.45441541274656017,-0.443448868043506,-0.3135832451503955,-0.07429059560938601,1.8304855967609228,-0.0713168342931115,0.8847741156048016,0.3452923952775951,0.5801132528806705,0.7624799832899686,0.3322130822954626,-0.14242422341213887,0.5869469207911738,0.6341426054564636,2.6938248204297524,0.8375677977573818,-0.2802251892428954,-0.5670142257178402,-0.8146887280907159,-0.6668992899757032,2.2222815451456523,-0.7833069320609886,0.9905961044054827,-0.3256149670770055,0.7365672470102214,-1.0926596097491235,1.1139787434940185,-0.6114157064105485,-0.450868606112402,-0.36872430246246546,-0.3249512173133247,2.1636131958285767,-0.75466909629134,-1.288377728305726,0.605480241918969,-1.7403342621117603,-0.5767090901550972,0.9862116910360376,-0.07369698703587212,0.20182496138164546,-1.2045105548068864,-0.7002951860185551,-0.5703494211401896,-0.68009580336817,0.6916715289142051,0.27340901129917644,-0.29035920152335515,0.2852039886179615,0.7133312233350243,-0.91547252184514,0.28003515738276347,1.4923423101747046,-0.027191134486079134,1.6319337877418953,-1.3711337986599788,-0.8071766479811399,1.318813382305548,-0.10012598881905053,0.46188415018899753,-0.04060855731254377,2.087349678948209,-0.7295423629444664,-1.465500164221751,0.7008696270372898,-1.7579283442082925,-1.7328437612335499,0.5294871189749688,1.43612734612469,0.04680259369241339,-1.3526150222323468,0.6582598167822007,-1.9950013095935213,0.4033083680452155,0.8175282263646728,0.07014198917232728,0.43828413155616214,0.24968000311555905,-0.387429824957257,-0.031778227882134205,-0.8623267915106497,-0.953740984431478,-0.05445983399194409],\"xaxis\":\"x5\",\"y\":[0.3484717820327838,0.5039583742528283,-0.9990150314466602,0.604350440733284,0.16033161362756743,1.060326634828224,0.5691134915340805,-0.902432065184702,-0.0009131599102196734,0.09740491055972142,-1.4180894025378805,-0.1803668008622408,-1.7737974336650428,-0.6506678065802198,0.8841075279030496,-0.5049945854318697,0.7239937184181856,-1.4383931275209565,0.8453066301750151,0.34762005674502483,2.0400388372549223,-2.157315730611294,0.2209478364340322,1.802311901385443,3.3671102200760767,-1.7890851153801186,0.8635998111125606,0.04538181554622621,-0.8768539270570925,-1.1561098530930023,0.469769961263792,0.10483776806045433,1.1257947743633177,-3.1103162481128477,-0.3935244258767791,-0.07811839656271094,-1.0693390703646042,0.7577788997522897,0.8548256973784643,-0.7227486071850662,0.12621136521701642,-1.5686850089516764,2.3752191234886935,1.4117382899520032,-0.06966122654057275,-0.2222910739555117,0.6192503527480322,-0.008653601175503829,1.155008140394314,1.1213681767834516,0.6227605959154743,3.0697752847408153,-0.7300573613661158,0.13952947626816217,-1.9619353983439314,0.701911922424966,-0.5785472608072868,0.904956567921151,-0.9164830751388292,2.072689928015543,-1.266120789293466,-1.3461698573203658,-1.5214579615650425,-0.5072045185877293,-0.7444078207165821,2.104810542954587,-0.5768261503583167,2.6776643429524682,-2.3662353087503725,0.8183446525143931,0.7134885860563976,1.0906029212725172,-0.7230975990475973,0.03037479719875758,-0.28281776746578247,-2.507508618860443,-1.5149956387038264,0.2410973606292827,0.6497788978731519,-0.6259518762684783,0.48969228635237555,-0.2923666080038938,-0.3205481507170632,-0.43491892684007843,0.7769155155258977,-0.8411034149662258,-0.5552018807643755,-0.2920563678052631,1.7897545559348271,0.2610504779580989,-1.4069427847349,-1.9312946429450102,-0.25086161419952285,3.056499097584156,-0.1159568138865182,0.5182386214901665,-1.1810581543932195,0.38615617047610795,0.5564841086303987,-1.2559280625325615],\"yaxis\":\"y5\",\"type\":\"scatter\"},{\"histfunc\":\"count\",\"histnorm\":\"\",\"marker\":{\"color\":\"rgba(55, 128, 191, 1.0)\",\"line\":{\"color\":\"#4D5663\",\"width\":1.3}},\"name\":\"B\",\"nbinsx\":10,\"opacity\":0.8,\"orientation\":\"v\",\"x\":[0.3484717820327838,0.5039583742528283,-0.9990150314466602,0.604350440733284,0.16033161362756743,1.060326634828224,0.5691134915340805,-0.902432065184702,-0.0009131599102196734,0.09740491055972142,-1.4180894025378805,-0.1803668008622408,-1.7737974336650428,-0.6506678065802198,0.8841075279030496,-0.5049945854318697,0.7239937184181856,-1.4383931275209565,0.8453066301750151,0.34762005674502483,2.0400388372549223,-2.157315730611294,0.2209478364340322,1.802311901385443,3.3671102200760767,-1.7890851153801186,0.8635998111125606,0.04538181554622621,-0.8768539270570925,-1.1561098530930023,0.469769961263792,0.10483776806045433,1.1257947743633177,-3.1103162481128477,-0.3935244258767791,-0.07811839656271094,-1.0693390703646042,0.7577788997522897,0.8548256973784643,-0.7227486071850662,0.12621136521701642,-1.5686850089516764,2.3752191234886935,1.4117382899520032,-0.06966122654057275,-0.2222910739555117,0.6192503527480322,-0.008653601175503829,1.155008140394314,1.1213681767834516,0.6227605959154743,3.0697752847408153,-0.7300573613661158,0.13952947626816217,-1.9619353983439314,0.701911922424966,-0.5785472608072868,0.904956567921151,-0.9164830751388292,2.072689928015543,-1.266120789293466,-1.3461698573203658,-1.5214579615650425,-0.5072045185877293,-0.7444078207165821,2.104810542954587,-0.5768261503583167,2.6776643429524682,-2.3662353087503725,0.8183446525143931,0.7134885860563976,1.0906029212725172,-0.7230975990475973,0.03037479719875758,-0.28281776746578247,-2.507508618860443,-1.5149956387038264,0.2410973606292827,0.6497788978731519,-0.6259518762684783,0.48969228635237555,-0.2923666080038938,-0.3205481507170632,-0.43491892684007843,0.7769155155258977,-0.8411034149662258,-0.5552018807643755,-0.2920563678052631,1.7897545559348271,0.2610504779580989,-1.4069427847349,-1.9312946429450102,-0.25086161419952285,3.056499097584156,-0.1159568138865182,0.5182386214901665,-1.1810581543932195,0.38615617047610795,0.5564841086303987,-1.2559280625325615],\"xaxis\":\"x6\",\"yaxis\":\"y6\",\"type\":\"histogram\"},{\"line\":{\"color\":\"rgba(128, 128, 128, 1.0)\",\"dash\":\"solid\",\"shape\":\"linear\",\"width\":1.3},\"marker\":{\"size\":2,\"symbol\":\"circle\"},\"mode\":\"markers\",\"name\":\"B\",\"text\":\"\",\"x\":[-0.6279178473499555,0.34622561345445335,0.6075860797924031,0.02913262936668257,0.9197560845710289,-0.7699731478454107,1.262751820212759,0.5433569547085509,-0.04482419281941183,-1.8029330477391154,-0.3635930655564669,-0.32293359057263066,-1.0903441436528212,0.7868906023265563,1.8802309640937576,-1.1904067058610839,0.9208295249944821,-0.010545087497734865,-0.47535946760931175,-0.49259542313300664,0.49951299732480203,0.6107458107182563,-0.44760546551429015,0.7441989280214762,0.126282178595897,0.5799743994055035,0.8448531473533216,0.01721277105263823,0.3983984851970272,0.8998252618913929,-1.128139718568078,-2.4470170704696845,-0.7641046776489488,1.2088552628983082,-0.5064963552932986,-0.2368630390955342,-0.8377971315111741,1.1431791731062944,-0.33630594515135365,-0.05498773522437794,0.12855901062512956,1.2882887971043535,-1.1079393728923863,-1.1240040458096074,0.20613811688148714,0.6603564503196672,-0.07931323212753368,0.500898078337865,0.11881201356812975,-0.7348269138908055,-1.2170323289831457,0.6005777097187909,0.31804334040013993,-0.6103546895923493,0.3376553321693647,-0.6970522403401523,-1.395723901987532,-0.5724566426848541,0.41720725384278323,0.5623509112780184,1.8705345966014466,-1.2677745554240667,0.9249856098999654,0.16752698109952394,-0.8547190482771455,-0.2760246934292152,1.4249491140674166,0.461527822040228,0.4608526377560005,0.21554681297308004,-0.3775884115532785,0.5779896658643389,-0.13449231921950758,0.8034085123741144,-0.10994124229232537,-1.271901145263936,-0.30024887575895737,0.7338930349916993,0.5996504619148298,1.3857603182449478,-1.4056057067335495,0.9151144691560194,-0.12771332861383022,0.10129448760262104,-1.436262638647789,-1.0767602472155713,-0.2784479812254053,0.2896633485845398,0.15840710572744796,0.16207494875451453,-0.705880200771333,1.0282269568186841,-0.0662258920562984,-0.8766807393776468,0.6693348680615138,-0.4580944882884912,0.3660714458836404,2.1712711304260988,-0.6079636194188285,-1.6330563833064893],\"xaxis\":\"x7\",\"y\":[0.3484717820327838,0.5039583742528283,-0.9990150314466602,0.604350440733284,0.16033161362756743,1.060326634828224,0.5691134915340805,-0.902432065184702,-0.0009131599102196734,0.09740491055972142,-1.4180894025378805,-0.1803668008622408,-1.7737974336650428,-0.6506678065802198,0.8841075279030496,-0.5049945854318697,0.7239937184181856,-1.4383931275209565,0.8453066301750151,0.34762005674502483,2.0400388372549223,-2.157315730611294,0.2209478364340322,1.802311901385443,3.3671102200760767,-1.7890851153801186,0.8635998111125606,0.04538181554622621,-0.8768539270570925,-1.1561098530930023,0.469769961263792,0.10483776806045433,1.1257947743633177,-3.1103162481128477,-0.3935244258767791,-0.07811839656271094,-1.0693390703646042,0.7577788997522897,0.8548256973784643,-0.7227486071850662,0.12621136521701642,-1.5686850089516764,2.3752191234886935,1.4117382899520032,-0.06966122654057275,-0.2222910739555117,0.6192503527480322,-0.008653601175503829,1.155008140394314,1.1213681767834516,0.6227605959154743,3.0697752847408153,-0.7300573613661158,0.13952947626816217,-1.9619353983439314,0.701911922424966,-0.5785472608072868,0.904956567921151,-0.9164830751388292,2.072689928015543,-1.266120789293466,-1.3461698573203658,-1.5214579615650425,-0.5072045185877293,-0.7444078207165821,2.104810542954587,-0.5768261503583167,2.6776643429524682,-2.3662353087503725,0.8183446525143931,0.7134885860563976,1.0906029212725172,-0.7230975990475973,0.03037479719875758,-0.28281776746578247,-2.507508618860443,-1.5149956387038264,0.2410973606292827,0.6497788978731519,-0.6259518762684783,0.48969228635237555,-0.2923666080038938,-0.3205481507170632,-0.43491892684007843,0.7769155155258977,-0.8411034149662258,-0.5552018807643755,-0.2920563678052631,1.7897545559348271,0.2610504779580989,-1.4069427847349,-1.9312946429450102,-0.25086161419952285,3.056499097584156,-0.1159568138865182,0.5182386214901665,-1.1810581543932195,0.38615617047610795,0.5564841086303987,-1.2559280625325615],\"yaxis\":\"y7\",\"type\":\"scatter\"},{\"line\":{\"color\":\"rgba(128, 128, 128, 1.0)\",\"dash\":\"solid\",\"shape\":\"linear\",\"width\":1.3},\"marker\":{\"size\":2,\"symbol\":\"circle\"},\"mode\":\"markers\",\"name\":\"B\",\"text\":\"\",\"x\":[1.9606853783266955,-1.0136178810359866,1.4910953108378,-0.3189171713047649,0.021843353198976265,0.4994652389137691,0.6025525448423065,-0.21935349285008657,-0.980921477319787,0.15381984638449858,0.25878300442220536,0.2699586885699263,-0.1873621610845983,0.43536025465544065,-1.5449545635773947,2.0395544786006714,-0.6480518257395195,0.808721090642994,-0.36719354125504494,-0.001025316925003803,0.8685637725200062,-0.6601768772363882,-0.6959594745559767,0.41764298027593005,-0.3333116698881908,0.5503601390374941,-0.28209193456661696,-1.1369615553160728,-2.2545149710465613,-0.7948856937950168,0.5275437880904109,0.11551200209770948,0.9320589237708774,0.42408266688622964,0.42268697686270573,0.45085952784692396,0.48019269833110984,0.34403733308482704,-0.5615786227070604,-0.2368320299715633,-0.43983229008381397,0.4055089919780472,-0.7031968631290005,1.0481306791280107,-0.5021248693181799,2.6184137554616247,-0.42501359786823517,0.10522954657932518,0.6134329174956021,1.1904947545127642,0.5618872339979997,0.34093915540513064,0.2854264334198376,-2.50992325626351,-0.037972860865348235,-0.18829670714289753,-2.1286085932779284,-1.2835300856396996,-0.06223488570762441,-0.3194064224602298,1.2313290995397501,-1.5149777816912295,-0.34254587282552446,-0.6118002590508678,0.9164634051413787,0.6416523969220308,0.8214296467449537,-1.5916357601379973,0.7184667905552226,-0.2135752689842116,-0.21718171400949463,-0.16507577784971347,-0.7448777745649179,-0.8368103625305751,0.6156877429083625,0.41167420140018496,-0.050175997897253875,0.42280045371233105,0.6272893420786025,-1.832109685866272,0.6069988870305376,-0.38886220134506994,1.1739274102042094,-1.3756508091828772,1.0739141347660655,-0.3833757608899859,0.7587246029321222,0.3821433182351493,-0.506829574148174,-3.002881245728504,0.004645115344238137,-0.3184797536289734,0.750134727440925,0.13039868795406834,0.8405588014809571,-0.3720549904327991,-1.3032189362566347,-0.8373272550808281,-1.1887946406131236,-0.1783987610128384],\"xaxis\":\"x8\",\"y\":[0.3484717820327838,0.5039583742528283,-0.9990150314466602,0.604350440733284,0.16033161362756743,1.060326634828224,0.5691134915340805,-0.902432065184702,-0.0009131599102196734,0.09740491055972142,-1.4180894025378805,-0.1803668008622408,-1.7737974336650428,-0.6506678065802198,0.8841075279030496,-0.5049945854318697,0.7239937184181856,-1.4383931275209565,0.8453066301750151,0.34762005674502483,2.0400388372549223,-2.157315730611294,0.2209478364340322,1.802311901385443,3.3671102200760767,-1.7890851153801186,0.8635998111125606,0.04538181554622621,-0.8768539270570925,-1.1561098530930023,0.469769961263792,0.10483776806045433,1.1257947743633177,-3.1103162481128477,-0.3935244258767791,-0.07811839656271094,-1.0693390703646042,0.7577788997522897,0.8548256973784643,-0.7227486071850662,0.12621136521701642,-1.5686850089516764,2.3752191234886935,1.4117382899520032,-0.06966122654057275,-0.2222910739555117,0.6192503527480322,-0.008653601175503829,1.155008140394314,1.1213681767834516,0.6227605959154743,3.0697752847408153,-0.7300573613661158,0.13952947626816217,-1.9619353983439314,0.701911922424966,-0.5785472608072868,0.904956567921151,-0.9164830751388292,2.072689928015543,-1.266120789293466,-1.3461698573203658,-1.5214579615650425,-0.5072045185877293,-0.7444078207165821,2.104810542954587,-0.5768261503583167,2.6776643429524682,-2.3662353087503725,0.8183446525143931,0.7134885860563976,1.0906029212725172,-0.7230975990475973,0.03037479719875758,-0.28281776746578247,-2.507508618860443,-1.5149956387038264,0.2410973606292827,0.6497788978731519,-0.6259518762684783,0.48969228635237555,-0.2923666080038938,-0.3205481507170632,-0.43491892684007843,0.7769155155258977,-0.8411034149662258,-0.5552018807643755,-0.2920563678052631,1.7897545559348271,0.2610504779580989,-1.4069427847349,-1.9312946429450102,-0.25086161419952285,3.056499097584156,-0.1159568138865182,0.5182386214901665,-1.1810581543932195,0.38615617047610795,0.5564841086303987,-1.2559280625325615],\"yaxis\":\"y8\",\"type\":\"scatter\"},{\"line\":{\"color\":\"rgba(128, 128, 128, 1.0)\",\"dash\":\"solid\",\"shape\":\"linear\",\"width\":1.3},\"marker\":{\"size\":2,\"symbol\":\"circle\"},\"mode\":\"markers\",\"name\":\"C\",\"text\":\"\",\"x\":[0.5745116639033776,0.9785972848361238,-0.46469597183700806,0.9184812368604616,0.5817003574663901,-0.8855551147163485,0.09441057738706614,1.7836130306849607,0.10863026996968499,1.655210904475645,0.30667166945281715,-1.476029094117104,0.799313372611074,-1.182350550952549,-1.6214507865494476,-0.42659969531808345,-0.3185300279638153,-1.3113068558963037,0.45441541274656017,-0.443448868043506,-0.3135832451503955,-0.07429059560938601,1.8304855967609228,-0.0713168342931115,0.8847741156048016,0.3452923952775951,0.5801132528806705,0.7624799832899686,0.3322130822954626,-0.14242422341213887,0.5869469207911738,0.6341426054564636,2.6938248204297524,0.8375677977573818,-0.2802251892428954,-0.5670142257178402,-0.8146887280907159,-0.6668992899757032,2.2222815451456523,-0.7833069320609886,0.9905961044054827,-0.3256149670770055,0.7365672470102214,-1.0926596097491235,1.1139787434940185,-0.6114157064105485,-0.450868606112402,-0.36872430246246546,-0.3249512173133247,2.1636131958285767,-0.75466909629134,-1.288377728305726,0.605480241918969,-1.7403342621117603,-0.5767090901550972,0.9862116910360376,-0.07369698703587212,0.20182496138164546,-1.2045105548068864,-0.7002951860185551,-0.5703494211401896,-0.68009580336817,0.6916715289142051,0.27340901129917644,-0.29035920152335515,0.2852039886179615,0.7133312233350243,-0.91547252184514,0.28003515738276347,1.4923423101747046,-0.027191134486079134,1.6319337877418953,-1.3711337986599788,-0.8071766479811399,1.318813382305548,-0.10012598881905053,0.46188415018899753,-0.04060855731254377,2.087349678948209,-0.7295423629444664,-1.465500164221751,0.7008696270372898,-1.7579283442082925,-1.7328437612335499,0.5294871189749688,1.43612734612469,0.04680259369241339,-1.3526150222323468,0.6582598167822007,-1.9950013095935213,0.4033083680452155,0.8175282263646728,0.07014198917232728,0.43828413155616214,0.24968000311555905,-0.387429824957257,-0.031778227882134205,-0.8623267915106497,-0.953740984431478,-0.05445983399194409],\"xaxis\":\"x9\",\"y\":[-0.6279178473499555,0.34622561345445335,0.6075860797924031,0.02913262936668257,0.9197560845710289,-0.7699731478454107,1.262751820212759,0.5433569547085509,-0.04482419281941183,-1.8029330477391154,-0.3635930655564669,-0.32293359057263066,-1.0903441436528212,0.7868906023265563,1.8802309640937576,-1.1904067058610839,0.9208295249944821,-0.010545087497734865,-0.47535946760931175,-0.49259542313300664,0.49951299732480203,0.6107458107182563,-0.44760546551429015,0.7441989280214762,0.126282178595897,0.5799743994055035,0.8448531473533216,0.01721277105263823,0.3983984851970272,0.8998252618913929,-1.128139718568078,-2.4470170704696845,-0.7641046776489488,1.2088552628983082,-0.5064963552932986,-0.2368630390955342,-0.8377971315111741,1.1431791731062944,-0.33630594515135365,-0.05498773522437794,0.12855901062512956,1.2882887971043535,-1.1079393728923863,-1.1240040458096074,0.20613811688148714,0.6603564503196672,-0.07931323212753368,0.500898078337865,0.11881201356812975,-0.7348269138908055,-1.2170323289831457,0.6005777097187909,0.31804334040013993,-0.6103546895923493,0.3376553321693647,-0.6970522403401523,-1.395723901987532,-0.5724566426848541,0.41720725384278323,0.5623509112780184,1.8705345966014466,-1.2677745554240667,0.9249856098999654,0.16752698109952394,-0.8547190482771455,-0.2760246934292152,1.4249491140674166,0.461527822040228,0.4608526377560005,0.21554681297308004,-0.3775884115532785,0.5779896658643389,-0.13449231921950758,0.8034085123741144,-0.10994124229232537,-1.271901145263936,-0.30024887575895737,0.7338930349916993,0.5996504619148298,1.3857603182449478,-1.4056057067335495,0.9151144691560194,-0.12771332861383022,0.10129448760262104,-1.436262638647789,-1.0767602472155713,-0.2784479812254053,0.2896633485845398,0.15840710572744796,0.16207494875451453,-0.705880200771333,1.0282269568186841,-0.0662258920562984,-0.8766807393776468,0.6693348680615138,-0.4580944882884912,0.3660714458836404,2.1712711304260988,-0.6079636194188285,-1.6330563833064893],\"yaxis\":\"y9\",\"type\":\"scatter\"},{\"line\":{\"color\":\"rgba(128, 128, 128, 1.0)\",\"dash\":\"solid\",\"shape\":\"linear\",\"width\":1.3},\"marker\":{\"size\":2,\"symbol\":\"circle\"},\"mode\":\"markers\",\"name\":\"C\",\"text\":\"\",\"x\":[0.3484717820327838,0.5039583742528283,-0.9990150314466602,0.604350440733284,0.16033161362756743,1.060326634828224,0.5691134915340805,-0.902432065184702,-0.0009131599102196734,0.09740491055972142,-1.4180894025378805,-0.1803668008622408,-1.7737974336650428,-0.6506678065802198,0.8841075279030496,-0.5049945854318697,0.7239937184181856,-1.4383931275209565,0.8453066301750151,0.34762005674502483,2.0400388372549223,-2.157315730611294,0.2209478364340322,1.802311901385443,3.3671102200760767,-1.7890851153801186,0.8635998111125606,0.04538181554622621,-0.8768539270570925,-1.1561098530930023,0.469769961263792,0.10483776806045433,1.1257947743633177,-3.1103162481128477,-0.3935244258767791,-0.07811839656271094,-1.0693390703646042,0.7577788997522897,0.8548256973784643,-0.7227486071850662,0.12621136521701642,-1.5686850089516764,2.3752191234886935,1.4117382899520032,-0.06966122654057275,-0.2222910739555117,0.6192503527480322,-0.008653601175503829,1.155008140394314,1.1213681767834516,0.6227605959154743,3.0697752847408153,-0.7300573613661158,0.13952947626816217,-1.9619353983439314,0.701911922424966,-0.5785472608072868,0.904956567921151,-0.9164830751388292,2.072689928015543,-1.266120789293466,-1.3461698573203658,-1.5214579615650425,-0.5072045185877293,-0.7444078207165821,2.104810542954587,-0.5768261503583167,2.6776643429524682,-2.3662353087503725,0.8183446525143931,0.7134885860563976,1.0906029212725172,-0.7230975990475973,0.03037479719875758,-0.28281776746578247,-2.507508618860443,-1.5149956387038264,0.2410973606292827,0.6497788978731519,-0.6259518762684783,0.48969228635237555,-0.2923666080038938,-0.3205481507170632,-0.43491892684007843,0.7769155155258977,-0.8411034149662258,-0.5552018807643755,-0.2920563678052631,1.7897545559348271,0.2610504779580989,-1.4069427847349,-1.9312946429450102,-0.25086161419952285,3.056499097584156,-0.1159568138865182,0.5182386214901665,-1.1810581543932195,0.38615617047610795,0.5564841086303987,-1.2559280625325615],\"xaxis\":\"x10\",\"y\":[-0.6279178473499555,0.34622561345445335,0.6075860797924031,0.02913262936668257,0.9197560845710289,-0.7699731478454107,1.262751820212759,0.5433569547085509,-0.04482419281941183,-1.8029330477391154,-0.3635930655564669,-0.32293359057263066,-1.0903441436528212,0.7868906023265563,1.8802309640937576,-1.1904067058610839,0.9208295249944821,-0.010545087497734865,-0.47535946760931175,-0.49259542313300664,0.49951299732480203,0.6107458107182563,-0.44760546551429015,0.7441989280214762,0.126282178595897,0.5799743994055035,0.8448531473533216,0.01721277105263823,0.3983984851970272,0.8998252618913929,-1.128139718568078,-2.4470170704696845,-0.7641046776489488,1.2088552628983082,-0.5064963552932986,-0.2368630390955342,-0.8377971315111741,1.1431791731062944,-0.33630594515135365,-0.05498773522437794,0.12855901062512956,1.2882887971043535,-1.1079393728923863,-1.1240040458096074,0.20613811688148714,0.6603564503196672,-0.07931323212753368,0.500898078337865,0.11881201356812975,-0.7348269138908055,-1.2170323289831457,0.6005777097187909,0.31804334040013993,-0.6103546895923493,0.3376553321693647,-0.6970522403401523,-1.395723901987532,-0.5724566426848541,0.41720725384278323,0.5623509112780184,1.8705345966014466,-1.2677745554240667,0.9249856098999654,0.16752698109952394,-0.8547190482771455,-0.2760246934292152,1.4249491140674166,0.461527822040228,0.4608526377560005,0.21554681297308004,-0.3775884115532785,0.5779896658643389,-0.13449231921950758,0.8034085123741144,-0.10994124229232537,-1.271901145263936,-0.30024887575895737,0.7338930349916993,0.5996504619148298,1.3857603182449478,-1.4056057067335495,0.9151144691560194,-0.12771332861383022,0.10129448760262104,-1.436262638647789,-1.0767602472155713,-0.2784479812254053,0.2896633485845398,0.15840710572744796,0.16207494875451453,-0.705880200771333,1.0282269568186841,-0.0662258920562984,-0.8766807393776468,0.6693348680615138,-0.4580944882884912,0.3660714458836404,2.1712711304260988,-0.6079636194188285,-1.6330563833064893],\"yaxis\":\"y10\",\"type\":\"scatter\"},{\"histfunc\":\"count\",\"histnorm\":\"\",\"marker\":{\"color\":\"rgba(50, 171, 96, 1.0)\",\"line\":{\"color\":\"#4D5663\",\"width\":1.3}},\"name\":\"C\",\"nbinsx\":10,\"opacity\":0.8,\"orientation\":\"v\",\"x\":[-0.6279178473499555,0.34622561345445335,0.6075860797924031,0.02913262936668257,0.9197560845710289,-0.7699731478454107,1.262751820212759,0.5433569547085509,-0.04482419281941183,-1.8029330477391154,-0.3635930655564669,-0.32293359057263066,-1.0903441436528212,0.7868906023265563,1.8802309640937576,-1.1904067058610839,0.9208295249944821,-0.010545087497734865,-0.47535946760931175,-0.49259542313300664,0.49951299732480203,0.6107458107182563,-0.44760546551429015,0.7441989280214762,0.126282178595897,0.5799743994055035,0.8448531473533216,0.01721277105263823,0.3983984851970272,0.8998252618913929,-1.128139718568078,-2.4470170704696845,-0.7641046776489488,1.2088552628983082,-0.5064963552932986,-0.2368630390955342,-0.8377971315111741,1.1431791731062944,-0.33630594515135365,-0.05498773522437794,0.12855901062512956,1.2882887971043535,-1.1079393728923863,-1.1240040458096074,0.20613811688148714,0.6603564503196672,-0.07931323212753368,0.500898078337865,0.11881201356812975,-0.7348269138908055,-1.2170323289831457,0.6005777097187909,0.31804334040013993,-0.6103546895923493,0.3376553321693647,-0.6970522403401523,-1.395723901987532,-0.5724566426848541,0.41720725384278323,0.5623509112780184,1.8705345966014466,-1.2677745554240667,0.9249856098999654,0.16752698109952394,-0.8547190482771455,-0.2760246934292152,1.4249491140674166,0.461527822040228,0.4608526377560005,0.21554681297308004,-0.3775884115532785,0.5779896658643389,-0.13449231921950758,0.8034085123741144,-0.10994124229232537,-1.271901145263936,-0.30024887575895737,0.7338930349916993,0.5996504619148298,1.3857603182449478,-1.4056057067335495,0.9151144691560194,-0.12771332861383022,0.10129448760262104,-1.436262638647789,-1.0767602472155713,-0.2784479812254053,0.2896633485845398,0.15840710572744796,0.16207494875451453,-0.705880200771333,1.0282269568186841,-0.0662258920562984,-0.8766807393776468,0.6693348680615138,-0.4580944882884912,0.3660714458836404,2.1712711304260988,-0.6079636194188285,-1.6330563833064893],\"xaxis\":\"x11\",\"yaxis\":\"y11\",\"type\":\"histogram\"},{\"line\":{\"color\":\"rgba(128, 128, 128, 1.0)\",\"dash\":\"solid\",\"shape\":\"linear\",\"width\":1.3},\"marker\":{\"size\":2,\"symbol\":\"circle\"},\"mode\":\"markers\",\"name\":\"C\",\"text\":\"\",\"x\":[1.9606853783266955,-1.0136178810359866,1.4910953108378,-0.3189171713047649,0.021843353198976265,0.4994652389137691,0.6025525448423065,-0.21935349285008657,-0.980921477319787,0.15381984638449858,0.25878300442220536,0.2699586885699263,-0.1873621610845983,0.43536025465544065,-1.5449545635773947,2.0395544786006714,-0.6480518257395195,0.808721090642994,-0.36719354125504494,-0.001025316925003803,0.8685637725200062,-0.6601768772363882,-0.6959594745559767,0.41764298027593005,-0.3333116698881908,0.5503601390374941,-0.28209193456661696,-1.1369615553160728,-2.2545149710465613,-0.7948856937950168,0.5275437880904109,0.11551200209770948,0.9320589237708774,0.42408266688622964,0.42268697686270573,0.45085952784692396,0.48019269833110984,0.34403733308482704,-0.5615786227070604,-0.2368320299715633,-0.43983229008381397,0.4055089919780472,-0.7031968631290005,1.0481306791280107,-0.5021248693181799,2.6184137554616247,-0.42501359786823517,0.10522954657932518,0.6134329174956021,1.1904947545127642,0.5618872339979997,0.34093915540513064,0.2854264334198376,-2.50992325626351,-0.037972860865348235,-0.18829670714289753,-2.1286085932779284,-1.2835300856396996,-0.06223488570762441,-0.3194064224602298,1.2313290995397501,-1.5149777816912295,-0.34254587282552446,-0.6118002590508678,0.9164634051413787,0.6416523969220308,0.8214296467449537,-1.5916357601379973,0.7184667905552226,-0.2135752689842116,-0.21718171400949463,-0.16507577784971347,-0.7448777745649179,-0.8368103625305751,0.6156877429083625,0.41167420140018496,-0.050175997897253875,0.42280045371233105,0.6272893420786025,-1.832109685866272,0.6069988870305376,-0.38886220134506994,1.1739274102042094,-1.3756508091828772,1.0739141347660655,-0.3833757608899859,0.7587246029321222,0.3821433182351493,-0.506829574148174,-3.002881245728504,0.004645115344238137,-0.3184797536289734,0.750134727440925,0.13039868795406834,0.8405588014809571,-0.3720549904327991,-1.3032189362566347,-0.8373272550808281,-1.1887946406131236,-0.1783987610128384],\"xaxis\":\"x12\",\"y\":[-0.6279178473499555,0.34622561345445335,0.6075860797924031,0.02913262936668257,0.9197560845710289,-0.7699731478454107,1.262751820212759,0.5433569547085509,-0.04482419281941183,-1.8029330477391154,-0.3635930655564669,-0.32293359057263066,-1.0903441436528212,0.7868906023265563,1.8802309640937576,-1.1904067058610839,0.9208295249944821,-0.010545087497734865,-0.47535946760931175,-0.49259542313300664,0.49951299732480203,0.6107458107182563,-0.44760546551429015,0.7441989280214762,0.126282178595897,0.5799743994055035,0.8448531473533216,0.01721277105263823,0.3983984851970272,0.8998252618913929,-1.128139718568078,-2.4470170704696845,-0.7641046776489488,1.2088552628983082,-0.5064963552932986,-0.2368630390955342,-0.8377971315111741,1.1431791731062944,-0.33630594515135365,-0.05498773522437794,0.12855901062512956,1.2882887971043535,-1.1079393728923863,-1.1240040458096074,0.20613811688148714,0.6603564503196672,-0.07931323212753368,0.500898078337865,0.11881201356812975,-0.7348269138908055,-1.2170323289831457,0.6005777097187909,0.31804334040013993,-0.6103546895923493,0.3376553321693647,-0.6970522403401523,-1.395723901987532,-0.5724566426848541,0.41720725384278323,0.5623509112780184,1.8705345966014466,-1.2677745554240667,0.9249856098999654,0.16752698109952394,-0.8547190482771455,-0.2760246934292152,1.4249491140674166,0.461527822040228,0.4608526377560005,0.21554681297308004,-0.3775884115532785,0.5779896658643389,-0.13449231921950758,0.8034085123741144,-0.10994124229232537,-1.271901145263936,-0.30024887575895737,0.7338930349916993,0.5996504619148298,1.3857603182449478,-1.4056057067335495,0.9151144691560194,-0.12771332861383022,0.10129448760262104,-1.436262638647789,-1.0767602472155713,-0.2784479812254053,0.2896633485845398,0.15840710572744796,0.16207494875451453,-0.705880200771333,1.0282269568186841,-0.0662258920562984,-0.8766807393776468,0.6693348680615138,-0.4580944882884912,0.3660714458836404,2.1712711304260988,-0.6079636194188285,-1.6330563833064893],\"yaxis\":\"y12\",\"type\":\"scatter\"},{\"line\":{\"color\":\"rgba(128, 128, 128, 1.0)\",\"dash\":\"solid\",\"shape\":\"linear\",\"width\":1.3},\"marker\":{\"size\":2,\"symbol\":\"circle\"},\"mode\":\"markers\",\"name\":\"D\",\"text\":\"\",\"x\":[0.5745116639033776,0.9785972848361238,-0.46469597183700806,0.9184812368604616,0.5817003574663901,-0.8855551147163485,0.09441057738706614,1.7836130306849607,0.10863026996968499,1.655210904475645,0.30667166945281715,-1.476029094117104,0.799313372611074,-1.182350550952549,-1.6214507865494476,-0.42659969531808345,-0.3185300279638153,-1.3113068558963037,0.45441541274656017,-0.443448868043506,-0.3135832451503955,-0.07429059560938601,1.8304855967609228,-0.0713168342931115,0.8847741156048016,0.3452923952775951,0.5801132528806705,0.7624799832899686,0.3322130822954626,-0.14242422341213887,0.5869469207911738,0.6341426054564636,2.6938248204297524,0.8375677977573818,-0.2802251892428954,-0.5670142257178402,-0.8146887280907159,-0.6668992899757032,2.2222815451456523,-0.7833069320609886,0.9905961044054827,-0.3256149670770055,0.7365672470102214,-1.0926596097491235,1.1139787434940185,-0.6114157064105485,-0.450868606112402,-0.36872430246246546,-0.3249512173133247,2.1636131958285767,-0.75466909629134,-1.288377728305726,0.605480241918969,-1.7403342621117603,-0.5767090901550972,0.9862116910360376,-0.07369698703587212,0.20182496138164546,-1.2045105548068864,-0.7002951860185551,-0.5703494211401896,-0.68009580336817,0.6916715289142051,0.27340901129917644,-0.29035920152335515,0.2852039886179615,0.7133312233350243,-0.91547252184514,0.28003515738276347,1.4923423101747046,-0.027191134486079134,1.6319337877418953,-1.3711337986599788,-0.8071766479811399,1.318813382305548,-0.10012598881905053,0.46188415018899753,-0.04060855731254377,2.087349678948209,-0.7295423629444664,-1.465500164221751,0.7008696270372898,-1.7579283442082925,-1.7328437612335499,0.5294871189749688,1.43612734612469,0.04680259369241339,-1.3526150222323468,0.6582598167822007,-1.9950013095935213,0.4033083680452155,0.8175282263646728,0.07014198917232728,0.43828413155616214,0.24968000311555905,-0.387429824957257,-0.031778227882134205,-0.8623267915106497,-0.953740984431478,-0.05445983399194409],\"xaxis\":\"x13\",\"y\":[1.9606853783266955,-1.0136178810359866,1.4910953108378,-0.3189171713047649,0.021843353198976265,0.4994652389137691,0.6025525448423065,-0.21935349285008657,-0.980921477319787,0.15381984638449858,0.25878300442220536,0.2699586885699263,-0.1873621610845983,0.43536025465544065,-1.5449545635773947,2.0395544786006714,-0.6480518257395195,0.808721090642994,-0.36719354125504494,-0.001025316925003803,0.8685637725200062,-0.6601768772363882,-0.6959594745559767,0.41764298027593005,-0.3333116698881908,0.5503601390374941,-0.28209193456661696,-1.1369615553160728,-2.2545149710465613,-0.7948856937950168,0.5275437880904109,0.11551200209770948,0.9320589237708774,0.42408266688622964,0.42268697686270573,0.45085952784692396,0.48019269833110984,0.34403733308482704,-0.5615786227070604,-0.2368320299715633,-0.43983229008381397,0.4055089919780472,-0.7031968631290005,1.0481306791280107,-0.5021248693181799,2.6184137554616247,-0.42501359786823517,0.10522954657932518,0.6134329174956021,1.1904947545127642,0.5618872339979997,0.34093915540513064,0.2854264334198376,-2.50992325626351,-0.037972860865348235,-0.18829670714289753,-2.1286085932779284,-1.2835300856396996,-0.06223488570762441,-0.3194064224602298,1.2313290995397501,-1.5149777816912295,-0.34254587282552446,-0.6118002590508678,0.9164634051413787,0.6416523969220308,0.8214296467449537,-1.5916357601379973,0.7184667905552226,-0.2135752689842116,-0.21718171400949463,-0.16507577784971347,-0.7448777745649179,-0.8368103625305751,0.6156877429083625,0.41167420140018496,-0.050175997897253875,0.42280045371233105,0.6272893420786025,-1.832109685866272,0.6069988870305376,-0.38886220134506994,1.1739274102042094,-1.3756508091828772,1.0739141347660655,-0.3833757608899859,0.7587246029321222,0.3821433182351493,-0.506829574148174,-3.002881245728504,0.004645115344238137,-0.3184797536289734,0.750134727440925,0.13039868795406834,0.8405588014809571,-0.3720549904327991,-1.3032189362566347,-0.8373272550808281,-1.1887946406131236,-0.1783987610128384],\"yaxis\":\"y13\",\"type\":\"scatter\"},{\"line\":{\"color\":\"rgba(128, 128, 128, 1.0)\",\"dash\":\"solid\",\"shape\":\"linear\",\"width\":1.3},\"marker\":{\"size\":2,\"symbol\":\"circle\"},\"mode\":\"markers\",\"name\":\"D\",\"text\":\"\",\"x\":[0.3484717820327838,0.5039583742528283,-0.9990150314466602,0.604350440733284,0.16033161362756743,1.060326634828224,0.5691134915340805,-0.902432065184702,-0.0009131599102196734,0.09740491055972142,-1.4180894025378805,-0.1803668008622408,-1.7737974336650428,-0.6506678065802198,0.8841075279030496,-0.5049945854318697,0.7239937184181856,-1.4383931275209565,0.8453066301750151,0.34762005674502483,2.0400388372549223,-2.157315730611294,0.2209478364340322,1.802311901385443,3.3671102200760767,-1.7890851153801186,0.8635998111125606,0.04538181554622621,-0.8768539270570925,-1.1561098530930023,0.469769961263792,0.10483776806045433,1.1257947743633177,-3.1103162481128477,-0.3935244258767791,-0.07811839656271094,-1.0693390703646042,0.7577788997522897,0.8548256973784643,-0.7227486071850662,0.12621136521701642,-1.5686850089516764,2.3752191234886935,1.4117382899520032,-0.06966122654057275,-0.2222910739555117,0.6192503527480322,-0.008653601175503829,1.155008140394314,1.1213681767834516,0.6227605959154743,3.0697752847408153,-0.7300573613661158,0.13952947626816217,-1.9619353983439314,0.701911922424966,-0.5785472608072868,0.904956567921151,-0.9164830751388292,2.072689928015543,-1.266120789293466,-1.3461698573203658,-1.5214579615650425,-0.5072045185877293,-0.7444078207165821,2.104810542954587,-0.5768261503583167,2.6776643429524682,-2.3662353087503725,0.8183446525143931,0.7134885860563976,1.0906029212725172,-0.7230975990475973,0.03037479719875758,-0.28281776746578247,-2.507508618860443,-1.5149956387038264,0.2410973606292827,0.6497788978731519,-0.6259518762684783,0.48969228635237555,-0.2923666080038938,-0.3205481507170632,-0.43491892684007843,0.7769155155258977,-0.8411034149662258,-0.5552018807643755,-0.2920563678052631,1.7897545559348271,0.2610504779580989,-1.4069427847349,-1.9312946429450102,-0.25086161419952285,3.056499097584156,-0.1159568138865182,0.5182386214901665,-1.1810581543932195,0.38615617047610795,0.5564841086303987,-1.2559280625325615],\"xaxis\":\"x14\",\"y\":[1.9606853783266955,-1.0136178810359866,1.4910953108378,-0.3189171713047649,0.021843353198976265,0.4994652389137691,0.6025525448423065,-0.21935349285008657,-0.980921477319787,0.15381984638449858,0.25878300442220536,0.2699586885699263,-0.1873621610845983,0.43536025465544065,-1.5449545635773947,2.0395544786006714,-0.6480518257395195,0.808721090642994,-0.36719354125504494,-0.001025316925003803,0.8685637725200062,-0.6601768772363882,-0.6959594745559767,0.41764298027593005,-0.3333116698881908,0.5503601390374941,-0.28209193456661696,-1.1369615553160728,-2.2545149710465613,-0.7948856937950168,0.5275437880904109,0.11551200209770948,0.9320589237708774,0.42408266688622964,0.42268697686270573,0.45085952784692396,0.48019269833110984,0.34403733308482704,-0.5615786227070604,-0.2368320299715633,-0.43983229008381397,0.4055089919780472,-0.7031968631290005,1.0481306791280107,-0.5021248693181799,2.6184137554616247,-0.42501359786823517,0.10522954657932518,0.6134329174956021,1.1904947545127642,0.5618872339979997,0.34093915540513064,0.2854264334198376,-2.50992325626351,-0.037972860865348235,-0.18829670714289753,-2.1286085932779284,-1.2835300856396996,-0.06223488570762441,-0.3194064224602298,1.2313290995397501,-1.5149777816912295,-0.34254587282552446,-0.6118002590508678,0.9164634051413787,0.6416523969220308,0.8214296467449537,-1.5916357601379973,0.7184667905552226,-0.2135752689842116,-0.21718171400949463,-0.16507577784971347,-0.7448777745649179,-0.8368103625305751,0.6156877429083625,0.41167420140018496,-0.050175997897253875,0.42280045371233105,0.6272893420786025,-1.832109685866272,0.6069988870305376,-0.38886220134506994,1.1739274102042094,-1.3756508091828772,1.0739141347660655,-0.3833757608899859,0.7587246029321222,0.3821433182351493,-0.506829574148174,-3.002881245728504,0.004645115344238137,-0.3184797536289734,0.750134727440925,0.13039868795406834,0.8405588014809571,-0.3720549904327991,-1.3032189362566347,-0.8373272550808281,-1.1887946406131236,-0.1783987610128384],\"yaxis\":\"y14\",\"type\":\"scatter\"},{\"line\":{\"color\":\"rgba(128, 128, 128, 1.0)\",\"dash\":\"solid\",\"shape\":\"linear\",\"width\":1.3},\"marker\":{\"size\":2,\"symbol\":\"circle\"},\"mode\":\"markers\",\"name\":\"D\",\"text\":\"\",\"x\":[-0.6279178473499555,0.34622561345445335,0.6075860797924031,0.02913262936668257,0.9197560845710289,-0.7699731478454107,1.262751820212759,0.5433569547085509,-0.04482419281941183,-1.8029330477391154,-0.3635930655564669,-0.32293359057263066,-1.0903441436528212,0.7868906023265563,1.8802309640937576,-1.1904067058610839,0.9208295249944821,-0.010545087497734865,-0.47535946760931175,-0.49259542313300664,0.49951299732480203,0.6107458107182563,-0.44760546551429015,0.7441989280214762,0.126282178595897,0.5799743994055035,0.8448531473533216,0.01721277105263823,0.3983984851970272,0.8998252618913929,-1.128139718568078,-2.4470170704696845,-0.7641046776489488,1.2088552628983082,-0.5064963552932986,-0.2368630390955342,-0.8377971315111741,1.1431791731062944,-0.33630594515135365,-0.05498773522437794,0.12855901062512956,1.2882887971043535,-1.1079393728923863,-1.1240040458096074,0.20613811688148714,0.6603564503196672,-0.07931323212753368,0.500898078337865,0.11881201356812975,-0.7348269138908055,-1.2170323289831457,0.6005777097187909,0.31804334040013993,-0.6103546895923493,0.3376553321693647,-0.6970522403401523,-1.395723901987532,-0.5724566426848541,0.41720725384278323,0.5623509112780184,1.8705345966014466,-1.2677745554240667,0.9249856098999654,0.16752698109952394,-0.8547190482771455,-0.2760246934292152,1.4249491140674166,0.461527822040228,0.4608526377560005,0.21554681297308004,-0.3775884115532785,0.5779896658643389,-0.13449231921950758,0.8034085123741144,-0.10994124229232537,-1.271901145263936,-0.30024887575895737,0.7338930349916993,0.5996504619148298,1.3857603182449478,-1.4056057067335495,0.9151144691560194,-0.12771332861383022,0.10129448760262104,-1.436262638647789,-1.0767602472155713,-0.2784479812254053,0.2896633485845398,0.15840710572744796,0.16207494875451453,-0.705880200771333,1.0282269568186841,-0.0662258920562984,-0.8766807393776468,0.6693348680615138,-0.4580944882884912,0.3660714458836404,2.1712711304260988,-0.6079636194188285,-1.6330563833064893],\"xaxis\":\"x15\",\"y\":[1.9606853783266955,-1.0136178810359866,1.4910953108378,-0.3189171713047649,0.021843353198976265,0.4994652389137691,0.6025525448423065,-0.21935349285008657,-0.980921477319787,0.15381984638449858,0.25878300442220536,0.2699586885699263,-0.1873621610845983,0.43536025465544065,-1.5449545635773947,2.0395544786006714,-0.6480518257395195,0.808721090642994,-0.36719354125504494,-0.001025316925003803,0.8685637725200062,-0.6601768772363882,-0.6959594745559767,0.41764298027593005,-0.3333116698881908,0.5503601390374941,-0.28209193456661696,-1.1369615553160728,-2.2545149710465613,-0.7948856937950168,0.5275437880904109,0.11551200209770948,0.9320589237708774,0.42408266688622964,0.42268697686270573,0.45085952784692396,0.48019269833110984,0.34403733308482704,-0.5615786227070604,-0.2368320299715633,-0.43983229008381397,0.4055089919780472,-0.7031968631290005,1.0481306791280107,-0.5021248693181799,2.6184137554616247,-0.42501359786823517,0.10522954657932518,0.6134329174956021,1.1904947545127642,0.5618872339979997,0.34093915540513064,0.2854264334198376,-2.50992325626351,-0.037972860865348235,-0.18829670714289753,-2.1286085932779284,-1.2835300856396996,-0.06223488570762441,-0.3194064224602298,1.2313290995397501,-1.5149777816912295,-0.34254587282552446,-0.6118002590508678,0.9164634051413787,0.6416523969220308,0.8214296467449537,-1.5916357601379973,0.7184667905552226,-0.2135752689842116,-0.21718171400949463,-0.16507577784971347,-0.7448777745649179,-0.8368103625305751,0.6156877429083625,0.41167420140018496,-0.050175997897253875,0.42280045371233105,0.6272893420786025,-1.832109685866272,0.6069988870305376,-0.38886220134506994,1.1739274102042094,-1.3756508091828772,1.0739141347660655,-0.3833757608899859,0.7587246029321222,0.3821433182351493,-0.506829574148174,-3.002881245728504,0.004645115344238137,-0.3184797536289734,0.750134727440925,0.13039868795406834,0.8405588014809571,-0.3720549904327991,-1.3032189362566347,-0.8373272550808281,-1.1887946406131236,-0.1783987610128384],\"yaxis\":\"y15\",\"type\":\"scatter\"},{\"histfunc\":\"count\",\"histnorm\":\"\",\"marker\":{\"color\":\"rgba(128, 0, 128, 1.0)\",\"line\":{\"color\":\"#4D5663\",\"width\":1.3}},\"name\":\"D\",\"nbinsx\":10,\"opacity\":0.8,\"orientation\":\"v\",\"x\":[1.9606853783266955,-1.0136178810359866,1.4910953108378,-0.3189171713047649,0.021843353198976265,0.4994652389137691,0.6025525448423065,-0.21935349285008657,-0.980921477319787,0.15381984638449858,0.25878300442220536,0.2699586885699263,-0.1873621610845983,0.43536025465544065,-1.5449545635773947,2.0395544786006714,-0.6480518257395195,0.808721090642994,-0.36719354125504494,-0.001025316925003803,0.8685637725200062,-0.6601768772363882,-0.6959594745559767,0.41764298027593005,-0.3333116698881908,0.5503601390374941,-0.28209193456661696,-1.1369615553160728,-2.2545149710465613,-0.7948856937950168,0.5275437880904109,0.11551200209770948,0.9320589237708774,0.42408266688622964,0.42268697686270573,0.45085952784692396,0.48019269833110984,0.34403733308482704,-0.5615786227070604,-0.2368320299715633,-0.43983229008381397,0.4055089919780472,-0.7031968631290005,1.0481306791280107,-0.5021248693181799,2.6184137554616247,-0.42501359786823517,0.10522954657932518,0.6134329174956021,1.1904947545127642,0.5618872339979997,0.34093915540513064,0.2854264334198376,-2.50992325626351,-0.037972860865348235,-0.18829670714289753,-2.1286085932779284,-1.2835300856396996,-0.06223488570762441,-0.3194064224602298,1.2313290995397501,-1.5149777816912295,-0.34254587282552446,-0.6118002590508678,0.9164634051413787,0.6416523969220308,0.8214296467449537,-1.5916357601379973,0.7184667905552226,-0.2135752689842116,-0.21718171400949463,-0.16507577784971347,-0.7448777745649179,-0.8368103625305751,0.6156877429083625,0.41167420140018496,-0.050175997897253875,0.42280045371233105,0.6272893420786025,-1.832109685866272,0.6069988870305376,-0.38886220134506994,1.1739274102042094,-1.3756508091828772,1.0739141347660655,-0.3833757608899859,0.7587246029321222,0.3821433182351493,-0.506829574148174,-3.002881245728504,0.004645115344238137,-0.3184797536289734,0.750134727440925,0.13039868795406834,0.8405588014809571,-0.3720549904327991,-1.3032189362566347,-0.8373272550808281,-1.1887946406131236,-0.1783987610128384],\"xaxis\":\"x16\",\"yaxis\":\"y16\",\"type\":\"histogram\"}],                        {\"bargap\":0.02,\"legend\":{\"bgcolor\":\"#F5F6F9\",\"font\":{\"color\":\"#4D5663\"}},\"paper_bgcolor\":\"#F5F6F9\",\"plot_bgcolor\":\"#F5F6F9\",\"showlegend\":false,\"template\":{\"data\":{\"barpolar\":[{\"marker\":{\"line\":{\"color\":\"#E5ECF6\",\"width\":0.5},\"pattern\":{\"fillmode\":\"overlay\",\"size\":10,\"solidity\":0.2}},\"type\":\"barpolar\"}],\"bar\":[{\"error_x\":{\"color\":\"#2a3f5f\"},\"error_y\":{\"color\":\"#2a3f5f\"},\"marker\":{\"line\":{\"color\":\"#E5ECF6\",\"width\":0.5},\"pattern\":{\"fillmode\":\"overlay\",\"size\":10,\"solidity\":0.2}},\"type\":\"bar\"}],\"carpet\":[{\"aaxis\":{\"endlinecolor\":\"#2a3f5f\",\"gridcolor\":\"white\",\"linecolor\":\"white\",\"minorgridcolor\":\"white\",\"startlinecolor\":\"#2a3f5f\"},\"baxis\":{\"endlinecolor\":\"#2a3f5f\",\"gridcolor\":\"white\",\"linecolor\":\"white\",\"minorgridcolor\":\"white\",\"startlinecolor\":\"#2a3f5f\"},\"type\":\"carpet\"}],\"choropleth\":[{\"colorbar\":{\"outlinewidth\":0,\"ticks\":\"\"},\"type\":\"choropleth\"}],\"contourcarpet\":[{\"colorbar\":{\"outlinewidth\":0,\"ticks\":\"\"},\"type\":\"contourcarpet\"}],\"contour\":[{\"colorbar\":{\"outlinewidth\":0,\"ticks\":\"\"},\"colorscale\":[[0.0,\"#0d0887\"],[0.1111111111111111,\"#46039f\"],[0.2222222222222222,\"#7201a8\"],[0.3333333333333333,\"#9c179e\"],[0.4444444444444444,\"#bd3786\"],[0.5555555555555556,\"#d8576b\"],[0.6666666666666666,\"#ed7953\"],[0.7777777777777778,\"#fb9f3a\"],[0.8888888888888888,\"#fdca26\"],[1.0,\"#f0f921\"]],\"type\":\"contour\"}],\"heatmapgl\":[{\"colorbar\":{\"outlinewidth\":0,\"ticks\":\"\"},\"colorscale\":[[0.0,\"#0d0887\"],[0.1111111111111111,\"#46039f\"],[0.2222222222222222,\"#7201a8\"],[0.3333333333333333,\"#9c179e\"],[0.4444444444444444,\"#bd3786\"],[0.5555555555555556,\"#d8576b\"],[0.6666666666666666,\"#ed7953\"],[0.7777777777777778,\"#fb9f3a\"],[0.8888888888888888,\"#fdca26\"],[1.0,\"#f0f921\"]],\"type\":\"heatmapgl\"}],\"heatmap\":[{\"colorbar\":{\"outlinewidth\":0,\"ticks\":\"\"},\"colorscale\":[[0.0,\"#0d0887\"],[0.1111111111111111,\"#46039f\"],[0.2222222222222222,\"#7201a8\"],[0.3333333333333333,\"#9c179e\"],[0.4444444444444444,\"#bd3786\"],[0.5555555555555556,\"#d8576b\"],[0.6666666666666666,\"#ed7953\"],[0.7777777777777778,\"#fb9f3a\"],[0.8888888888888888,\"#fdca26\"],[1.0,\"#f0f921\"]],\"type\":\"heatmap\"}],\"histogram2dcontour\":[{\"colorbar\":{\"outlinewidth\":0,\"ticks\":\"\"},\"colorscale\":[[0.0,\"#0d0887\"],[0.1111111111111111,\"#46039f\"],[0.2222222222222222,\"#7201a8\"],[0.3333333333333333,\"#9c179e\"],[0.4444444444444444,\"#bd3786\"],[0.5555555555555556,\"#d8576b\"],[0.6666666666666666,\"#ed7953\"],[0.7777777777777778,\"#fb9f3a\"],[0.8888888888888888,\"#fdca26\"],[1.0,\"#f0f921\"]],\"type\":\"histogram2dcontour\"}],\"histogram2d\":[{\"colorbar\":{\"outlinewidth\":0,\"ticks\":\"\"},\"colorscale\":[[0.0,\"#0d0887\"],[0.1111111111111111,\"#46039f\"],[0.2222222222222222,\"#7201a8\"],[0.3333333333333333,\"#9c179e\"],[0.4444444444444444,\"#bd3786\"],[0.5555555555555556,\"#d8576b\"],[0.6666666666666666,\"#ed7953\"],[0.7777777777777778,\"#fb9f3a\"],[0.8888888888888888,\"#fdca26\"],[1.0,\"#f0f921\"]],\"type\":\"histogram2d\"}],\"histogram\":[{\"marker\":{\"pattern\":{\"fillmode\":\"overlay\",\"size\":10,\"solidity\":0.2}},\"type\":\"histogram\"}],\"mesh3d\":[{\"colorbar\":{\"outlinewidth\":0,\"ticks\":\"\"},\"type\":\"mesh3d\"}],\"parcoords\":[{\"line\":{\"colorbar\":{\"outlinewidth\":0,\"ticks\":\"\"}},\"type\":\"parcoords\"}],\"pie\":[{\"automargin\":true,\"type\":\"pie\"}],\"scatter3d\":[{\"line\":{\"colorbar\":{\"outlinewidth\":0,\"ticks\":\"\"}},\"marker\":{\"colorbar\":{\"outlinewidth\":0,\"ticks\":\"\"}},\"type\":\"scatter3d\"}],\"scattercarpet\":[{\"marker\":{\"colorbar\":{\"outlinewidth\":0,\"ticks\":\"\"}},\"type\":\"scattercarpet\"}],\"scattergeo\":[{\"marker\":{\"colorbar\":{\"outlinewidth\":0,\"ticks\":\"\"}},\"type\":\"scattergeo\"}],\"scattergl\":[{\"marker\":{\"colorbar\":{\"outlinewidth\":0,\"ticks\":\"\"}},\"type\":\"scattergl\"}],\"scattermapbox\":[{\"marker\":{\"colorbar\":{\"outlinewidth\":0,\"ticks\":\"\"}},\"type\":\"scattermapbox\"}],\"scatterpolargl\":[{\"marker\":{\"colorbar\":{\"outlinewidth\":0,\"ticks\":\"\"}},\"type\":\"scatterpolargl\"}],\"scatterpolar\":[{\"marker\":{\"colorbar\":{\"outlinewidth\":0,\"ticks\":\"\"}},\"type\":\"scatterpolar\"}],\"scatter\":[{\"marker\":{\"colorbar\":{\"outlinewidth\":0,\"ticks\":\"\"}},\"type\":\"scatter\"}],\"scatterternary\":[{\"marker\":{\"colorbar\":{\"outlinewidth\":0,\"ticks\":\"\"}},\"type\":\"scatterternary\"}],\"surface\":[{\"colorbar\":{\"outlinewidth\":0,\"ticks\":\"\"},\"colorscale\":[[0.0,\"#0d0887\"],[0.1111111111111111,\"#46039f\"],[0.2222222222222222,\"#7201a8\"],[0.3333333333333333,\"#9c179e\"],[0.4444444444444444,\"#bd3786\"],[0.5555555555555556,\"#d8576b\"],[0.6666666666666666,\"#ed7953\"],[0.7777777777777778,\"#fb9f3a\"],[0.8888888888888888,\"#fdca26\"],[1.0,\"#f0f921\"]],\"type\":\"surface\"}],\"table\":[{\"cells\":{\"fill\":{\"color\":\"#EBF0F8\"},\"line\":{\"color\":\"white\"}},\"header\":{\"fill\":{\"color\":\"#C8D4E3\"},\"line\":{\"color\":\"white\"}},\"type\":\"table\"}]},\"layout\":{\"annotationdefaults\":{\"arrowcolor\":\"#2a3f5f\",\"arrowhead\":0,\"arrowwidth\":1},\"autotypenumbers\":\"strict\",\"coloraxis\":{\"colorbar\":{\"outlinewidth\":0,\"ticks\":\"\"}},\"colorscale\":{\"diverging\":[[0,\"#8e0152\"],[0.1,\"#c51b7d\"],[0.2,\"#de77ae\"],[0.3,\"#f1b6da\"],[0.4,\"#fde0ef\"],[0.5,\"#f7f7f7\"],[0.6,\"#e6f5d0\"],[0.7,\"#b8e186\"],[0.8,\"#7fbc41\"],[0.9,\"#4d9221\"],[1,\"#276419\"]],\"sequential\":[[0.0,\"#0d0887\"],[0.1111111111111111,\"#46039f\"],[0.2222222222222222,\"#7201a8\"],[0.3333333333333333,\"#9c179e\"],[0.4444444444444444,\"#bd3786\"],[0.5555555555555556,\"#d8576b\"],[0.6666666666666666,\"#ed7953\"],[0.7777777777777778,\"#fb9f3a\"],[0.8888888888888888,\"#fdca26\"],[1.0,\"#f0f921\"]],\"sequentialminus\":[[0.0,\"#0d0887\"],[0.1111111111111111,\"#46039f\"],[0.2222222222222222,\"#7201a8\"],[0.3333333333333333,\"#9c179e\"],[0.4444444444444444,\"#bd3786\"],[0.5555555555555556,\"#d8576b\"],[0.6666666666666666,\"#ed7953\"],[0.7777777777777778,\"#fb9f3a\"],[0.8888888888888888,\"#fdca26\"],[1.0,\"#f0f921\"]]},\"colorway\":[\"#636efa\",\"#EF553B\",\"#00cc96\",\"#ab63fa\",\"#FFA15A\",\"#19d3f3\",\"#FF6692\",\"#B6E880\",\"#FF97FF\",\"#FECB52\"],\"font\":{\"color\":\"#2a3f5f\"},\"geo\":{\"bgcolor\":\"white\",\"lakecolor\":\"white\",\"landcolor\":\"#E5ECF6\",\"showlakes\":true,\"showland\":true,\"subunitcolor\":\"white\"},\"hoverlabel\":{\"align\":\"left\"},\"hovermode\":\"closest\",\"mapbox\":{\"style\":\"light\"},\"paper_bgcolor\":\"white\",\"plot_bgcolor\":\"#E5ECF6\",\"polar\":{\"angularaxis\":{\"gridcolor\":\"white\",\"linecolor\":\"white\",\"ticks\":\"\"},\"bgcolor\":\"#E5ECF6\",\"radialaxis\":{\"gridcolor\":\"white\",\"linecolor\":\"white\",\"ticks\":\"\"}},\"scene\":{\"xaxis\":{\"backgroundcolor\":\"#E5ECF6\",\"gridcolor\":\"white\",\"gridwidth\":2,\"linecolor\":\"white\",\"showbackground\":true,\"ticks\":\"\",\"zerolinecolor\":\"white\"},\"yaxis\":{\"backgroundcolor\":\"#E5ECF6\",\"gridcolor\":\"white\",\"gridwidth\":2,\"linecolor\":\"white\",\"showbackground\":true,\"ticks\":\"\",\"zerolinecolor\":\"white\"},\"zaxis\":{\"backgroundcolor\":\"#E5ECF6\",\"gridcolor\":\"white\",\"gridwidth\":2,\"linecolor\":\"white\",\"showbackground\":true,\"ticks\":\"\",\"zerolinecolor\":\"white\"}},\"shapedefaults\":{\"line\":{\"color\":\"#2a3f5f\"}},\"ternary\":{\"aaxis\":{\"gridcolor\":\"white\",\"linecolor\":\"white\",\"ticks\":\"\"},\"baxis\":{\"gridcolor\":\"white\",\"linecolor\":\"white\",\"ticks\":\"\"},\"bgcolor\":\"#E5ECF6\",\"caxis\":{\"gridcolor\":\"white\",\"linecolor\":\"white\",\"ticks\":\"\"}},\"title\":{\"x\":0.05},\"xaxis\":{\"automargin\":true,\"gridcolor\":\"white\",\"linecolor\":\"white\",\"ticks\":\"\",\"title\":{\"standoff\":15},\"zerolinecolor\":\"white\",\"zerolinewidth\":2},\"yaxis\":{\"automargin\":true,\"gridcolor\":\"white\",\"linecolor\":\"white\",\"ticks\":\"\",\"title\":{\"standoff\":15},\"zerolinecolor\":\"white\",\"zerolinewidth\":2}}},\"title\":{\"font\":{\"color\":\"#4D5663\"}},\"xaxis\":{\"anchor\":\"y\",\"domain\":[0.0,0.2125],\"gridcolor\":\"#E1E5ED\",\"showgrid\":false,\"tickfont\":{\"color\":\"#4D5663\"},\"title\":{\"font\":{\"color\":\"#4D5663\"},\"text\":\"\"},\"zerolinecolor\":\"#E1E5ED\"},\"yaxis\":{\"anchor\":\"x\",\"domain\":[0.8025,1.0],\"gridcolor\":\"#E1E5ED\",\"showgrid\":false,\"tickfont\":{\"color\":\"#4D5663\"},\"title\":{\"font\":{\"color\":\"#4D5663\"},\"text\":\"\"},\"zerolinecolor\":\"#E1E5ED\"},\"xaxis2\":{\"anchor\":\"y2\",\"domain\":[0.2625,0.475],\"gridcolor\":\"#E1E5ED\",\"showgrid\":false,\"tickfont\":{\"color\":\"#4D5663\"},\"title\":{\"font\":{\"color\":\"#4D5663\"},\"text\":\"\"},\"zerolinecolor\":\"#E1E5ED\"},\"yaxis2\":{\"anchor\":\"x2\",\"domain\":[0.8025,1.0],\"gridcolor\":\"#E1E5ED\",\"showgrid\":false,\"tickfont\":{\"color\":\"#4D5663\"},\"title\":{\"font\":{\"color\":\"#4D5663\"},\"text\":\"\"},\"zerolinecolor\":\"#E1E5ED\"},\"xaxis3\":{\"anchor\":\"y3\",\"domain\":[0.525,0.7375],\"gridcolor\":\"#E1E5ED\",\"showgrid\":false,\"tickfont\":{\"color\":\"#4D5663\"},\"title\":{\"font\":{\"color\":\"#4D5663\"},\"text\":\"\"},\"zerolinecolor\":\"#E1E5ED\"},\"yaxis3\":{\"anchor\":\"x3\",\"domain\":[0.8025,1.0],\"gridcolor\":\"#E1E5ED\",\"showgrid\":false,\"tickfont\":{\"color\":\"#4D5663\"},\"title\":{\"font\":{\"color\":\"#4D5663\"},\"text\":\"\"},\"zerolinecolor\":\"#E1E5ED\"},\"xaxis4\":{\"anchor\":\"y4\",\"domain\":[0.7875,1.0],\"gridcolor\":\"#E1E5ED\",\"showgrid\":false,\"tickfont\":{\"color\":\"#4D5663\"},\"title\":{\"font\":{\"color\":\"#4D5663\"},\"text\":\"\"},\"zerolinecolor\":\"#E1E5ED\"},\"yaxis4\":{\"anchor\":\"x4\",\"domain\":[0.8025,1.0],\"gridcolor\":\"#E1E5ED\",\"showgrid\":false,\"tickfont\":{\"color\":\"#4D5663\"},\"title\":{\"font\":{\"color\":\"#4D5663\"},\"text\":\"\"},\"zerolinecolor\":\"#E1E5ED\"},\"xaxis5\":{\"anchor\":\"y5\",\"domain\":[0.0,0.2125],\"gridcolor\":\"#E1E5ED\",\"showgrid\":false,\"tickfont\":{\"color\":\"#4D5663\"},\"title\":{\"font\":{\"color\":\"#4D5663\"},\"text\":\"\"},\"zerolinecolor\":\"#E1E5ED\"},\"yaxis5\":{\"anchor\":\"x5\",\"domain\":[0.535,0.7325],\"gridcolor\":\"#E1E5ED\",\"showgrid\":false,\"tickfont\":{\"color\":\"#4D5663\"},\"title\":{\"font\":{\"color\":\"#4D5663\"},\"text\":\"\"},\"zerolinecolor\":\"#E1E5ED\"},\"xaxis6\":{\"anchor\":\"y6\",\"domain\":[0.2625,0.475],\"gridcolor\":\"#E1E5ED\",\"showgrid\":false,\"tickfont\":{\"color\":\"#4D5663\"},\"title\":{\"font\":{\"color\":\"#4D5663\"},\"text\":\"\"},\"zerolinecolor\":\"#E1E5ED\"},\"yaxis6\":{\"anchor\":\"x6\",\"domain\":[0.535,0.7325],\"gridcolor\":\"#E1E5ED\",\"showgrid\":false,\"tickfont\":{\"color\":\"#4D5663\"},\"title\":{\"font\":{\"color\":\"#4D5663\"},\"text\":\"\"},\"zerolinecolor\":\"#E1E5ED\"},\"xaxis7\":{\"anchor\":\"y7\",\"domain\":[0.525,0.7375],\"gridcolor\":\"#E1E5ED\",\"showgrid\":false,\"tickfont\":{\"color\":\"#4D5663\"},\"title\":{\"font\":{\"color\":\"#4D5663\"},\"text\":\"\"},\"zerolinecolor\":\"#E1E5ED\"},\"yaxis7\":{\"anchor\":\"x7\",\"domain\":[0.535,0.7325],\"gridcolor\":\"#E1E5ED\",\"showgrid\":false,\"tickfont\":{\"color\":\"#4D5663\"},\"title\":{\"font\":{\"color\":\"#4D5663\"},\"text\":\"\"},\"zerolinecolor\":\"#E1E5ED\"},\"xaxis8\":{\"anchor\":\"y8\",\"domain\":[0.7875,1.0],\"gridcolor\":\"#E1E5ED\",\"showgrid\":false,\"tickfont\":{\"color\":\"#4D5663\"},\"title\":{\"font\":{\"color\":\"#4D5663\"},\"text\":\"\"},\"zerolinecolor\":\"#E1E5ED\"},\"yaxis8\":{\"anchor\":\"x8\",\"domain\":[0.535,0.7325],\"gridcolor\":\"#E1E5ED\",\"showgrid\":false,\"tickfont\":{\"color\":\"#4D5663\"},\"title\":{\"font\":{\"color\":\"#4D5663\"},\"text\":\"\"},\"zerolinecolor\":\"#E1E5ED\"},\"xaxis9\":{\"anchor\":\"y9\",\"domain\":[0.0,0.2125],\"gridcolor\":\"#E1E5ED\",\"showgrid\":false,\"tickfont\":{\"color\":\"#4D5663\"},\"title\":{\"font\":{\"color\":\"#4D5663\"},\"text\":\"\"},\"zerolinecolor\":\"#E1E5ED\"},\"yaxis9\":{\"anchor\":\"x9\",\"domain\":[0.2675,0.465],\"gridcolor\":\"#E1E5ED\",\"showgrid\":false,\"tickfont\":{\"color\":\"#4D5663\"},\"title\":{\"font\":{\"color\":\"#4D5663\"},\"text\":\"\"},\"zerolinecolor\":\"#E1E5ED\"},\"xaxis10\":{\"anchor\":\"y10\",\"domain\":[0.2625,0.475],\"gridcolor\":\"#E1E5ED\",\"showgrid\":false,\"tickfont\":{\"color\":\"#4D5663\"},\"title\":{\"font\":{\"color\":\"#4D5663\"},\"text\":\"\"},\"zerolinecolor\":\"#E1E5ED\"},\"yaxis10\":{\"anchor\":\"x10\",\"domain\":[0.2675,0.465],\"gridcolor\":\"#E1E5ED\",\"showgrid\":false,\"tickfont\":{\"color\":\"#4D5663\"},\"title\":{\"font\":{\"color\":\"#4D5663\"},\"text\":\"\"},\"zerolinecolor\":\"#E1E5ED\"},\"xaxis11\":{\"anchor\":\"y11\",\"domain\":[0.525,0.7375],\"gridcolor\":\"#E1E5ED\",\"showgrid\":false,\"tickfont\":{\"color\":\"#4D5663\"},\"title\":{\"font\":{\"color\":\"#4D5663\"},\"text\":\"\"},\"zerolinecolor\":\"#E1E5ED\"},\"yaxis11\":{\"anchor\":\"x11\",\"domain\":[0.2675,0.465],\"gridcolor\":\"#E1E5ED\",\"showgrid\":false,\"tickfont\":{\"color\":\"#4D5663\"},\"title\":{\"font\":{\"color\":\"#4D5663\"},\"text\":\"\"},\"zerolinecolor\":\"#E1E5ED\"},\"xaxis12\":{\"anchor\":\"y12\",\"domain\":[0.7875,1.0],\"gridcolor\":\"#E1E5ED\",\"showgrid\":false,\"tickfont\":{\"color\":\"#4D5663\"},\"title\":{\"font\":{\"color\":\"#4D5663\"},\"text\":\"\"},\"zerolinecolor\":\"#E1E5ED\"},\"yaxis12\":{\"anchor\":\"x12\",\"domain\":[0.2675,0.465],\"gridcolor\":\"#E1E5ED\",\"showgrid\":false,\"tickfont\":{\"color\":\"#4D5663\"},\"title\":{\"font\":{\"color\":\"#4D5663\"},\"text\":\"\"},\"zerolinecolor\":\"#E1E5ED\"},\"xaxis13\":{\"anchor\":\"y13\",\"domain\":[0.0,0.2125],\"gridcolor\":\"#E1E5ED\",\"showgrid\":false,\"tickfont\":{\"color\":\"#4D5663\"},\"title\":{\"font\":{\"color\":\"#4D5663\"},\"text\":\"\"},\"zerolinecolor\":\"#E1E5ED\"},\"yaxis13\":{\"anchor\":\"x13\",\"domain\":[0.0,0.1975],\"gridcolor\":\"#E1E5ED\",\"showgrid\":false,\"tickfont\":{\"color\":\"#4D5663\"},\"title\":{\"font\":{\"color\":\"#4D5663\"},\"text\":\"\"},\"zerolinecolor\":\"#E1E5ED\"},\"xaxis14\":{\"anchor\":\"y14\",\"domain\":[0.2625,0.475],\"gridcolor\":\"#E1E5ED\",\"showgrid\":false,\"tickfont\":{\"color\":\"#4D5663\"},\"title\":{\"font\":{\"color\":\"#4D5663\"},\"text\":\"\"},\"zerolinecolor\":\"#E1E5ED\"},\"yaxis14\":{\"anchor\":\"x14\",\"domain\":[0.0,0.1975],\"gridcolor\":\"#E1E5ED\",\"showgrid\":false,\"tickfont\":{\"color\":\"#4D5663\"},\"title\":{\"font\":{\"color\":\"#4D5663\"},\"text\":\"\"},\"zerolinecolor\":\"#E1E5ED\"},\"xaxis15\":{\"anchor\":\"y15\",\"domain\":[0.525,0.7375],\"gridcolor\":\"#E1E5ED\",\"showgrid\":false,\"tickfont\":{\"color\":\"#4D5663\"},\"title\":{\"font\":{\"color\":\"#4D5663\"},\"text\":\"\"},\"zerolinecolor\":\"#E1E5ED\"},\"yaxis15\":{\"anchor\":\"x15\",\"domain\":[0.0,0.1975],\"gridcolor\":\"#E1E5ED\",\"showgrid\":false,\"tickfont\":{\"color\":\"#4D5663\"},\"title\":{\"font\":{\"color\":\"#4D5663\"},\"text\":\"\"},\"zerolinecolor\":\"#E1E5ED\"},\"xaxis16\":{\"anchor\":\"y16\",\"domain\":[0.7875,1.0],\"gridcolor\":\"#E1E5ED\",\"showgrid\":false,\"tickfont\":{\"color\":\"#4D5663\"},\"title\":{\"font\":{\"color\":\"#4D5663\"},\"text\":\"\"},\"zerolinecolor\":\"#E1E5ED\"},\"yaxis16\":{\"anchor\":\"x16\",\"domain\":[0.0,0.1975],\"gridcolor\":\"#E1E5ED\",\"showgrid\":false,\"tickfont\":{\"color\":\"#4D5663\"},\"title\":{\"font\":{\"color\":\"#4D5663\"},\"text\":\"\"},\"zerolinecolor\":\"#E1E5ED\"}},                        {\"showLink\": true, \"linkText\": \"Export to plot.ly\", \"plotlyServerURL\": \"https://plot.ly\", \"responsive\": true}                    ).then(function(){\n",
       "                            \n",
       "var gd = document.getElementById('a37184ed-420f-49aa-aa30-6ed22489139b');\n",
       "var x = new MutationObserver(function (mutations, observer) {{\n",
       "        var display = window.getComputedStyle(gd).display;\n",
       "        if (!display || display === 'none') {{\n",
       "            console.log([gd, 'removed!']);\n",
       "            Plotly.purge(gd);\n",
       "            observer.disconnect();\n",
       "        }}\n",
       "}});\n",
       "\n",
       "// Listen for the removal of the full notebook cells\n",
       "var notebookContainer = gd.closest('#notebook-container');\n",
       "if (notebookContainer) {{\n",
       "    x.observe(notebookContainer, {childList: true});\n",
       "}}\n",
       "\n",
       "// Listen for the clearing of the current output cell\n",
       "var outputEl = gd.closest('.output');\n",
       "if (outputEl) {{\n",
       "    x.observe(outputEl, {childList: true});\n",
       "}}\n",
       "\n",
       "                        })                };                });            </script>        </div>"
      ]
     },
     "metadata": {},
     "output_type": "display_data"
    }
   ],
   "source": [
    "df.scatter_matrix()"
   ]
  },
  {
   "cell_type": "code",
   "execution_count": null,
   "id": "3a3117f5",
   "metadata": {},
   "outputs": [],
   "source": []
  }
 ],
 "metadata": {
  "kernelspec": {
   "display_name": "Python 3",
   "language": "python",
   "name": "python3"
  },
  "language_info": {
   "codemirror_mode": {
    "name": "ipython",
    "version": 3
   },
   "file_extension": ".py",
   "mimetype": "text/x-python",
   "name": "python",
   "nbconvert_exporter": "python",
   "pygments_lexer": "ipython3",
   "version": "3.6.13"
  }
 },
 "nbformat": 4,
 "nbformat_minor": 5
}
