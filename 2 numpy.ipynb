{
 "cells": [
  {
   "cell_type": "code",
   "execution_count": 1,
   "id": "690ff7ea",
   "metadata": {},
   "outputs": [],
   "source": [
    "import numpy as np"
   ]
  },
  {
   "cell_type": "code",
   "execution_count": 5,
   "id": "f373fd2c",
   "metadata": {},
   "outputs": [
    {
     "data": {
      "text/plain": [
       "array([[1, 0, 0],\n",
       "       [0, 1, 0],\n",
       "       [0, 0, 1]])"
      ]
     },
     "execution_count": 5,
     "metadata": {},
     "output_type": "execute_result"
    }
   ],
   "source": [
    "mat1=np.eye(3,dtype=int)\n",
    "mat1 #identity matrix"
   ]
  },
  {
   "cell_type": "code",
   "execution_count": 8,
   "id": "56260d24",
   "metadata": {},
   "outputs": [
    {
     "data": {
      "text/plain": [
       "array([[1, 0, 0, 0],\n",
       "       [0, 1, 0, 0],\n",
       "       [0, 0, 1, 0]])"
      ]
     },
     "execution_count": 8,
     "metadata": {},
     "output_type": "execute_result"
    }
   ],
   "source": [
    "mat2=np.eye(3,4,dtype=int) #4 will give a 4th column in identity matrix\n",
    "mat2"
   ]
  },
  {
   "cell_type": "code",
   "execution_count": 12,
   "id": "7a44fb1d",
   "metadata": {},
   "outputs": [
    {
     "data": {
      "text/plain": [
       "array([[0., 1., 0., 0.],\n",
       "       [0., 0., 1., 0.],\n",
       "       [0., 0., 0., 1.]])"
      ]
     },
     "execution_count": 12,
     "metadata": {},
     "output_type": "execute_result"
    }
   ],
   "source": [
    "c=np.eye(3,4,k=1)# k=positive value gives shift to upper matrix(upper values than diagonal)\n",
    "c"
   ]
  },
  {
   "cell_type": "code",
   "execution_count": 13,
   "id": "17dcf074",
   "metadata": {},
   "outputs": [
    {
     "data": {
      "text/plain": [
       "array([[0., 0., 0., 0.],\n",
       "       [1., 0., 0., 0.],\n",
       "       [0., 1., 0., 0.]])"
      ]
     },
     "execution_count": 13,
     "metadata": {},
     "output_type": "execute_result"
    }
   ],
   "source": [
    "c=np.eye(3,4,k=-1)# k=positive value gives shift to lower matrix(lower values than diagonal)\n",
    "c"
   ]
  },
  {
   "cell_type": "code",
   "execution_count": 14,
   "id": "da057b35",
   "metadata": {},
   "outputs": [
    {
     "data": {
      "text/plain": [
       "array([[0., 0., 1., 0.],\n",
       "       [0., 0., 0., 1.],\n",
       "       [0., 0., 0., 0.]])"
      ]
     },
     "execution_count": 14,
     "metadata": {},
     "output_type": "execute_result"
    }
   ],
   "source": [
    "c=np.eye(3,4,k=2)# k=positive value gives shift of 2 in diagonal to upper matrix(upper values than diagonal)\n",
    "c"
   ]
  },
  {
   "cell_type": "code",
   "execution_count": 17,
   "id": "9ca1b301",
   "metadata": {},
   "outputs": [
    {
     "name": "stdout",
     "output_type": "stream",
     "text": [
      "[[ 2  3  4]\n",
      " [ 5  6  7]\n",
      " [ 8  9 10]]\n"
     ]
    },
    {
     "data": {
      "text/plain": [
       "array([3, 7])"
      ]
     },
     "execution_count": 17,
     "metadata": {},
     "output_type": "execute_result"
    }
   ],
   "source": [
    "A=np.array([[2,3,4],[5,6,7],[8,9,10]])\n",
    "print(A)\n",
    "np.diag(A,k=1)"
   ]
  },
  {
   "cell_type": "code",
   "execution_count": 18,
   "id": "36449ebb",
   "metadata": {},
   "outputs": [
    {
     "data": {
      "text/plain": [
       "array([[1., 0., 0., 0.],\n",
       "       [1., 1., 0., 0.],\n",
       "       [1., 1., 1., 0.],\n",
       "       [1., 1., 1., 1.]])"
      ]
     },
     "execution_count": 18,
     "metadata": {},
     "output_type": "execute_result"
    }
   ],
   "source": [
    "#lower triangular matrix\n",
    "np.tri(4)"
   ]
  },
  {
   "cell_type": "code",
   "execution_count": 19,
   "id": "82ba176f",
   "metadata": {},
   "outputs": [
    {
     "data": {
      "text/plain": [
       "array([[1., 0., 0., 0., 0.],\n",
       "       [1., 1., 0., 0., 0.],\n",
       "       [1., 1., 1., 0., 0.],\n",
       "       [1., 1., 1., 1., 0.]])"
      ]
     },
     "execution_count": 19,
     "metadata": {},
     "output_type": "execute_result"
    }
   ],
   "source": [
    "np.tri(4,5)"
   ]
  },
  {
   "cell_type": "code",
   "execution_count": 20,
   "id": "100e79b6",
   "metadata": {},
   "outputs": [
    {
     "data": {
      "text/plain": [
       "array([[ 2,  3,  4],\n",
       "       [ 0,  6,  7],\n",
       "       [ 0,  0, 10]])"
      ]
     },
     "execution_count": 20,
     "metadata": {},
     "output_type": "execute_result"
    }
   ],
   "source": [
    "#upper triangular matrix\n",
    "np.triu(A)"
   ]
  },
  {
   "cell_type": "code",
   "execution_count": 23,
   "id": "18b70838",
   "metadata": {},
   "outputs": [
    {
     "data": {
      "text/plain": [
       "array([[1, 1, 1],\n",
       "       [4, 2, 1],\n",
       "       [9, 3, 1]])"
      ]
     },
     "execution_count": 23,
     "metadata": {},
     "output_type": "execute_result"
    }
   ],
   "source": [
    "#vandermonde matrix #power of rows will be column\n",
    "np.vander([1,2,3])"
   ]
  },
  {
   "cell_type": "code",
   "execution_count": 27,
   "id": "6b7ab704",
   "metadata": {},
   "outputs": [
    {
     "data": {
      "text/plain": [
       "array([[  1,   1,   1,   1,   1,   1],\n",
       "       [ 32,  16,   8,   4,   2,   1],\n",
       "       [243,  81,  27,   9,   3,   1]])"
      ]
     },
     "execution_count": 27,
     "metadata": {},
     "output_type": "execute_result"
    }
   ],
   "source": [
    "np.vander([1,2,3],6)  #6 will be number of column"
   ]
  },
  {
   "cell_type": "code",
   "execution_count": 28,
   "id": "0c1503f5",
   "metadata": {},
   "outputs": [
    {
     "data": {
      "text/plain": [
       "array([[  1,   1,   1,   1,   1,   1],\n",
       "       [  1,   2,   4,   8,  16,  32],\n",
       "       [  1,   3,   9,  27,  81, 243]])"
      ]
     },
     "execution_count": 28,
     "metadata": {},
     "output_type": "execute_result"
    }
   ],
   "source": [
    "np.vander([1,2,3],6,increasing=True)"
   ]
  },
  {
   "cell_type": "code",
   "execution_count": 44,
   "id": "b4bc29e9",
   "metadata": {},
   "outputs": [
    {
     "data": {
      "text/plain": [
       "array([[8.90125431e-01, 1.33962601e-01, 5.70500388e-01],\n",
       "       [5.17929468e-01, 9.94746152e-01, 7.37975765e-01],\n",
       "       [7.40234415e-01, 8.20697205e-01, 1.85813739e-01],\n",
       "       [8.24573021e-01, 9.85536058e-04, 1.22025646e-01],\n",
       "       [4.27348088e-01, 9.18140009e-01, 6.80875680e-01]])"
      ]
     },
     "execution_count": 44,
     "metadata": {},
     "output_type": "execute_result"
    }
   ],
   "source": [
    "np.random.rand(5,3) "
   ]
  },
  {
   "cell_type": "code",
   "execution_count": 43,
   "id": "a35d708b",
   "metadata": {},
   "outputs": [
    {
     "data": {
      "text/plain": [
       "array([[-0.07847375, -0.74412555, -0.54121803],\n",
       "       [ 0.53888577,  1.98263472, -0.09771127],\n",
       "       [ 0.19585657,  1.94133723,  0.91990163],\n",
       "       [-0.74877851,  0.44064824, -0.14345669]])"
      ]
     },
     "execution_count": 43,
     "metadata": {},
     "output_type": "execute_result"
    }
   ],
   "source": [
    "np.random.randn(4,3) #mean=0,S.D=1 Normal distribution"
   ]
  },
  {
   "cell_type": "code",
   "execution_count": 52,
   "id": "0d9838a3",
   "metadata": {},
   "outputs": [
    {
     "data": {
      "text/plain": [
       "array([6, 8, 5, 6, 2])"
      ]
     },
     "execution_count": 52,
     "metadata": {},
     "output_type": "execute_result"
    }
   ],
   "source": [
    "np.random.randint(2,10,5) #2,10 is range, 5 is the number of elements"
   ]
  },
  {
   "cell_type": "code",
   "execution_count": 54,
   "id": "680325af",
   "metadata": {},
   "outputs": [
    {
     "data": {
      "text/plain": [
       "array([[3, 8, 2, 5],\n",
       "       [3, 2, 2, 4],\n",
       "       [5, 8, 3, 6],\n",
       "       [6, 9, 3, 9],\n",
       "       [3, 7, 5, 4]])"
      ]
     },
     "execution_count": 54,
     "metadata": {},
     "output_type": "execute_result"
    }
   ],
   "source": [
    "np.random.randint(2,10,(5,4)) #size of array in tuples"
   ]
  },
  {
   "cell_type": "code",
   "execution_count": 61,
   "id": "6dc74969",
   "metadata": {},
   "outputs": [
    {
     "data": {
      "text/plain": [
       "array([1, 2, 3, 4, 5, 6, 7, 8, 9])"
      ]
     },
     "execution_count": 61,
     "metadata": {},
     "output_type": "execute_result"
    }
   ],
   "source": [
    "#reshape\n",
    "arr=np.arange(1,10) #create last-1 elements\n",
    "arr"
   ]
  },
  {
   "cell_type": "code",
   "execution_count": 63,
   "id": "3b633296",
   "metadata": {},
   "outputs": [
    {
     "data": {
      "text/plain": [
       "array([[ 1,  2,  3,  4],\n",
       "       [ 5,  6,  7,  8],\n",
       "       [ 9, 10, 11, 12]])"
      ]
     },
     "execution_count": 63,
     "metadata": {},
     "output_type": "execute_result"
    }
   ],
   "source": [
    "arr=np.arange(1,13).reshape(3,4)\n",
    "arr"
   ]
  },
  {
   "cell_type": "code",
   "execution_count": 66,
   "id": "0373a2a4",
   "metadata": {},
   "outputs": [
    {
     "data": {
      "text/plain": [
       "array([[ 7,  8],\n",
       "       [11, 12]])"
      ]
     },
     "execution_count": 66,
     "metadata": {},
     "output_type": "execute_result"
    }
   ],
   "source": [
    "#copy array and view array\n",
    "slice_arr=arr[1:,2:]\n",
    "slice_arr"
   ]
  },
  {
   "cell_type": "code",
   "execution_count": 68,
   "id": "a7007306",
   "metadata": {},
   "outputs": [
    {
     "data": {
      "text/plain": [
       "array([[  7, 100],\n",
       "       [ 11,  12]])"
      ]
     },
     "execution_count": 68,
     "metadata": {},
     "output_type": "execute_result"
    }
   ],
   "source": [
    "slice_arr[0,1]=100\n",
    "slice_arr"
   ]
  },
  {
   "cell_type": "code",
   "execution_count": 70,
   "id": "6fcc3852",
   "metadata": {},
   "outputs": [
    {
     "data": {
      "text/plain": [
       "array([[  1,   2,   3,   4],\n",
       "       [  5,   6,   7, 100],\n",
       "       [  9,  10,  11,  12]])"
      ]
     },
     "execution_count": 70,
     "metadata": {},
     "output_type": "execute_result"
    }
   ],
   "source": [
    "copy_arr=arr.copy()\n",
    "copy_arr"
   ]
  },
  {
   "cell_type": "code",
   "execution_count": 72,
   "id": "5bb2bf25",
   "metadata": {},
   "outputs": [
    {
     "data": {
      "text/plain": [
       "array([[ 1,  2,  3,  4],\n",
       "       [ 5,  6,  7,  7],\n",
       "       [ 9, 10, 11, 12]])"
      ]
     },
     "execution_count": 72,
     "metadata": {},
     "output_type": "execute_result"
    }
   ],
   "source": [
    "copy_arr[1,3]=7\n",
    "copy_arr #no change in parent array happens"
   ]
  },
  {
   "cell_type": "code",
   "execution_count": 2,
   "id": "247a9c23",
   "metadata": {},
   "outputs": [
    {
     "ename": "NameError",
     "evalue": "name 'arr' is not defined",
     "output_type": "error",
     "traceback": [
      "\u001b[1;31m---------------------------------------------------------------------------\u001b[0m",
      "\u001b[1;31mNameError\u001b[0m                                 Traceback (most recent call last)",
      "\u001b[1;32m~\\AppData\\Local\\Temp/ipykernel_28648/3418240484.py\u001b[0m in \u001b[0;36m<module>\u001b[1;34m\u001b[0m\n\u001b[1;32m----> 1\u001b[1;33m \u001b[0marr\u001b[0m\u001b[1;33m\u001b[0m\u001b[1;33m\u001b[0m\u001b[0m\n\u001b[0m",
      "\u001b[1;31mNameError\u001b[0m: name 'arr' is not defined"
     ]
    }
   ],
   "source": [
    "arr"
   ]
  },
  {
   "cell_type": "code",
   "execution_count": 74,
   "id": "5c73e8e8",
   "metadata": {},
   "outputs": [],
   "source": [
    "#view will make a change in parent array also"
   ]
  },
  {
   "cell_type": "code",
   "execution_count": 78,
   "id": "45cfe5e8",
   "metadata": {},
   "outputs": [],
   "source": [
    "copy_arr.base "
   ]
  },
  {
   "cell_type": "code",
   "execution_count": 79,
   "id": "372a3fab",
   "metadata": {},
   "outputs": [],
   "source": [
    "view_arr=arr.view()"
   ]
  },
  {
   "cell_type": "code",
   "execution_count": 81,
   "id": "bd91f7c9",
   "metadata": {},
   "outputs": [
    {
     "data": {
      "text/plain": [
       "array([  1,   2,   3,   4,   5,   6,   7, 100,   9,  10,  11,  12])"
      ]
     },
     "execution_count": 81,
     "metadata": {},
     "output_type": "execute_result"
    }
   ],
   "source": [
    "view_arr.base #it will give the parent array of view_arr"
   ]
  },
  {
   "cell_type": "code",
   "execution_count": null,
   "id": "f7d2c8d2",
   "metadata": {},
   "outputs": [],
   "source": []
  }
 ],
 "metadata": {
  "kernelspec": {
   "display_name": "Python 3",
   "language": "python",
   "name": "python3"
  },
  "language_info": {
   "codemirror_mode": {
    "name": "ipython",
    "version": 3
   },
   "file_extension": ".py",
   "mimetype": "text/x-python",
   "name": "python",
   "nbconvert_exporter": "python",
   "pygments_lexer": "ipython3",
   "version": "3.6.13"
  }
 },
 "nbformat": 4,
 "nbformat_minor": 5
}
