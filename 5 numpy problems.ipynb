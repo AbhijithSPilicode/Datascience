{
 "cells": [
  {
   "cell_type": "code",
   "execution_count": 1,
   "id": "59a90572",
   "metadata": {},
   "outputs": [],
   "source": [
    "import numpy as np"
   ]
  },
  {
   "cell_type": "code",
   "execution_count": 32,
   "id": "c5c197d7",
   "metadata": {},
   "outputs": [],
   "source": [
    "A=np.array([[3,2,1,4],[5,2,1,6]])\n",
    "B=np.array([[3,2,1,4],[5,2,0,6]])\n",
    "C=np.array([[True,False,False],[True,True,True]])\n",
    "D=np.array([[0.1,0.0]])"
   ]
  },
  {
   "cell_type": "code",
   "execution_count": 12,
   "id": "f379e880",
   "metadata": {},
   "outputs": [
    {
     "name": "stdout",
     "output_type": "stream",
     "text": [
      "A :[ True  True]\n",
      "B :[ True False]\n",
      "C :[False  True]\n"
     ]
    }
   ],
   "source": [
    "for name,array in zip(list(\"ABC\"),[A,B,C]):\n",
    "    print(f\"{name} :{np.all(array,axis=1)}\")  "
   ]
  },
  {
   "cell_type": "code",
   "execution_count": 13,
   "id": "a1046764",
   "metadata": {},
   "outputs": [
    {
     "name": "stdout",
     "output_type": "stream",
     "text": [
      "A :[ True  True  True  True]\n",
      "B :[ True  True  True  True]\n",
      "C :[ True  True  True]\n",
      "D :True\n"
     ]
    }
   ],
   "source": [
    "#to check if any element in following array return logical value true \n",
    "for name,array in zip(list(\"ABCD\"),[A,B,C,D]):\n",
    "    print(f\"{name} :{np.any(array,axis=0)}\")"
   ]
  },
  {
   "cell_type": "code",
   "execution_count": 15,
   "id": "8f9798d6",
   "metadata": {},
   "outputs": [],
   "source": [
    "#check if the following array has missing data"
   ]
  },
  {
   "cell_type": "code",
   "execution_count": 29,
   "id": "6d7b0611",
   "metadata": {},
   "outputs": [
    {
     "name": "stdout",
     "output_type": "stream",
     "text": [
      "[[False False False  True]\n",
      " [False  True False False]]\n"
     ]
    }
   ],
   "source": [
    "A=np.array([[3,2,1,np.nan],[5,np.nan,1,6]])\n",
    "print(np.isnan(A))"
   ]
  },
  {
   "cell_type": "code",
   "execution_count": 34,
   "id": "172328cf",
   "metadata": {},
   "outputs": [
    {
     "data": {
      "text/plain": [
       "(array([0, 1], dtype=int64), array([2, 2], dtype=int64))"
      ]
     },
     "execution_count": 34,
     "metadata": {},
     "output_type": "execute_result"
    }
   ],
   "source": [
    "np.where(A==1) #it will find index of 1 in A"
   ]
  },
  {
   "cell_type": "code",
   "execution_count": 35,
   "id": "d4b5a64d",
   "metadata": {},
   "outputs": [],
   "source": [
    "#check if following arrays are equal"
   ]
  },
  {
   "cell_type": "code",
   "execution_count": 36,
   "id": "57216fa3",
   "metadata": {},
   "outputs": [
    {
     "name": "stdout",
     "output_type": "stream",
     "text": [
      "[False False  True False]\n"
     ]
    }
   ],
   "source": [
    "A=np.array([0.4,0.5,0.3,0.9])\n",
    "B=np.array([0.38,0.51,0.3,0.91])\n",
    "print(A==B)"
   ]
  },
  {
   "cell_type": "code",
   "execution_count": 37,
   "id": "d0c3b9d6",
   "metadata": {},
   "outputs": [
    {
     "name": "stdout",
     "output_type": "stream",
     "text": [
      "[ True False False False]\n"
     ]
    }
   ],
   "source": [
    "print(A>B)"
   ]
  },
  {
   "cell_type": "code",
   "execution_count": 38,
   "id": "dda9cf25",
   "metadata": {},
   "outputs": [
    {
     "name": "stdout",
     "output_type": "stream",
     "text": [
      "[ True False False False]\n"
     ]
    }
   ],
   "source": [
    "print(np.greater(A,B))"
   ]
  },
  {
   "cell_type": "code",
   "execution_count": 39,
   "id": "37d3a29d",
   "metadata": {},
   "outputs": [],
   "source": [
    "#Create a 4x4 array of zeros"
   ]
  },
  {
   "cell_type": "code",
   "execution_count": 42,
   "id": "e717ced5",
   "metadata": {},
   "outputs": [
    {
     "name": "stdout",
     "output_type": "stream",
     "text": [
      "[[0. 0. 0. 0.]\n",
      " [0. 0. 0. 0.]\n",
      " [0. 0. 0. 0.]\n",
      " [0. 0. 0. 0.]]\n"
     ]
    }
   ],
   "source": [
    "print(np.zeros((4,4)))"
   ]
  },
  {
   "cell_type": "code",
   "execution_count": 43,
   "id": "61f5f45e",
   "metadata": {},
   "outputs": [],
   "source": [
    "#create 10x10 matrix filled with 255"
   ]
  },
  {
   "cell_type": "code",
   "execution_count": 45,
   "id": "89416734",
   "metadata": {},
   "outputs": [
    {
     "data": {
      "text/plain": [
       "array([[255., 255., 255., 255., 255., 255., 255., 255., 255., 255.],\n",
       "       [255., 255., 255., 255., 255., 255., 255., 255., 255., 255.],\n",
       "       [255., 255., 255., 255., 255., 255., 255., 255., 255., 255.],\n",
       "       [255., 255., 255., 255., 255., 255., 255., 255., 255., 255.],\n",
       "       [255., 255., 255., 255., 255., 255., 255., 255., 255., 255.],\n",
       "       [255., 255., 255., 255., 255., 255., 255., 255., 255., 255.],\n",
       "       [255., 255., 255., 255., 255., 255., 255., 255., 255., 255.],\n",
       "       [255., 255., 255., 255., 255., 255., 255., 255., 255., 255.],\n",
       "       [255., 255., 255., 255., 255., 255., 255., 255., 255., 255.],\n",
       "       [255., 255., 255., 255., 255., 255., 255., 255., 255., 255.]])"
      ]
     },
     "execution_count": 45,
     "metadata": {},
     "output_type": "execute_result"
    }
   ],
   "source": [
    "X=np.ones((10,10)) * 255\n",
    "X"
   ]
  },
  {
   "cell_type": "code",
   "execution_count": 48,
   "id": "0e8bb8cb",
   "metadata": {},
   "outputs": [
    {
     "data": {
      "text/plain": [
       "array([[255, 255, 255, 255, 255, 255, 255, 255, 255, 255],\n",
       "       [255, 255, 255, 255, 255, 255, 255, 255, 255, 255],\n",
       "       [255, 255, 255, 255, 255, 255, 255, 255, 255, 255],\n",
       "       [255, 255, 255, 255, 255, 255, 255, 255, 255, 255],\n",
       "       [255, 255, 255, 255, 255, 255, 255, 255, 255, 255],\n",
       "       [255, 255, 255, 255, 255, 255, 255, 255, 255, 255],\n",
       "       [255, 255, 255, 255, 255, 255, 255, 255, 255, 255],\n",
       "       [255, 255, 255, 255, 255, 255, 255, 255, 255, 255],\n",
       "       [255, 255, 255, 255, 255, 255, 255, 255, 255, 255],\n",
       "       [255, 255, 255, 255, 255, 255, 255, 255, 255, 255]])"
      ]
     },
     "execution_count": 48,
     "metadata": {},
     "output_type": "execute_result"
    }
   ],
   "source": [
    "Y=np.full((10,10),fill_value=255)\n",
    "Y"
   ]
  },
  {
   "cell_type": "code",
   "execution_count": 50,
   "id": "bb8b5546",
   "metadata": {},
   "outputs": [
    {
     "data": {
      "text/plain": [
       "array([[ 0,  1,  2,  3,  4,  5,  6,  7,  8,  9],\n",
       "       [10, 11, 12, 13, 14, 15, 16, 17, 18, 19],\n",
       "       [20, 21, 22, 23, 24, 25, 26, 27, 28, 29],\n",
       "       [30, 31, 32, 33, 34, 35, 36, 37, 38, 39],\n",
       "       [40, 41, 42, 43, 44, 45, 46, 47, 48, 49],\n",
       "       [50, 51, 52, 53, 54, 55, 56, 57, 58, 59],\n",
       "       [60, 61, 62, 63, 64, 65, 66, 67, 68, 69],\n",
       "       [70, 71, 72, 73, 74, 75, 76, 77, 78, 79],\n",
       "       [80, 81, 82, 83, 84, 85, 86, 87, 88, 89],\n",
       "       [90, 91, 92, 93, 94, 95, 96, 97, 98, 99]])"
      ]
     },
     "execution_count": 50,
     "metadata": {},
     "output_type": "execute_result"
    }
   ],
   "source": [
    "#using numpy create onee dimensional array of all 2 digit numbers \n",
    "A=np.arange(100).reshape(10,10)\n",
    "A"
   ]
  },
  {
   "cell_type": "code",
   "execution_count": 53,
   "id": "5ef5b97c",
   "metadata": {},
   "outputs": [
    {
     "data": {
      "text/plain": [
       "array([[10, 11, 12, 13, 14, 15, 16, 17, 18, 19],\n",
       "       [20, 21, 22, 23, 24, 25, 26, 27, 28, 29],\n",
       "       [30, 31, 32, 33, 34, 35, 36, 37, 38, 39],\n",
       "       [40, 41, 42, 43, 44, 45, 46, 47, 48, 49],\n",
       "       [50, 51, 52, 53, 54, 55, 56, 57, 58, 59],\n",
       "       [60, 61, 62, 63, 64, 65, 66, 67, 68, 69],\n",
       "       [70, 71, 72, 73, 74, 75, 76, 77, 78, 79],\n",
       "       [80, 81, 82, 83, 84, 85, 86, 87, 88, 89],\n",
       "       [90, 91, 92, 93, 94, 95, 96, 97, 98, 99]])"
      ]
     },
     "execution_count": 53,
     "metadata": {},
     "output_type": "execute_result"
    }
   ],
   "source": [
    "# print following:\n",
    "A=np.arange(10,100).reshape(9,-1)\n",
    "A"
   ]
  },
  {
   "cell_type": "code",
   "execution_count": 54,
   "id": "5fef4ca3",
   "metadata": {},
   "outputs": [],
   "source": [
    "#print 6x6 identity matrix"
   ]
  },
  {
   "cell_type": "code",
   "execution_count": 58,
   "id": "78c0277a",
   "metadata": {},
   "outputs": [
    {
     "data": {
      "text/plain": [
       "array([[1, 0, 0, 0, 0, 0],\n",
       "       [0, 1, 0, 0, 0, 0],\n",
       "       [0, 0, 1, 0, 0, 0],\n",
       "       [0, 0, 0, 1, 0, 0],\n",
       "       [0, 0, 0, 0, 1, 0],\n",
       "       [0, 0, 0, 0, 0, 1]])"
      ]
     },
     "execution_count": 58,
     "metadata": {},
     "output_type": "execute_result"
    }
   ],
   "source": [
    "np.eye(6,dtype=\"int\")"
   ]
  },
  {
   "cell_type": "code",
   "execution_count": 59,
   "id": "2613fab1",
   "metadata": {},
   "outputs": [
    {
     "data": {
      "text/plain": [
       "array([[1, 0, 0, 0, 0, 0],\n",
       "       [0, 1, 0, 0, 0, 0],\n",
       "       [0, 0, 1, 0, 0, 0],\n",
       "       [0, 0, 0, 1, 0, 0],\n",
       "       [0, 0, 0, 0, 1, 0],\n",
       "       [0, 0, 0, 0, 0, 1]])"
      ]
     },
     "execution_count": 59,
     "metadata": {},
     "output_type": "execute_result"
    }
   ],
   "source": [
    "np.identity(6,dtype=\"int\")"
   ]
  },
  {
   "cell_type": "code",
   "execution_count": 60,
   "id": "010f24ae",
   "metadata": {},
   "outputs": [],
   "source": [
    "#set random seed to 10,then using numpy create a one dimensional array cosisting of 30 pseudo randomly geerated"
   ]
  },
  {
   "cell_type": "code",
   "execution_count": 62,
   "id": "6990c74b",
   "metadata": {},
   "outputs": [
    {
     "name": "stdout",
     "output_type": "stream",
     "text": [
      "[0.77132064 0.02075195 0.63364823 0.74880388 0.49850701 0.22479665\n",
      " 0.19806286 0.76053071 0.16911084 0.08833981 0.68535982 0.95339335\n",
      " 0.00394827 0.51219226 0.81262096 0.61252607 0.72175532 0.29187607\n",
      " 0.91777412 0.71457578 0.54254437 0.14217005 0.37334076 0.67413362\n",
      " 0.44183317 0.43401399 0.61776698 0.51313824 0.65039718 0.60103895]\n"
     ]
    }
   ],
   "source": [
    "np.random.seed(10)\n",
    "print(np.random.rand(30))"
   ]
  },
  {
   "cell_type": "code",
   "execution_count": 63,
   "id": "a734a1a8",
   "metadata": {},
   "outputs": [
    {
     "name": "stdout",
     "output_type": "stream",
     "text": [
      "[ 1.3315865   0.71527897 -1.54540029 -0.00838385  0.62133597 -0.72008556\n",
      "  0.26551159  0.10854853  0.00429143 -0.17460021  0.43302619  1.20303737\n",
      " -0.96506567  1.02827408  0.22863013  0.44513761 -1.13660221  0.13513688\n",
      "  1.484537   -1.07980489 -1.97772828 -1.7433723   0.26607016  2.38496733\n",
      "  1.12369125  1.67262221  0.09914922  1.39799638 -0.27124799  0.61320418]\n"
     ]
    }
   ],
   "source": [
    "np.random.seed(10)\n",
    "print(np.random.randn(30))"
   ]
  },
  {
   "cell_type": "code",
   "execution_count": 64,
   "id": "00b8d327",
   "metadata": {},
   "outputs": [],
   "source": [
    "#normal distribution of N(100,5).seed to 30"
   ]
  },
  {
   "cell_type": "code",
   "execution_count": 67,
   "id": "8aba3432",
   "metadata": {},
   "outputs": [
    {
     "name": "stdout",
     "output_type": "stream",
     "text": [
      "[[101.44034873 100.85137951 101.48262019 100.36593415]\n",
      " [102.15245651 100.77515944 102.21762264 100.52560543]\n",
      " [101.3096522  100.90938671 100.3046292  101.21672573]\n",
      " [101.15867754 101.71474015 102.0881524  100.20058286]\n",
      " [100.43775784 102.22308466 100.52587958 100.53438977]\n",
      " [101.40670999 101.64340392 101.53918483 100.06961047]\n",
      " [102.0180823  100.64048886 101.24238746 100.84170125]\n",
      " [100.05953389 101.10495103 101.86647969 100.82060862]\n",
      " [101.15242944 101.05627184 100.86346232 101.66394093]\n",
      " [100.74962408 101.33144049 100.70689573 100.77423949]]\n"
     ]
    }
   ],
   "source": [
    "np.random.seed(30)\n",
    "sd=np.sqrt(5)\n",
    "mu=100\n",
    "print(sd * np.random.rand(10,4)+100)"
   ]
  },
  {
   "cell_type": "code",
   "execution_count": 72,
   "id": "b61e63be",
   "metadata": {},
   "outputs": [],
   "source": [
    "#iterate through each item\n",
    "A=np.array([[1,4,3],[5,2,6]])"
   ]
  },
  {
   "cell_type": "code",
   "execution_count": 73,
   "id": "6d404025",
   "metadata": {},
   "outputs": [
    {
     "name": "stdout",
     "output_type": "stream",
     "text": [
      "1\n",
      "4\n",
      "3\n",
      "5\n",
      "2\n",
      "6\n"
     ]
    }
   ],
   "source": [
    "for  i in np.nditer(A):\n",
    "    print(i)"
   ]
  },
  {
   "cell_type": "code",
   "execution_count": 74,
   "id": "5aac7dd6",
   "metadata": {},
   "outputs": [
    {
     "name": "stdout",
     "output_type": "stream",
     "text": [
      "[0.  0.1 0.2 0.3 0.4 0.5 0.6 0.7 0.8 0.9 1. ]\n"
     ]
    }
   ],
   "source": [
    "#using numpy vreate a 1d array of equally distributed number of interval [0,1]\n",
    "print(np.linspace(0,1,11))"
   ]
  },
  {
   "cell_type": "code",
   "execution_count": 75,
   "id": "208e241f",
   "metadata": {},
   "outputs": [],
   "source": [
    "#using numpy create a 1D contain possible result from big lotto game(random seed to 42)"
   ]
  },
  {
   "cell_type": "code",
   "execution_count": 79,
   "id": "481ea261",
   "metadata": {},
   "outputs": [
    {
     "name": "stdout",
     "output_type": "stream",
     "text": [
      "[39 29 15 43  8 21]\n"
     ]
    }
   ],
   "source": [
    "np.random.seed(42)\n",
    "Z=np.random.choice(range(1,50),size=6)\n",
    "print(Z)"
   ]
  },
  {
   "cell_type": "code",
   "execution_count": 80,
   "id": "79b5857a",
   "metadata": {},
   "outputs": [],
   "source": [
    "#create an identity matrix and change diagonal to 1-5."
   ]
  },
  {
   "cell_type": "code",
   "execution_count": 84,
   "id": "7793d05c",
   "metadata": {},
   "outputs": [
    {
     "data": {
      "text/plain": [
       "array([[1, 0, 0, 0, 0],\n",
       "       [0, 2, 0, 0, 0],\n",
       "       [0, 0, 3, 0, 0],\n",
       "       [0, 0, 0, 4, 0],\n",
       "       [0, 0, 0, 0, 5]])"
      ]
     },
     "execution_count": 84,
     "metadata": {},
     "output_type": "execute_result"
    }
   ],
   "source": [
    "K=np.arange(1,6)\n",
    "np.diag(K)"
   ]
  },
  {
   "cell_type": "code",
   "execution_count": 2,
   "id": "a1d579ea",
   "metadata": {},
   "outputs": [],
   "source": [
    "#using numpy create the following array.save this array to a binary file 'array.npy' and then load back that file to another variable.print this variable to the console.\n",
    "#[[ 0 1 2 3]\n",
    "#[ 4 5 6 7]\n",
    "#[ 8 9 10 11]]\n",
    "\n",
    "#use save() and load() methods"
   ]
  },
  {
   "cell_type": "code",
   "execution_count": 17,
   "id": "40db1528",
   "metadata": {},
   "outputs": [
    {
     "name": "stdout",
     "output_type": "stream",
     "text": [
      "[[ 0.  1.  2.  3.]\n",
      " [ 4.  5.  6.  7.]\n",
      " [ 8.  9. 10. 11.]]\n"
     ]
    }
   ],
   "source": [
    "A=np.arange(12).reshape(3,-1)\n",
    "np.savetxt(\"array.py\",A)\n",
    "B=np.loadtxt(\"array.py\")\n",
    "print(B)"
   ]
  },
  {
   "cell_type": "code",
   "execution_count": 12,
   "id": "bb27f8ea",
   "metadata": {},
   "outputs": [],
   "source": [
    "#using numpy create the following array.save this array to a text file 'array.txt' with two decimal point precision and then load back that file to another variable.print this variable to the console.\n",
    "#[[ 0 1 2 3]\n",
    "#[ 4 5 6 7]\n",
    "#[ 8 9 10 11]]\n",
    "\n",
    "#use savetxt() and loadtxt() methods"
   ]
  },
  {
   "cell_type": "code",
   "execution_count": 10,
   "id": "55630474",
   "metadata": {},
   "outputs": [
    {
     "name": "stdout",
     "output_type": "stream",
     "text": [
      "[[ 0.  1.  2.  3.]\n",
      " [ 4.  5.  6.  7.]\n",
      " [ 8.  9. 10. 11.]]\n"
     ]
    }
   ],
   "source": [
    "A=np.arange(12).reshape(3,4)\n",
    "np.savetxt(\"array.txt\",A,fmt=\"%0.2f\")\n",
    "B=np.loadtxt(\"array.txt\")\n",
    "print(B)"
   ]
  },
  {
   "cell_type": "code",
   "execution_count": 18,
   "id": "55f59552",
   "metadata": {},
   "outputs": [],
   "source": [
    "#using numpy create the following array and convert to a list\n",
    "#[[0, 1, 2, 3],\n",
    "#[4, 5, 6, 7],\n",
    "#[8, 9, 10, 11]]\n",
    "\n",
    "#use tolist() method"
   ]
  },
  {
   "cell_type": "code",
   "execution_count": 19,
   "id": "0e4131c6",
   "metadata": {},
   "outputs": [
    {
     "name": "stdout",
     "output_type": "stream",
     "text": [
      "[[0, 1, 2, 3], [4, 5, 6, 7], [8, 9, 10, 11]]\n"
     ]
    }
   ],
   "source": [
    "A=np.arange(12).reshape(3,4)\n",
    "print(A.tolist())               #Array to list"
   ]
  },
  {
   "cell_type": "code",
   "execution_count": 20,
   "id": "5b5a223a",
   "metadata": {},
   "outputs": [],
   "source": [
    "#the following array is given, transform it to the expected output using slice operator and print to the console\n",
    "#[[ 0, 1, 2, 3],\n",
    "#[ 4, 5, 6, 7],\n",
    "#[ 8, 9, 10, 11]]\n",
    "\n",
    "#expected output\n",
    "\n",
    "#[[ 8 9 10 11]\n",
    "#[ 4 5 6 7]\n",
    "#[ 0 1 2 3]]"
   ]
  },
  {
   "cell_type": "code",
   "execution_count": 21,
   "id": "009bd5cc",
   "metadata": {},
   "outputs": [
    {
     "name": "stdout",
     "output_type": "stream",
     "text": [
      "[[ 8  9 10 11]\n",
      " [ 4  5  6  7]\n",
      " [ 0  1  2  3]]\n"
     ]
    }
   ],
   "source": [
    "A=np.arange(12).reshape(3,4)\n",
    "print(A[::-1])"
   ]
  },
  {
   "cell_type": "code",
   "execution_count": 22,
   "id": "4c80fcd0",
   "metadata": {},
   "outputs": [
    {
     "name": "stdout",
     "output_type": "stream",
     "text": [
      "[[ 8  9 10 11]\n",
      " [ 4  5  6  7]\n",
      " [ 0  1  2  3]]\n"
     ]
    }
   ],
   "source": [
    "print(np.flip(A,axis=0))"
   ]
  },
  {
   "cell_type": "code",
   "execution_count": 23,
   "id": "1864ad92",
   "metadata": {},
   "outputs": [],
   "source": [
    "#the following array is given, transform it to the expected output\n",
    "#[[1. 1. 1. 1.]\n",
    "#[1. 1. 1. 1.]\n",
    "#[1. 1. 1. 1.]\n",
    "#[1. 1. 1. 1.]]\n",
    "\n",
    "#expected output\n",
    "\n",
    "#[[0. 0. 0. 0. 0. 0.]\n",
    "#[0. 1. 1. 1. 1. 0.]\n",
    "#[0. 1. 1. 1. 1. 0.]\n",
    "#[0. 1. 1. 1. 1. 0.]\n",
    "#[0. 1. 1. 1. 1. 0.]\n",
    "#[0. 0. 0. 0. 0. 0.]]\n",
    "\n",
    "#use pad() method"
   ]
  },
  {
   "cell_type": "code",
   "execution_count": 35,
   "id": "0c1ed6ea",
   "metadata": {},
   "outputs": [
    {
     "data": {
      "text/plain": [
       "array([[0., 0., 0., 0., 0., 0.],\n",
       "       [0., 1., 1., 1., 1., 0.],\n",
       "       [0., 1., 1., 1., 1., 0.],\n",
       "       [0., 1., 1., 1., 1., 0.],\n",
       "       [0., 1., 1., 1., 1., 0.],\n",
       "       [0., 0., 0., 0., 0., 0.]])"
      ]
     },
     "execution_count": 35,
     "metadata": {},
     "output_type": "execute_result"
    }
   ],
   "source": [
    "A=np.ones((4,4))\n",
    "B=np.pad(A,pad_width=1,constant_values=0)\n",
    "B"
   ]
  },
  {
   "cell_type": "code",
   "execution_count": 36,
   "id": "2dc66f2a",
   "metadata": {},
   "outputs": [
    {
     "data": {
      "text/plain": [
       "array([[0., 0., 0., 0., 0., 0., 0.],\n",
       "       [0., 1., 1., 1., 1., 0., 0.],\n",
       "       [0., 1., 1., 1., 1., 0., 0.],\n",
       "       [0., 1., 1., 1., 1., 0., 0.],\n",
       "       [0., 1., 1., 1., 1., 0., 0.],\n",
       "       [0., 0., 0., 0., 0., 0., 0.],\n",
       "       [0., 0., 0., 0., 0., 0., 0.]])"
      ]
     },
     "execution_count": 36,
     "metadata": {},
     "output_type": "execute_result"
    }
   ],
   "source": [
    "A=np.ones((4,4))\n",
    "B=np.pad(A,pad_width=(1,2),constant_values=0)\n",
    "B"
   ]
  },
  {
   "cell_type": "code",
   "execution_count": 37,
   "id": "f884694a",
   "metadata": {},
   "outputs": [
    {
     "data": {
      "text/plain": [
       "array([[0., 0., 0., 0., 0., 0., 0., 0.],\n",
       "       [0., 0., 0., 0., 0., 0., 0., 0.],\n",
       "       [0., 0., 1., 1., 1., 1., 0., 0.],\n",
       "       [0., 0., 1., 1., 1., 1., 0., 0.],\n",
       "       [0., 0., 1., 1., 1., 1., 0., 0.],\n",
       "       [0., 0., 1., 1., 1., 1., 0., 0.],\n",
       "       [0., 0., 0., 0., 0., 0., 0., 0.],\n",
       "       [0., 0., 0., 0., 0., 0., 0., 0.]])"
      ]
     },
     "execution_count": 37,
     "metadata": {},
     "output_type": "execute_result"
    }
   ],
   "source": [
    "A=np.ones((4,4))\n",
    "B=np.pad(A,pad_width=2,constant_values=0)\n",
    "B"
   ]
  },
  {
   "cell_type": "code",
   "execution_count": 38,
   "id": "9c8561ca",
   "metadata": {},
   "outputs": [],
   "source": [
    "#the following array is given, transform it to the expected output.\n",
    "#[[0 0 0 0 0 0]\n",
    "#[0 0 0 0 0 0]\n",
    "#[0 0 0 0 0 0]\n",
    "#[0 0 0 0 0 0]\n",
    "#[0 0 0 0 0 0]\n",
    "#[0 0 0 0 0 0]]\n",
    "\n",
    "#expected output\n",
    "\n",
    "#[[10 0 10 0 10 0]\n",
    "#[ 5 0 5 0 5 0]\n",
    "#[10 0 10 0 10 0]\n",
    "#[ 5 0 5 0 5 0]\n",
    "#[10 0 10 0 10 0]\n",
    "#[ 5 0 5 0 5 0]]"
   ]
  },
  {
   "cell_type": "code",
   "execution_count": 47,
   "id": "db1f2bf6",
   "metadata": {},
   "outputs": [
    {
     "data": {
      "text/plain": [
       "array([[10.,  0., 10.,  0., 10.,  0.],\n",
       "       [ 5.,  0.,  5.,  0.,  5.,  0.],\n",
       "       [10.,  0., 10.,  0., 10.,  0.],\n",
       "       [ 5.,  0.,  5.,  0.,  5.,  0.],\n",
       "       [10.,  0., 10.,  0., 10.,  0.],\n",
       "       [ 5.,  0.,  5.,  0.,  5.,  0.]])"
      ]
     },
     "execution_count": 47,
     "metadata": {},
     "output_type": "execute_result"
    }
   ],
   "source": [
    "A=np.zeros((6,6))\n",
    "A[::2,::2]=10  #second ::2 is for step\n",
    "A[1::2,::2]=5\n",
    "A"
   ]
  },
  {
   "cell_type": "code",
   "execution_count": 48,
   "id": "ffd620a5",
   "metadata": {},
   "outputs": [
    {
     "data": {
      "text/plain": [
       "array([[0., 0., 0., 0., 0., 0.],\n",
       "       [0., 0., 0., 0., 0., 0.],\n",
       "       [0., 0., 0., 0., 0., 0.],\n",
       "       [0., 0., 0., 0., 0., 0.],\n",
       "       [0., 0., 0., 0., 0., 0.],\n",
       "       [0., 0., 0., 0., 0., 0.]])"
      ]
     },
     "execution_count": 48,
     "metadata": {},
     "output_type": "execute_result"
    }
   ],
   "source": [
    "A=np.zeros((6,6))\n"
   ]
  },
  {
   "cell_type": "code",
   "execution_count": 50,
   "id": "dd3d703a",
   "metadata": {},
   "outputs": [],
   "source": [
    "#combine the following two arrays as one as shown and print to the console\n",
    "#A=np.arange(12).reshape(3,4)\n",
    "#B=np.array([[4,3,7,2],\n",
    "#            [0,5,2,6]])\n",
    "\n",
    "#expected output\n",
    "\n",
    "#[[ 0 1 2 3]\n",
    "#[ 4 5 6 7]\n",
    "#[ 8 9 10 11]\n",
    "#[ 4 3 7 2]\n",
    "#[ 0 5 2 6]]\n",
    "\n",
    "#use append() method"
   ]
  },
  {
   "cell_type": "code",
   "execution_count": 51,
   "id": "a149f180",
   "metadata": {},
   "outputs": [
    {
     "name": "stdout",
     "output_type": "stream",
     "text": [
      "[[ 0  1  2  3]\n",
      " [ 4  5  6  7]\n",
      " [ 8  9 10 11]\n",
      " [ 4  3  7  2]\n",
      " [ 0  5  2  6]]\n"
     ]
    }
   ],
   "source": [
    "A=np.arange(12).reshape(3,4)\n",
    "B=np.array([[4,3,7,2],\n",
    "            [0,5,2,6]])\n",
    "print(np.append(A,B,axis=0))"
   ]
  },
  {
   "cell_type": "code",
   "execution_count": 52,
   "id": "23511b26",
   "metadata": {},
   "outputs": [],
   "source": [
    "#the following arrays are given, extract the same elements of the arrays as a list and print to the console\n",
    "#A=np.arange(8).reshape(-1,4)\n",
    "#B=np.array([[9,10,11,3],\n",
    "#            [2,8,0,9]])\n",
    "\n",
    "#use intersect1d() method\n"
   ]
  },
  {
   "cell_type": "code",
   "execution_count": 53,
   "id": "971e4a5d",
   "metadata": {},
   "outputs": [
    {
     "name": "stdout",
     "output_type": "stream",
     "text": [
      "[0 2 3]\n"
     ]
    }
   ],
   "source": [
    "A=np.arange(8).reshape(-1,4)\n",
    "B=np.array([[9,10,11,3],\n",
    "            [2,8,0,9]])\n",
    "print(np.intersect1d(A,B))  #it will get elements common to both arrays"
   ]
  },
  {
   "cell_type": "code",
   "execution_count": 54,
   "id": "d7694ef7",
   "metadata": {},
   "outputs": [],
   "source": [
    "#the following array is given, extract all the unique values and print to the console.\n",
    "#use unique() method"
   ]
  },
  {
   "cell_type": "code",
   "execution_count": 55,
   "id": "8f3c6ba8",
   "metadata": {},
   "outputs": [
    {
     "name": "stdout",
     "output_type": "stream",
     "text": [
      "[[5 1 2 1 2]\n",
      " [9 1 9 7 5]\n",
      " [4 1 5 7 9]]\n"
     ]
    }
   ],
   "source": [
    "np.random.seed(10)\n",
    "A = np.random.randint(low=1, high=10, size=(3, 5))\n",
    "print(A)"
   ]
  },
  {
   "cell_type": "code",
   "execution_count": 56,
   "id": "c04c602c",
   "metadata": {},
   "outputs": [
    {
     "name": "stdout",
     "output_type": "stream",
     "text": [
      "[1 2 4 5 7 9]\n"
     ]
    }
   ],
   "source": [
    "print(np.unique(A))"
   ]
  },
  {
   "cell_type": "code",
   "execution_count": 57,
   "id": "3b9f3670",
   "metadata": {},
   "outputs": [],
   "source": [
    "#the following array is given, return a list of indexes with maximum values for each row from this array and print to the console\n",
    "#[[0.4 0.3 0.3]\n",
    "#[0.1 0.1 0.8]\n",
    "#[0.2 0.5 0.3]]\n",
    "\n",
    "#use argmax() method"
   ]
  },
  {
   "cell_type": "code",
   "execution_count": 64,
   "id": "92143b75",
   "metadata": {},
   "outputs": [
    {
     "name": "stdout",
     "output_type": "stream",
     "text": [
      "[0 2 1]\n"
     ]
    }
   ],
   "source": [
    "A=[[0.4,0.3,0.3],\n",
    "[0.1,0.1,0.8],\n",
    "[0.2,0.5,0.3]]\n",
    "B=np.argmax(A,axis=1)\n",
    "print(B)   #index of biggest element in each row"
   ]
  },
  {
   "cell_type": "code",
   "execution_count": null,
   "id": "d96ecabd",
   "metadata": {},
   "outputs": [],
   "source": []
  },
  {
   "cell_type": "code",
   "execution_count": null,
   "id": "a16e0d94",
   "metadata": {},
   "outputs": [],
   "source": []
  }
 ],
 "metadata": {
  "kernelspec": {
   "display_name": "Python 3",
   "language": "python",
   "name": "python3"
  },
  "language_info": {
   "codemirror_mode": {
    "name": "ipython",
    "version": 3
   },
   "file_extension": ".py",
   "mimetype": "text/x-python",
   "name": "python",
   "nbconvert_exporter": "python",
   "pygments_lexer": "ipython3",
   "version": "3.6.13"
  }
 },
 "nbformat": 4,
 "nbformat_minor": 5
}
