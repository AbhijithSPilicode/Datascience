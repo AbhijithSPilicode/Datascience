{
 "cells": [
  {
   "cell_type": "code",
   "execution_count": 1,
   "id": "9f5f146d",
   "metadata": {},
   "outputs": [],
   "source": [
    "import numpy as np\n",
    "import pandas as pd"
   ]
  },
  {
   "cell_type": "code",
   "execution_count": 2,
   "id": "485c3e49",
   "metadata": {},
   "outputs": [],
   "source": [
    "#there are 2 types 1.Series,2.DataFrames, #Dataframes ar miniseries"
   ]
  },
  {
   "cell_type": "code",
   "execution_count": 3,
   "id": "d77c5444",
   "metadata": {},
   "outputs": [],
   "source": [
    "#SERIES"
   ]
  },
  {
   "cell_type": "code",
   "execution_count": 4,
   "id": "7eac266d",
   "metadata": {},
   "outputs": [],
   "source": [
    "list_1=[12,23,34,45]"
   ]
  },
  {
   "cell_type": "code",
   "execution_count": 5,
   "id": "67e97b3b",
   "metadata": {},
   "outputs": [
    {
     "data": {
      "text/plain": [
       "0    12\n",
       "1    23\n",
       "2    34\n",
       "3    45\n",
       "dtype: int64"
      ]
     },
     "execution_count": 5,
     "metadata": {},
     "output_type": "execute_result"
    }
   ],
   "source": [
    "pd.Series(list_1)"
   ]
  },
  {
   "cell_type": "code",
   "execution_count": 6,
   "id": "695cdc89",
   "metadata": {},
   "outputs": [
    {
     "data": {
      "text/plain": [
       "a    12\n",
       "b    23\n",
       "c    34\n",
       "d    45\n",
       "dtype: int64"
      ]
     },
     "execution_count": 6,
     "metadata": {},
     "output_type": "execute_result"
    }
   ],
   "source": [
    "pd.Series(list_1,[\"a\",\"b\",\"c\",\"d\"])"
   ]
  },
  {
   "cell_type": "code",
   "execution_count": 7,
   "id": "2d74053f",
   "metadata": {},
   "outputs": [],
   "source": [
    "labels=[\"one\",\"two\",\"three\",\"four\"]"
   ]
  },
  {
   "cell_type": "code",
   "execution_count": 10,
   "id": "3d29bf69",
   "metadata": {},
   "outputs": [
    {
     "data": {
      "text/plain": [
       "one      12\n",
       "two      23\n",
       "three    34\n",
       "four     45\n",
       "dtype: int64"
      ]
     },
     "execution_count": 10,
     "metadata": {},
     "output_type": "execute_result"
    }
   ],
   "source": [
    "pd.Series(list_1,labels)"
   ]
  },
  {
   "cell_type": "code",
   "execution_count": 11,
   "id": "8f45d570",
   "metadata": {},
   "outputs": [
    {
     "data": {
      "text/plain": [
       "one      12\n",
       "two      23\n",
       "three    34\n",
       "four     45\n",
       "dtype: int64"
      ]
     },
     "execution_count": 11,
     "metadata": {},
     "output_type": "execute_result"
    }
   ],
   "source": [
    "pd.Series(data=list_1,index=labels)"
   ]
  },
  {
   "cell_type": "code",
   "execution_count": 12,
   "id": "8d04e738",
   "metadata": {},
   "outputs": [],
   "source": [
    "#From numpy Arrays"
   ]
  },
  {
   "cell_type": "code",
   "execution_count": 13,
   "id": "29e8a8d5",
   "metadata": {},
   "outputs": [],
   "source": [
    "arr=np.arange(10,14)"
   ]
  },
  {
   "cell_type": "code",
   "execution_count": 14,
   "id": "a5120b31",
   "metadata": {},
   "outputs": [
    {
     "data": {
      "text/plain": [
       "0    10\n",
       "1    11\n",
       "2    12\n",
       "3    13\n",
       "dtype: int32"
      ]
     },
     "execution_count": 14,
     "metadata": {},
     "output_type": "execute_result"
    }
   ],
   "source": [
    "pd.Series(arr)"
   ]
  },
  {
   "cell_type": "code",
   "execution_count": 15,
   "id": "9cde56f6",
   "metadata": {},
   "outputs": [
    {
     "data": {
      "text/plain": [
       "one      10\n",
       "two      11\n",
       "three    12\n",
       "four     13\n",
       "dtype: int32"
      ]
     },
     "execution_count": 15,
     "metadata": {},
     "output_type": "execute_result"
    }
   ],
   "source": [
    "pd.Series(arr,labels)"
   ]
  },
  {
   "cell_type": "code",
   "execution_count": 16,
   "id": "01c0734e",
   "metadata": {},
   "outputs": [],
   "source": [
    "#From Dictionaries"
   ]
  },
  {
   "cell_type": "code",
   "execution_count": 17,
   "id": "2fddc57a",
   "metadata": {},
   "outputs": [],
   "source": [
    "dict_1={\"a\":12,\"b\":23,\"c\":34,\"d\":45}"
   ]
  },
  {
   "cell_type": "code",
   "execution_count": 18,
   "id": "19d7466f",
   "metadata": {},
   "outputs": [
    {
     "data": {
      "text/plain": [
       "a    12\n",
       "b    23\n",
       "c    34\n",
       "d    45\n",
       "dtype: int64"
      ]
     },
     "execution_count": 18,
     "metadata": {},
     "output_type": "execute_result"
    }
   ],
   "source": [
    "pd.Series(dict_1)"
   ]
  },
  {
   "cell_type": "code",
   "execution_count": 19,
   "id": "831edddf",
   "metadata": {},
   "outputs": [
    {
     "data": {
      "text/plain": [
       "b    23\n",
       "d    45\n",
       "c    34\n",
       "a    12\n",
       "dtype: int64"
      ]
     },
     "execution_count": 19,
     "metadata": {},
     "output_type": "execute_result"
    }
   ],
   "source": [
    "pd.Series(dict_1,[\"b\",\"d\",\"c\",\"a\"])"
   ]
  },
  {
   "cell_type": "code",
   "execution_count": 20,
   "id": "76627006",
   "metadata": {},
   "outputs": [
    {
     "data": {
      "text/plain": [
       "0    <built-in function print>\n",
       "1      <built-in function sum>\n",
       "2      <built-in function len>\n",
       "3      <built-in function max>\n",
       "4      <built-in function min>\n",
       "dtype: object"
      ]
     },
     "execution_count": 20,
     "metadata": {},
     "output_type": "execute_result"
    }
   ],
   "source": [
    "pd.Series([print,sum,len,max,min])"
   ]
  },
  {
   "cell_type": "code",
   "execution_count": 22,
   "id": "b13a6578",
   "metadata": {},
   "outputs": [
    {
     "data": {
      "text/plain": [
       "0    12\n",
       "1    23\n",
       "2    34\n",
       "3    45\n",
       "dtype: int64"
      ]
     },
     "execution_count": 22,
     "metadata": {},
     "output_type": "execute_result"
    }
   ],
   "source": [
    "ser1=pd.Series(list_1)\n",
    "ser1"
   ]
  },
  {
   "cell_type": "code",
   "execution_count": 24,
   "id": "2d994486",
   "metadata": {},
   "outputs": [
    {
     "data": {
      "text/plain": [
       "34"
      ]
     },
     "execution_count": 24,
     "metadata": {},
     "output_type": "execute_result"
    }
   ],
   "source": [
    "ser1[2]"
   ]
  },
  {
   "cell_type": "code",
   "execution_count": 26,
   "id": "beeb2e1a",
   "metadata": {},
   "outputs": [
    {
     "data": {
      "text/plain": [
       "dtype('int64')"
      ]
     },
     "execution_count": 26,
     "metadata": {},
     "output_type": "execute_result"
    }
   ],
   "source": [
    "ser1.dtype"
   ]
  },
  {
   "cell_type": "code",
   "execution_count": 27,
   "id": "0572e0bf",
   "metadata": {},
   "outputs": [
    {
     "data": {
      "text/plain": [
       "RangeIndex(start=0, stop=4, step=1)"
      ]
     },
     "execution_count": 27,
     "metadata": {},
     "output_type": "execute_result"
    }
   ],
   "source": [
    "ser1.index"
   ]
  },
  {
   "cell_type": "code",
   "execution_count": 28,
   "id": "b8419a1b",
   "metadata": {},
   "outputs": [
    {
     "data": {
      "text/plain": [
       "array([12, 23, 34, 45], dtype=int64)"
      ]
     },
     "execution_count": 28,
     "metadata": {},
     "output_type": "execute_result"
    }
   ],
   "source": [
    "ser1.values"
   ]
  },
  {
   "cell_type": "code",
   "execution_count": 29,
   "id": "f0efa532",
   "metadata": {},
   "outputs": [
    {
     "data": {
      "text/plain": [
       "<PandasArray>\n",
       "[12, 23, 34, 45]\n",
       "Length: 4, dtype: int64"
      ]
     },
     "execution_count": 29,
     "metadata": {},
     "output_type": "execute_result"
    }
   ],
   "source": [
    "ser1.array"
   ]
  },
  {
   "cell_type": "code",
   "execution_count": 30,
   "id": "8399abb3",
   "metadata": {
    "scrolled": true
   },
   "outputs": [
    {
     "data": {
      "text/plain": [
       "one      5\n",
       "two      5\n",
       "three    5\n",
       "four     5\n",
       "dtype: int64"
      ]
     },
     "execution_count": 30,
     "metadata": {},
     "output_type": "execute_result"
    }
   ],
   "source": [
    "pd.Series(5,labels)"
   ]
  },
  {
   "cell_type": "code",
   "execution_count": 36,
   "id": "03c27ebc",
   "metadata": {},
   "outputs": [
    {
     "data": {
      "text/plain": [
       "True"
      ]
     },
     "execution_count": 36,
     "metadata": {},
     "output_type": "execute_result"
    }
   ],
   "source": [
    "2 in ser1"
   ]
  },
  {
   "cell_type": "code",
   "execution_count": 40,
   "id": "7be4e559",
   "metadata": {},
   "outputs": [
    {
     "data": {
      "text/plain": [
       "45"
      ]
     },
     "execution_count": 40,
     "metadata": {},
     "output_type": "execute_result"
    }
   ],
   "source": [
    "ser1.get(3) #value correspond to the label 3"
   ]
  },
  {
   "cell_type": "code",
   "execution_count": 41,
   "id": "9288796a",
   "metadata": {},
   "outputs": [
    {
     "data": {
      "text/plain": [
       "nan"
      ]
     },
     "execution_count": 41,
     "metadata": {},
     "output_type": "execute_result"
    }
   ],
   "source": [
    "ser1.get(6,np.nan)"
   ]
  },
  {
   "cell_type": "code",
   "execution_count": 42,
   "id": "d8bb1743",
   "metadata": {},
   "outputs": [
    {
     "data": {
      "text/plain": [
       "28.5"
      ]
     },
     "execution_count": 42,
     "metadata": {},
     "output_type": "execute_result"
    }
   ],
   "source": [
    "ser1.mean()"
   ]
  },
  {
   "cell_type": "code",
   "execution_count": 43,
   "id": "7d13fc8d",
   "metadata": {},
   "outputs": [],
   "source": [
    "m=ser1>40"
   ]
  },
  {
   "cell_type": "code",
   "execution_count": 44,
   "id": "a5a33e38",
   "metadata": {},
   "outputs": [
    {
     "data": {
      "text/plain": [
       "3    45\n",
       "dtype: int64"
      ]
     },
     "execution_count": 44,
     "metadata": {},
     "output_type": "execute_result"
    }
   ],
   "source": [
    "ser1[m]"
   ]
  },
  {
   "cell_type": "code",
   "execution_count": null,
   "id": "052d1595",
   "metadata": {},
   "outputs": [],
   "source": []
  }
 ],
 "metadata": {
  "kernelspec": {
   "display_name": "Python 3",
   "language": "python",
   "name": "python3"
  },
  "language_info": {
   "codemirror_mode": {
    "name": "ipython",
    "version": 3
   },
   "file_extension": ".py",
   "mimetype": "text/x-python",
   "name": "python",
   "nbconvert_exporter": "python",
   "pygments_lexer": "ipython3",
   "version": "3.6.13"
  }
 },
 "nbformat": 4,
 "nbformat_minor": 5
}
