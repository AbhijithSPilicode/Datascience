{
 "cells": [
  {
   "cell_type": "code",
   "execution_count": 2,
   "id": "87fc3a3c",
   "metadata": {},
   "outputs": [],
   "source": [
    "#Split\n",
    "import numpy as np"
   ]
  },
  {
   "cell_type": "code",
   "execution_count": 11,
   "id": "8b67d3f1",
   "metadata": {},
   "outputs": [
    {
     "data": {
      "text/plain": [
       "array([ 0,  1,  2,  3,  4,  5,  6,  7,  8,  9, 10, 11])"
      ]
     },
     "execution_count": 11,
     "metadata": {},
     "output_type": "execute_result"
    }
   ],
   "source": [
    "arr=np.arange(12)\n",
    "arr"
   ]
  },
  {
   "cell_type": "code",
   "execution_count": 9,
   "id": "46af76ae",
   "metadata": {},
   "outputs": [
    {
     "data": {
      "text/plain": [
       "[array([0, 1, 2]), array([3, 4, 5]), array([6, 7, 8]), array([ 9, 10, 11])]"
      ]
     },
     "execution_count": 9,
     "metadata": {},
     "output_type": "execute_result"
    }
   ],
   "source": [
    "np.split(arr,4)"
   ]
  },
  {
   "cell_type": "code",
   "execution_count": 10,
   "id": "18a4a5ad",
   "metadata": {},
   "outputs": [
    {
     "data": {
      "text/plain": [
       "[array([0, 1]), array([2]), array([3, 4]), array([ 5,  6,  7,  8,  9, 10, 11])]"
      ]
     },
     "execution_count": 10,
     "metadata": {},
     "output_type": "execute_result"
    }
   ],
   "source": [
    "np.split(arr,[2,3,5]) #split in 0,1 then 2 then 3,4 then rest"
   ]
  },
  {
   "cell_type": "code",
   "execution_count": null,
   "id": "98d30961",
   "metadata": {},
   "outputs": [],
   "source": [
    " #Array split"
   ]
  },
  {
   "cell_type": "code",
   "execution_count": 12,
   "id": "44e1ff75",
   "metadata": {},
   "outputs": [],
   "source": [
    "arr1=np.arange(12).reshape((4,3))"
   ]
  },
  {
   "cell_type": "code",
   "execution_count": 14,
   "id": "9ec04bc6",
   "metadata": {},
   "outputs": [
    {
     "data": {
      "text/plain": [
       "[array([[0, 1, 2]]),\n",
       " array([[3, 4, 5]]),\n",
       " array([[6, 7, 8]]),\n",
       " array([[ 9, 10, 11]]),\n",
       " array([], shape=(0, 3), dtype=int32)]"
      ]
     },
     "execution_count": 14,
     "metadata": {},
     "output_type": "execute_result"
    }
   ],
   "source": [
    "np.array_split(arr1,5) #l%N of (l/N)+1"
   ]
  },
  {
   "cell_type": "code",
   "execution_count": 15,
   "id": "9797da80",
   "metadata": {},
   "outputs": [],
   "source": [
    "#hsplit"
   ]
  },
  {
   "cell_type": "code",
   "execution_count": 18,
   "id": "d037e64a",
   "metadata": {},
   "outputs": [
    {
     "data": {
      "text/plain": [
       "[array([[0],\n",
       "        [3],\n",
       "        [6],\n",
       "        [9]]),\n",
       " array([[ 1],\n",
       "        [ 4],\n",
       "        [ 7],\n",
       "        [10]]),\n",
       " array([[ 2],\n",
       "        [ 5],\n",
       "        [ 8],\n",
       "        [11]])]"
      ]
     },
     "execution_count": 18,
     "metadata": {},
     "output_type": "execute_result"
    }
   ],
   "source": [
    "np.hsplit(arr1,3) #splitting columnwise to 3 parts"
   ]
  },
  {
   "cell_type": "code",
   "execution_count": 19,
   "id": "25f41957",
   "metadata": {},
   "outputs": [
    {
     "data": {
      "text/plain": [
       "[array([[0, 1, 2]]),\n",
       " array([[3, 4, 5]]),\n",
       " array([[6, 7, 8]]),\n",
       " array([[ 9, 10, 11]])]"
      ]
     },
     "execution_count": 19,
     "metadata": {},
     "output_type": "execute_result"
    }
   ],
   "source": [
    "np.vsplit(arr1,4) #splitting rowwise into 4"
   ]
  },
  {
   "cell_type": "code",
   "execution_count": 21,
   "id": "00fabf6b",
   "metadata": {},
   "outputs": [
    {
     "data": {
      "text/plain": [
       "[array([[0, 1, 2],\n",
       "        [3, 4, 5]]),\n",
       " array([[ 6,  7,  8],\n",
       "        [ 9, 10, 11]])]"
      ]
     },
     "execution_count": 21,
     "metadata": {},
     "output_type": "execute_result"
    }
   ],
   "source": [
    "np.vsplit(arr1,2)  #it will be split horizontally to 2 sections"
   ]
  },
  {
   "cell_type": "code",
   "execution_count": 22,
   "id": "375c055a",
   "metadata": {},
   "outputs": [],
   "source": [
    "#dsplit is also possible"
   ]
  },
  {
   "cell_type": "code",
   "execution_count": null,
   "id": "d6786d9f",
   "metadata": {},
   "outputs": [],
   "source": [
    "#Append"
   ]
  },
  {
   "cell_type": "code",
   "execution_count": 23,
   "id": "dfda279a",
   "metadata": {},
   "outputs": [
    {
     "data": {
      "text/plain": [
       "array([ 0,  1,  2,  3,  4,  5,  6,  7,  8,  9, 10, 11, 12, 13])"
      ]
     },
     "execution_count": 23,
     "metadata": {},
     "output_type": "execute_result"
    }
   ],
   "source": [
    "np.append(arr,[12,13])"
   ]
  },
  {
   "cell_type": "code",
   "execution_count": 24,
   "id": "c4d70f6a",
   "metadata": {},
   "outputs": [
    {
     "data": {
      "text/plain": [
       "array([  0, 100, 200,   1,   2,   3,   4,   5,   6,   7,   8,   9,  10,\n",
       "        11])"
      ]
     },
     "execution_count": 24,
     "metadata": {},
     "output_type": "execute_result"
    }
   ],
   "source": [
    "np.insert(arr,1,[100,200])"
   ]
  },
  {
   "cell_type": "code",
   "execution_count": 28,
   "id": "592c16aa",
   "metadata": {},
   "outputs": [],
   "source": [
    "#Masking (Array with boolean value)"
   ]
  },
  {
   "cell_type": "code",
   "execution_count": 29,
   "id": "6e2db83b",
   "metadata": {},
   "outputs": [
    {
     "data": {
      "text/plain": [
       "array([12,  2, 34, 45, 56])"
      ]
     },
     "execution_count": 29,
     "metadata": {},
     "output_type": "execute_result"
    }
   ],
   "source": [
    "q=np.array([12,2,34,45,56])\n",
    "q"
   ]
  },
  {
   "cell_type": "code",
   "execution_count": 31,
   "id": "61b77349",
   "metadata": {},
   "outputs": [
    {
     "data": {
      "text/plain": [
       "array([ True, False, False, False,  True])"
      ]
     },
     "execution_count": 31,
     "metadata": {},
     "output_type": "execute_result"
    }
   ],
   "source": [
    "mask=np.array([True,False,False,False,True])\n",
    "mask"
   ]
  },
  {
   "cell_type": "code",
   "execution_count": 32,
   "id": "dd380571",
   "metadata": {},
   "outputs": [
    {
     "data": {
      "text/plain": [
       "array([12, 56])"
      ]
     },
     "execution_count": 32,
     "metadata": {},
     "output_type": "execute_result"
    }
   ],
   "source": [
    "q[mask]"
   ]
  },
  {
   "cell_type": "code",
   "execution_count": 33,
   "id": "7084d818",
   "metadata": {},
   "outputs": [
    {
     "data": {
      "text/plain": [
       "array([False, False,  True,  True,  True])"
      ]
     },
     "execution_count": 33,
     "metadata": {},
     "output_type": "execute_result"
    }
   ],
   "source": [
    "q>30  #used in conditional arrays also"
   ]
  },
  {
   "cell_type": "code",
   "execution_count": 34,
   "id": "914c350d",
   "metadata": {},
   "outputs": [
    {
     "data": {
      "text/plain": [
       "array([34, 45, 56])"
      ]
     },
     "execution_count": 34,
     "metadata": {},
     "output_type": "execute_result"
    }
   ],
   "source": [
    "q[q>30]"
   ]
  },
  {
   "cell_type": "code",
   "execution_count": 35,
   "id": "5ad48be3",
   "metadata": {},
   "outputs": [
    {
     "data": {
      "text/plain": [
       "array([12,  2, 34, 56])"
      ]
     },
     "execution_count": 35,
     "metadata": {},
     "output_type": "execute_result"
    }
   ],
   "source": [
    "q[q%2==0]"
   ]
  },
  {
   "cell_type": "code",
   "execution_count": 37,
   "id": "90285e20",
   "metadata": {},
   "outputs": [],
   "source": [
    "#Trimming Zeros\n",
    "#if tailing and initial arrays are zero,then you can remove it using this"
   ]
  },
  {
   "cell_type": "code",
   "execution_count": 38,
   "id": "455c2d4f",
   "metadata": {},
   "outputs": [],
   "source": [
    "tz=np.array([0,0,0,12,23,34,0,56,0,0])"
   ]
  },
  {
   "cell_type": "code",
   "execution_count": 39,
   "id": "5a0bf092",
   "metadata": {},
   "outputs": [
    {
     "data": {
      "text/plain": [
       "array([12, 23, 34,  0, 56])"
      ]
     },
     "execution_count": 39,
     "metadata": {},
     "output_type": "execute_result"
    }
   ],
   "source": [
    "np.trim_zeros(tz)"
   ]
  },
  {
   "cell_type": "code",
   "execution_count": 40,
   "id": "b5b3aad1",
   "metadata": {},
   "outputs": [
    {
     "data": {
      "text/plain": [
       "array([12, 23, 34,  0, 56,  0,  0])"
      ]
     },
     "execution_count": 40,
     "metadata": {},
     "output_type": "execute_result"
    }
   ],
   "source": [
    "np.trim_zeros(tz,trim=\"f\") #trim zero from first"
   ]
  },
  {
   "cell_type": "code",
   "execution_count": 41,
   "id": "279fa7b1",
   "metadata": {},
   "outputs": [
    {
     "data": {
      "text/plain": [
       "array([ 0,  0,  0, 12, 23, 34,  0, 56])"
      ]
     },
     "execution_count": 41,
     "metadata": {},
     "output_type": "execute_result"
    }
   ],
   "source": [
    "np.trim_zeros(tz,trim=\"b\") #trim zero from last"
   ]
  },
  {
   "cell_type": "code",
   "execution_count": 42,
   "id": "be29ff86",
   "metadata": {},
   "outputs": [],
   "source": [
    "#Flipping"
   ]
  },
  {
   "cell_type": "code",
   "execution_count": 44,
   "id": "7c90ee91",
   "metadata": {},
   "outputs": [
    {
     "data": {
      "text/plain": [
       "array([[ 1,  2,  3,  4],\n",
       "       [ 5,  6,  7,  8],\n",
       "       [ 9, 10, 11, 12]])"
      ]
     },
     "execution_count": 44,
     "metadata": {},
     "output_type": "execute_result"
    }
   ],
   "source": [
    "v=np.arange(1,13).reshape(3,4)\n",
    "v"
   ]
  },
  {
   "cell_type": "code",
   "execution_count": 45,
   "id": "14f408a6",
   "metadata": {},
   "outputs": [
    {
     "data": {
      "text/plain": [
       "array([[12, 11, 10,  9],\n",
       "       [ 8,  7,  6,  5],\n",
       "       [ 4,  3,  2,  1]])"
      ]
     },
     "execution_count": 45,
     "metadata": {},
     "output_type": "execute_result"
    }
   ],
   "source": [
    "np.flip(v) #elements will be reversed"
   ]
  },
  {
   "cell_type": "code",
   "execution_count": 47,
   "id": "02d504c7",
   "metadata": {},
   "outputs": [
    {
     "data": {
      "text/plain": [
       "array([[ 4,  3,  2,  1],\n",
       "       [ 8,  7,  6,  5],\n",
       "       [12, 11, 10,  9]])"
      ]
     },
     "execution_count": 47,
     "metadata": {},
     "output_type": "execute_result"
    }
   ],
   "source": [
    "np.flip(v,axis=1) #element is reversed in each row"
   ]
  },
  {
   "cell_type": "code",
   "execution_count": 48,
   "id": "a411b5d5",
   "metadata": {},
   "outputs": [
    {
     "data": {
      "text/plain": [
       "array([[ 4,  3,  2,  1],\n",
       "       [ 8,  7,  6,  5],\n",
       "       [12, 11, 10,  9]])"
      ]
     },
     "execution_count": 48,
     "metadata": {},
     "output_type": "execute_result"
    }
   ],
   "source": [
    "np.fliplr(v) \n",
    "#using instead of np.flip(v,axis=1)\n",
    "#flippinf from left to right"
   ]
  },
  {
   "cell_type": "code",
   "execution_count": 49,
   "id": "712dab44",
   "metadata": {},
   "outputs": [
    {
     "data": {
      "text/plain": [
       "array([[ 9, 10, 11, 12],\n",
       "       [ 5,  6,  7,  8],\n",
       "       [ 1,  2,  3,  4]])"
      ]
     },
     "execution_count": 49,
     "metadata": {},
     "output_type": "execute_result"
    }
   ],
   "source": [
    "np.flipud(v) #flipping from up to down"
   ]
  },
  {
   "cell_type": "code",
   "execution_count": 50,
   "id": "647e3493",
   "metadata": {},
   "outputs": [],
   "source": [
    "#if we use it in 3D, then 2nd array comes over 1st"
   ]
  },
  {
   "cell_type": "code",
   "execution_count": 71,
   "id": "0b6e886b",
   "metadata": {},
   "outputs": [],
   "source": [
    "#Searching \n",
    "# Argmax and argmin ,nanargmax and nanargmin"
   ]
  },
  {
   "cell_type": "code",
   "execution_count": 54,
   "id": "80e35c70",
   "metadata": {},
   "outputs": [
    {
     "data": {
      "text/plain": [
       "11"
      ]
     },
     "execution_count": 54,
     "metadata": {},
     "output_type": "execute_result"
    }
   ],
   "source": [
    "np.argmax(arr1) #it will give the index of maximuum item in an array"
   ]
  },
  {
   "cell_type": "code",
   "execution_count": 55,
   "id": "29569cd1",
   "metadata": {},
   "outputs": [
    {
     "data": {
      "text/plain": [
       "0"
      ]
     },
     "execution_count": 55,
     "metadata": {},
     "output_type": "execute_result"
    }
   ],
   "source": [
    "np.argmin(arr1) #it will give the index of minimum item in an array"
   ]
  },
  {
   "cell_type": "code",
   "execution_count": 56,
   "id": "b4eb1576",
   "metadata": {},
   "outputs": [
    {
     "data": {
      "text/plain": [
       "array([2, 2, 2, 2], dtype=int64)"
      ]
     },
     "execution_count": 56,
     "metadata": {},
     "output_type": "execute_result"
    }
   ],
   "source": [
    "np.argmax(arr1,axis=1) #it will give index of maximum item in each row"
   ]
  },
  {
   "cell_type": "code",
   "execution_count": 57,
   "id": "ffe4171c",
   "metadata": {},
   "outputs": [
    {
     "data": {
      "text/plain": [
       "array([[ 0,  1,  2],\n",
       "       [ 3,  4,  5],\n",
       "       [ 6,  7,  8],\n",
       "       [ 9, 10, 11]])"
      ]
     },
     "execution_count": 57,
     "metadata": {},
     "output_type": "execute_result"
    }
   ],
   "source": [
    "arr1"
   ]
  },
  {
   "cell_type": "code",
   "execution_count": 59,
   "id": "7dfd9a12",
   "metadata": {},
   "outputs": [
    {
     "data": {
      "text/plain": [
       "array([0, 0, 0, 0], dtype=int64)"
      ]
     },
     "execution_count": 59,
     "metadata": {},
     "output_type": "execute_result"
    }
   ],
   "source": [
    "np.argmin(arr1,axis=1) #it will give index of minimum item in each row"
   ]
  },
  {
   "cell_type": "code",
   "execution_count": 63,
   "id": "08171b79",
   "metadata": {},
   "outputs": [
    {
     "data": {
      "text/plain": [
       "array([[4, 2, 1],\n",
       "       [7, 4, 6],\n",
       "       [8, 5, 3],\n",
       "       [1, 3, 5]])"
      ]
     },
     "execution_count": 63,
     "metadata": {},
     "output_type": "execute_result"
    }
   ],
   "source": [
    "np.array([4,2,1,7,4,6,8,5,3,1,3,5]).reshape(4,3)"
   ]
  },
  {
   "cell_type": "code",
   "execution_count": 69,
   "id": "b6bea0bb",
   "metadata": {},
   "outputs": [
    {
     "data": {
      "text/plain": [
       "array([[12., 23., nan],\n",
       "       [40., 20., 20.],\n",
       "       [ 8.,  4.,  1.]])"
      ]
     },
     "execution_count": 69,
     "metadata": {},
     "output_type": "execute_result"
    }
   ],
   "source": [
    "e=np.array([[12,23,np.nan],[40,20,20],[8,4,1]])\n",
    "e"
   ]
  },
  {
   "cell_type": "code",
   "execution_count": 70,
   "id": "8474636d",
   "metadata": {},
   "outputs": [
    {
     "data": {
      "text/plain": [
       "array([1, 0, 0], dtype=int64)"
      ]
     },
     "execution_count": 70,
     "metadata": {},
     "output_type": "execute_result"
    }
   ],
   "source": [
    "np.nanargmax(e,axis=1)"
   ]
  },
  {
   "cell_type": "code",
   "execution_count": 72,
   "id": "325f8174",
   "metadata": {},
   "outputs": [
    {
     "data": {
      "text/plain": [
       "array([0, 1, 2], dtype=int64)"
      ]
     },
     "execution_count": 72,
     "metadata": {},
     "output_type": "execute_result"
    }
   ],
   "source": [
    "np.nanargmin(e,axis=1)"
   ]
  },
  {
   "cell_type": "code",
   "execution_count": null,
   "id": "0329f27d",
   "metadata": {},
   "outputs": [],
   "source": []
  }
 ],
 "metadata": {
  "kernelspec": {
   "display_name": "Python 3",
   "language": "python",
   "name": "python3"
  },
  "language_info": {
   "codemirror_mode": {
    "name": "ipython",
    "version": 3
   },
   "file_extension": ".py",
   "mimetype": "text/x-python",
   "name": "python",
   "nbconvert_exporter": "python",
   "pygments_lexer": "ipython3",
   "version": "3.6.13"
  }
 },
 "nbformat": 4,
 "nbformat_minor": 5
}
