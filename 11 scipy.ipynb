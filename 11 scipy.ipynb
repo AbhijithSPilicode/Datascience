{
 "cells": [
  {
   "cell_type": "code",
   "execution_count": 2,
   "id": "fb66c9a9",
   "metadata": {},
   "outputs": [],
   "source": [
    "#buld on top of numpy"
   ]
  },
  {
   "cell_type": "code",
   "execution_count": 3,
   "id": "cfb16d73",
   "metadata": {},
   "outputs": [],
   "source": [
    "#numpy is used for linear equation,if it is a non-linear equation we have to use scipy"
   ]
  },
  {
   "cell_type": "code",
   "execution_count": 23,
   "id": "ec814f1c",
   "metadata": {},
   "outputs": [],
   "source": [
    "import numpy as np"
   ]
  },
  {
   "cell_type": "code",
   "execution_count": null,
   "id": "1cbca829",
   "metadata": {},
   "outputs": [],
   "source": [
    "#modules in scipy-constants,optimizers,sparse,spatial,interpolation"
   ]
  },
  {
   "cell_type": "code",
   "execution_count": null,
   "id": "3c33507e",
   "metadata": {},
   "outputs": [],
   "source": [
    "#spatial contains triangulation,convexhull,KDTrees,eucledian,manhattan"
   ]
  },
  {
   "cell_type": "code",
   "execution_count": 5,
   "id": "05f1c1cb",
   "metadata": {},
   "outputs": [],
   "source": [
    "                    #constants\n",
    "from scipy import constants"
   ]
  },
  {
   "cell_type": "code",
   "execution_count": 6,
   "id": "102b36cb",
   "metadata": {},
   "outputs": [
    {
     "data": {
      "text/plain": [
       "['Avogadro',\n",
       " 'Boltzmann',\n",
       " 'Btu',\n",
       " 'Btu_IT',\n",
       " 'Btu_th',\n",
       " 'ConstantWarning',\n",
       " 'G',\n",
       " 'Julian_year',\n",
       " 'N_A',\n",
       " 'Planck',\n",
       " 'R',\n",
       " 'Rydberg',\n",
       " 'Stefan_Boltzmann',\n",
       " 'Wien',\n",
       " '__all__',\n",
       " '__builtins__',\n",
       " '__cached__',\n",
       " '__doc__',\n",
       " '__file__',\n",
       " '__loader__',\n",
       " '__name__',\n",
       " '__package__',\n",
       " '__path__',\n",
       " '__spec__',\n",
       " '_obsolete_constants',\n",
       " 'acre',\n",
       " 'alpha',\n",
       " 'angstrom',\n",
       " 'arcmin',\n",
       " 'arcminute',\n",
       " 'arcsec',\n",
       " 'arcsecond',\n",
       " 'astronomical_unit',\n",
       " 'atm',\n",
       " 'atmosphere',\n",
       " 'atomic_mass',\n",
       " 'atto',\n",
       " 'au',\n",
       " 'bar',\n",
       " 'barrel',\n",
       " 'bbl',\n",
       " 'blob',\n",
       " 'c',\n",
       " 'calorie',\n",
       " 'calorie_IT',\n",
       " 'calorie_th',\n",
       " 'carat',\n",
       " 'centi',\n",
       " 'codata',\n",
       " 'constants',\n",
       " 'convert_temperature',\n",
       " 'day',\n",
       " 'deci',\n",
       " 'degree',\n",
       " 'degree_Fahrenheit',\n",
       " 'deka',\n",
       " 'dyn',\n",
       " 'dyne',\n",
       " 'e',\n",
       " 'eV',\n",
       " 'electron_mass',\n",
       " 'electron_volt',\n",
       " 'elementary_charge',\n",
       " 'epsilon_0',\n",
       " 'erg',\n",
       " 'exa',\n",
       " 'exbi',\n",
       " 'femto',\n",
       " 'fermi',\n",
       " 'find',\n",
       " 'fine_structure',\n",
       " 'fluid_ounce',\n",
       " 'fluid_ounce_US',\n",
       " 'fluid_ounce_imp',\n",
       " 'foot',\n",
       " 'g',\n",
       " 'gallon',\n",
       " 'gallon_US',\n",
       " 'gallon_imp',\n",
       " 'gas_constant',\n",
       " 'gibi',\n",
       " 'giga',\n",
       " 'golden',\n",
       " 'golden_ratio',\n",
       " 'grain',\n",
       " 'gram',\n",
       " 'gravitational_constant',\n",
       " 'h',\n",
       " 'hbar',\n",
       " 'hectare',\n",
       " 'hecto',\n",
       " 'horsepower',\n",
       " 'hour',\n",
       " 'hp',\n",
       " 'inch',\n",
       " 'k',\n",
       " 'kgf',\n",
       " 'kibi',\n",
       " 'kilo',\n",
       " 'kilogram_force',\n",
       " 'kmh',\n",
       " 'knot',\n",
       " 'lambda2nu',\n",
       " 'lb',\n",
       " 'lbf',\n",
       " 'light_year',\n",
       " 'liter',\n",
       " 'litre',\n",
       " 'long_ton',\n",
       " 'm_e',\n",
       " 'm_n',\n",
       " 'm_p',\n",
       " 'm_u',\n",
       " 'mach',\n",
       " 'mebi',\n",
       " 'mega',\n",
       " 'metric_ton',\n",
       " 'micro',\n",
       " 'micron',\n",
       " 'mil',\n",
       " 'mile',\n",
       " 'milli',\n",
       " 'minute',\n",
       " 'mmHg',\n",
       " 'mph',\n",
       " 'mu_0',\n",
       " 'nano',\n",
       " 'nautical_mile',\n",
       " 'neutron_mass',\n",
       " 'nu2lambda',\n",
       " 'ounce',\n",
       " 'oz',\n",
       " 'parsec',\n",
       " 'pebi',\n",
       " 'peta',\n",
       " 'physical_constants',\n",
       " 'pi',\n",
       " 'pico',\n",
       " 'point',\n",
       " 'pound',\n",
       " 'pound_force',\n",
       " 'precision',\n",
       " 'proton_mass',\n",
       " 'psi',\n",
       " 'pt',\n",
       " 'short_ton',\n",
       " 'sigma',\n",
       " 'slinch',\n",
       " 'slug',\n",
       " 'speed_of_light',\n",
       " 'speed_of_sound',\n",
       " 'stone',\n",
       " 'survey_foot',\n",
       " 'survey_mile',\n",
       " 'tebi',\n",
       " 'tera',\n",
       " 'test',\n",
       " 'ton_TNT',\n",
       " 'torr',\n",
       " 'troy_ounce',\n",
       " 'troy_pound',\n",
       " 'u',\n",
       " 'unit',\n",
       " 'value',\n",
       " 'week',\n",
       " 'yard',\n",
       " 'year',\n",
       " 'yobi',\n",
       " 'yotta',\n",
       " 'zebi',\n",
       " 'zepto',\n",
       " 'zero_Celsius',\n",
       " 'zetta']"
      ]
     },
     "execution_count": 6,
     "metadata": {},
     "output_type": "execute_result"
    }
   ],
   "source": [
    "dir(constants) #constants defined"
   ]
  },
  {
   "cell_type": "code",
   "execution_count": 7,
   "id": "e6f04ad4",
   "metadata": {},
   "outputs": [
    {
     "data": {
      "text/plain": [
       "1000.0"
      ]
     },
     "execution_count": 7,
     "metadata": {},
     "output_type": "execute_result"
    }
   ],
   "source": [
    "constants.kilo"
   ]
  },
  {
   "cell_type": "code",
   "execution_count": 8,
   "id": "5806c649",
   "metadata": {},
   "outputs": [
    {
     "data": {
      "text/plain": [
       "0.01"
      ]
     },
     "execution_count": 8,
     "metadata": {},
     "output_type": "execute_result"
    }
   ],
   "source": [
    "constants.centi"
   ]
  },
  {
   "cell_type": "code",
   "execution_count": 9,
   "id": "a0cbd57c",
   "metadata": {},
   "outputs": [
    {
     "data": {
      "text/plain": [
       "1024"
      ]
     },
     "execution_count": 9,
     "metadata": {},
     "output_type": "execute_result"
    }
   ],
   "source": [
    "constants.kibi #kilobytes"
   ]
  },
  {
   "cell_type": "code",
   "execution_count": 10,
   "id": "1f25b579",
   "metadata": {},
   "outputs": [
    {
     "data": {
      "text/plain": [
       "1048576"
      ]
     },
     "execution_count": 10,
     "metadata": {},
     "output_type": "execute_result"
    }
   ],
   "source": [
    "constants.mebi"
   ]
  },
  {
   "cell_type": "code",
   "execution_count": 11,
   "id": "9d5894a0",
   "metadata": {},
   "outputs": [
    {
     "data": {
      "text/plain": [
       "1e-06"
      ]
     },
     "execution_count": 11,
     "metadata": {},
     "output_type": "execute_result"
    }
   ],
   "source": [
    "constants.micro"
   ]
  },
  {
   "cell_type": "code",
   "execution_count": 12,
   "id": "19fa5246",
   "metadata": {},
   "outputs": [
    {
     "data": {
      "text/plain": [
       "0.001"
      ]
     },
     "execution_count": 12,
     "metadata": {},
     "output_type": "execute_result"
    }
   ],
   "source": [
    "constants.gram"
   ]
  },
  {
   "cell_type": "code",
   "execution_count": 13,
   "id": "a0b160ee",
   "metadata": {},
   "outputs": [
    {
     "data": {
      "text/plain": [
       "0.45359236999999997"
      ]
     },
     "execution_count": 13,
     "metadata": {},
     "output_type": "execute_result"
    }
   ],
   "source": [
    "constants.pound"
   ]
  },
  {
   "cell_type": "code",
   "execution_count": 14,
   "id": "ef448ea5",
   "metadata": {},
   "outputs": [
    {
     "data": {
      "text/plain": [
       "0.017453292519943295"
      ]
     },
     "execution_count": 14,
     "metadata": {},
     "output_type": "execute_result"
    }
   ],
   "source": [
    "constants.degree"
   ]
  },
  {
   "cell_type": "code",
   "execution_count": 15,
   "id": "4f1bc106",
   "metadata": {},
   "outputs": [
    {
     "data": {
      "text/plain": [
       "1609.3439999999998"
      ]
     },
     "execution_count": 15,
     "metadata": {},
     "output_type": "execute_result"
    }
   ],
   "source": [
    "constants.mile"
   ]
  },
  {
   "cell_type": "code",
   "execution_count": 16,
   "id": "38d8c9e6",
   "metadata": {},
   "outputs": [
    {
     "data": {
      "text/plain": [
       "0.0254"
      ]
     },
     "execution_count": 16,
     "metadata": {},
     "output_type": "execute_result"
    }
   ],
   "source": [
    "constants.inch"
   ]
  },
  {
   "cell_type": "code",
   "execution_count": 17,
   "id": "cf64d9f8",
   "metadata": {},
   "outputs": [
    {
     "data": {
      "text/plain": [
       "101325.0"
      ]
     },
     "execution_count": 17,
     "metadata": {},
     "output_type": "execute_result"
    }
   ],
   "source": [
    "constants.atm"
   ]
  },
  {
   "cell_type": "code",
   "execution_count": 18,
   "id": "d55da5e2",
   "metadata": {},
   "outputs": [
    {
     "data": {
      "text/plain": [
       "100000.0"
      ]
     },
     "execution_count": 18,
     "metadata": {},
     "output_type": "execute_result"
    }
   ],
   "source": [
    "constants.bar"
   ]
  },
  {
   "cell_type": "code",
   "execution_count": 19,
   "id": "fc8bc095",
   "metadata": {},
   "outputs": [
    {
     "data": {
      "text/plain": [
       "10000.0"
      ]
     },
     "execution_count": 19,
     "metadata": {},
     "output_type": "execute_result"
    }
   ],
   "source": [
    "constants.hectare"
   ]
  },
  {
   "cell_type": "code",
   "execution_count": 20,
   "id": "ae05b532",
   "metadata": {},
   "outputs": [
    {
     "data": {
      "text/plain": [
       "4046.8564223999992"
      ]
     },
     "execution_count": 20,
     "metadata": {},
     "output_type": "execute_result"
    }
   ],
   "source": [
    "constants.acre"
   ]
  },
  {
   "cell_type": "code",
   "execution_count": 21,
   "id": "26c405a3",
   "metadata": {},
   "outputs": [
    {
     "data": {
      "text/plain": [
       "0.001"
      ]
     },
     "execution_count": 21,
     "metadata": {},
     "output_type": "execute_result"
    }
   ],
   "source": [
    "constants.liter"
   ]
  },
  {
   "cell_type": "code",
   "execution_count": 22,
   "id": "32e143b0",
   "metadata": {},
   "outputs": [
    {
     "data": {
      "text/plain": [
       "299792458.0"
      ]
     },
     "execution_count": 22,
     "metadata": {},
     "output_type": "execute_result"
    }
   ],
   "source": [
    "constants.speed_of_light"
   ]
  },
  {
   "cell_type": "code",
   "execution_count": 23,
   "id": "ea9fa76d",
   "metadata": {},
   "outputs": [
    {
     "data": {
      "text/plain": [
       "340.5"
      ]
     },
     "execution_count": 23,
     "metadata": {},
     "output_type": "execute_result"
    }
   ],
   "source": [
    "constants.speed_of_sound"
   ]
  },
  {
   "cell_type": "code",
   "execution_count": 24,
   "id": "4ea4e197",
   "metadata": {},
   "outputs": [
    {
     "data": {
      "text/plain": [
       "0.5555555555555556"
      ]
     },
     "execution_count": 24,
     "metadata": {},
     "output_type": "execute_result"
    }
   ],
   "source": [
    "constants.degree_Fahrenheit"
   ]
  },
  {
   "cell_type": "code",
   "execution_count": 25,
   "id": "942e98ce",
   "metadata": {},
   "outputs": [
    {
     "data": {
      "text/plain": [
       "4.184"
      ]
     },
     "execution_count": 25,
     "metadata": {},
     "output_type": "execute_result"
    }
   ],
   "source": [
    "constants.calorie"
   ]
  },
  {
   "cell_type": "code",
   "execution_count": 26,
   "id": "d200197c",
   "metadata": {},
   "outputs": [
    {
     "data": {
      "text/plain": [
       "745.6998715822701"
      ]
     },
     "execution_count": 26,
     "metadata": {},
     "output_type": "execute_result"
    }
   ],
   "source": [
    "constants.hp"
   ]
  },
  {
   "cell_type": "code",
   "execution_count": 27,
   "id": "048025ae",
   "metadata": {},
   "outputs": [
    {
     "name": "stdout",
     "output_type": "stream",
     "text": [
      "[-16.625  -9.875]\n"
     ]
    }
   ],
   "source": [
    "#2x-6y=26\n",
    "#-3x+y=40\n",
    "m_list=([[2,-6],[-3,1]])\n",
    "A=np.array(m_list)\n",
    "B=np.array([26,40])\n",
    "X=np.linalg.inv(A).dot(B)\n",
    "print(X)"
   ]
  },
  {
   "cell_type": "code",
   "execution_count": 28,
   "id": "90f5e98a",
   "metadata": {},
   "outputs": [
    {
     "name": "stdout",
     "output_type": "stream",
     "text": [
      "[-16.625  -9.875]\n"
     ]
    }
   ],
   "source": [
    "x=np.linalg.solve(A,B)\n",
    "print(x)"
   ]
  },
  {
   "cell_type": "code",
   "execution_count": 29,
   "id": "cc22329a",
   "metadata": {},
   "outputs": [
    {
     "data": {
      "text/plain": [
       "array([26., 40.])"
      ]
     },
     "execution_count": 29,
     "metadata": {},
     "output_type": "execute_result"
    }
   ],
   "source": [
    "np.dot(A,x) #Ax=B #to make sure the above mentioned thing is right"
   ]
  },
  {
   "cell_type": "code",
   "execution_count": 30,
   "id": "ebec6b0c",
   "metadata": {},
   "outputs": [
    {
     "data": {
      "text/plain": [
       "array([0.72932314+0.j        , 0.03533843+0.73973301j,\n",
       "       0.03533843-0.73973301j])"
      ]
     },
     "execution_count": 30,
     "metadata": {},
     "output_type": "execute_result"
    }
   ],
   "source": [
    "#5x^3-4x^2+3^x-2\n",
    "coeff_arr=[5,-4,3,-2]\n",
    "np.roots(coeff_arr)"
   ]
  },
  {
   "cell_type": "code",
   "execution_count": 31,
   "id": "ffc25ab0",
   "metadata": {},
   "outputs": [],
   "source": [
    "                    #Optimizers"
   ]
  },
  {
   "cell_type": "code",
   "execution_count": 32,
   "id": "3087ea3d",
   "metadata": {},
   "outputs": [],
   "source": [
    "#x-cos(x)=0\n",
    "from scipy import optimize"
   ]
  },
  {
   "cell_type": "code",
   "execution_count": 33,
   "id": "4e5331e9",
   "metadata": {},
   "outputs": [
    {
     "data": {
      "text/plain": [
       "array([0.73908513])"
      ]
     },
     "execution_count": 33,
     "metadata": {},
     "output_type": "execute_result"
    }
   ],
   "source": [
    "def equation(x):\n",
    "    return x-np.cos(x)\n",
    "rts=optimize.root(equation,1)\n",
    "rts.x"
   ]
  },
  {
   "cell_type": "code",
   "execution_count": 35,
   "id": "fac88391",
   "metadata": {},
   "outputs": [
    {
     "data": {
      "text/plain": [
       "      fun: -0.08333333333333304\n",
       " hess_inv: array([[0.16666667]])\n",
       "      jac: array([0.])\n",
       "  message: 'Optimization terminated successfully.'\n",
       "     nfev: 6\n",
       "      nit: 2\n",
       "     njev: 3\n",
       "   status: 0\n",
       "  success: True\n",
       "        x: array([-0.83333334])"
      ]
     },
     "execution_count": 35,
     "metadata": {},
     "output_type": "execute_result"
    }
   ],
   "source": [
    "#3x^2+5x+2\n",
    "def eqn(x):\n",
    "    return 3*x**2+5*x+2\n",
    "m_min=optimize.minimize(eqn,0)\n",
    "m_min"
   ]
  },
  {
   "cell_type": "code",
   "execution_count": 36,
   "id": "02f03bec",
   "metadata": {},
   "outputs": [],
   "source": [
    "                         #sparse\n",
    "from scipy import sparse"
   ]
  },
  {
   "cell_type": "code",
   "execution_count": 37,
   "id": "2a452da4",
   "metadata": {},
   "outputs": [
    {
     "data": {
      "text/plain": [
       "array([0, 0, 0, 0, 0, 1, 1, 0, 2])"
      ]
     },
     "execution_count": 37,
     "metadata": {},
     "output_type": "execute_result"
    }
   ],
   "source": [
    "A=np.array([0,0,0,0,0,1,1,0,2])\n",
    "A"
   ]
  },
  {
   "cell_type": "code",
   "execution_count": 40,
   "id": "21d9f623",
   "metadata": {},
   "outputs": [
    {
     "name": "stdout",
     "output_type": "stream",
     "text": [
      "  (0, 5)\t1\n",
      "  (0, 6)\t1\n",
      "  (0, 8)\t2\n"
     ]
    }
   ],
   "source": [
    "#converting to csr matrix\n",
    "new=sparse.csr_matrix(A) #it will convert array to matrix rowwise\n",
    "print(new)"
   ]
  },
  {
   "cell_type": "code",
   "execution_count": 41,
   "id": "6c416b07",
   "metadata": {},
   "outputs": [
    {
     "data": {
      "text/plain": [
       "array([[0, 0, 1],\n",
       "       [1, 0, 0],\n",
       "       [0, 0, 2]])"
      ]
     },
     "execution_count": 41,
     "metadata": {},
     "output_type": "execute_result"
    }
   ],
   "source": [
    "A=np.array([[0,0,1],[1,0,0],[0,0,2]])\n",
    "A"
   ]
  },
  {
   "cell_type": "code",
   "execution_count": 43,
   "id": "aac00dc9",
   "metadata": {},
   "outputs": [
    {
     "name": "stdout",
     "output_type": "stream",
     "text": [
      "  (1, 0)\t1\n",
      "  (0, 2)\t1\n",
      "  (2, 2)\t2\n"
     ]
    }
   ],
   "source": [
    "new=sparse.csc_matrix(A) \n",
    "print(new)"
   ]
  },
  {
   "cell_type": "code",
   "execution_count": 44,
   "id": "55ef5a69",
   "metadata": {},
   "outputs": [
    {
     "data": {
      "text/plain": [
       "array([1, 1, 2], dtype=int32)"
      ]
     },
     "execution_count": 44,
     "metadata": {},
     "output_type": "execute_result"
    }
   ],
   "source": [
    "new.data"
   ]
  },
  {
   "cell_type": "code",
   "execution_count": 45,
   "id": "ab1c117f",
   "metadata": {},
   "outputs": [
    {
     "data": {
      "text/plain": [
       "3"
      ]
     },
     "execution_count": 45,
     "metadata": {},
     "output_type": "execute_result"
    }
   ],
   "source": [
    "new.count_nonzero()"
   ]
  },
  {
   "cell_type": "code",
   "execution_count": 48,
   "id": "d3b6e37d",
   "metadata": {},
   "outputs": [
    {
     "name": "stdout",
     "output_type": "stream",
     "text": [
      "  (1, 0)\t1\n",
      "  (0, 2)\t1\n",
      "  (2, 2)\t2\n"
     ]
    }
   ],
   "source": [
    "new.eliminate_zeros()\n",
    "print(new)"
   ]
  },
  {
   "cell_type": "code",
   "execution_count": 50,
   "id": "6f5a1a69",
   "metadata": {},
   "outputs": [
    {
     "name": "stdout",
     "output_type": "stream",
     "text": [
      "  (1, 0)\t1\n",
      "  (0, 2)\t1\n",
      "  (2, 2)\t2\n"
     ]
    }
   ],
   "source": [
    "new.sum_duplicates()\n",
    "print(new)"
   ]
  },
  {
   "cell_type": "code",
   "execution_count": 2,
   "id": "d909834f",
   "metadata": {},
   "outputs": [],
   "source": [
    "                     #Spatial\n",
    "from scipy import spatial"
   ]
  },
  {
   "cell_type": "code",
   "execution_count": 56,
   "id": "b8056ebb",
   "metadata": {},
   "outputs": [],
   "source": [
    "pts=[[2,4],[3,4],[4,1],[2,2],[3,0]]\n",
    "pts=np.array(pts)\n",
    "o_pts=spatial.Delaunay(pts).simplices"
   ]
  },
  {
   "cell_type": "code",
   "execution_count": 57,
   "id": "75870fd5",
   "metadata": {},
   "outputs": [
    {
     "data": {
      "text/plain": [
       "array([[3, 4, 2],\n",
       "       [3, 1, 0],\n",
       "       [1, 3, 2]], dtype=int32)"
      ]
     },
     "execution_count": 57,
     "metadata": {},
     "output_type": "execute_result"
    }
   ],
   "source": [
    "o_pts"
   ]
  },
  {
   "cell_type": "code",
   "execution_count": 58,
   "id": "e05445c5",
   "metadata": {},
   "outputs": [],
   "source": [
    "import matplotlib.pyplot as plt"
   ]
  },
  {
   "cell_type": "code",
   "execution_count": 59,
   "id": "56ced086",
   "metadata": {},
   "outputs": [
    {
     "data": {
      "text/plain": [
       "<matplotlib.collections.PathCollection at 0x296cb2a2e48>"
      ]
     },
     "execution_count": 59,
     "metadata": {},
     "output_type": "execute_result"
    },
    {
     "data": {
      "image/png": "[encoded data removed]",
      "text/plain": [
       "<Figure size 432x288 with 1 Axes>"
      ]
     },
     "metadata": {
      "needs_background": "light"
     },
     "output_type": "display_data"
    }
   ],
   "source": [
    "plt.scatter(pts[:,0],pts[:,1])"
   ]
  },
  {
   "cell_type": "code",
   "execution_count": 60,
   "id": "3e6f72cd",
   "metadata": {},
   "outputs": [
    {
     "data": {
      "text/plain": [
       "[<matplotlib.lines.Line2D at 0x296cb3ac5c0>,\n",
       " <matplotlib.lines.Line2D at 0x296cb3ac5f8>]"
      ]
     },
     "execution_count": 60,
     "metadata": {},
     "output_type": "execute_result"
    },
    {
     "data": {
      "image/png": "[encoded data removed]",
      "text/plain": [
       "<Figure size 432x288 with 1 Axes>"
      ]
     },
     "metadata": {
      "needs_background": "light"
     },
     "output_type": "display_data"
    }
   ],
   "source": [
    "#triangulation\n",
    "plt.triplot(pts[:,0],pts[:,1],o_pts)"
   ]
  },
  {
   "cell_type": "code",
   "execution_count": 63,
   "id": "4becd12b",
   "metadata": {},
   "outputs": [
    {
     "data": {
      "text/plain": [
       "[<matplotlib.lines.Line2D at 0x296cb536a58>,\n",
       " <matplotlib.lines.Line2D at 0x296cb536ac8>]"
      ]
     },
     "execution_count": 63,
     "metadata": {},
     "output_type": "execute_result"
    },
    {
     "data": {
      "image/png": "[encoded data removed]",
      "text/plain": [
       "<Figure size 432x288 with 1 Axes>"
      ]
     },
     "metadata": {
      "needs_background": "light"
     },
     "output_type": "display_data"
    }
   ],
   "source": [
    "plt.scatter(pts[:,0],pts[:,1],color=\"red\")\n",
    "plt.triplot(pts[:,0],pts[:,1],o_pts)"
   ]
  },
  {
   "cell_type": "code",
   "execution_count": 64,
   "id": "e178de8e",
   "metadata": {},
   "outputs": [],
   "source": [
    "pts=[[2,4],[3,4],[4,1],[2,2],[3,0],[3,1],[3,2]]\n",
    "pts=np.array(pts)"
   ]
  },
  {
   "cell_type": "code",
   "execution_count": 65,
   "id": "e192db5b",
   "metadata": {},
   "outputs": [],
   "source": [
    "#convexHull\n",
    "hull=spatial.ConvexHull(pts)\n",
    "h_pts=hull.simplices"
   ]
  },
  {
   "cell_type": "code",
   "execution_count": 67,
   "id": "7a33fa9f",
   "metadata": {},
   "outputs": [
    {
     "data": {
      "text/plain": [
       "<matplotlib.collections.PathCollection at 0x296cb6224e0>"
      ]
     },
     "execution_count": 67,
     "metadata": {},
     "output_type": "execute_result"
    },
    {
     "data": {
      "image/png": "[encoded data removed]",
      "text/plain": [
       "<Figure size 432x288 with 1 Axes>"
      ]
     },
     "metadata": {
      "needs_background": "light"
     },
     "output_type": "display_data"
    }
   ],
   "source": [
    "plt.scatter(pts[:,0],pts[:,1])"
   ]
  },
  {
   "cell_type": "code",
   "execution_count": 68,
   "id": "cd2bd000",
   "metadata": {},
   "outputs": [
    {
     "data": {
      "image/png": "[encoded data removed]",
      "text/plain": [
       "<Figure size 432x288 with 1 Axes>"
      ]
     },
     "metadata": {
      "needs_background": "light"
     },
     "output_type": "display_data"
    }
   ],
   "source": [
    "for i in h_pts:\n",
    "    plt.plot(pts[i,0],pts[i,1])"
   ]
  },
  {
   "cell_type": "code",
   "execution_count": 69,
   "id": "e34507d8",
   "metadata": {},
   "outputs": [
    {
     "data": {
      "image/png": "[encoded data removed]",
      "text/plain": [
       "<Figure size 432x288 with 1 Axes>"
      ]
     },
     "metadata": {
      "needs_background": "light"
     },
     "output_type": "display_data"
    }
   ],
   "source": [
    "for i in h_pts:\n",
    "    plt.scatter(pts[:,0],pts[:,1])\n",
    "    plt.plot(pts[i,0],pts[i,1])"
   ]
  },
  {
   "cell_type": "code",
   "execution_count": 9,
   "id": "46a526b2",
   "metadata": {},
   "outputs": [
    {
     "data": {
      "text/plain": [
       "(2.0, 0)"
      ]
     },
     "execution_count": 9,
     "metadata": {},
     "output_type": "execute_result"
    }
   ],
   "source": [
    "#KDTrees\n",
    "pts=[(1,-1),(2,3),(2,-3),(-1,3),(-2,3)]\n",
    "k_tree=spatial.KDTree(pts) #nearest neighbour\n",
    "new=k_tree.query((1,1))\n",
    "new"
   ]
  },
  {
   "cell_type": "code",
   "execution_count": 16,
   "id": "cf0a3b48",
   "metadata": {},
   "outputs": [
    {
     "data": {
      "text/plain": [
       "8.06225774829855"
      ]
     },
     "execution_count": 16,
     "metadata": {},
     "output_type": "execute_result"
    }
   ],
   "source": [
    "#distance between 2 points\n",
    "#Eucledian distance\n",
    "p1=(2,3)\n",
    "p2=(10,2)\n",
    "dist=spatial.distance.euclidean(p1,p2)\n",
    "dist"
   ]
  },
  {
   "cell_type": "code",
   "execution_count": 17,
   "id": "189567c2",
   "metadata": {},
   "outputs": [
    {
     "data": {
      "text/plain": [
       "9"
      ]
     },
     "execution_count": 17,
     "metadata": {},
     "output_type": "execute_result"
    }
   ],
   "source": [
    "#Manhattan distance\n",
    "p1=(2,3)\n",
    "p2=(10,2)\n",
    "dist=spatial.distance.cityblock(p1,p2)\n",
    "dist"
   ]
  },
  {
   "cell_type": "code",
   "execution_count": 19,
   "id": "4a872f8d",
   "metadata": {},
   "outputs": [],
   "source": [
    "#Manhattan distance > eucledian distance"
   ]
  },
  {
   "cell_type": "code",
   "execution_count": 20,
   "id": "465e4944",
   "metadata": {},
   "outputs": [],
   "source": [
    "                    #Interpolation\n",
    "from scipy import interpolate\n",
    "#it helps to find missing data in x if it has a relation in y"
   ]
  },
  {
   "cell_type": "code",
   "execution_count": 26,
   "id": "cff1bda2",
   "metadata": {},
   "outputs": [],
   "source": [
    "#in case of non linear relation\n",
    "x=np.arange(10)\n",
    "y=2*x+5\n",
    "inter_f=interpolate.interp1d(x,y)"
   ]
  },
  {
   "cell_type": "code",
   "execution_count": 27,
   "id": "076bda76",
   "metadata": {},
   "outputs": [
    {
     "data": {
      "text/plain": [
       "array([13.2, 13.4, 13.6, 13.8, 14. , 14.2, 14.4, 14.6, 14.8, 15. ])"
      ]
     },
     "execution_count": 27,
     "metadata": {},
     "output_type": "execute_result"
    }
   ],
   "source": [
    "new=inter_f(np.arange(4.1,5,0.1))\n",
    "new"
   ]
  },
  {
   "cell_type": "code",
   "execution_count": 28,
   "id": "3e94cbcf",
   "metadata": {},
   "outputs": [
    {
     "data": {
      "text/plain": [
       "array([13.2, 13.4, 13.6, 13.8, 14. , 14.2, 14.4, 14.6, 14.8, 15. ])"
      ]
     },
     "execution_count": 28,
     "metadata": {},
     "output_type": "execute_result"
    }
   ],
   "source": [
    "#in case of linear relation\n",
    "x=np.arange(10)\n",
    "y=[5,7,9,11,13,15,17,19,21,23]\n",
    "inter_f=interpolate.interp1d(x,y)\n",
    "new_y=inter_f(np.arange(4.1,5,0.1))\n",
    "new_y"
   ]
  },
  {
   "cell_type": "code",
   "execution_count": 35,
   "id": "63baee44",
   "metadata": {},
   "outputs": [],
   "source": [
    "#non linear relations\n",
    "x1=np.arange(10)\n",
    "y1=x1**2+np.sin(x1)+1\n",
    "inter_f=interpolate.interp1d(x1,y1)"
   ]
  },
  {
   "cell_type": "code",
   "execution_count": 36,
   "id": "251af55b",
   "metadata": {},
   "outputs": [
    {
     "data": {
      "text/plain": [
       "array([17.12298533, 18.00277315, 18.88256097, 19.76234879, 20.64213662,\n",
       "       21.52192444, 22.40171226, 23.28150008, 24.1612879 , 25.04107573])"
      ]
     },
     "execution_count": 36,
     "metadata": {},
     "output_type": "execute_result"
    }
   ],
   "source": [
    "new_y1=inter_f(np.arange(4.1,5,0.1))\n",
    "new_y1"
   ]
  },
  {
   "cell_type": "code",
   "execution_count": 37,
   "id": "325d6c0b",
   "metadata": {},
   "outputs": [],
   "source": [
    "#null hypothesis & alternative hypothesis"
   ]
  },
  {
   "cell_type": "code",
   "execution_count": null,
   "id": "a5f169c5",
   "metadata": {},
   "outputs": [],
   "source": []
  }
 ],
 "metadata": {
  "kernelspec": {
   "display_name": "Python 3",
   "language": "python",
   "name": "python3"
  },
  "language_info": {
   "codemirror_mode": {
    "name": "ipython",
    "version": 3
   },
   "file_extension": ".py",
   "mimetype": "text/x-python",
   "name": "python",
   "nbconvert_exporter": "python",
   "pygments_lexer": "ipython3",
   "version": "3.6.13"
  }
 },
 "nbformat": 4,
 "nbformat_minor": 5
}
